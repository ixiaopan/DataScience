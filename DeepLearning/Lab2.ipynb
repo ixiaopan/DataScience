{
 "cells": [
  {
   "cell_type": "code",
   "execution_count": 31,
   "metadata": {},
   "outputs": [],
   "source": [
    "import torch\n",
    "from typing import Tuple\n",
    "import pandas as pd\n",
    "import matplotlib.pyplot as plt\n"
   ]
  },
  {
   "cell_type": "markdown",
   "metadata": {},
   "source": [
    "# Q1"
   ]
  },
  {
   "cell_type": "code",
   "execution_count": 53,
   "metadata": {},
   "outputs": [],
   "source": [
    "\n",
    "def gd_factorise_ad(A: torch.Tensor, rank: int, num_epochs=1000, lr=0.01) -> Tuple[torch.Tensor, torch.Tensor]:\n",
    "    m, n = A.shape\n",
    "    U = torch.rand((m, rank), requires_grad=True)\n",
    "    V = torch.rand((n, rank), requires_grad=True)\n",
    "    # compute loss \n",
    "    loss = torch.nn.MSELoss(reduction='sum')\n",
    "    for i in range(num_epochs):\n",
    "        U.grad = None\n",
    "        V.grad = None\n",
    "        z = loss(A, U @ V.T)\n",
    "        z.backward()\n",
    "        U.data = U - lr * U.grad\n",
    "        V.data = V - lr * V.grad\n",
    " \n",
    "    return U, V\n"
   ]
  },
  {
   "cell_type": "code",
   "execution_count": 54,
   "metadata": {},
   "outputs": [
    {
     "name": "stdout",
     "output_type": "stream",
     "text": [
      "loss: tensor(0.1219, grad_fn=<TraceBackward>)\n",
      "loss: tensor(0.1219, grad_fn=<MseLossBackward>)\n"
     ]
    }
   ],
   "source": [
    "A = torch.tensor([\n",
    "    [0.3374, 0.6005, 0.1735],\n",
    "    [3.3359, 0.0492, 1.8374],\n",
    "    [2.9407, 0.5301, 2.2620]\n",
    "])\n",
    "\n",
    "# reconstruction\n",
    "U, V = gd_factorise_ad(A, 2)\n",
    "\n",
    "A_G = U @ V.T\n",
    "\n",
    "# loss \n",
    "print('loss:', torch.trace((A - A_G) @ (A - A_G).T))\n",
    "\n",
    "# or \n",
    "loss = torch.nn.MSELoss(reduction='sum')\n",
    "print('loss:', loss(A, A_G))\n",
    "\n"
   ]
  },
  {
   "cell_type": "code",
   "execution_count": null,
   "metadata": {},
   "outputs": [],
   "source": []
  },
  {
   "cell_type": "markdown",
   "metadata": {},
   "source": [
    "# Q2"
   ]
  },
  {
   "cell_type": "code",
   "execution_count": 55,
   "metadata": {},
   "outputs": [],
   "source": [
    "df = pd.read_csv('https://archive.ics.uci.edu/ml/machine-learning-databases/iris/iris.data', header=None)\n",
    "\n",
    "# centered\n",
    "data = torch.tensor(df.iloc[:, :-1].values, dtype=torch.float32)\n",
    "\n",
    "data = data - data.mean(dim=0)\n"
   ]
  },
  {
   "cell_type": "code",
   "execution_count": 56,
   "metadata": {},
   "outputs": [
    {
     "name": "stdout",
     "output_type": "stream",
     "text": [
      "loss: tensor(15.2289, grad_fn=<TraceBackward>)\n",
      "loss: tensor(15.2289, grad_fn=<MseLossBackward>)\n"
     ]
    }
   ],
   "source": [
    "# 1. reconstruction\n",
    "U_hat, V_hat = gd_factorise_ad(data, 2)\n",
    "\n",
    "data_ad = U_hat @ V_hat.T\n",
    "\n",
    "# loss \n",
    "print('loss:', torch.trace((data - data_ad) @ (data - data_ad).T))\n",
    "\n",
    "# or \n",
    "loss = torch.nn.MSELoss(reduction='sum')\n",
    "print('loss:', loss(data, data_ad))\n"
   ]
  },
  {
   "cell_type": "code",
   "execution_count": 57,
   "metadata": {},
   "outputs": [
    {
     "name": "stdout",
     "output_type": "stream",
     "text": [
      "loss: tensor(15.2288)\n",
      "loss: tensor(15.2288)\n"
     ]
    }
   ],
   "source": [
    "# 2. truncated svd\n",
    "U, S, V = torch.svd(data)\n",
    "\n",
    "# reconstruction\n",
    "S[-2:] = 0\n",
    "data_hat = U @ torch.diag(S) @ V.T\n",
    "\n",
    "# loss \n",
    "print('loss:', torch.trace((data - data_hat) @ (data - data_hat).T))\n",
    "\n",
    "# or \n",
    "loss = torch.nn.MSELoss(reduction='sum')\n",
    "print('loss:', loss(data, data_hat))\n"
   ]
  },
  {
   "cell_type": "code",
   "execution_count": null,
   "metadata": {},
   "outputs": [],
   "source": []
  },
  {
   "cell_type": "markdown",
   "metadata": {},
   "source": [
    "# Q3"
   ]
  },
  {
   "cell_type": "code",
   "execution_count": 58,
   "metadata": {},
   "outputs": [
    {
     "data": {
      "text/plain": [
       "Text(0, 0.5, 'Principal Component 2')"
      ]
     },
     "execution_count": 58,
     "metadata": {},
     "output_type": "execute_result"
    },
    {
     "data": {
      "image/png": "[encoded data removed]",
      "text/plain": [
       "<Figure size 432x288 with 1 Axes>"
      ]
     },
     "metadata": {
      "needs_background": "light"
     },
     "output_type": "display_data"
    }
   ],
   "source": [
    "U_P = U.detach().numpy()\n",
    "\n",
    "plt.scatter(U_P[:, 0], U_P[:, 1])\n",
    "\n",
    "plt.xlabel('Principal Component 1')\n",
    "plt.ylabel('Principal Component 2')\n"
   ]
  },
  {
   "cell_type": "code",
   "execution_count": 69,
   "metadata": {},
   "outputs": [
    {
     "data": {
      "text/plain": [
       "<matplotlib.collections.PathCollection at 0x7fec62a11b20>"
      ]
     },
     "execution_count": 69,
     "metadata": {},
     "output_type": "execute_result"
    },
    {
     "data": {
      "image/png": "[encoded data removed]",
      "text/plain": [
       "<Figure size 432x288 with 1 Axes>"
      ]
     },
     "metadata": {
      "needs_background": "light"
     },
     "output_type": "display_data"
    }
   ],
   "source": [
    "U_hat_P = U_hat.detach().numpy()\n",
    "\n",
    "plt.scatter(U_hat_P[:, 0], U_hat_P[:, 1])\n"
   ]
  },
  {
   "cell_type": "code",
   "execution_count": null,
   "metadata": {},
   "outputs": [],
   "source": []
  },
  {
   "cell_type": "markdown",
   "metadata": {},
   "source": [
    "# Q4"
   ]
  },
  {
   "cell_type": "code",
   "execution_count": 70,
   "metadata": {},
   "outputs": [],
   "source": [
    "df = pd.read_csv('https://archive.ics.uci.edu/ml/machine-learning-databases/iris/iris.data', header=None)\n",
    "\n",
    "df = df.sample(frac=1) #shuffle\n"
   ]
  },
  {
   "cell_type": "code",
   "execution_count": 71,
   "metadata": {},
   "outputs": [
    {
     "data": {
      "text/plain": [
       "{'Iris-setosa': 0, 'Iris-versicolor': 1, 'Iris-virginica': 2}"
      ]
     },
     "execution_count": 71,
     "metadata": {},
     "output_type": "execute_result"
    }
   ],
   "source": [
    "# categorical target\n",
    "mapping = {k: v for v, k in enumerate(df[4].unique())}\n",
    "\n",
    "df[5] = df[4].map(mapping)\n",
    "\n",
    "mapping\n"
   ]
  },
  {
   "cell_type": "code",
   "execution_count": 75,
   "metadata": {},
   "outputs": [
    {
     "data": {
      "text/html": [
       "<div>\n",
       "<style scoped>\n",
       "    .dataframe tbody tr th:only-of-type {\n",
       "        vertical-align: middle;\n",
       "    }\n",
       "\n",
       "    .dataframe tbody tr th {\n",
       "        vertical-align: top;\n",
       "    }\n",
       "\n",
       "    .dataframe thead th {\n",
       "        text-align: right;\n",
       "    }\n",
       "</style>\n",
       "<table border=\"1\" class=\"dataframe\">\n",
       "  <thead>\n",
       "    <tr style=\"text-align: right;\">\n",
       "      <th></th>\n",
       "      <th>0</th>\n",
       "      <th>1</th>\n",
       "      <th>2</th>\n",
       "      <th>3</th>\n",
       "      <th>4</th>\n",
       "      <th>5</th>\n",
       "    </tr>\n",
       "  </thead>\n",
       "  <tbody>\n",
       "    <tr>\n",
       "      <th>8</th>\n",
       "      <td>4.4</td>\n",
       "      <td>2.9</td>\n",
       "      <td>1.4</td>\n",
       "      <td>0.2</td>\n",
       "      <td>Iris-setosa</td>\n",
       "      <td>0</td>\n",
       "    </tr>\n",
       "    <tr>\n",
       "      <th>93</th>\n",
       "      <td>5.0</td>\n",
       "      <td>2.3</td>\n",
       "      <td>3.3</td>\n",
       "      <td>1.0</td>\n",
       "      <td>Iris-versicolor</td>\n",
       "      <td>1</td>\n",
       "    </tr>\n",
       "    <tr>\n",
       "      <th>136</th>\n",
       "      <td>6.3</td>\n",
       "      <td>3.4</td>\n",
       "      <td>5.6</td>\n",
       "      <td>2.4</td>\n",
       "      <td>Iris-virginica</td>\n",
       "      <td>2</td>\n",
       "    </tr>\n",
       "    <tr>\n",
       "      <th>67</th>\n",
       "      <td>5.8</td>\n",
       "      <td>2.7</td>\n",
       "      <td>4.1</td>\n",
       "      <td>1.0</td>\n",
       "      <td>Iris-versicolor</td>\n",
       "      <td>1</td>\n",
       "    </tr>\n",
       "    <tr>\n",
       "      <th>18</th>\n",
       "      <td>5.7</td>\n",
       "      <td>3.8</td>\n",
       "      <td>1.7</td>\n",
       "      <td>0.3</td>\n",
       "      <td>Iris-setosa</td>\n",
       "      <td>0</td>\n",
       "    </tr>\n",
       "  </tbody>\n",
       "</table>\n",
       "</div>"
      ],
      "text/plain": [
       "       0    1    2    3                4  5\n",
       "8    4.4  2.9  1.4  0.2      Iris-setosa  0\n",
       "93   5.0  2.3  3.3  1.0  Iris-versicolor  1\n",
       "136  6.3  3.4  5.6  2.4   Iris-virginica  2\n",
       "67   5.8  2.7  4.1  1.0  Iris-versicolor  1\n",
       "18   5.7  3.8  1.7  0.3      Iris-setosa  0"
      ]
     },
     "execution_count": 75,
     "metadata": {},
     "output_type": "execute_result"
    }
   ],
   "source": [
    "df.head()"
   ]
  },
  {
   "cell_type": "code",
   "execution_count": 82,
   "metadata": {},
   "outputs": [
    {
     "data": {
      "text/plain": [
       "(torch.Size([150, 4]),\n",
       " tensor([[-2.1049, -0.8191, -0.7576, -1.7147],\n",
       "         [-1.2299, -4.0106, -0.1473, -0.3411],\n",
       "         [ 0.6660,  1.8404,  0.5915,  2.0627]]))"
      ]
     },
     "execution_count": 82,
     "metadata": {},
     "output_type": "execute_result"
    }
   ],
   "source": [
    "# predictor\n",
    "alldata = torch.tensor(df.iloc[:, [0,1,2,3]].values, dtype=torch.float)\n",
    "\n",
    "# standalization\n",
    "alldata = (alldata - alldata.mean(dim=0)) / alldata.var(dim=0)\n",
    "\n",
    "alldata.shape, alldata[:3]\n"
   ]
  },
  {
   "cell_type": "code",
   "execution_count": 91,
   "metadata": {},
   "outputs": [
    {
     "data": {
      "text/plain": [
       "(torch.Size([100, 4]), torch.Size([50, 4]))"
      ]
     },
     "execution_count": 91,
     "metadata": {},
     "output_type": "execute_result"
    }
   ],
   "source": [
    "# split train and test\n",
    "y_train = torch.tensor(df.iloc[:100, 5].values, dtype=torch.long)\n",
    "X_train = alldata[:100]\n",
    "\n",
    "y_test = torch.tensor(df.iloc[100:, 5].values, dtype=torch.long)\n",
    "X_test = alldata[100:]\n",
    "\n",
    "X_train.shape, X_test.shape"
   ]
  },
  {
   "cell_type": "code",
   "execution_count": 76,
   "metadata": {},
   "outputs": [],
   "source": [
    "def gradient_descent(X_train, y_train, num_epochs=100, lr = 0.01):\n",
    "    W1 = torch.randn((4, 12), requires_grad=True)\n",
    "    W2 = torch.randn((12, 3), requires_grad=True)\n",
    "\n",
    "    b1 = torch.tensor(0.0, requires_grad=True)\n",
    "    b2 = torch.tensor(0.0, requires_grad=True)\n",
    "\n",
    "    for i in range(num_epochs):\n",
    "        W1.grad = None\n",
    "        W2.grad = None\n",
    "        b1.grad = None\n",
    "        b2.grad = None\n",
    "\n",
    "        logits = torch.relu(X_train @ W1 + b1) @ W2 + b2\n",
    "        z = torch.nn.functional.cross_entropy(logits, y_train)\n",
    "        z.backward()\n",
    "\n",
    "        W1.data = W1 - lr * W1.grad\n",
    "        W2.data = W2 - lr * W2.grad\n",
    "        b1.data = b1 - lr * b1.grad\n",
    "        b2.data = b2 - lr * b2.grad\n",
    "\n",
    "    return W1, W2, b1, b2\n"
   ]
  },
  {
   "cell_type": "code",
   "execution_count": null,
   "metadata": {},
   "outputs": [],
   "source": []
  },
  {
   "cell_type": "code",
   "execution_count": 115,
   "metadata": {},
   "outputs": [
    {
     "data": {
      "text/plain": [
       "(0.7285, 0.791)"
      ]
     },
     "execution_count": 115,
     "metadata": {},
     "output_type": "execute_result"
    },
    {
     "data": {
      "image/png": "[encoded data removed]",
      "text/plain": [
       "<Figure size 432x288 with 1 Axes>"
      ]
     },
     "metadata": {
      "needs_background": "light"
     },
     "output_type": "display_data"
    }
   ],
   "source": [
    "train_acc = []\n",
    "test_acc = []\n",
    "iters=20\n",
    "for i in range(iters):\n",
    "    W1, W2, b1, b2 = gradient_descent(X_train, y_train)\n",
    "\n",
    "    y_train_hat = torch.relu(X_train @ W1 + b1) @ W2 + b2\n",
    "    y_test_hat = torch.relu(X_test @ W1 + b1) @ W2 + b2\n",
    "\n",
    "    train_acc.append((torch.argmax(y_train_hat, dim=1) == y_train).sum() / len(y_train))\n",
    "    test_acc.append((torch.argmax(y_test_hat, dim=1) == y_test).sum() / len(y_test))\n",
    "\n",
    "plt.plot(train_acc, label='train acc')\n",
    "plt.plot(test_acc, label='test acc')\n",
    "plt.legend()\n",
    "plt.xticks(np.arange(0, iters, step=2))\n",
    "\n",
    "np.mean(train_acc), np.mean(test_acc)\n"
   ]
  },
  {
   "cell_type": "code",
   "execution_count": null,
   "metadata": {},
   "outputs": [],
   "source": []
  },
  {
   "cell_type": "code",
   "execution_count": null,
   "metadata": {},
   "outputs": [],
   "source": []
  }
 ],
 "metadata": {
  "kernelspec": {
   "display_name": "Python 3",
   "language": "python",
   "name": "python3"
  },
  "language_info": {
   "codemirror_mode": {
    "name": "ipython",
    "version": 3
   },
   "file_extension": ".py",
   "mimetype": "text/x-python",
   "name": "python",
   "nbconvert_exporter": "python",
   "pygments_lexer": "ipython3",
   "version": "3.8.3"
  }
 },
 "nbformat": 4,
 "nbformat_minor": 4
}

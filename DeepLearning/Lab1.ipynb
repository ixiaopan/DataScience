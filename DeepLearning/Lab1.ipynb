{
 "cells": [
  {
   "cell_type": "code",
   "execution_count": 5,
   "metadata": {},
   "outputs": [],
   "source": [
    "import torch\n",
    "from typing import Tuple\n"
   ]
  },
  {
   "cell_type": "markdown",
   "metadata": {},
   "source": [
    "# Q1 Gradient-based Factorisation"
   ]
  },
  {
   "cell_type": "code",
   "execution_count": 6,
   "metadata": {},
   "outputs": [],
   "source": [
    "def sgd_factorise(A: torch.Tensor, rank: int, num_epochs=1000, lr=0.01) -> Tuple[torch.Tensor, torch.Tensor]:\n",
    "    m, n = A.shape\n",
    "\n",
    "    U = torch.rand((m, rank))\n",
    "    V = torch.rand((n, rank))\n",
    "\n",
    "    for i in range(num_epochs):\n",
    "        for r in range(m):\n",
    "            for c in range(n):\n",
    "                e = A[r, c] - U[r] @ V[c].T\n",
    "                U[r] = U[r] + lr * e * V[c]\n",
    "                V[c] = V[c] + lr * e * U[r]\n",
    "\n",
    "    return U, V\n"
   ]
  },
  {
   "cell_type": "markdown",
   "metadata": {},
   "source": [
    "# Q2 Compute reconstruction error"
   ]
  },
  {
   "cell_type": "code",
   "execution_count": 7,
   "metadata": {},
   "outputs": [
    {
     "name": "stdout",
     "output_type": "stream",
     "text": [
      "U, tensor([[ 0.7128, -0.0596],\n",
      "        [ 0.2858,  1.7807],\n",
      "        [ 1.1006,  1.4421]])\n",
      "V tensor([[ 0.4565,  1.7547],\n",
      "        [ 0.7051, -0.1208],\n",
      "        [ 0.5945,  1.0105]])\n",
      "A':  tensor([[ 0.2208,  0.5098,  0.3635],\n",
      "        [ 3.2551, -0.0135,  1.9694],\n",
      "        [ 3.0329,  0.6018,  2.1116]])\n"
     ]
    }
   ],
   "source": [
    "A = torch.tensor([\n",
    "    [0.3374, 0.6005, 0.1735],\n",
    "    [3.3359, 0.0492, 1.8374],\n",
    "    [2.9407, 0.5301, 2.2620]\n",
    "])\n",
    "\n",
    "# reconstruction\n",
    "U, V = sgd_factorise(A, 2)\n",
    "\n",
    "A_G = U @ V.T\n",
    "\n",
    "print('U,', U)\n",
    "print('V', V)\n",
    "print('A\\': ', A_G)"
   ]
  },
  {
   "cell_type": "code",
   "execution_count": 8,
   "metadata": {},
   "outputs": [
    {
     "name": "stdout",
     "output_type": "stream",
     "text": [
      "loss: tensor(0.1221)\n",
      "loss: tensor(0.1221)\n"
     ]
    }
   ],
   "source": [
    "# loss \n",
    "print('loss:', torch.trace((A - A_G) @ (A - A_G).T))\n",
    "\n",
    "# loss is given by the first singular value that we didn’t use\n",
    "# i.e. 0.3492**2 == 0.1219\n",
    "loss = torch.nn.MSELoss(reduction='sum')\n",
    "print('loss:', loss(A, A_G))\n",
    "\n"
   ]
  },
  {
   "cell_type": "markdown",
   "metadata": {},
   "source": [
    "# Q3 Truncated SVD"
   ]
  },
  {
   "cell_type": "code",
   "execution_count": 9,
   "metadata": {},
   "outputs": [
    {
     "data": {
      "text/plain": [
       "(tensor([[-0.0801, -0.7448,  0.6625],\n",
       "         [-0.7103,  0.5090,  0.4863],\n",
       "         [-0.6994, -0.4316, -0.5697]]),\n",
       " tensor([5.3339, 0.6959, 0.3492]),\n",
       " tensor([[-0.8349,  0.2548,  0.4879],\n",
       "         [-0.0851, -0.9355,  0.3430],\n",
       "         [-0.5439, -0.2448, -0.8027]]))"
      ]
     },
     "execution_count": 9,
     "metadata": {},
     "output_type": "execute_result"
    }
   ],
   "source": [
    "U, S, V = torch.svd(A)\n",
    "\n",
    "U, S, V \n"
   ]
  },
  {
   "cell_type": "code",
   "execution_count": 10,
   "metadata": {},
   "outputs": [
    {
     "name": "stdout",
     "output_type": "stream",
     "text": [
      "A_hat tensor([[ 0.2245,  0.5212,  0.3592],\n",
      "        [ 3.2530, -0.0090,  1.9737],\n",
      "        [ 3.0378,  0.5983,  2.1023]])\n",
      "loss: tensor(0.1219)\n",
      "loss: tensor(0.1219)\n"
     ]
    }
   ],
   "source": [
    "# remove the last singular\n",
    "S[-1] = 0\n",
    "\n",
    "# reconstruction\n",
    "A_hat = U @ torch.diag(S) @ V.T\n",
    "print('A_hat', A_hat)\n",
    "\n",
    "# loss \n",
    "print('loss:', torch.trace((A - A_hat) @ (A - A_hat).T))\n",
    "\n",
    "# loss is given by the first singular value that we didn’t use\n",
    "# i.e. 0.3492**2 == 0.1219\n",
    "loss = torch.nn.MSELoss(reduction='sum')\n",
    "print('loss:', loss(A, A_hat))\n"
   ]
  },
  {
   "cell_type": "code",
   "execution_count": null,
   "metadata": {},
   "outputs": [],
   "source": []
  },
  {
   "cell_type": "markdown",
   "metadata": {},
   "source": [
    "# Q4 Masked factorisation "
   ]
  },
  {
   "cell_type": "code",
   "execution_count": 7,
   "metadata": {},
   "outputs": [],
   "source": [
    "def sgd_factorise_masked(A: torch.Tensor, M: torch.Tensor, rank: int, num_epochs=1000, lr=0.01) -> Tuple[torch.Tensor, torch.Tensor]:\n",
    "    m, n = A.shape\n",
    "\n",
    "    U = torch.rand((m, rank))\n",
    "    V = torch.rand((n, rank))\n",
    "\n",
    "    for i in range(num_epochs):\n",
    "        for r in range(m):\n",
    "            for c in range(n):\n",
    "                if M[r, c]:\n",
    "                    e = A[r, c] - U[r] @ V[c].T\n",
    "                    U[r] = U[r] + lr * e * V[c]\n",
    "                    V[c] = V[c] + lr * e * U[r]\n",
    "\n",
    "    return U, V\n"
   ]
  },
  {
   "cell_type": "markdown",
   "metadata": {},
   "source": [
    "# Q5 Reconstruct a matrix"
   ]
  },
  {
   "cell_type": "code",
   "execution_count": 8,
   "metadata": {},
   "outputs": [
    {
     "data": {
      "text/plain": [
       "tensor([[0.3357, 0.6007, 0.1757],\n",
       "        [2.3070, 0.0491, 1.8379],\n",
       "        [2.9410, 0.5899, 2.2615]])"
      ]
     },
     "execution_count": 8,
     "metadata": {},
     "output_type": "execute_result"
    }
   ],
   "source": [
    "M = torch.tensor([\n",
    "    [1, 1, 1],\n",
    "    [0, 1, 1],\n",
    "    [1, 0, 1]\n",
    "])\n",
    "\n",
    "U, V = sgd_factorise_masked(A, M, 2)\n",
    "\n",
    "A_Complete = U @ V.T\n",
    "\n",
    "A_Complete\n"
   ]
  },
  {
   "cell_type": "code",
   "execution_count": null,
   "metadata": {},
   "outputs": [],
   "source": []
  }
 ],
 "metadata": {
  "kernelspec": {
   "display_name": "Python 3",
   "language": "python",
   "name": "python3"
  },
  "language_info": {
   "codemirror_mode": {
    "name": "ipython",
    "version": 3
   },
   "file_extension": ".py",
   "mimetype": "text/x-python",
   "name": "python",
   "nbconvert_exporter": "python",
   "pygments_lexer": "ipython3",
   "version": "3.8.3"
  }
 },
 "nbformat": 4,
 "nbformat_minor": 4
}

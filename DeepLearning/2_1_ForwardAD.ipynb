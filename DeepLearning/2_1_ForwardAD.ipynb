{
 "cells": [
  {
   "cell_type": "markdown",
   "metadata": {
    "deletable": false,
    "editable": false,
    "nbgrader": {
     "checksum": "f415941a3a1516f0b3e2b93249aff57d",
     "grade": false,
     "grade_id": "cell-1015fd7f8a1783c7",
     "locked": true,
     "schema_version": 1,
     "solution": false
    }
   },
   "source": [
    "# Part 1: Forward Mode Automatic Differentiation\n",
    "\n",
    "Forward mode AD can simply be implemented by defining a class to represent [dual numbers](https://en.wikipedia.org/wiki/Dual_number) which hold the value and its derivative. The following skeleton defines a dual number and implements multiplication. \n",
    "\n",
    "__Tasks:__\n",
    "\n",
    "- Addition (`__add__`) is incomplete - can you finish it? \n",
    "- Can you also implement division (`__truediv__`), subtraction (`__sub__`) and power (`__pow__`)?"
   ]
  },
  {
   "cell_type": "code",
   "execution_count": 2,
   "metadata": {
    "deletable": false,
    "nbgrader": {
     "checksum": "33fa490908871a743dabb3060ebe112e",
     "grade": false,
     "grade_id": "cell-a645b47036f56c2e",
     "locked": false,
     "schema_version": 1,
     "solution": true
    }
   },
   "outputs": [],
   "source": [
    "import math\n",
    "\n",
    "class DualNumber:\n",
    "    def __init__(self, value, dvalue):\n",
    "        self.value = value\n",
    "        self.dvalue = dvalue\n",
    "\n",
    "    def __repr__(self):\n",
    "        return repr(self.value) + ' + ' + repr(self.dvalue)  + \"ε\"\n",
    "    \n",
    "    def __str__(self):\n",
    "        return str(self.value) + \" + \" + str(self.dvalue) + \"ε\"\n",
    "\n",
    "    def __mul__(self, other):\n",
    "        if isinstance(other, DualNumber):\n",
    "            return DualNumber(self.value * other.value,\n",
    "                self.dvalue * other.value + other.dvalue * self.value)\n",
    "\n",
    "        return DualNumber(self.value * other, self.dvalue * other)\n",
    "    \n",
    "    __rmul__ = __mul__\n",
    "\n",
    "    def __add__(self, other):\n",
    "        if isinstance(other, DualNumber):\n",
    "            return DualNumber(self.value + other.value, self.dvalue + other.dvalue)\n",
    "\n",
    "        return DualNumber(self.value + other, self.dvalue)\n",
    "\n",
    "    __radd__ = __add__\n",
    "\n",
    "\n",
    "    def __sub__(self, other):\n",
    "        return DualNumber(self.value - other.value, self.dvalue - other.dvalue)\n",
    "\n",
    "    \n",
    "    def __truediv__(self, other):\n",
    "        try: # only if other.value != 0\n",
    "            x = 1/other.value\n",
    "        except ZeroDivisionError as err:\n",
    "            print('Handling run-time error:', err)\n",
    "\n",
    "        return DualNumber(self.value/other.value, (self.dvalue*other.value-self.value*other.dvalue)/other.value**2)\n",
    "    \n",
    "    def __pow__(self, other):\n",
    "        if isinstance(other, DualNumber):\n",
    "            return DualNumber(self.value**other.value,\n",
    "                          self.value**other.value *other.dvalue*math.log(self.value) \n",
    "                          + other.value*self.dvalue*self.value**(other.value-1))\n",
    "            \n",
    "        return DualNumber(self.value**other, self.dvalue*other*self.value**(other - 1))\n"
   ]
  },
  {
   "cell_type": "markdown",
   "metadata": {},
   "source": [
    "$$\n",
    "(a + b\\epsilon) + (c + d\\epsilon) = (a + c) + (b + d)\\epsilon \\\\\n",
    "(a + b\\epsilon) - (c + d\\epsilon) = (a - c) + (b - d)\\epsilon \\\\\n",
    "(a + b\\epsilon) * (c + d\\epsilon) = (ac) + (ad - bc)\\epsilon \\\\\n",
    "\\frac{(a + b\\epsilon)}{(c + d\\epsilon)} = \\frac{a}{c} + \\frac{(bc - ad)}{c^2}\\epsilon \\\\\n",
    "(a + b\\epsilon)^y =  a^y + bya^{y-1}\\epsilon \\\\\n",
    "(a + b\\epsilon)^{c+d\\epsilon} = a^c + (a^c d In(a) + c a ^{c-1}b)\\epsilon \n",
    "$$"
   ]
  },
  {
   "cell_type": "code",
   "execution_count": 3,
   "metadata": {
    "deletable": false,
    "editable": false,
    "nbgrader": {
     "checksum": "e9afb52c0524256aa416c8e0ceec60de",
     "grade": true,
     "grade_id": "cell-7923d5c39d574cd7",
     "locked": true,
     "points": 3,
     "schema_version": 1,
     "solution": false
    }
   },
   "outputs": [
    {
     "data": {
      "text/plain": [
       "1.0 + 0.0ε"
      ]
     },
     "execution_count": 3,
     "metadata": {},
     "output_type": "execute_result"
    }
   ],
   "source": [
    "# Tests\n",
    "\n",
    "DualNumber(1,0) + DualNumber(1,0) / DualNumber(1,0) - DualNumber(1,0)**DualNumber(1,0)\n"
   ]
  },
  {
   "cell_type": "markdown",
   "metadata": {
    "deletable": false,
    "editable": false,
    "nbgrader": {
     "checksum": "be03930a421d27414e745ac5839fddd3",
     "grade": false,
     "grade_id": "cell-2c8ce137dbdd2f9d",
     "locked": true,
     "schema_version": 1,
     "solution": false
    }
   },
   "source": [
    "## Implementing math functions\n",
    "\n",
    "We also need to implement some core math functions. Here's the sine function for a dual number:"
   ]
  },
  {
   "cell_type": "code",
   "execution_count": 4,
   "metadata": {
    "deletable": false,
    "editable": false,
    "nbgrader": {
     "checksum": "1fc46030449c0860972520bddf2a498d",
     "grade": false,
     "grade_id": "cell-30886f6180e2ca7c",
     "locked": true,
     "schema_version": 1,
     "solution": false
    }
   },
   "outputs": [],
   "source": [
    "def sin(x):\n",
    "    return DualNumber(math.sin(x.value), math.cos(x.value)*x.dvalue)"
   ]
  },
  {
   "cell_type": "markdown",
   "metadata": {
    "deletable": false,
    "editable": false,
    "nbgrader": {
     "checksum": "54b68135467f7b83dfa9749df021c932",
     "grade": false,
     "grade_id": "cell-9b585bf1afe72cca",
     "locked": true,
     "schema_version": 1,
     "solution": false
    }
   },
   "source": [
    "__Task:__ can you implement the _cosine_ (`cos`), _tangent_ (`tan`), and _exponential_ (`exp`) functions in the code block below?"
   ]
  },
  {
   "cell_type": "markdown",
   "metadata": {},
   "source": [
    "$$\n",
    "f(a) = f(a) + f'(a)\\epsilon \\\\\n",
    "cos(\\epsilon) = 1 \\\\\n",
    "sin(\\epsilon) = \\epsilon \\\\\n",
    "tan(\\epsilon) = \\epsilon \\\\\n",
    "sin(a + b\\epsilon) = sin(a) + bcos(a) \\epsilon \\\\\n",
    "cost(a + b\\epsilon) = cos(a) - bsin(a)\\epsilon \\\\\n",
    "tan(a + b\\epsilon) = tan(a) + \\frac{b}{cos^2(a)}\\epsilon\n",
    "$$"
   ]
  },
  {
   "cell_type": "code",
   "execution_count": 5,
   "metadata": {
    "deletable": false,
    "nbgrader": {
     "checksum": "2bea3862089cbfe7a78ceaa915a87a3b",
     "grade": false,
     "grade_id": "cell-61b9462cb781a8e1",
     "locked": false,
     "schema_version": 1,
     "solution": true
    }
   },
   "outputs": [],
   "source": [
    "# implement additional math functions on dual numbers\n",
    "\n",
    "def cos(x):\n",
    "    # YOUR CODE HERE\n",
    "    return DualNumber(math.cos(x.value), -math.sin(x.value)*x.dvalue)\n",
    "\n",
    "def tan(x):\n",
    "    # YOUR CODE HERE\n",
    "    return DualNumber(math.tan(x.value), x.dvalue/(math.cos(x.value)**2))\n",
    "\n",
    "def exp(x):\n",
    "    # YOUR CODE HERE\n",
    "    return DualNumber(math.exp(x.value), math.exp(x.value) * x.dvalue)"
   ]
  },
  {
   "cell_type": "code",
   "execution_count": 6,
   "metadata": {
    "deletable": false,
    "editable": false,
    "nbgrader": {
     "checksum": "29c49048fd70b07ab3819fcb5e4972ec",
     "grade": true,
     "grade_id": "cell-9055ec23e6e9ffb8",
     "locked": true,
     "points": 3,
     "schema_version": 1,
     "solution": false
    }
   },
   "outputs": [],
   "source": [
    "# Tests\n",
    "assert cos(DualNumber(0,0)).value == 1\n",
    "assert tan(DualNumber(0,0)).value == 0\n",
    "assert exp(DualNumber(0,0)).value == 1\n"
   ]
  },
  {
   "cell_type": "markdown",
   "metadata": {
    "deletable": false,
    "editable": false,
    "nbgrader": {
     "checksum": "5f834befbd408096b4d11ec9cd22159c",
     "grade": false,
     "grade_id": "cell-0429b8810d0cf3a3",
     "locked": true,
     "schema_version": 1,
     "solution": false
    }
   },
   "source": [
    "## Time to try it out\n",
    "\n",
    "We're now in a position to try our implementation.\n",
    "\n",
    "__Task:__ \n",
    "\n",
    "- Try running the following code to compute the value of the function $z=x\\cdot y+sin(x)$ given $x=0.5$ and $y=4.2$, together with the derivative $\\partial z/\\partial x$ at that point. "
   ]
  },
  {
   "cell_type": "code",
   "execution_count": 7,
   "metadata": {
    "deletable": false,
    "nbgrader": {
     "checksum": "ff1399f6f7101774bd4d3e9c49ed6458",
     "grade": false,
     "grade_id": "cell-12f7c8fa42784946",
     "locked": false,
     "schema_version": 1,
     "solution": true
    }
   },
   "outputs": [
    {
     "data": {
      "text/plain": [
       "2.579425538604203"
      ]
     },
     "execution_count": 7,
     "metadata": {},
     "output_type": "execute_result"
    }
   ],
   "source": [
    "# YOUR CODE HERE\n",
    "def calZ(x, y):\n",
    "    return x * y + math.sin(x)\n",
    "\n",
    "x = 0.5\n",
    "y = 4.2\n",
    "calZ(x, y)\n"
   ]
  },
  {
   "cell_type": "code",
   "execution_count": 8,
   "metadata": {},
   "outputs": [
    {
     "data": {
      "text/plain": [
       "2.579425538604203 + 5.077582561890373ε"
      ]
     },
     "execution_count": 8,
     "metadata": {},
     "output_type": "execute_result"
    }
   ],
   "source": [
    "a = DualNumber(x, 1)\n",
    "b = DualNumber(y, 0) # w.r.t x, so it's 0\n",
    "\n",
    "a * b + sin(a)"
   ]
  },
  {
   "cell_type": "markdown",
   "metadata": {
    "deletable": false,
    "editable": false,
    "nbgrader": {
     "checksum": "7719838a896c466bcc58ecb273f89175",
     "grade": false,
     "grade_id": "cell-204b8d399904b523",
     "locked": true,
     "schema_version": 1,
     "solution": false
    }
   },
   "source": [
    "__Task__: Differentiate the above function with respect to $x$ and write the symbolic derivatives in the following box. Verify the result computed above is correct by plugging-in the values into your symbolic gradient expression."
   ]
  },
  {
   "cell_type": "markdown",
   "metadata": {
    "deletable": false,
    "nbgrader": {
     "checksum": "07ca9c4df262fa25d98cea6f0e36d979",
     "grade": true,
     "grade_id": "cell-1ae4d0a0801a142a",
     "locked": false,
     "points": 2,
     "schema_version": 1,
     "solution": true
    }
   },
   "source": [
    "$$\n",
    "\\frac{\\partial z}{\\partial x} = y + cos(x) \\\\\n",
    "\\frac{\\partial z}{\\partial y} = x \\\\\n",
    "$$"
   ]
  },
  {
   "cell_type": "code",
   "execution_count": 9,
   "metadata": {},
   "outputs": [
    {
     "data": {
      "text/plain": [
       "5.077582561890373"
      ]
     },
     "execution_count": 9,
     "metadata": {},
     "output_type": "execute_result"
    }
   ],
   "source": [
    "def derivativeX(x, y):\n",
    "    return y + math.cos(x)\n",
    "\n",
    "derivativeX(x, y)\n"
   ]
  },
  {
   "cell_type": "markdown",
   "metadata": {},
   "source": [
    "__Task:__ Now use the code block below to compute the derivative $\\partial z/\\partial y$ of the above expression (at the same point $x=0.5, y=4.2$ as above) and store the derivative in the variable `dzdy` (just the derivative, not the Dual Number). Verify by hand that the result is correct."
   ]
  },
  {
   "cell_type": "code",
   "execution_count": 15,
   "metadata": {
    "deletable": false,
    "nbgrader": {
     "checksum": "cd3fbc66891ec630d8d3029df8ad0766",
     "grade": false,
     "grade_id": "cell-eab763bf1b218dc8",
     "locked": false,
     "schema_version": 1,
     "solution": true
    }
   },
   "outputs": [
    {
     "name": "stdout",
     "output_type": "stream",
     "text": [
      "2.579425538604203 + 0.5ε\n",
      "dz/dy: 0.5\n"
     ]
    }
   ],
   "source": [
    "# YOUR CODE HERE\n",
    "a = DualNumber(x, 0) # w.r.t y, so it's 0\n",
    "b = DualNumber(y, 1)\n",
    "\n",
    "print(a * b + sin(a))\n",
    "\n",
    "def derivativeY(x, y):\n",
    "    return x\n",
    "\n",
    "dzdy = derivativeY(x, y)\n",
    "\n",
    "print('dz/dy:', dzdy)"
   ]
  },
  {
   "cell_type": "code",
   "execution_count": 16,
   "metadata": {
    "deletable": false,
    "editable": false,
    "nbgrader": {
     "checksum": "0e76a35421fc942d840771242e268dad",
     "grade": true,
     "grade_id": "cell-a2f9f0ca4b1ed763",
     "locked": true,
     "points": 2,
     "schema_version": 1,
     "solution": false
    }
   },
   "outputs": [],
   "source": [
    "#Tests\n",
    "assert dzdy\n",
    "assert type(dzdy) == float\n"
   ]
  },
  {
   "cell_type": "markdown",
   "metadata": {
    "deletable": false,
    "editable": false,
    "nbgrader": {
     "checksum": "827a8ca599d07c42685e571f2491cf48",
     "grade": false,
     "grade_id": "cell-8faa6c905dd61e82",
     "locked": true,
     "schema_version": 1,
     "solution": false
    }
   },
   "source": [
    "__Task:__ Finally, use the code block below to experiment and test the other math functions and methods you created."
   ]
  },
  {
   "cell_type": "code",
   "execution_count": 12,
   "metadata": {
    "deletable": false,
    "nbgrader": {
     "checksum": "7c7f4bfbb93248c24b6fac692d6d3109",
     "grade": true,
     "grade_id": "cell-b71d4bb64928ee38",
     "locked": false,
     "points": 0,
     "schema_version": 1,
     "solution": true
    }
   },
   "outputs": [],
   "source": [
    "def quadratic(x):\n",
    "    return 5*x**2 + 4*x + 1\n",
    "\n",
    "x1 = 2\n",
    "xdual = DualNumber(x1, 1)\n"
   ]
  },
  {
   "cell_type": "code",
   "execution_count": 13,
   "metadata": {},
   "outputs": [
    {
     "data": {
      "text/plain": [
       "(2 + 1ε, 29, 29 + 24ε)"
      ]
     },
     "execution_count": 13,
     "metadata": {},
     "output_type": "execute_result"
    }
   ],
   "source": [
    "xdual, quadratic(x1), quadratic(xdual)\n"
   ]
  },
  {
   "cell_type": "code",
   "execution_count": 14,
   "metadata": {
    "scrolled": true
   },
   "outputs": [
    {
     "data": {
      "text/plain": [
       "24"
      ]
     },
     "execution_count": 14,
     "metadata": {},
     "output_type": "execute_result"
    }
   ],
   "source": [
    "def derivativeQuaX(x):\n",
    "    return 10 * x + 4\n",
    "\n",
    "derivativeQuaX(x1)\n"
   ]
  },
  {
   "cell_type": "code",
   "execution_count": null,
   "metadata": {},
   "outputs": [],
   "source": []
  }
 ],
 "metadata": {
  "kernelspec": {
   "display_name": "Python 3",
   "language": "python",
   "name": "python3"
  },
  "language_info": {
   "codemirror_mode": {
    "name": "ipython",
    "version": 3
   },
   "file_extension": ".py",
   "mimetype": "text/x-python",
   "name": "python",
   "nbconvert_exporter": "python",
   "pygments_lexer": "ipython3",
   "version": "3.8.3"
  }
 },
 "nbformat": 4,
 "nbformat_minor": 2
}

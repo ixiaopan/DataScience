{
  "nbformat": 4,
  "nbformat_minor": 0,
  "metadata": {
    "kernelspec": {
      "display_name": "Python 3",
      "language": "python",
      "name": "python3"
    },
    "language_info": {
      "codemirror_mode": {
        "name": "ipython",
        "version": 3
      },
      "file_extension": ".py",
      "mimetype": "text/x-python",
      "name": "python",
      "nbconvert_exporter": "python",
      "pygments_lexer": "ipython3",
      "version": "3.6.7"
    },
    "colab": {
      "name": "7_2_WordEmbeddings.ipynb",
      "provenance": [],
      "collapsed_sections": []
    }
  },
  "cells": [
    {
      "cell_type": "markdown",
      "metadata": {
        "deletable": false,
        "editable": false,
        "nbgrader": {
          "checksum": "984959cd4675237d2964d0036770360d",
          "grade": false,
          "grade_id": "cell-6f17f4f5348cd26a",
          "locked": true,
          "schema_version": 1,
          "solution": false
        },
        "id": "kiRX7Tl8QJNo"
      },
      "source": [
        "# Part 2: Word Embeddings"
      ]
    },
    {
      "cell_type": "code",
      "metadata": {
        "deletable": false,
        "editable": false,
        "nbgrader": {
          "checksum": "09ae37aba80f8a3d948cadbed7991dee",
          "grade": false,
          "grade_id": "cell-426d00926ef2a948",
          "locked": true,
          "schema_version": 1,
          "solution": false
        },
        "colab": {
          "base_uri": "https://localhost:8080/"
        },
        "id": "eosZ-B7XQJNp",
        "outputId": "b67e3ba6-75bc-48ff-da79-8971a0ccf943"
      },
      "source": [
        "# Execute this code block to install dependencies when running on colab\n",
        "try:\n",
        "    import torch\n",
        "except:\n",
        "    from os.path import exists\n",
        "    from wheel.pep425tags import get_abbr_impl, get_impl_ver, get_abi_tag\n",
        "    platform = '{}{}-{}'.format(get_abbr_impl(), get_impl_ver(), get_abi_tag())\n",
        "    cuda_output = !ldconfig -p|grep cudart.so|sed -e 's/.*\\.\\([0-9]*\\)\\.\\([0-9]*\\)$/cu\\1\\2/'\n",
        "    accelerator = cuda_output[0] if exists('/dev/nvidia0') else 'cpu'\n",
        "\n",
        "    !pip install -q http://download.pytorch.org/whl/{accelerator}/torch-1.0.0-{platform}-linux_x86_64.whl torchvision\n",
        "\n",
        "try: \n",
        "    import torchbearer\n",
        "except:\n",
        "    !pip install torchbearer\n",
        "    \n",
        "try:\n",
        "    import torchtext\n",
        "except:\n",
        "    !pip install torchtext\n",
        "    \n",
        "try:\n",
        "    import spacy\n",
        "except:\n",
        "    !pip install spacy\n",
        "\n",
        "try:\n",
        "    spacy.load('en')\n",
        "except:\n",
        "    !python -m spacy download en"
      ],
      "execution_count": 1,
      "outputs": [
        {
          "output_type": "stream",
          "text": [
            "Collecting torchbearer\n",
            "\u001b[?25l  Downloading https://files.pythonhosted.org/packages/ff/e9/4049a47dd2e5b6346a2c5d215b0c67dce814afbab1cd54ce024533c4834e/torchbearer-0.5.3-py3-none-any.whl (138kB)\n",
            "\r\u001b[K     |██▍                             | 10kB 16.4MB/s eta 0:00:01\r\u001b[K     |████▊                           | 20kB 14.7MB/s eta 0:00:01\r\u001b[K     |███████▏                        | 30kB 8.6MB/s eta 0:00:01\r\u001b[K     |█████████▌                      | 40kB 9.0MB/s eta 0:00:01\r\u001b[K     |███████████▉                    | 51kB 5.5MB/s eta 0:00:01\r\u001b[K     |██████████████▎                 | 61kB 5.6MB/s eta 0:00:01\r\u001b[K     |████████████████▋               | 71kB 6.0MB/s eta 0:00:01\r\u001b[K     |███████████████████             | 81kB 6.5MB/s eta 0:00:01\r\u001b[K     |█████████████████████▍          | 92kB 6.1MB/s eta 0:00:01\r\u001b[K     |███████████████████████▊        | 102kB 6.5MB/s eta 0:00:01\r\u001b[K     |██████████████████████████      | 112kB 6.5MB/s eta 0:00:01\r\u001b[K     |████████████████████████████▌   | 122kB 6.5MB/s eta 0:00:01\r\u001b[K     |██████████████████████████████▉ | 133kB 6.5MB/s eta 0:00:01\r\u001b[K     |████████████████████████████████| 143kB 6.5MB/s \n",
            "\u001b[?25hRequirement already satisfied: numpy in /usr/local/lib/python3.7/dist-packages (from torchbearer) (1.19.5)\n",
            "Requirement already satisfied: tqdm in /usr/local/lib/python3.7/dist-packages (from torchbearer) (4.41.1)\n",
            "Requirement already satisfied: torch>=1.0.0 in /usr/local/lib/python3.7/dist-packages (from torchbearer) (1.8.0+cu101)\n",
            "Requirement already satisfied: typing-extensions in /usr/local/lib/python3.7/dist-packages (from torch>=1.0.0->torchbearer) (3.7.4.3)\n",
            "Installing collected packages: torchbearer\n",
            "Successfully installed torchbearer-0.5.3\n"
          ],
          "name": "stdout"
        }
      ]
    },
    {
      "cell_type": "markdown",
      "metadata": {
        "deletable": false,
        "editable": false,
        "nbgrader": {
          "checksum": "d61a9db4eae318662e2d525b44722941",
          "grade": false,
          "grade_id": "cell-cc5d1e090cea2dd0",
          "locked": true,
          "schema_version": 1,
          "solution": false
        },
        "id": "8cpB9GRZQJNs"
      },
      "source": [
        "Word embeddings transform a one-hot encoded vector (a vector that is 0 in elements except one, which is 1) into a much smaller dimension vector of real numbers. The one-hot encoded vector is a *sparse vector*, whilst the real valued vector is a *dense vector*. \n",
        "\n",
        "The key concept in these word embeddings is that words that appear in similar _contexts_ appear nearby in the vector space, i.e. the Euclidean distance between these two word vectors is small. By context here, we mean the surrounding words. For example in the sentences \"I purchased some items at the shop\" and \"I purchased some items at the store\" the words 'shop' and 'store' appear in the same context and thus should be close together in vector space.\n",
        "\n",
        "We'll talk about some of the well-known algorithms for learning embeddings in the lectures, but you might have already heard of a popular model called *word2vec*, which was first published in a rejected ICLR submission (it has some pretty damning reviews, but also has thousands of citations!). In this lab we'll use pre-trained *GloVe* vectors. *GloVe* is a different algorithm for computing word vectors, although the outcome is similar to *word2vec*. These pre-trained embeddings have been trained on a gigantic corpus. We can use these pre-trained vectors within any of our models, with the idea that as they have already learned the context of each word they will give us a better starting point for our word vectors. This usually leads to faster training time and/or improved accuracy.\n",
        "\n",
        "In PyTorch, we use word vectors with the `nn.Embedding` layer, which takes a _**[sentence length, batch size]**_ tensor and transforms it into a _**[sentence length, batch size, embedding dimensions]**_ tensor. `nn.Embedding` layers can be trained from scratch, or they can be initialised (and optionally fixed) with pre-trained embedding data. The key thing to remember about an `nn.Embedding` is that it does not need to explicitly use a one-hot vector representation at any point; it just maps an index to a vector. This is important because it implies massive computational savings; more concretly an Emdedding is essentially a linear map in which the weight matrix of the linear layer is multiplied by a one-hot sparse-vector to produce a lower-dimensional (dense) output. This is exactly equivalent to just selecting the column of the weight matrix corresponding to the index represented by the sparse vector.\n",
        "\n",
        "In this part of the lab we won't be training any models; instead we'll be looking at the word embeddings and investigating a few interesting things we can do with them.\n",
        "\n",
        "## Loading the GloVe vectors\n",
        "\n",
        "First, we'll load the pre-trained GloVe vectors. The `name` field specifies what the vectors have been trained on, here the `6B` means a corpus of 6 billion words. The `dim` argument specifies the dimensionality of the word vectors. GloVe vectors are available in 50, 100, 200 and 300 dimensions. There is also a `42B` and `840B` glove vectors, however they are only available at 300 dimensions. The first time you run this it will take time as the vectors need to be downloaded:"
      ]
    },
    {
      "cell_type": "code",
      "metadata": {
        "deletable": false,
        "editable": false,
        "nbgrader": {
          "checksum": "ad157a2a3b61280e0b6f17bd3ad12faa",
          "grade": false,
          "grade_id": "cell-aceafa53d8c3ee9e",
          "locked": true,
          "schema_version": 1,
          "solution": false
        },
        "colab": {
          "base_uri": "https://localhost:8080/"
        },
        "id": "uFlPP6M0QJNv",
        "outputId": "1d94c9a6-807a-4482-d948-c3e7550d8582"
      },
      "source": [
        "import torchtext.vocab\n",
        "\n",
        "glove = torchtext.vocab.GloVe(name='6B', dim=100)\n",
        "\n",
        "print(f'There are {len(glove.itos)} words in the vocabulary')"
      ],
      "execution_count": 2,
      "outputs": [
        {
          "output_type": "stream",
          "text": [
            ".vector_cache/glove.6B.zip: 862MB [02:40, 5.36MB/s]                           \n",
            "100%|█████████▉| 399309/400000 [00:19<00:00, 20954.28it/s]"
          ],
          "name": "stderr"
        },
        {
          "output_type": "stream",
          "text": [
            "There are 400000 words in the vocabulary\n"
          ],
          "name": "stdout"
        }
      ]
    },
    {
      "cell_type": "markdown",
      "metadata": {
        "deletable": false,
        "editable": false,
        "nbgrader": {
          "checksum": "6d6d3a9d7c029ce69fbc5b4b65d8dcf7",
          "grade": false,
          "grade_id": "cell-504c748c992c4304",
          "locked": true,
          "schema_version": 1,
          "solution": false
        },
        "id": "ewzCMouNQJNw"
      },
      "source": [
        "As shown above, there are 400,000 unique words in the GloVe vocabulary. These are the most common words found in the corpus the vectors were trained on. **In these set of GloVe vectors, every single word is lower-case only.**\n",
        "\n",
        "`glove.vectors` is the actual tensor containing the values of the embeddings."
      ]
    },
    {
      "cell_type": "code",
      "metadata": {
        "deletable": false,
        "editable": false,
        "nbgrader": {
          "checksum": "5c17fc906f39bcc8ad50be640173a9fa",
          "grade": false,
          "grade_id": "cell-d581dee4f722cca5",
          "locked": true,
          "schema_version": 1,
          "solution": false
        },
        "colab": {
          "base_uri": "https://localhost:8080/"
        },
        "id": "qo_Tr1NiQJNy",
        "outputId": "94e95fcd-5b29-40dc-dbad-c26239925628"
      },
      "source": [
        "glove.vectors.shape"
      ],
      "execution_count": 3,
      "outputs": [
        {
          "output_type": "execute_result",
          "data": {
            "text/plain": [
              "torch.Size([400000, 100])"
            ]
          },
          "metadata": {
            "tags": []
          },
          "execution_count": 3
        }
      ]
    },
    {
      "cell_type": "markdown",
      "metadata": {
        "deletable": false,
        "editable": false,
        "nbgrader": {
          "checksum": "a45800d85ac4b4b0b28b7c5786e7f611",
          "grade": false,
          "grade_id": "cell-8b7f0ea5ae20558b",
          "locked": true,
          "schema_version": 1,
          "solution": false
        },
        "id": "R9pO467GQJNz"
      },
      "source": [
        "We can see what word is associated with each row by checking the `itos` (int to string) list. \n",
        "\n",
        "Below implies that row 0 is the vector associated with the word 'the', row 1 for ',' (comma), row 2 for '.' (period), etc."
      ]
    },
    {
      "cell_type": "code",
      "metadata": {
        "deletable": false,
        "editable": false,
        "nbgrader": {
          "checksum": "056f9034fdc1ea90e5eb7f2aec199e04",
          "grade": false,
          "grade_id": "cell-c729cc0c78c40e6c",
          "locked": true,
          "schema_version": 1,
          "solution": false
        },
        "colab": {
          "base_uri": "https://localhost:8080/"
        },
        "id": "NY1M2pv8QJNz",
        "outputId": "2e33fffa-6460-42a0-bc54-5009fffd478d"
      },
      "source": [
        "glove.itos[:10]"
      ],
      "execution_count": 4,
      "outputs": [
        {
          "output_type": "execute_result",
          "data": {
            "text/plain": [
              "['the', ',', '.', 'of', 'to', 'and', 'in', 'a', '\"', \"'s\"]"
            ]
          },
          "metadata": {
            "tags": []
          },
          "execution_count": 4
        }
      ]
    },
    {
      "cell_type": "markdown",
      "metadata": {
        "deletable": false,
        "editable": false,
        "nbgrader": {
          "checksum": "d54851b373cca20e645497dfe6dfc8f0",
          "grade": false,
          "grade_id": "cell-f0e2bc91e46d85ab",
          "locked": true,
          "schema_version": 1,
          "solution": false
        },
        "id": "TNptstHFQJN0"
      },
      "source": [
        "We can also use the `stoi` (string to int) dictionary, in which we input a word and receive the associated integer/index. If you try get the index of a word that is not in the vocabulary, you receive an error."
      ]
    },
    {
      "cell_type": "code",
      "metadata": {
        "deletable": false,
        "editable": false,
        "nbgrader": {
          "checksum": "4328787e224e941b4dcc53c2315626ee",
          "grade": false,
          "grade_id": "cell-a95267b694432ed1",
          "locked": true,
          "schema_version": 1,
          "solution": false
        },
        "colab": {
          "base_uri": "https://localhost:8080/"
        },
        "id": "YWjlckraQJN0",
        "outputId": "13ff861a-083c-4b4f-ae13-65877424bc89"
      },
      "source": [
        "glove.stoi['hello']"
      ],
      "execution_count": 6,
      "outputs": [
        {
          "output_type": "execute_result",
          "data": {
            "text/plain": [
              "13075"
            ]
          },
          "metadata": {
            "tags": []
          },
          "execution_count": 6
        }
      ]
    },
    {
      "cell_type": "markdown",
      "metadata": {
        "deletable": false,
        "editable": false,
        "nbgrader": {
          "checksum": "b506644789934cd8b5a7afcc4e3ccc39",
          "grade": false,
          "grade_id": "cell-ba0310634f767896",
          "locked": true,
          "schema_version": 1,
          "solution": false
        },
        "id": "4-Cg7EAfQJN0"
      },
      "source": [
        "We can get the vector of a word by first getting the integer associated with it and then indexing into the word embedding tensor with that index."
      ]
    },
    {
      "cell_type": "code",
      "metadata": {
        "deletable": false,
        "editable": false,
        "nbgrader": {
          "checksum": "bbc1b6a3ec1c87301f8b913034b5798c",
          "grade": false,
          "grade_id": "cell-ec58401ce38b8fe9",
          "locked": true,
          "schema_version": 1,
          "solution": false
        },
        "colab": {
          "base_uri": "https://localhost:8080/"
        },
        "id": "DMul2tRpQJN0",
        "outputId": "dbc231ed-aa64-492d-c0c3-3c7e44ec760b"
      },
      "source": [
        "glove.vectors[glove.stoi['the']]"
      ],
      "execution_count": 12,
      "outputs": [
        {
          "output_type": "execute_result",
          "data": {
            "text/plain": [
              "tensor([-0.0382, -0.2449,  0.7281, -0.3996,  0.0832,  0.0440, -0.3914,  0.3344,\n",
              "        -0.5755,  0.0875,  0.2879, -0.0673,  0.3091, -0.2638, -0.1323, -0.2076,\n",
              "         0.3340, -0.3385, -0.3174, -0.4834,  0.1464, -0.3730,  0.3458,  0.0520,\n",
              "         0.4495, -0.4697,  0.0263, -0.5415, -0.1552, -0.1411, -0.0397,  0.2828,\n",
              "         0.1439,  0.2346, -0.3102,  0.0862,  0.2040,  0.5262,  0.1716, -0.0824,\n",
              "        -0.7179, -0.4153,  0.2033, -0.1276,  0.4137,  0.5519,  0.5791, -0.3348,\n",
              "        -0.3656, -0.5486, -0.0629,  0.2658,  0.3020,  0.9977, -0.8048, -3.0243,\n",
              "         0.0125, -0.3694,  2.2167,  0.7220, -0.2498,  0.9214,  0.0345,  0.4674,\n",
              "         1.1079, -0.1936, -0.0746,  0.2335, -0.0521, -0.2204,  0.0572, -0.1581,\n",
              "        -0.3080, -0.4162,  0.3797,  0.1501, -0.5321, -0.2055, -1.2526,  0.0716,\n",
              "         0.7056,  0.4974, -0.4206,  0.2615, -1.5380, -0.3022, -0.0734, -0.2831,\n",
              "         0.3710, -0.2522,  0.0162, -0.0171, -0.3898,  0.8742, -0.7257, -0.5106,\n",
              "        -0.5203, -0.1459,  0.8278,  0.2706])"
            ]
          },
          "metadata": {
            "tags": []
          },
          "execution_count": 12
        }
      ]
    },
    {
      "cell_type": "markdown",
      "metadata": {
        "deletable": false,
        "editable": false,
        "nbgrader": {
          "checksum": "d9591f8c7576a4211a24259d5a08f495",
          "grade": false,
          "grade_id": "cell-3f6513c100744743",
          "locked": true,
          "schema_version": 1,
          "solution": false
        },
        "id": "qnOgIgahQJN1"
      },
      "source": [
        "We'll be doing this a lot. __Use the following block to create a function that takes in word embeddings and a word and returns the associated vector.__ You should throw an error if the word doesn't exist in the vocabulary:"
      ]
    },
    {
      "cell_type": "code",
      "metadata": {
        "deletable": false,
        "nbgrader": {
          "checksum": "cc248cb64c4760e65292e3e7a8c4b3cd",
          "grade": true,
          "grade_id": "cell-665d7b4d1dd8f339",
          "locked": false,
          "points": 4,
          "schema_version": 1,
          "solution": true
        },
        "id": "MxHaC78vQJN1"
      },
      "source": [
        "def get_vector(embeddings, word):\n",
        "    # YOUR CODE HERE\n",
        "    if word not in embeddings.stoi:\n",
        "      raise ValueError('Opps, '+word+' doesn\\'t exit!')\n",
        "    \n",
        "    return embeddings.vectors[embeddings.stoi[word]]"
      ],
      "execution_count": 17,
      "outputs": []
    },
    {
      "cell_type": "markdown",
      "metadata": {
        "deletable": false,
        "editable": false,
        "nbgrader": {
          "checksum": "ca9447056d8b427e99b7bd0372902d9c",
          "grade": false,
          "grade_id": "cell-9ff707bac4fd2556",
          "locked": true,
          "schema_version": 1,
          "solution": false
        },
        "id": "VtlUuttkQJN1"
      },
      "source": [
        "As before, we use a word to get the associated vector."
      ]
    },
    {
      "cell_type": "code",
      "metadata": {
        "deletable": false,
        "editable": false,
        "nbgrader": {
          "checksum": "fdf27ce0601aef03ff1efdd73bd779ca",
          "grade": false,
          "grade_id": "cell-6311b14c496949f5",
          "locked": true,
          "schema_version": 1,
          "solution": false
        },
        "colab": {
          "base_uri": "https://localhost:8080/"
        },
        "id": "p3xjrHnuQJN1",
        "outputId": "5e7c9ee7-5223-46f2-d625-90bb7a987a52"
      },
      "source": [
        "get_vector(glove, 'hello')"
      ],
      "execution_count": 19,
      "outputs": [
        {
          "output_type": "execute_result",
          "data": {
            "text/plain": [
              "tensor([ 0.2669,  0.3963,  0.6169, -0.7745, -0.1039,  0.2670,  0.2788,  0.3099,\n",
              "         0.0055, -0.0853,  0.7360, -0.0984,  0.5479, -0.0303,  0.3348,  0.1409,\n",
              "        -0.0070,  0.3257,  0.2290,  0.4656, -0.1953,  0.3749, -0.7139, -0.5178,\n",
              "         0.7704,  1.0881, -0.6601, -0.1623,  0.9119,  0.2105,  0.0475,  1.0019,\n",
              "         1.1133,  0.7009, -0.0870,  0.4757,  0.1636, -0.4447,  0.4469, -0.9382,\n",
              "         0.0131,  0.0860, -0.6746,  0.4966, -0.0378, -0.1104, -0.2861,  0.0746,\n",
              "        -0.3153, -0.0938, -0.5707,  0.6686,  0.4531, -0.3415, -0.7166, -0.7527,\n",
              "         0.0752,  0.5790, -0.1191, -0.1138, -0.1003,  0.7134, -1.1574, -0.7403,\n",
              "         0.4045,  0.1802,  0.2145,  0.3764,  0.1124, -0.5364, -0.0251,  0.3189,\n",
              "        -0.2501, -0.6328, -0.0118,  1.3770,  0.8601,  0.2048, -0.3681, -0.6887,\n",
              "         0.5351, -0.4656,  0.2739,  0.4118, -0.8540, -0.0463,  0.1130, -0.2733,\n",
              "         0.1564, -0.2033,  0.5359,  0.5978,  0.6047,  0.1373,  0.4223, -0.6128,\n",
              "        -0.3849,  0.3584, -0.4846,  0.3073])"
            ]
          },
          "metadata": {
            "tags": []
          },
          "execution_count": 19
        }
      ]
    },
    {
      "cell_type": "markdown",
      "metadata": {
        "deletable": false,
        "editable": false,
        "nbgrader": {
          "checksum": "db7798ec9825a17c0ccede676217ccff",
          "grade": false,
          "grade_id": "cell-5ce5018fe3a64aa5",
          "locked": true,
          "schema_version": 1,
          "solution": false
        },
        "id": "75aubH3-QJN2"
      },
      "source": [
        "## Similar Contexts\n",
        "\n",
        "Now to start looking at the context of different words. \n",
        "\n",
        "If we want to find the words similar to a certain input word, we first find the vector of this input word, then we scan through our vocabulary finding any vectors similar to this input word vector.\n",
        "\n",
        "The function below returns the closest 10 words to an input word vector:"
      ]
    },
    {
      "cell_type": "code",
      "metadata": {
        "deletable": false,
        "editable": false,
        "nbgrader": {
          "checksum": "e0c40de99156af4a0ccbfde1e6c8c73c",
          "grade": false,
          "grade_id": "cell-7caf2bf37d7f6acd",
          "locked": true,
          "schema_version": 1,
          "solution": false
        },
        "id": "Jjybt5M4QJN2"
      },
      "source": [
        "import torch\n",
        "\n",
        "def closest_words(embeddings, vector, n=10):\n",
        "    distances = [(w, torch.dist(vector, get_vector(embeddings, w)).item()) for w in embeddings.itos]\n",
        "    return sorted(distances, key = lambda w: w[1])[:n]"
      ],
      "execution_count": 20,
      "outputs": []
    },
    {
      "cell_type": "markdown",
      "metadata": {
        "deletable": false,
        "editable": false,
        "nbgrader": {
          "checksum": "67ad88185491caa67edc4c043b2dfffa",
          "grade": false,
          "grade_id": "cell-37ae589db1788914",
          "locked": true,
          "schema_version": 1,
          "solution": false
        },
        "id": "g81qNvBrQJN2"
      },
      "source": [
        "Let's try it out with 'korea'. The closest word is the word 'korea' itself (not very interesting), however all of the words are related in some way. Pyongyang is the capital of North Korea, DPRK is the official name of North Korea, etc.\n",
        "\n",
        "Interestingly, we also get 'Japan' and 'China',  implies that Korea, Japan and China are frequently talked about together in similar contexts. This makes sense as they are geographically situated near each other. "
      ]
    },
    {
      "cell_type": "code",
      "metadata": {
        "deletable": false,
        "editable": false,
        "nbgrader": {
          "checksum": "3c53201c7b9717f670c96e6db2ce1fc0",
          "grade": false,
          "grade_id": "cell-f0315fd8a79e03c2",
          "locked": true,
          "schema_version": 1,
          "solution": false
        },
        "colab": {
          "base_uri": "https://localhost:8080/"
        },
        "id": "mEI2YqJMQJN3",
        "outputId": "c79d3726-62c1-4544-84f6-5ab6eedafc12"
      },
      "source": [
        "closest_words(glove, get_vector(glove, 'korea'))"
      ],
      "execution_count": 21,
      "outputs": [
        {
          "output_type": "execute_result",
          "data": {
            "text/plain": [
              "[('korea', 0.0),\n",
              " ('pyongyang', 3.9039554595947266),\n",
              " ('korean', 4.068886756896973),\n",
              " ('dprk', 4.2631049156188965),\n",
              " ('seoul', 4.340494155883789),\n",
              " ('japan', 4.551243782043457),\n",
              " ('koreans', 4.6156086921691895),\n",
              " ('south', 4.65822696685791),\n",
              " ('china', 4.839518070220947),\n",
              " ('north', 4.986356735229492)]"
            ]
          },
          "metadata": {
            "tags": []
          },
          "execution_count": 21
        }
      ]
    },
    {
      "cell_type": "markdown",
      "metadata": {
        "deletable": false,
        "editable": false,
        "nbgrader": {
          "checksum": "cc290c1df8992513c81e9f6ab7d30812",
          "grade": false,
          "grade_id": "cell-aa3ce8cccc903a24",
          "locked": true,
          "schema_version": 1,
          "solution": false
        },
        "id": "o0pxXZ1rQJN3"
      },
      "source": [
        "Looking at another country, India, we also get nearby countries: Thailand, Malaysia and Sri Lanka (as two separate words). Australia is relatively close to India (geographically), but Thailand and Malaysia are closer. So why is Australia closer to India in vector space? A plausible explaination is that India and Australia appear together in the context of [cricket](https://en.wikipedia.org/wiki/Cricket) matches."
      ]
    },
    {
      "cell_type": "code",
      "metadata": {
        "deletable": false,
        "editable": false,
        "nbgrader": {
          "checksum": "5b12751bffec3905109d45bdf5503e5f",
          "grade": false,
          "grade_id": "cell-e42121c7951db2d3",
          "locked": true,
          "schema_version": 1,
          "solution": false
        },
        "colab": {
          "base_uri": "https://localhost:8080/"
        },
        "id": "hkStvSmHQJN4",
        "outputId": "1d05db24-e007-4662-9009-cff941b5c0bf"
      },
      "source": [
        "closest_words(glove, get_vector(glove, 'india'))"
      ],
      "execution_count": 22,
      "outputs": [
        {
          "output_type": "execute_result",
          "data": {
            "text/plain": [
              "[('india', 0.0),\n",
              " ('pakistan', 3.6954822540283203),\n",
              " ('indian', 4.114313125610352),\n",
              " ('delhi', 4.155975818634033),\n",
              " ('bangladesh', 4.261017799377441),\n",
              " ('lanka', 4.435846328735352),\n",
              " ('sri', 4.515717029571533),\n",
              " ('australia', 4.806082725524902),\n",
              " ('thailand', 4.994781494140625),\n",
              " ('malaysia', 5.009334087371826)]"
            ]
          },
          "metadata": {
            "tags": []
          },
          "execution_count": 22
        }
      ]
    },
    {
      "cell_type": "markdown",
      "metadata": {
        "deletable": false,
        "editable": false,
        "nbgrader": {
          "checksum": "69ad20637fe1ba949c18119468a615e2",
          "grade": false,
          "grade_id": "cell-7aa75c705fe39e2b",
          "locked": true,
          "schema_version": 1,
          "solution": false
        },
        "id": "peGKtehSQJN5"
      },
      "source": [
        "We'll also create another function that will nicely print out the tuples returned by our closest_words function."
      ]
    },
    {
      "cell_type": "code",
      "metadata": {
        "deletable": false,
        "editable": false,
        "nbgrader": {
          "checksum": "d38ea85b7b473d4405eb968377727e9e",
          "grade": false,
          "grade_id": "cell-e0e61a784e7b5c03",
          "locked": true,
          "schema_version": 1,
          "solution": false
        },
        "id": "WYLRwnsZQJN6"
      },
      "source": [
        "def print_tuples(tuples):\n",
        "    for w, d in tuples:\n",
        "        print(f'({d:02.04f}) {w}') "
      ],
      "execution_count": 23,
      "outputs": []
    },
    {
      "cell_type": "markdown",
      "metadata": {
        "deletable": false,
        "editable": false,
        "nbgrader": {
          "checksum": "c314c093d0931d12e5e56b0473de07b4",
          "grade": false,
          "grade_id": "cell-158d48e3c33227e7",
          "locked": true,
          "schema_version": 1,
          "solution": false
        },
        "id": "qVNB_MVUQJN6"
      },
      "source": [
        "Using the `print_tuples` function use the code block below to print out the 10 neighbours of 'jaguar':"
      ]
    },
    {
      "cell_type": "code",
      "metadata": {
        "deletable": false,
        "nbgrader": {
          "checksum": "d396d6fedd051278308325893bff1a7c",
          "grade": true,
          "grade_id": "cell-c883f0e0c2c194b4",
          "locked": false,
          "points": 2,
          "schema_version": 1,
          "solution": true
        },
        "colab": {
          "base_uri": "https://localhost:8080/"
        },
        "id": "_LXEbXOkQJN6",
        "outputId": "cb5ebbca-c979-4553-9809-1bd4f7e1bfdb"
      },
      "source": [
        "# YOUR CODE HERE\n",
        "neighbours = closest_words(glove, get_vector(glove, 'jaguar'))\n",
        "\n",
        "print_tuples(neighbours)\n"
      ],
      "execution_count": 24,
      "outputs": [
        {
          "output_type": "stream",
          "text": [
            "(0.0000) jaguar\n",
            "(4.0384) rover\n",
            "(4.2649) mustang\n",
            "(4.3939) e-type\n",
            "(4.4494) xk8\n",
            "(4.4579) xjs\n",
            "(4.4906) xj6\n",
            "(4.5109) xkr\n",
            "(4.5336) sepecat\n",
            "(4.5409) xk120\n"
          ],
          "name": "stdout"
        }
      ]
    },
    {
      "cell_type": "markdown",
      "metadata": {
        "deletable": false,
        "editable": false,
        "nbgrader": {
          "checksum": "5efa0cdc77c06d8a495a6832ac7a2bd3",
          "grade": false,
          "grade_id": "cell-3964ab858fdb82d8",
          "locked": true,
          "schema_version": 1,
          "solution": false
        },
        "id": "_H48jRiuQJN7"
      },
      "source": [
        "__Use the following block to explain the results.__ (hint: use Google if you don't know what any of the terms are!)"
      ]
    },
    {
      "cell_type": "markdown",
      "metadata": {
        "deletable": false,
        "nbgrader": {
          "checksum": "ece0ec94dff4b1e0bef5bacbec0db9f1",
          "grade": true,
          "grade_id": "cell-ebf08e96b0987860",
          "locked": false,
          "points": 5,
          "schema_version": 1,
          "solution": true
        },
        "id": "23BPObZKQJN7"
      },
      "source": [
        "YOUR ANSWER HERE"
      ]
    },
    {
      "cell_type": "markdown",
      "metadata": {
        "deletable": false,
        "editable": false,
        "nbgrader": {
          "checksum": "37e34f44b1798d1f74fb49210ef1da43",
          "grade": false,
          "grade_id": "cell-9f417bc0fb8d5287",
          "locked": true,
          "schema_version": 1,
          "solution": false
        },
        "id": "iV-zo6Q0QJN7"
      },
      "source": [
        "## Analogies\n",
        "\n",
        "Another property of word embeddings is that we can apply standard arithmetic operations. This can give interesting results.\n",
        "\n",
        "We'll show an example of this first, and then explain it:"
      ]
    },
    {
      "cell_type": "code",
      "metadata": {
        "deletable": false,
        "editable": false,
        "nbgrader": {
          "checksum": "895399907963f0f7a83448dec5165c5d",
          "grade": false,
          "grade_id": "cell-a0f613c8739e5a3c",
          "locked": true,
          "schema_version": 1,
          "solution": false
        },
        "id": "rp0y5T4lQJN8"
      },
      "source": [
        "def analogy(embeddings, word1, word2, word3, n=5):\n",
        "    \n",
        "    candidate_words = closest_words(embeddings, get_vector(embeddings, word2) - get_vector(embeddings, word1) + get_vector(embeddings, word3), n+3)\n",
        "    \n",
        "    candidate_words = [x for x in candidate_words if x[0] not in [word1, word2, word3]][:n]\n",
        "    \n",
        "    print(f'{word1} is to {word2} as {word3} is to...')\n",
        "    \n",
        "    return candidate_words"
      ],
      "execution_count": 25,
      "outputs": []
    },
    {
      "cell_type": "code",
      "metadata": {
        "deletable": false,
        "editable": false,
        "nbgrader": {
          "checksum": "9994548d295d48b18a1767ebb094a3e6",
          "grade": false,
          "grade_id": "cell-c197612b5ec94762",
          "locked": true,
          "schema_version": 1,
          "solution": false
        },
        "colab": {
          "base_uri": "https://localhost:8080/"
        },
        "id": "CIqVy7ELQJN9",
        "outputId": "fbfc3fab-8b21-4055-f890-e0e2fb41e1ff"
      },
      "source": [
        "print_tuples(analogy(glove, 'man', 'king', 'woman'))"
      ],
      "execution_count": 26,
      "outputs": [
        {
          "output_type": "stream",
          "text": [
            "man is to king as woman is to...\n",
            "(4.0811) queen\n",
            "(4.6429) monarch\n",
            "(4.9055) throne\n",
            "(4.9216) elizabeth\n",
            "(4.9811) prince\n"
          ],
          "name": "stdout"
        }
      ]
    },
    {
      "cell_type": "markdown",
      "metadata": {
        "deletable": false,
        "editable": false,
        "nbgrader": {
          "checksum": "5596f944b3ea0977744e61ac0dc9691e",
          "grade": false,
          "grade_id": "cell-a388955bf35cd584",
          "locked": true,
          "schema_version": 1,
          "solution": false
        },
        "id": "h8mHk0LkQJN-"
      },
      "source": [
        "This is the canonical example which shows off this property of word embeddings. So why does it work? Why does the vector of 'woman' added to the vector of 'king' minus the vector of 'man' give us 'queen'?\n",
        "\n",
        "If we think about it, the vector calculated from 'king' minus 'man' gives us a \"royalty vector\". This is the vector associated with traveling from a man to his royal counterpart, a king. If we add this \"royality vector\" to 'woman', this should travel to her royal equivalent, which is a queen!\n",
        "\n",
        "We can do this with other analogies too. For example, this gets an \"acting career vector\":"
      ]
    },
    {
      "cell_type": "code",
      "metadata": {
        "deletable": false,
        "editable": false,
        "nbgrader": {
          "checksum": "e3ba3a850f1feed61e5f60a7f998ddd3",
          "grade": false,
          "grade_id": "cell-733267c1033df3c0",
          "locked": true,
          "schema_version": 1,
          "solution": false
        },
        "colab": {
          "base_uri": "https://localhost:8080/"
        },
        "id": "61YEBPETQJN_",
        "outputId": "5d22066b-c6fc-4381-b3f4-466cda37b945"
      },
      "source": [
        "print_tuples(analogy(glove, 'man', 'actor', 'woman'))"
      ],
      "execution_count": 27,
      "outputs": [
        {
          "output_type": "stream",
          "text": [
            "man is to actor as woman is to...\n",
            "(2.8133) actress\n",
            "(5.0039) comedian\n",
            "(5.1399) actresses\n",
            "(5.2773) starred\n",
            "(5.3085) screenwriter\n"
          ],
          "name": "stdout"
        }
      ]
    },
    {
      "cell_type": "markdown",
      "metadata": {
        "deletable": false,
        "editable": false,
        "nbgrader": {
          "checksum": "a865a1470a970a0636a4d3fae76cab84",
          "grade": false,
          "grade_id": "cell-3a873ba9cf3355e4",
          "locked": true,
          "schema_version": 1,
          "solution": false
        },
        "id": "ZtimbXU9QJOA"
      },
      "source": [
        "__Use the following block to compute a 'capital city vector' that predicts the capital of England based on the capital and name of another country__:"
      ]
    },
    {
      "cell_type": "code",
      "metadata": {
        "deletable": false,
        "nbgrader": {
          "checksum": "328c71eb5601837b5202b85934e9bb1c",
          "grade": true,
          "grade_id": "cell-9f399ee568e4ae5b",
          "locked": false,
          "points": 2,
          "schema_version": 1,
          "solution": true
        },
        "colab": {
          "base_uri": "https://localhost:8080/"
        },
        "id": "AcmI1ob5QJOB",
        "outputId": "b0f46af7-8228-4a23-d9c8-b45a20ac2281"
      },
      "source": [
        "# YOUR CODE HERE\n",
        "print_tuples(analogy(glove, 'france', 'paris', 'england'))\n"
      ],
      "execution_count": 36,
      "outputs": [
        {
          "output_type": "stream",
          "text": [
            "france is to paris as england is to...\n",
            "(4.1426) london\n",
            "(4.4938) melbourne\n",
            "(4.7087) sydney\n",
            "(4.7630) perth\n",
            "(4.7952) birmingham\n"
          ],
          "name": "stdout"
        }
      ]
    },
    {
      "cell_type": "markdown",
      "metadata": {
        "deletable": false,
        "editable": false,
        "nbgrader": {
          "checksum": "33e404a915d22e882399fb954ab2ebef",
          "grade": false,
          "grade_id": "cell-3dbff5286a5d4d7e",
          "locked": true,
          "schema_version": 1,
          "solution": false
        },
        "id": "ApHvqykVQJOB"
      },
      "source": [
        "__Use the following block to compute an 'musical genre vector' that predicts the genre of music played by Eminem based on another musician/band and their genre__:"
      ]
    },
    {
      "cell_type": "code",
      "metadata": {
        "deletable": false,
        "nbgrader": {
          "checksum": "5f8f424d440dd6dcd184b16b8c8be299",
          "grade": true,
          "grade_id": "cell-d04e647ab1bc99c8",
          "locked": false,
          "points": 2,
          "schema_version": 1,
          "solution": true
        },
        "colab": {
          "base_uri": "https://localhost:8080/"
        },
        "id": "MBHgPGYYQJOB",
        "outputId": "e83c1f07-ad2b-4124-adae-9b9291c4c55d"
      },
      "source": [
        "# YOUR CODE HERE\n",
        "print_tuples(analogy(glove, 'taylor', 'pop', 'eminem'))\n"
      ],
      "execution_count": 47,
      "outputs": [
        {
          "output_type": "stream",
          "text": [
            "taylor is to pop as eminem is to...\n",
            "(6.6575) rap\n",
            "(6.8567) hop\n",
            "(6.8727) hip-hop\n",
            "(7.1688) r&b\n",
            "(7.2483) indie\n"
          ],
          "name": "stdout"
        }
      ]
    },
    {
      "cell_type": "code",
      "metadata": {
        "id": "3vd5IbyXZJAx"
      },
      "source": [
        ""
      ],
      "execution_count": null,
      "outputs": []
    }
  ]
}
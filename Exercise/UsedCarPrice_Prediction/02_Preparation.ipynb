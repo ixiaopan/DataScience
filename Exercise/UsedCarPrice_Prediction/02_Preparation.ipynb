{
 "cells": [
  {
   "cell_type": "code",
   "execution_count": 39,
   "metadata": {},
   "outputs": [],
   "source": [
    "import numpy as np\n",
    "import pandas as pd\n",
    "import seaborn as sns\n",
    "import matplotlib.pyplot as plt\n",
    "\n",
    "import utils as utils\n"
   ]
  },
  {
   "cell_type": "code",
   "execution_count": 300,
   "metadata": {},
   "outputs": [],
   "source": [
    "def plot_counts_na(df, x, draw=True):\n",
    "    df[x] = df[x].fillna('NA')\n",
    "\n",
    "    print(df[x].value_counts(dropna=False))\n",
    "\n",
    "    if draw:\n",
    "        sns.countplot(data=df, x=x, order = df[x].value_counts().index)\n",
    "        \n",
    "        plt.xticks(rotation=30)\n",
    "        plt.show()\n",
    "\n"
   ]
  },
  {
   "cell_type": "markdown",
   "metadata": {},
   "source": [
    "# 1. Data Cleaning"
   ]
  },
  {
   "cell_type": "code",
   "execution_count": 30,
   "metadata": {},
   "outputs": [],
   "source": [
    "df_vehicles = pd.read_csv('./data/vehicles.csv')\n"
   ]
  },
  {
   "cell_type": "code",
   "execution_count": 31,
   "metadata": {},
   "outputs": [
    {
     "data": {
      "text/plain": [
       "(426880, 26)"
      ]
     },
     "execution_count": 31,
     "metadata": {},
     "output_type": "execute_result"
    }
   ],
   "source": [
    "df_vehicles.shape\n"
   ]
  },
  {
   "cell_type": "markdown",
   "metadata": {},
   "source": [
    "## Basic cleaning"
   ]
  },
  {
   "cell_type": "code",
   "execution_count": 54,
   "metadata": {},
   "outputs": [],
   "source": [
    "def basic_clean(df):\n",
    "    useless_columns = ['id', 'url', 'region_url', 'image_url', 'posting_date', 'VIN', 'county', 'size']\n",
    "\n",
    "    cleaned_df = df.drop(columns=useless_columns, axis=0)\n",
    "\n",
    "    # remove na, or we can find the year based on model, manufacture\n",
    "    cleaned_df = cleaned_df.dropna(subset=['year'])\n",
    "\n",
    "    # drop 'description', or we can use NLP technique to extract useful feature\n",
    "    cleaned_df = cleaned_df.drop(columns=['description'], axis=0)\n",
    " \n",
    "    \n",
    "    print('remaining columns: ', df.columns[~df.columns.isin(useless_columns + ['description'])].values)\n",
    "\n",
    "    return cleaned_df\n"
   ]
  },
  {
   "cell_type": "code",
   "execution_count": 55,
   "metadata": {},
   "outputs": [
    {
     "name": "stdout",
     "output_type": "stream",
     "text": [
      "remaining columns:  ['region' 'price' 'year' 'manufacturer' 'model' 'condition' 'cylinders'\n",
      " 'fuel' 'odometer' 'title_status' 'transmission' 'drive' 'type'\n",
      " 'paint_color' 'state' 'lat' 'long']\n"
     ]
    },
    {
     "data": {
      "text/plain": [
       "(425675, 17)"
      ]
     },
     "execution_count": 55,
     "metadata": {},
     "output_type": "execute_result"
    }
   ],
   "source": [
    "df = basic_clean(df_vehicles)\n",
    "\n",
    "df.shape\n"
   ]
  },
  {
   "cell_type": "markdown",
   "metadata": {},
   "source": [
    "## region"
   ]
  },
  {
   "cell_type": "code",
   "execution_count": null,
   "metadata": {},
   "outputs": [],
   "source": []
  },
  {
   "cell_type": "code",
   "execution_count": null,
   "metadata": {},
   "outputs": [],
   "source": []
  },
  {
   "cell_type": "markdown",
   "metadata": {},
   "source": [
    "## state"
   ]
  },
  {
   "cell_type": "code",
   "execution_count": null,
   "metadata": {},
   "outputs": [],
   "source": []
  },
  {
   "cell_type": "code",
   "execution_count": null,
   "metadata": {},
   "outputs": [],
   "source": []
  },
  {
   "cell_type": "markdown",
   "metadata": {},
   "source": [
    "## lat"
   ]
  },
  {
   "cell_type": "code",
   "execution_count": null,
   "metadata": {},
   "outputs": [],
   "source": []
  },
  {
   "cell_type": "code",
   "execution_count": null,
   "metadata": {},
   "outputs": [],
   "source": []
  },
  {
   "cell_type": "markdown",
   "metadata": {},
   "source": [
    "## long"
   ]
  },
  {
   "cell_type": "code",
   "execution_count": null,
   "metadata": {},
   "outputs": [],
   "source": []
  },
  {
   "cell_type": "code",
   "execution_count": null,
   "metadata": {},
   "outputs": [],
   "source": []
  },
  {
   "cell_type": "markdown",
   "metadata": {},
   "source": [
    "## manufacturer"
   ]
  },
  {
   "cell_type": "code",
   "execution_count": 85,
   "metadata": {},
   "outputs": [
    {
     "data": {
      "text/plain": [
       "(array(['gmc', 'chevrolet', 'toyota', 'ford', 'jeep', 'nissan', 'ram',\n",
       "        'mazda', 'cadillac', 'honda', 'dodge', 'lexus', 'jaguar', 'buick',\n",
       "        'chrysler', 'volvo', 'audi', 'infiniti', 'lincoln', 'alfa-romeo',\n",
       "        'subaru', 'NA', 'acura', 'hyundai', 'mercedes-benz', 'bmw',\n",
       "        'mitsubishi', 'volkswagen', 'porsche', 'kia', 'rover', 'ferrari',\n",
       "        'mini', 'pontiac', 'fiat', 'tesla', 'saturn', 'mercury',\n",
       "        'harley-davidson', 'datsun', 'aston-martin', 'land rover',\n",
       "        'morgan'], dtype=object),\n",
       " 43)"
      ]
     },
     "execution_count": 85,
     "metadata": {},
     "output_type": "execute_result"
    }
   ],
   "source": [
    "df['manufacturer'].unique(), len(df['manufacturer'].unique())\n"
   ]
  },
  {
   "cell_type": "code",
   "execution_count": 260,
   "metadata": {},
   "outputs": [],
   "source": [
    "country_manufacture_mapping = {\n",
    "    'USA': [\n",
    "        'chevrolet', 'jeep', # 1st-class\n",
    "        'tesla', 'buick', 'ford', 'gmc', 'ram', # 2nd-class\n",
    "        'lincoln','dodge','chrysler', 'cadillac', 'pontiac', 'mercury', 'saturn', 'harley-davidson'\n",
    "           ],\n",
    "    'Japan': [\n",
    "            'toyota', \n",
    "            'acura', 'nissan','infiniti', 'lexus', \n",
    "            'honda', 'mitsubishi', 'datsun', 'subaru', 'mazda', \n",
    "    ],\n",
    "    'Germany': [\n",
    "        'mercedes-benz',\n",
    "        'bmw', 'audi', 'porsche', \n",
    "        'volkswagen' \n",
    "    ],\n",
    "    'UK': [\n",
    "            'aston-martin', \n",
    "            'rover', 'jaguar',  \n",
    "            'mini','land-rover', 'morgan'\n",
    "    ],\n",
    "    'Italy': [\n",
    "        'ferrari', \n",
    "        'alfa-romeo',\n",
    "        'fiat', \n",
    "    ],\n",
    "    'Korea': ['hyundai', 'kia'],\n",
    "    'Sweden': ['volvo'],\n",
    "}"
   ]
  },
  {
   "cell_type": "code",
   "execution_count": 261,
   "metadata": {},
   "outputs": [
    {
     "data": {
      "text/plain": [
       "manufacturer\n",
       "alfa-romeo     28237.348941\n",
       "ferrari       107438.736842\n",
       "fiat           11890.517677\n",
       "Name: price, dtype: float64"
      ]
     },
     "execution_count": 261,
     "metadata": {},
     "output_type": "execute_result"
    },
    {
     "data": {
      "image/png": "[encoded data removed]",
      "text/plain": [
       "<Figure size 432x288 with 1 Axes>"
      ]
     },
     "metadata": {
      "needs_background": "light"
     },
     "output_type": "display_data"
    }
   ],
   "source": [
    "country_group = df[df['manufacturer'].isin(country_manufacture_mapping['Italy'])]\n",
    "\n",
    "sns.barplot(data=country_group, x='manufacturer', y='price')\n",
    "\n",
    "country_group.groupby(['manufacturer'])['price'].mean()\n"
   ]
  },
  {
   "cell_type": "markdown",
   "metadata": {},
   "source": [
    "**Comments**\n",
    "\n",
    "Following are manufactures whose prices are significantly higher than other manufacutures \n",
    "\n",
    "- USA: 'jeep', 'chevrolet'; 'tesla', 'buick', 'ford', 'gmc', 'ram',\n",
    "\n",
    "- Japan: toyota; nissan, lexus, infiniti, acurami\n",
    "\n",
    "- Germany: mercedes-benz; audi, bmw, posche\n",
    "\n",
    "- UK: aston-martin; jaguar, rover\n",
    "\n",
    "- Italy: ferrari; alfa-romeo\n",
    "\n",
    "\n",
    "TODO: prestigae cars are much higher than common cars(Benz is much higher than bmw) when compared in the same country, so we can further indicate the class of the car in the same conuntry based on 'manu_country' .\n"
   ]
  },
  {
   "cell_type": "code",
   "execution_count": 298,
   "metadata": {},
   "outputs": [],
   "source": [
    "def clean_manufacture(df):\n",
    "    for country, manufactures in country_manufacture_mapping:\n",
    "        df.loc[df['manufacturer'].isin(manufactures), 'manu_country'] = country\n",
    "\n",
    "    df.loc[df['manufacturer'].isna(), 'manu_country'] = 'missing'\n",
    "\n",
    "    return df\n"
   ]
  },
  {
   "cell_type": "markdown",
   "metadata": {},
   "source": [
    "## model"
   ]
  },
  {
   "cell_type": "code",
   "execution_count": 129,
   "metadata": {},
   "outputs": [
    {
     "data": {
      "text/plain": [
       "(array(['sierra 1500 crew cab slt', 'silverado 1500',\n",
       "        'silverado 1500 crew', 'tundra double cab sr', 'f-150 xlt'],\n",
       "       dtype=object),\n",
       " 29485)"
      ]
     },
     "execution_count": 129,
     "metadata": {},
     "output_type": "execute_result"
    }
   ],
   "source": [
    "df['model'].unique()[:5], len(df['model'].unique())\n"
   ]
  },
  {
   "cell_type": "markdown",
   "metadata": {},
   "source": [
    "## condition\n"
   ]
  },
  {
   "cell_type": "code",
   "execution_count": 128,
   "metadata": {},
   "outputs": [
    {
     "name": "stdout",
     "output_type": "stream",
     "text": [
      "NA           172909\n",
      "good         121456\n",
      "excellent    101457\n",
      "like new      21178\n",
      "fair           6769\n",
      "new            1305\n",
      "salvage         601\n",
      "Name: condition, dtype: int64\n"
     ]
    },
    {
     "data": {
      "image/png": "[encoded data removed]",
      "text/plain": [
       "<Figure size 432x288 with 1 Axes>"
      ]
     },
     "metadata": {
      "needs_background": "light"
     },
     "output_type": "display_data"
    }
   ],
   "source": [
    "plot_counts_na(df, 'condition')\n"
   ]
  },
  {
   "cell_type": "code",
   "execution_count": 329,
   "metadata": {},
   "outputs": [
    {
     "data": {
      "text/plain": [
       "<AxesSubplot:xlabel='condition', ylabel='price'>"
      ]
     },
     "execution_count": 329,
     "metadata": {},
     "output_type": "execute_result"
    },
    {
     "data": {
      "image/png": "[encoded data removed]",
      "text/plain": [
       "<Figure size 432x288 with 1 Axes>"
      ]
     },
     "metadata": {
      "needs_background": "light"
     },
     "output_type": "display_data"
    }
   ],
   "source": [
    "sns.barplot(data=df[\n",
    " ~df['condition'].isin(['fair'])\n",
    "], x='condition', y='price')\n",
    "\n"
   ]
  },
  {
   "cell_type": "code",
   "execution_count": 270,
   "metadata": {},
   "outputs": [
    {
     "data": {
      "text/plain": [
       "<AxesSubplot:xlabel='condition', ylabel='odometer'>"
      ]
     },
     "execution_count": 270,
     "metadata": {},
     "output_type": "execute_result"
    },
    {
     "data": {
      "image/png": "[encoded data removed]",
      "text/plain": [
       "<Figure size 432x288 with 1 Axes>"
      ]
     },
     "metadata": {
      "needs_background": "light"
     },
     "output_type": "display_data"
    }
   ],
   "source": [
    "sns.barplot(data=df, x='condition', y='odometer')\n"
   ]
  },
  {
   "cell_type": "markdown",
   "metadata": {},
   "source": [
    "**Comments**\n",
    "\n",
    "- most cars are in good or excellent conditions\n",
    "\n",
    "- Cars with higher odometer are in poor condition(fair, salvage)\n",
    "\n",
    "- Cars in poor condition are worthless.\n",
    "\n",
    "- People prefer cars in fair condition maybe because these cars have a relative higher odometers --- cars are used more often than that in good or new contions.\n",
    "\n",
    "- Cars with missing condtions have similar ododemter compared to cars in excellent or new conditions, but the prices are much larger than them(TODO: Why? Some other factors may affect their prices)\n",
    "\n"
   ]
  },
  {
   "cell_type": "code",
   "execution_count": 330,
   "metadata": {},
   "outputs": [],
   "source": [
    "def clean_condition(df):\n",
    "    poor_condition = [ 'salvage' ]\n",
    "    fair_condition = [ 'fair' ]\n",
    "    good_condition = [ 'good', 'excellent', 'like new', 'new']\n",
    "    \n",
    "    df.loc[df['condition'].isin(poor_condition), 'condition_odometer'] = 'poor'\n",
    "    df.loc[df['condition'].isin(fair_condition), 'condition_odometer'] = 'fair'\n",
    "    df.loc[df['condition'].isin(good_condition), 'condition_odometer'] = 'good'\n",
    "    df.loc[df['condition'].isna(), 'condition_odometer'] = 'missing'\n",
    "    return df\n"
   ]
  },
  {
   "cell_type": "markdown",
   "metadata": {},
   "source": [
    "## cylinders\n"
   ]
  },
  {
   "cell_type": "code",
   "execution_count": 301,
   "metadata": {},
   "outputs": [
    {
     "name": "stdout",
     "output_type": "stream",
     "text": [
      "NA              177591\n",
      "6 cylinders      93700\n",
      "4 cylinders      77293\n",
      "8 cylinders      71776\n",
      "5 cylinders       1712\n",
      "10 cylinders      1448\n",
      "other             1298\n",
      "3 cylinders        648\n",
      "12 cylinders       209\n",
      "Name: cylinders, dtype: int64\n"
     ]
    },
    {
     "data": {
      "image/png": "[encoded data removed]",
      "text/plain": [
       "<Figure size 432x288 with 1 Axes>"
      ]
     },
     "metadata": {
      "needs_background": "light"
     },
     "output_type": "display_data"
    }
   ],
   "source": [
    "plot_counts_na(df, 'cylinders')\n"
   ]
  },
  {
   "cell_type": "code",
   "execution_count": 297,
   "metadata": {},
   "outputs": [
    {
     "data": {
      "image/png": "[encoded data removed]",
      "text/plain": [
       "<Figure size 432x288 with 1 Axes>"
      ]
     },
     "metadata": {
      "needs_background": "light"
     },
     "output_type": "display_data"
    }
   ],
   "source": [
    "\n",
    "sns.barplot(\n",
    "        data=df[\n",
    "            df['cylinders'].isin([\n",
    "                '8 cylinders', \n",
    "                '6 cylinders','12 cylinders', \n",
    "                'NA'\n",
    "            ])\n",
    "       ],\n",
    "        x='cylinders', y='price'\n",
    ")\n",
    "plt.xticks(rotation=30)\n",
    "plt.show()\n"
   ]
  },
  {
   "cell_type": "markdown",
   "metadata": {},
   "source": [
    "**Comments**\n",
    "\n",
    "- prices vary significantly in different cylinders\n",
    "\n",
    "- 8 cylinders has the highest average prices followed by missing cylinders\n",
    "\n",
    "- 6 and 12 have the same average prices\n",
    "\n",
    "- 4, 5, 3, 10, other are similar\n",
    "\n",
    "\n",
    "Maybe we can dig deeper what featuures are related to cylinders\n",
    "\n"
   ]
  },
  {
   "cell_type": "code",
   "execution_count": 299,
   "metadata": {},
   "outputs": [],
   "source": [
    "def clean_cylinders(df):\n",
    "    # each type will be enconded individually\n",
    "    df.loc[df['cylinders'].isna(), 'cylinders'] = 'missing' # distinguish missing with the existed 'other'\n",
    "    return df\n"
   ]
  },
  {
   "cell_type": "markdown",
   "metadata": {},
   "source": [
    "## fuel"
   ]
  },
  {
   "cell_type": "code",
   "execution_count": 302,
   "metadata": {},
   "outputs": [
    {
     "name": "stdout",
     "output_type": "stream",
     "text": [
      "gas         355426\n",
      "other        30717\n",
      "diesel       29927\n",
      "hybrid        5165\n",
      "NA            2745\n",
      "electric      1695\n",
      "Name: fuel, dtype: int64\n"
     ]
    },
    {
     "data": {
      "image/png": "[encoded data removed]",
      "text/plain": [
       "<Figure size 432x288 with 1 Axes>"
      ]
     },
     "metadata": {
      "needs_background": "light"
     },
     "output_type": "display_data"
    }
   ],
   "source": [
    "plot_counts_na(df, 'fuel')\n"
   ]
  },
  {
   "cell_type": "code",
   "execution_count": 318,
   "metadata": {},
   "outputs": [
    {
     "data": {
      "image/png": "[encoded data removed]",
      "text/plain": [
       "<Figure size 432x288 with 1 Axes>"
      ]
     },
     "metadata": {
      "needs_background": "light"
     },
     "output_type": "display_data"
    }
   ],
   "source": [
    "\n",
    "sns.barplot(\n",
    "        data=df[\n",
    "            df['fuel'].isin(['gas', 'other', 'diesel'])\n",
    "        ],\n",
    "        x='fuel', y='price'\n",
    ")\n",
    "plt.xticks(rotation=30)\n",
    "plt.show()\n"
   ]
  },
  {
   "cell_type": "markdown",
   "metadata": {},
   "source": [
    "**comments**\n",
    "\n",
    "- diesel are expensive\n",
    "\n",
    "- gas and other are similar\n",
    "\n",
    "- electric could be individual type\n",
    "\n",
    "- hybrid and NA are similar\n",
    "\n"
   ]
  },
  {
   "cell_type": "code",
   "execution_count": 315,
   "metadata": {},
   "outputs": [],
   "source": [
    "def clean_fule():\n",
    "    # ['diesel'] => 1st\n",
    "    # ['gas', 'other'] => common\n",
    "    # ['electric',]\n",
    "    # [ 'hybrid', 'NA' ]\n",
    "    # or ['electric', hybrid', 'NA' ] \n",
    "    \n",
    "    df.loc[df['fuel'].isin([ 'diesel' ]), 'fuel_group'] = 'diesel'\n",
    "    df.loc[df['fuel'].isin(['gas', 'other' ]), 'fuel_group'] = 'gas'\n",
    "    df.loc[df['paint_color'].isna(), 'fuel_group'] = 'hybrid'\n",
    "    \n",
    "    return df\n",
    "    "
   ]
  },
  {
   "cell_type": "markdown",
   "metadata": {},
   "source": [
    "## title_status"
   ]
  },
  {
   "cell_type": "code",
   "execution_count": 316,
   "metadata": {},
   "outputs": [
    {
     "name": "stdout",
     "output_type": "stream",
     "text": [
      "clean         404334\n",
      "NA              7930\n",
      "rebuilt         7109\n",
      "salvage         3868\n",
      "lien            1422\n",
      "missing          814\n",
      "parts only       198\n",
      "Name: title_status, dtype: int64\n"
     ]
    },
    {
     "data": {
      "image/png": "[encoded data removed]",
      "text/plain": [
       "<Figure size 432x288 with 1 Axes>"
      ]
     },
     "metadata": {
      "needs_background": "light"
     },
     "output_type": "display_data"
    }
   ],
   "source": [
    "plot_counts_na(df, 'title_status')\n"
   ]
  },
  {
   "cell_type": "code",
   "execution_count": 332,
   "metadata": {},
   "outputs": [
    {
     "data": {
      "image/png": "[encoded data removed]",
      "text/plain": [
       "<Figure size 432x288 with 1 Axes>"
      ]
     },
     "metadata": {
      "needs_background": "light"
     },
     "output_type": "display_data"
    }
   ],
   "source": [
    "\n",
    "sns.barplot(\n",
    "        data=df,\n",
    "        x='title_status', y='price'\n",
    ")\n",
    "plt.xticks(rotation=30)\n",
    "plt.show()\n"
   ]
  },
  {
   "cell_type": "markdown",
   "metadata": {},
   "source": [
    "**comments**\n",
    "\n",
    "- most cars were reported in a clean status\n",
    "\n",
    "- cars in clean status have the highest average prices\n",
    "\n",
    "- cars in salvage status have the lowest average prices\n",
    "\n"
   ]
  },
  {
   "cell_type": "code",
   "execution_count": 333,
   "metadata": {},
   "outputs": [],
   "source": [
    "def clean_title_status(df):\n",
    "    df.loc[~df['title_status'].isin([ 'clean' ]), 'tt_status_group'] = 'normal'\n",
    "    df.loc[df['title_status'].isin([ 'clean' ]), 'tt_status_group'] = 'clean'\n",
    "    return df\n"
   ]
  },
  {
   "cell_type": "markdown",
   "metadata": {},
   "source": [
    "## paint_color"
   ]
  },
  {
   "cell_type": "code",
   "execution_count": 74,
   "metadata": {},
   "outputs": [
    {
     "name": "stdout",
     "output_type": "stream",
     "text": [
      "NA        130048\n",
      "white      78923\n",
      "black      62661\n",
      "silver     42835\n",
      "blue       31156\n",
      "red        30362\n",
      "grey       24261\n",
      "green       7340\n",
      "custom      6700\n",
      "brown       6580\n",
      "yellow      2140\n",
      "orange      1982\n",
      "purple       687\n",
      "Name: paint_color, dtype: int64\n"
     ]
    },
    {
     "data": {
      "image/png": "[encoded data removed]",
      "text/plain": [
       "<Figure size 432x288 with 1 Axes>"
      ]
     },
     "metadata": {
      "needs_background": "light"
     },
     "output_type": "display_data"
    }
   ],
   "source": [
    "plot_counts_na(df, 'paint_color')\n"
   ]
  },
  {
   "cell_type": "code",
   "execution_count": 342,
   "metadata": {},
   "outputs": [
    {
     "data": {
      "image/png": "[encoded data removed]",
      "text/plain": [
       "<Figure size 432x288 with 1 Axes>"
      ]
     },
     "metadata": {
      "needs_background": "light"
     },
     "output_type": "display_data"
    }
   ],
   "source": [
    "\n",
    "sns.barplot(\n",
    "        data=df[\n",
    "            ~df['paint_color'].isin(['green', 'silver', 'NA', 'white', 'black'])\n",
    "        ],\n",
    "        x='paint_color', y='price'\n",
    ")\n",
    "plt.xticks(rotation=30)\n",
    "plt.show()\n"
   ]
  },
  {
   "cell_type": "code",
   "execution_count": 344,
   "metadata": {},
   "outputs": [],
   "source": [
    "def clean_paint_color(df):\n",
    "    # ['white', 'black', 'silver', na] => popular\n",
    "    df.loc[df['paint_color'].isin(['white', 'black', 'silver' ]), 'paint_color_group'] = 'popular'\n",
    "    df.loc[df['paint_color'].isna(), 'paint_color_group'] = 'popular'\n",
    "\n",
    "    df.loc[df['paint_color'].isin([\n",
    "        'blue', 'red', 'grey',\n",
    "        'green', 'custom', 'brown', \n",
    "        'yellow', 'orange', 'purple',\n",
    "    ]), 'paint_color_group'] = 'common'    \n",
    "    \n",
    "    return df\n"
   ]
  },
  {
   "cell_type": "markdown",
   "metadata": {},
   "source": [
    "**Comments**\n",
    "\n",
    "- green cars has the highest cars(but it could be rare, or bespoke one. TODO: )\n",
    "\n",
    "\n",
    "- silver, white and black cars have much higher prices than cars in other colors\n",
    "\n",
    "\n",
    "- Generally, color is not a decisive factor to buy a car.\n",
    "\n",
    "\n",
    "So, maybe we could group 'silver, white, black, and NA' as a group, the remaining forms another group\n",
    "\n"
   ]
  },
  {
   "cell_type": "markdown",
   "metadata": {},
   "source": [
    "## transmission"
   ]
  },
  {
   "cell_type": "code",
   "execution_count": 77,
   "metadata": {},
   "outputs": [
    {
     "name": "stdout",
     "output_type": "stream",
     "text": [
      "automatic    335433\n",
      "other         62661\n",
      "manual        25093\n",
      "NA             2488\n",
      "Name: transmission, dtype: int64\n"
     ]
    },
    {
     "data": {
      "image/png": "[encoded data removed]",
      "text/plain": [
       "<Figure size 432x288 with 1 Axes>"
      ]
     },
     "metadata": {
      "needs_background": "light"
     },
     "output_type": "display_data"
    }
   ],
   "source": [
    "plot_counts_na(df, 'transmission')\n"
   ]
  },
  {
   "cell_type": "code",
   "execution_count": 345,
   "metadata": {},
   "outputs": [
    {
     "data": {
      "image/png": "[encoded data removed]",
      "text/plain": [
       "<Figure size 432x288 with 1 Axes>"
      ]
     },
     "metadata": {
      "needs_background": "light"
     },
     "output_type": "display_data"
    }
   ],
   "source": [
    "\n",
    "sns.barplot(\n",
    "        data=df,\n",
    "        x='transmission', y='price'\n",
    ")\n",
    "plt.xticks(rotation=30)\n",
    "plt.show()\n"
   ]
  },
  {
   "cell_type": "code",
   "execution_count": 78,
   "metadata": {},
   "outputs": [],
   "source": [
    "def clean_transmission(df):\n",
    "    # impute missing values with 'other'\n",
    "    df.loc[df['transmission'].isna(), 'transmission'] = 'other'\n",
    "    return df\n"
   ]
  },
  {
   "cell_type": "markdown",
   "metadata": {},
   "source": [
    "## drive"
   ]
  },
  {
   "cell_type": "code",
   "execution_count": null,
   "metadata": {},
   "outputs": [],
   "source": []
  },
  {
   "cell_type": "code",
   "execution_count": null,
   "metadata": {},
   "outputs": [],
   "source": []
  },
  {
   "cell_type": "markdown",
   "metadata": {},
   "source": [
    "## type"
   ]
  },
  {
   "cell_type": "code",
   "execution_count": null,
   "metadata": {},
   "outputs": [],
   "source": []
  },
  {
   "cell_type": "code",
   "execution_count": null,
   "metadata": {},
   "outputs": [],
   "source": []
  },
  {
   "cell_type": "code",
   "execution_count": null,
   "metadata": {},
   "outputs": [],
   "source": []
  },
  {
   "cell_type": "markdown",
   "metadata": {},
   "source": [
    "## odometer"
   ]
  },
  {
   "cell_type": "code",
   "execution_count": null,
   "metadata": {},
   "outputs": [],
   "source": [
    "    # trimming odometer\n",
    "    max_first = cleaned_df['odometer'].max()\n",
    "    cleaned_df = cleaned_df[cleaned_df['odometer'] != max_first]\n",
    "    max_second = cleaned_df['odometer'].max()\n",
    "    cleaned_df = cleaned_df[cleaned_df['odometer'] != max_second]"
   ]
  },
  {
   "cell_type": "code",
   "execution_count": null,
   "metadata": {},
   "outputs": [],
   "source": []
  },
  {
   "cell_type": "markdown",
   "metadata": {},
   "source": [
    "## price\n"
   ]
  },
  {
   "cell_type": "code",
   "execution_count": null,
   "metadata": {},
   "outputs": [],
   "source": []
  },
  {
   "cell_type": "code",
   "execution_count": null,
   "metadata": {},
   "outputs": [],
   "source": []
  },
  {
   "cell_type": "markdown",
   "metadata": {},
   "source": [
    "## Ultimate cleaning\n"
   ]
  },
  {
   "cell_type": "code",
   "execution_count": null,
   "metadata": {},
   "outputs": [],
   "source": [
    "def clean_data():\n",
    "    pass\n"
   ]
  },
  {
   "cell_type": "markdown",
   "metadata": {},
   "source": [
    "## 2. Create a Test Set\n"
   ]
  },
  {
   "cell_type": "code",
   "execution_count": 29,
   "metadata": {},
   "outputs": [],
   "source": [
    "from sklearn.model_selection import train_test_split\n",
    "\n",
    "train_set, test_set = train_test_split(df, test_size=0.2, random_state=42)\n"
   ]
  },
  {
   "cell_type": "code",
   "execution_count": 30,
   "metadata": {},
   "outputs": [
    {
     "data": {
      "text/plain": [
       "((318009, 25), (79503, 25))"
      ]
     },
     "execution_count": 30,
     "metadata": {},
     "output_type": "execute_result"
    }
   ],
   "source": [
    "train_set.shape, test_set.shape\n"
   ]
  },
  {
   "cell_type": "markdown",
   "metadata": {},
   "source": [
    "### Split X and y\n"
   ]
  },
  {
   "cell_type": "code",
   "execution_count": 58,
   "metadata": {},
   "outputs": [],
   "source": [
    "vehicles_train = train_set.drop('price', axis=1)\n",
    "y_train = train_set['price']\n",
    "\n",
    "vehicles_test = test_set.drop('price', axis=1)\n",
    "y_test = test_set['price']\n"
   ]
  },
  {
   "cell_type": "code",
   "execution_count": 59,
   "metadata": {},
   "outputs": [
    {
     "data": {
      "text/plain": [
       "((318009, 24), (318009,), (79503, 24), (79503,))"
      ]
     },
     "execution_count": 59,
     "metadata": {},
     "output_type": "execute_result"
    }
   ],
   "source": [
    "vehicles_train.shape, y_train.shape, vehicles_test.shape, y_test.shape\n"
   ]
  },
  {
   "cell_type": "markdown",
   "metadata": {},
   "source": [
    "## 3. Pipeline"
   ]
  },
  {
   "cell_type": "markdown",
   "metadata": {},
   "source": [
    "Useless columns\n",
    "- 'id', 'url', 'region_url', 'image_url', 'post_date' are entirely irrelavant to the cars' price\n",
    "\n",
    "\n",
    "Missing Values\n",
    "- odometer', 'lat', 'long': imputed with mean values\n",
    "\n",
    "\n",
    "Categorical Variables\n",
    "- Onehot\n",
    "\n",
    "\n",
    "Feature Enginering\n",
    "\n"
   ]
  },
  {
   "cell_type": "code",
   "execution_count": 66,
   "metadata": {},
   "outputs": [],
   "source": [
    "from sklearn.base import BaseEstimator, TransformerMixin\n",
    "from sklearn.impute import SimpleImputer\n",
    "\n",
    "class selectColumnTransformer(BaseEstimator, TransformerMixin):\n",
    "    \"\"\"\n",
    "    A transformer to select columns\n",
    "    \"\"\"\n",
    "    def __init__(self, columns):\n",
    "        self.columns = columns\n",
    "    \n",
    "    def transform(self, X):\n",
    "        return X[self.columns]\n",
    "    \n",
    "    def fit(self, X, y=None):\n",
    "        return self\n",
    "\n",
    "\n",
    "class dropAllZeroColumnTransformer(BaseEstimator, TransformerMixin):\n",
    "    \"\"\"\n",
    "    A transformer to drop all-zero columns\n",
    "    \"\"\"\n",
    "    def transform(self, X):\n",
    "        empty_columns = X.columns[X.isnull().all(axis=0)]\n",
    "        return X.drop(empty_columns, axis=1)\n",
    "        \n",
    "    def fit(self, X, y=None):\n",
    "        return self\n",
    "\n",
    "    \n",
    "class dropUselessColumnsTransformer(BaseEstimator, TransformerMixin):\n",
    "    \"\"\"\n",
    "    A transformer to drop useless columns\n",
    "    \"\"\"\n",
    "    def __init__(self, columns):\n",
    "        self.columns = columns\n",
    "\n",
    "    def transform(self, X):\n",
    "        return X.drop(self.columns, axis=1)\n",
    "        \n",
    "    def fit(self, X, y=None):\n",
    "        return self\n",
    "\n",
    "\n",
    "class categoryAddFeatureTransformer(BaseEstimator, TransformerMixin):\n",
    "    \"\"\"\n",
    "    generate more features from category variables\n",
    "    \"\"\"\n",
    "    def transform(self, X):\n",
    "        return X.fillna('unknown')\n",
    "\n",
    "    def fit(self, X, y=None):\n",
    "        return self\n",
    "    "
   ]
  },
  {
   "cell_type": "code",
   "execution_count": 67,
   "metadata": {},
   "outputs": [],
   "source": [
    "from sklearn.pipeline import Pipeline, make_pipeline\n",
    "from sklearn.compose import ColumnTransformer\n",
    "from sklearn.preprocessing import OneHotEncoder, RobustScaler, StandardScaler\n",
    "\n",
    "outlier_attribs = ['odometer']\n",
    "num_attribs = ['lat', 'long', 'year']\n",
    "cat_attribs = [\n",
    "    'manufacturer', 'condition', 'cylinders', \n",
    "    'fuel', 'title_status', 'transmission', \n",
    "    'drive', 'type', 'paint_color'  \n",
    "]\n",
    "useless_columns = [\n",
    "    # irrelevant\n",
    "    'id', 'url', 'region_url', 'image_url', 'posting_date', 'description',\n",
    "    # too many missing values\n",
    "    'VIN', 'size',\n",
    "    # repeative or not much useful\n",
    "    'region', 'state', 'model'\n",
    "] \n",
    "\n",
    "\n",
    "outlier_pipeline = Pipeline([\n",
    "    ('imputed', SimpleImputer(strategy='median')),\n",
    "    ('outlier', RobustScaler())\n",
    "])\n",
    "num_pipeline = Pipeline([\n",
    "    ('imputed', SimpleImputer(strategy='median')),\n",
    "    ('std_scaler', StandardScaler())\n",
    "])\n",
    "cat_pipeline = Pipeline([  \n",
    "    ('add_feature', categoryAddFeatureTransformer()),\n",
    "    ('one_hot', OneHotEncoder())\n",
    "])\n",
    "# full pipeline\n",
    "full_pipeline = make_pipeline(\n",
    "#     dropAllZeroColumnTransformer(),\n",
    "    dropUselessColumnsTransformer(useless_columns),\n",
    "    ColumnTransformer([\n",
    "        ('outlier', outlier_pipeline, outlier_attribs),\n",
    "        ('num', num_pipeline, num_attribs),\n",
    "        ('cat', cat_pipeline, cat_attribs)\n",
    "    ])\n",
    ")\n"
   ]
  },
  {
   "cell_type": "code",
   "execution_count": 68,
   "metadata": {},
   "outputs": [
    {
     "data": {
      "text/plain": [
       "((318009, 111), (79503, 111))"
      ]
     },
     "execution_count": 68,
     "metadata": {},
     "output_type": "execute_result"
    }
   ],
   "source": [
    "X_train = full_pipeline.fit_transform(vehicles_train)\n",
    "\n",
    "X_test = full_pipeline.transform(vehicles_test)\n",
    "\n",
    "X_train.shape, X_test.shape\n"
   ]
  },
  {
   "cell_type": "code",
   "execution_count": 69,
   "metadata": {},
   "outputs": [
    {
     "data": {
      "text/plain": [
       "LinearRegression()"
      ]
     },
     "execution_count": 69,
     "metadata": {},
     "output_type": "execute_result"
    }
   ],
   "source": [
    "from sklearn.linear_model import LinearRegression\n",
    "\n",
    "lin_reg = LinearRegression()\n",
    "lin_reg.fit(X_train, y_train)\n"
   ]
  },
  {
   "cell_type": "code",
   "execution_count": 75,
   "metadata": {},
   "outputs": [
    {
     "name": "stdout",
     "output_type": "stream",
     "text": [
      "Training MSE: 85336433.89000027\n",
      "Training RMSE: 9237.77212806206\n",
      "Training MAE: 6355.654058421237\n",
      "Training R2 score: 0.45603847702085976\n"
     ]
    }
   ],
   "source": [
    "from sklearn.metrics import mean_squared_error, mean_absolute_error\n",
    "\n",
    "y_train_pred = lin_reg.predict(X_train)\n",
    "\n",
    "print('Training MSE:', mean_squared_error(y_train, y_train_pred))\n",
    "print('Training RMSE:', mean_squared_error(y_train, y_train_pred, squared=False))\n",
    "print('Training MAE:', mean_absolute_error(y_train, y_train_pred))\n",
    "print('Training R2 score:', lin_reg.score(X_train, y_train))\n"
   ]
  },
  {
   "cell_type": "code",
   "execution_count": 77,
   "metadata": {},
   "outputs": [
    {
     "name": "stdout",
     "output_type": "stream",
     "text": [
      "Test MSE: 86106794.84656583\n",
      "Test RMSE: 9279.374701269791\n",
      "Test MAE: 6371.54748712891\n",
      "Test R2 score: 0.45157500552120156\n"
     ]
    }
   ],
   "source": [
    "y_test_pred = lin_reg.predict(X_test)\n",
    "\n",
    "print('Test MSE:', mean_squared_error(y_test, y_test_pred))\n",
    "print('Test RMSE:', mean_squared_error(y_test, y_test_pred, squared=False))\n",
    "print('Test MAE:', mean_absolute_error(y_test, y_test_pred))\n",
    "print('Test R2 score:', lin_reg.score(X_test, y_test))\n"
   ]
  },
  {
   "cell_type": "code",
   "execution_count": null,
   "metadata": {},
   "outputs": [],
   "source": []
  }
 ],
 "metadata": {
  "kernelspec": {
   "display_name": "Python 3",
   "language": "python",
   "name": "python3"
  },
  "language_info": {
   "codemirror_mode": {
    "name": "ipython",
    "version": 3
   },
   "file_extension": ".py",
   "mimetype": "text/x-python",
   "name": "python",
   "nbconvert_exporter": "python",
   "pygments_lexer": "ipython3",
   "version": "3.8.3"
  }
 },
 "nbformat": 4,
 "nbformat_minor": 4
}

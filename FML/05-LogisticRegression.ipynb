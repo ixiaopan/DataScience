{
 "cells": [
  {
   "cell_type": "code",
   "execution_count": 144,
   "metadata": {},
   "outputs": [],
   "source": [
    "import numpy as np\n",
    "import pandas as pd\n",
    "import matplotlib.pyplot as plt\n",
    "from sklearn import datasets\n",
    "from sklearn.model_selection import train_test_split\n",
    "import seaborn as sns"
   ]
  },
  {
   "cell_type": "markdown",
   "metadata": {},
   "source": [
    "# 1. Binary Logistic"
   ]
  },
  {
   "cell_type": "markdown",
   "metadata": {},
   "source": [
    "$$\n",
    "p(y=1|x) = \\sigma(w^Tx) = \\frac{1}{1 + e^{-w^Tx}} \\\\\n",
    " \\\\\n",
    "p(y=0|x) = 1 - p(y=1|x)\n",
    " \\\\\n",
    "$$\n",
    "\n",
    "Therefore, $y_n \\sim Bern(n, p_n)$\n",
    "\n",
    "$$\n",
    "p(y_n= y|x_n) = p_n^{y_n} (1 - p_n)^{1 - y_n} = \\sigma(w \\cdot x_n)^{y_n} (1 - \\sigma(w \\cdot x_n))^{1 - y_n}\n",
    "$$\n",
    "\n",
    "The negative log-likelihood function is\n",
    "\n",
    "$$\n",
    "NLL(\\theta) = -\\sum^N  y_n log(p(x_n)) - (1 - y_n)log(1 - p(x_n)) \\\\\n",
    "$$"
   ]
  },
  {
   "cell_type": "code",
   "execution_count": 141,
   "metadata": {},
   "outputs": [],
   "source": [
    "def logistic(z):\n",
    "    return 1 / (1 + np.exp(-z))\n",
    "\n",
    "\n",
    "class BinaryLogistic:\n",
    "    def __init__(self):\n",
    "        pass\n",
    "\n",
    "    def fit(self, X, y, ln=0.001, iters=10):\n",
    "        N, D = X.shape\n",
    "\n",
    "        theta_hat = np.random.randn(D)\n",
    "        for i in range(iters):\n",
    "            print('BCE', self.crossEntropyLoss(X, y, theta_hat))\n",
    "       \n",
    "            p = logistic(X @ theta_hat)\n",
    "            grad = X.T @ (p - y)\n",
    "            theta_hat -= ln * grad\n",
    "\n",
    "        self.theta_hat = theta_hat\n",
    "\n",
    "    def crossEntropyLoss(self, X, y, theta):\n",
    "        epsilon = 1e-12\n",
    "\n",
    "        p = logistic(X @ theta)\n",
    "\n",
    "        cost = -np.average(y * np.log(p + epsilon) + (1 - y) * np.log(1 - p + epsilon))\n",
    "\n",
    "        return cost\n",
    "\n",
    "    \n",
    "    def prob(self, X_test):\n",
    "        self.p = logistic(X_test @ self.theta_hat)\n",
    "        return self.p.round()\n"
   ]
  },
  {
   "cell_type": "markdown",
   "metadata": {},
   "source": [
    "## Real Data"
   ]
  },
  {
   "cell_type": "code",
   "execution_count": 169,
   "metadata": {},
   "outputs": [
    {
     "name": "stderr",
     "output_type": "stream",
     "text": [
      "/Users/wuxiaopan/opt/anaconda3/lib/python3.8/site-packages/sklearn/utils/validation.py:68: FutureWarning: Pass n_class=2 as keyword args. From version 0.25 passing these as positional arguments will result in an error\n",
      "  warnings.warn(\"Pass {} as keyword args. From version 0.25 \"\n"
     ]
    },
    {
     "data": {
      "text/plain": [
       "((259, 65), (259,), (101, 65))"
      ]
     },
     "execution_count": 169,
     "metadata": {},
     "output_type": "execute_result"
    }
   ],
   "source": [
    "digits = datasets.load_digits(2) # binary classificatin (0 or 1)\n",
    "\n",
    "X, y = digits.data, digits.target\n",
    "X = np.c_[np.ones(X.shape[0]), X]\n",
    "\n",
    "X_train, X_test, y_train, y_test = train_test_split(X, y, test_size=0.28)\n",
    "\n",
    "X_train.shape, y_train.shape, X_test.shape\n"
   ]
  },
  {
   "cell_type": "code",
   "execution_count": 170,
   "metadata": {},
   "outputs": [
    {
     "name": "stdout",
     "output_type": "stream",
     "text": [
      "BCE 11.043368873579483\n",
      "BCE 14.29558621441815\n",
      "BCE 7.682378475812468\n",
      "BCE 2.6094613188973956\n",
      "BCE 0.059817388536504146\n",
      "BCE 0.04540664227193584\n",
      "BCE 0.03106299594231775\n",
      "BCE 0.016773149164500543\n",
      "BCE 0.0041681186598299365\n",
      "BCE 0.0005970204764303588\n"
     ]
    },
    {
     "data": {
      "text/plain": [
       "array([-0.05313839,  0.68359147, -0.55600689,  0.59574491,  0.02318374,\n",
       "       -0.01263818,  2.63751852,  1.29996307, -0.86991445,  1.46452975,\n",
       "        0.86626591, -1.77336867,  0.749387  ,  0.24510524, -1.42616194,\n",
       "       -0.6301106 ,  0.09674745,  0.58608234, -1.03062861, -1.04934278,\n",
       "        1.0252163 ,  2.92567215, -0.71190771, -1.254642  ,  1.02733547,\n",
       "        0.12040288, -1.22822425, -1.58041742,  1.18920774,  2.02352539,\n",
       "        0.44362551, -4.23013414,  0.37688234,  0.53947212, -2.34114712,\n",
       "       -1.35431136,  1.14661599,  2.41477921, -0.40457462, -1.91879147,\n",
       "        0.01434463,  0.67398548,  1.13328737, -0.67827478,  1.46717163,\n",
       "        2.29357758,  0.48950785,  0.81810845, -1.73286371,  0.11091836,\n",
       "       -0.13709872, -3.54306064, -0.41144273,  0.17839872,  0.75779087,\n",
       "       -1.10351012,  0.57398631, -0.05644851, -0.41650461,  0.16725257,\n",
       "        0.17553606,  0.44115243, -0.11069211,  0.48908762,  0.18458499])"
      ]
     },
     "execution_count": 170,
     "metadata": {},
     "output_type": "execute_result"
    }
   ],
   "source": [
    "\n",
    "binary_model = BinaryLogistic()\n",
    "\n",
    "binary_model.fit(X_train, y_train)\n",
    "\n",
    "binary_model.theta_hat\n"
   ]
  },
  {
   "cell_type": "code",
   "execution_count": 171,
   "metadata": {},
   "outputs": [
    {
     "name": "stdout",
     "output_type": "stream",
     "text": [
      "correct num 101\n",
      "accuracy 1.0\n"
     ]
    },
    {
     "data": {
      "text/plain": [
       "1.4811868116927581e-05"
      ]
     },
     "execution_count": 171,
     "metadata": {},
     "output_type": "execute_result"
    }
   ],
   "source": [
    "print('correct num', np.sum(binary_model.prob(X_test) == y_test))\n",
    "\n",
    "print('accuracy', np.mean(binary_model.prob(X_test) == y_test))\n",
    "\n",
    "binary_model.crossEntropyLoss(X_test, y_test, binary_model.theta_hat)\n"
   ]
  },
  {
   "cell_type": "code",
   "execution_count": 172,
   "metadata": {},
   "outputs": [
    {
     "data": {
      "text/plain": [
       "(array([[44.,  0.,  0.,  0.,  0.,  0.,  0.,  0.,  0.],\n",
       "        [ 0.,  0.,  0.,  0.,  0.,  0.,  0.,  0., 57.]]),\n",
       " array([0.        , 0.11111111, 0.22222222, 0.33333333, 0.44444444,\n",
       "        0.55555556, 0.66666667, 0.77777778, 0.88888889, 1.        ]),\n",
       " <a list of 2 BarContainer objects>)"
      ]
     },
     "execution_count": 172,
     "metadata": {},
     "output_type": "execute_result"
    },
    {
     "data": {
      "image/png": "[encoded data removed]",
      "text/plain": [
       "<Figure size 432x288 with 1 Axes>"
      ]
     },
     "metadata": {
      "needs_background": "light"
     },
     "output_type": "display_data"
    }
   ],
   "source": [
    "yhat = binary_model.prob(X_test)\n",
    "\n",
    "fig, ax = plt.subplots()\n",
    "bins = np.linspace(0, 1, 10)\n",
    "ax.hist([binary_model.p[yhat == 0], binary_model.p[yhat == 1]], bins)\n"
   ]
  },
  {
   "cell_type": "markdown",
   "metadata": {},
   "source": [
    "# 2. Multiclass Logistic "
   ]
  },
  {
   "cell_type": "code",
   "execution_count": null,
   "metadata": {},
   "outputs": [],
   "source": []
  },
  {
   "cell_type": "code",
   "execution_count": null,
   "metadata": {},
   "outputs": [],
   "source": []
  },
  {
   "cell_type": "code",
   "execution_count": null,
   "metadata": {},
   "outputs": [],
   "source": []
  },
  {
   "cell_type": "code",
   "execution_count": null,
   "metadata": {},
   "outputs": [],
   "source": []
  }
 ],
 "metadata": {
  "kernelspec": {
   "display_name": "Python 3",
   "language": "python",
   "name": "python3"
  },
  "language_info": {
   "codemirror_mode": {
    "name": "ipython",
    "version": 3
   },
   "file_extension": ".py",
   "mimetype": "text/x-python",
   "name": "python",
   "nbconvert_exporter": "python",
   "pygments_lexer": "ipython3",
   "version": "3.8.3"
  }
 },
 "nbformat": 4,
 "nbformat_minor": 4
}

{
 "cells": [
  {
   "cell_type": "markdown",
   "metadata": {},
   "source": [
    "# Tree-Based Model\n"
   ]
  },
  {
   "cell_type": "code",
   "execution_count": 2,
   "metadata": {},
   "outputs": [],
   "source": [
    "import pandas as pd\n",
    "import numpy as np\n",
    "import matplotlib.pyplot as plt\n"
   ]
  },
  {
   "cell_type": "markdown",
   "metadata": {},
   "source": [
    "# Helper Function"
   ]
  },
  {
   "cell_type": "code",
   "execution_count": 8,
   "metadata": {},
   "outputs": [],
   "source": [
    "def sort_xcat_by_y(x, y):\n",
    "    \"\"\"\n",
    "    return a sorted list of unique categories in predictor x according to y\n",
    "    \"\"\"\n",
    "    cats = np.unique(x)\n",
    "    y_mean = [ np.mean(y[x==cat]) for cat in cats ]\n",
    "    ordered_cats = cats[np.argsort(y_mean)]\n",
    "    return ordered_cats\n",
    "\n",
    "def all_rows_equal(X):\n",
    "    \"\"\"\n",
    "    check if all of a bud's rows are equal across all predictors\n",
    "    \"\"\"\n",
    "    return np.all(X == X[0])\n"
   ]
  },
  {
   "cell_type": "code",
   "execution_count": 9,
   "metadata": {},
   "outputs": [],
   "source": [
    "class Node:\n",
    "    def __init__(self, X, y, id, parent_id=None, depth=0,leaf=True):\n",
    "        self.X = X # sample in this node\n",
    "        self.y = y # target in this node\n",
    "        self.size = len(y)\n",
    "        self.id = id\n",
    "  \n",
    "        self.parent_id = parent_id\n",
    "        self.depth = depth\n",
    "        self.leaf = leaf\n",
    "\n",
    "        self.child_L = None\n",
    "        self.child_R = None\n",
    "\n",
    "class Splitter:\n",
    "    def __init__(self):\n",
    "        self.reduction = 0\n",
    "        self.splitted = False\n",
    "        \n",
    "    def _replace_split(self, reduction, d, dtype='q', t=None, c=None):\n",
    "        self.reduction = reduction\n",
    "        self.d = d\n",
    "        self.dtype = dtype\n",
    "        self.t = t # threshold for qulitative\n",
    "        self.c = c # threshold for qutitative\n",
    "        self.splitted = True\n"
   ]
  },
  {
   "cell_type": "markdown",
   "metadata": {},
   "source": [
    "# Loss Function"
   ]
  },
  {
   "cell_type": "code",
   "execution_count": null,
   "metadata": {},
   "outputs": [],
   "source": [
    "def RSS_reduction(child_L, child_R, parent):\n",
    "    \"\"\"\n",
    "    cost function: how much the residual is reduced\n",
    "    \"\"\"\n",
    "    rss_p = np.sum((parent - np.mean(parent))^2)\n",
    "    rss_l = np.sum((child_L - np.mean(child_L))^2)\n",
    "    rss_r = np.sum((child_R - np.mean(child_R))^2)\n",
    "    return rss_p - rss_l - rss_r\n"
   ]
  },
  {
   "cell_type": "markdown",
   "metadata": {},
   "source": [
    "# RegressionTree"
   ]
  },
  {
   "cell_type": "code",
   "execution_count": 10,
   "metadata": {},
   "outputs": [],
   "source": [
    "class DecisionTreeRegression:\n",
    "    def fit(self, X, y, max_depth=100, min_size=5):\n",
    "        self.X = X\n",
    "        self.y = y\n",
    "\n",
    "        self.N, self.D = X.shape\n",
    "        dtypes = [ np.array(X[:, i]).dtype for i in range(self.D) ]\n",
    "        # What about boolean?\n",
    "        self.types = [ 'q' if (dtype == float or dtype == int) else 'c' for dtype in dtypes ]\n",
    "\n",
    "        # hyperparameters\n",
    "        self.max_depth = max_depth\n",
    "        self.min_size = min_size\n",
    "        \n",
    "        # initialize\n",
    "        self.nodes_dict = {} # record all nodes in the tree\n",
    "        self.current_id = 0\n",
    "        root = Node(X, y, self.current_id) # init root node\n",
    "        self.nodes_dict[self.current_id] = root\n",
    "        self.current_id += 1\n",
    "        \n",
    "    def _build_(self):\n",
    "        \"\"\"\n",
    "        loop each observation of each feature in each layerZA\n",
    "        \"\"\"\n",
    "        \n",
    "        for i in range(self.max_depth): #  each layer        \n",
    "            # which node can be splitted?\n",
    "            eligible_buds = {ID: node for (ID, node) in self.nodes_dict.items() if\n",
    "                             node.leaf==True and\n",
    "                             node.size > self.min_size \n",
    "                             # and sth??\n",
    "                            }\n",
    "            if len(eligible_buds) == 0:\n",
    "                break\n",
    "\n",
    "            for dnode in eligible_buds: # each node in this layer\n",
    "                splitter = Splitter()\n",
    "                \n",
    "                # todo: randomly select C features at each split for random forest\n",
    "                # np.random.choice(np.arange(self.D), self.C, replace = False)\n",
    "\n",
    "                for d in range(self.D): # loop each feature\n",
    "                    # info about this feature\n",
    "                    xd = dnode.X[:, d]\n",
    "                    dty = self.types[d]\n",
    "                    \n",
    "                    if np.unique(xd) == 1:\n",
    "                        continue\n",
    "\n",
    "                    # each threshold for this feature\n",
    "                    # quantitative\n",
    "                    if dty == 'q':\n",
    "                        for v in np.unique(xd)[:-1]: # sort the value in an ascending way\n",
    "                            yl = self.y[xd <= v] # left tree\n",
    "                            yr = self.y[xd > v] # right tree\n",
    "                            reduction = RSS_reduction(yl, yr, dnode.y)\n",
    "                            if reduction > splitter.reduction:\n",
    "                                splitter._replace_split(reduction, d, 'q', v)\n",
    "\n",
    "                    # categorical\n",
    "                    if dty == 'c':\n",
    "                        pass\n",
    "\n",
    "                # then make split for each node\n",
    "\n",
    "    def predict(self, X_test):\n",
    "        y_predicted = []\n",
    "        for x in X_test:\n",
    "            node = self.node_dict[0] # start from the root node\n",
    "            while not node.leaf:\n",
    "                if node.dtype == 'q':\n",
    "                    if x[node.d] < node.t:\n",
    "                        node = self.nodes_dict[node.child_L]\n",
    "                    else:\n",
    "                        node = self.nodes_dict[node.child_R]\n",
    "           \n",
    "            y_predicted.append(np.mean(node.y))\n",
    "        return y_predicted\n"
   ]
  },
  {
   "cell_type": "markdown",
   "metadata": {},
   "source": [
    "# Bagging"
   ]
  },
  {
   "cell_type": "code",
   "execution_count": 6,
   "metadata": {},
   "outputs": [],
   "source": [
    "class Bagging:\n",
    "    def bootstrapping(self, X_train, y_train, B):\n",
    "        self.N, self.D = X_train.shape\n",
    "        self.B = B\n",
    "\n",
    "        trees = []\n",
    "        for i in range(B):\n",
    "            idx = np.random.choice(range(self.N), self.N, replace=True)\n",
    "            X_train_sample = X_train[idx]\n",
    "            y_train_sample = y_train[idx]\n",
    "\n",
    "            tree = DecisionTreeRegression()\n",
    "            tree.fit(X_train_sample, y_train_sample)\n",
    "            trees.append(tree)\n",
    "\n",
    "        self.trees = trees\n",
    "\n",
    "    def predict(self, X_test):\n",
    "        y_predicted = np.zeros((self.B, len(X_test))) # B by N\n",
    "        \n",
    "        for i in range(self.B):\n",
    "            y_predicted[i, :] = self.trees[i].predcit(X_test)\n",
    "\n",
    "        # return average value of all trees for each observation\n",
    "        return np.mean(y_predicted, axis=0)\n"
   ]
  },
  {
   "cell_type": "markdown",
   "metadata": {},
   "source": [
    "# Boosting"
   ]
  },
  {
   "cell_type": "code",
   "execution_count": 9,
   "metadata": {},
   "outputs": [],
   "source": [
    "\n",
    "from fastai.imports import *\n",
    "from sklearn import metrics\n"
   ]
  },
  {
   "cell_type": "code",
   "execution_count": 14,
   "metadata": {},
   "outputs": [],
   "source": [
    "def std_agg(cnt, s1, s2): return math.sqrt((s2/cnt) - (s1/cnt)**2)\n",
    "\n",
    "\n",
    "class DecisionTree:\n",
    "    def __init__(self, x, y, idxs = None, min_leaf=2):\n",
    "        if idxs is None: idxs=np.arange(len(y))\n",
    "        self.x,self.y,self.idxs,self.min_leaf = x,y,idxs,min_leaf\n",
    "        self.n,self.c = len(idxs), x.shape[1]\n",
    "        self.val = np.mean(y[idxs])\n",
    "        self.score = float('inf')\n",
    "        self.find_varsplit()\n",
    "        \n",
    "    def find_varsplit(self):\n",
    "        for i in range(self.c): self.find_better_split(i)\n",
    "        if self.score == float('inf'): return\n",
    "        x = self.split_col\n",
    "        lhs = np.nonzero(x<=self.split)[0]\n",
    "        rhs = np.nonzero(x>self.split)[0]\n",
    "        self.lhs = DecisionTree(self.x, self.y, self.idxs[lhs])\n",
    "        self.rhs = DecisionTree(self.x, self.y, self.idxs[rhs])\n",
    "\n",
    "    def find_better_split(self, var_idx):\n",
    "        x,y = self.x.values[self.idxs,var_idx], self.y[self.idxs]\n",
    "        sort_idx = np.argsort(x)\n",
    "        sort_y,sort_x = y[sort_idx], x[sort_idx]\n",
    "        rhs_cnt,rhs_sum,rhs_sum2 = self.n, sort_y.sum(), (sort_y**2).sum()\n",
    "        lhs_cnt,lhs_sum,lhs_sum2 = 0,0.,0.\n",
    "\n",
    "        for i in range(0,self.n-self.min_leaf-1):\n",
    "            xi,yi = sort_x[i],sort_y[i]\n",
    "            lhs_cnt += 1; rhs_cnt -= 1\n",
    "            lhs_sum += yi; rhs_sum -= yi\n",
    "            lhs_sum2 += yi**2; rhs_sum2 -= yi**2\n",
    "            if i<self.min_leaf or xi==sort_x[i+1]:\n",
    "                continue\n",
    "\n",
    "            lhs_std = std_agg(lhs_cnt, lhs_sum, lhs_sum2)\n",
    "            rhs_std = std_agg(rhs_cnt, rhs_sum, rhs_sum2)\n",
    "            curr_score = lhs_std*lhs_cnt + rhs_std*rhs_cnt\n",
    "            if curr_score<self.score: \n",
    "                self.var_idx,self.score,self.split = var_idx,curr_score,xi\n",
    "\n",
    "    @property\n",
    "    def split_name(self): return self.x.columns[self.var_idx]\n",
    "    \n",
    "    @property\n",
    "    def split_col(self): return self.x.values[self.idxs,self.var_idx]\n",
    "\n",
    "    @property\n",
    "    def is_leaf(self): return self.score == float('inf')\n",
    "    \n",
    "    def __repr__(self):\n",
    "        s = f'n: {self.n}; val:{self.val}'\n",
    "        if not self.is_leaf:\n",
    "            s += f'; score:{self.score}; split:{self.split}; var:{self.split_name}'\n",
    "        return s\n",
    "\n",
    "    def predict(self, x):\n",
    "        return np.array([self.predict_row(xi) for xi in x])\n",
    "\n",
    "    def predict_row(self, xi):\n",
    "        if self.is_leaf: return self.val\n",
    "        t = self.lhs if xi[self.var_idx]<=self.split else self.rhs\n",
    "        return t.predict_row(xi)\n",
    "    "
   ]
  },
  {
   "cell_type": "code",
   "execution_count": 36,
   "metadata": {},
   "outputs": [
    {
     "data": {
      "text/plain": [
       "<matplotlib.collections.PathCollection at 0x7ffb3ec36790>"
      ]
     },
     "execution_count": 36,
     "metadata": {},
     "output_type": "execute_result"
    },
    {
     "data": {
      "image/png": "[encoded data removed]",
      "text/plain": [
       "<Figure size 432x288 with 1 Axes>"
      ]
     },
     "metadata": {
      "needs_background": "light"
     },
     "output_type": "display_data"
    }
   ],
   "source": [
    "x = np.arange(0,50)\n",
    "x = pd.DataFrame({'x':x})\n",
    "\n",
    "# just random uniform distributions in differnt range\n",
    "\n",
    "y1 = np.random.uniform(10,15,10)\n",
    "y2 = np.random.uniform(20,25,10)\n",
    "y3 = np.random.uniform(0,5,10)\n",
    "y4 = np.random.uniform(30,32,10)\n",
    "y5 = np.random.uniform(13,17,10)\n",
    "\n",
    "y = np.concatenate((y1,y2,y3,y4,y5))\n",
    "y = y[:,None]\n",
    "\n",
    "plt.scatter(x, y)\n"
   ]
  },
  {
   "cell_type": "code",
   "execution_count": 41,
   "metadata": {
    "scrolled": false
   },
   "outputs": [
    {
     "name": "stdout",
     "output_type": "stream",
     "text": [
      "n: 50; val:16.50505755221116; score:407.8007173466392; split:29; var:x\n",
      "n: 50; val:1.9539925233402757e-15; score:326.92332579474134; split:39; var:x\n",
      "n: 50; val:1.4210854715202004e-16; score:308.22793211992405; split:29; var:x\n",
      "n: 50; val:2.1316282072803005e-16; score:266.5642750471887; split:19; var:x\n"
     ]
    },
    {
     "data": {
      "image/png": "[encoded data removed]",
      "text/plain": [
       "<Figure size 936x180 with 2 Axes>"
      ]
     },
     "metadata": {
      "needs_background": "light"
     },
     "output_type": "display_data"
    },
    {
     "data": {
      "image/png": "[encoded data removed]",
      "text/plain": [
       "<Figure size 936x180 with 2 Axes>"
      ]
     },
     "metadata": {
      "needs_background": "light"
     },
     "output_type": "display_data"
    },
    {
     "data": {
      "image/png": "[encoded data removed]",
      "text/plain": [
       "<Figure size 936x180 with 2 Axes>"
      ]
     },
     "metadata": {
      "needs_background": "light"
     },
     "output_type": "display_data"
    },
    {
     "data": {
      "image/png": "[encoded data removed]",
      "text/plain": [
       "<Figure size 936x180 with 2 Axes>"
      ]
     },
     "metadata": {
      "needs_background": "light"
     },
     "output_type": "display_data"
    }
   ],
   "source": [
    "xi = x\n",
    "yi = y\n",
    "n = len(yi)\n",
    "predf = 0 # initial prediction\n",
    "ei = 0\n",
    "\n",
    "for i in range(4):\n",
    "    tree = DecisionTree(xi, yi)\n",
    "    tree.find_better_split(0)\n",
    "    print(tree)\n",
    "    \n",
    "    r = np.where(xi == tree.split)[0][0]  \n",
    "    left_idx = np.where(xi <= tree.split)[0]\n",
    "    right_idx = np.where(xi > tree.split)[0]\n",
    "\n",
    "    predi = np.zeros(n)\n",
    "    np.put(predi, left_idx, np.repeat(np.mean(yi[left_idx]), r))\n",
    "    np.put(predi, right_idx, np.repeat(np.mean(yi[right_idx]), n - r))\n",
    "\n",
    "    predi = predi[:, None] # make long vector (nx1) in compatible with y\n",
    "    predf = predf + predi # # final prediction = previous prediction value + new prediction of residual\n",
    "\n",
    "    ei = y - predf\n",
    "    yi = ei # update yi as residual to reloop\n",
    "    \n",
    "    \n",
    "    \n",
    "    xa = np.array(x.x) # column name of x is x\n",
    "    order = np.argsort(xa)\n",
    "    xs = np.array(xa)[order]\n",
    "    ys = np.array(predf)[order]\n",
    "    \n",
    "    # plot\n",
    "    f, (ax1, ax2) = plt.subplots(1, 2, sharey=True, figsize = (13,2.5))\n",
    "    ax1.plot(x, y, 'o')\n",
    "    ax1.plot(xs, ys, 'r')\n",
    "    \n",
    "    ax2.plot(x, ei, 'go')\n",
    "    \n",
    "    "
   ]
  },
  {
   "cell_type": "code",
   "execution_count": null,
   "metadata": {},
   "outputs": [],
   "source": []
  },
  {
   "cell_type": "code",
   "execution_count": null,
   "metadata": {},
   "outputs": [],
   "source": []
  }
 ],
 "metadata": {
  "kernelspec": {
   "display_name": "Python 3",
   "language": "python",
   "name": "python3"
  },
  "language_info": {
   "codemirror_mode": {
    "name": "ipython",
    "version": 3
   },
   "file_extension": ".py",
   "mimetype": "text/x-python",
   "name": "python",
   "nbconvert_exporter": "python",
   "pygments_lexer": "ipython3",
   "version": "3.8.3"
  }
 },
 "nbformat": 4,
 "nbformat_minor": 4
}

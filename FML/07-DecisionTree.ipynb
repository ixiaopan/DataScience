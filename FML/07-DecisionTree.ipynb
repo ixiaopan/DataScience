{
 "cells": [
  {
   "cell_type": "code",
   "execution_count": 1,
   "metadata": {},
   "outputs": [],
   "source": [
    "import pandas as pd\n",
    "import numpy as np\n",
    "import matplotlib.pyplot as plt\n"
   ]
  },
  {
   "cell_type": "markdown",
   "metadata": {},
   "source": [
    "# Helper Function"
   ]
  },
  {
   "cell_type": "code",
   "execution_count": 8,
   "metadata": {},
   "outputs": [],
   "source": [
    "def sort_xcat_by_y(x, y):\n",
    "    \"\"\"\n",
    "    return a sorted list of unique categories in predictor x according to y\n",
    "    \"\"\"\n",
    "    cats = np.unique(x)\n",
    "    y_mean = [ np.mean(y[x==cat]) for cat in cats ]\n",
    "    ordered_cats = cats[np.argsort(y_mean)]\n",
    "    return ordered_cats\n",
    "\n",
    "def all_rows_equal(X):\n",
    "    \"\"\"\n",
    "    check if all of a bud's rows are equal across all predictors\n",
    "    \"\"\"\n",
    "    return np.all(X == X[0])\n"
   ]
  },
  {
   "cell_type": "code",
   "execution_count": 9,
   "metadata": {},
   "outputs": [],
   "source": [
    "class Node:\n",
    "    def __init__(self, X, y, id, parent_id=None, depth=0,leaf=True):\n",
    "        self.X = X # sample in this node\n",
    "        self.y = y # target in this node\n",
    "        self.size = len(y)\n",
    "        self.id = id\n",
    "        self.parent_id = parent_id\n",
    "        self.depth = depth\n",
    "        self.leaf = leaf\n",
    "\n",
    "class Splitter:\n",
    "    def __init__(self):\n",
    "        self.reduction = 0\n",
    "        self.splitted = False\n",
    "        \n",
    "    def _replace_split(self, reduction, d, dtype='q', t=None, c=None):\n",
    "        self.reduction = reduction\n",
    "        self.d = d\n",
    "        self.dtype = dtype\n",
    "        self.t = t\n",
    "        self.c = c\n",
    "        self.splitted = True\n"
   ]
  },
  {
   "cell_type": "markdown",
   "metadata": {},
   "source": [
    "# Loss Function"
   ]
  },
  {
   "cell_type": "code",
   "execution_count": null,
   "metadata": {},
   "outputs": [],
   "source": [
    "def RSS_reduction(child_L, child_R, parent):\n",
    "    \"\"\"\n",
    "    cost function: how much the residual is reduced\n",
    "    \"\"\"\n",
    "    rss_p = np.sum((parent - np.mean(parent))^2)\n",
    "    rss_l = np.sum((child_L - np.mean(child_L))^2)\n",
    "    rss_r = np.sum((child_R - np.mean(child_R))^2)\n",
    "    return rss_p - rss_l - rss_r\n"
   ]
  },
  {
   "cell_type": "markdown",
   "metadata": {},
   "source": [
    "# DecisionTreeRegression"
   ]
  },
  {
   "cell_type": "code",
   "execution_count": 10,
   "metadata": {},
   "outputs": [],
   "source": [
    "class DecisionTreeRegression:\n",
    "    def __init__(self, X, y, max_depth=100, min_size=5):\n",
    "        self.X = X\n",
    "        self.y = y\n",
    "\n",
    "        self.N, self.D = X.shape\n",
    "        dtypes = [ np.array(X[:, i]).dtype for i in range(self.D) ]\n",
    "        self.types = [ 'q' if (dtype == float or dtype == int) else 'c' for dtype in dtypes ]\n",
    "\n",
    "        # hyperparameters\n",
    "        self.max_depth = max_depth\n",
    "        self.min_size = min_size\n",
    "        \n",
    "        # initialize\n",
    "        self.nodes_dict = {}\n",
    "        self.current_id = 0\n",
    "        root = Noe(X, y, self.current_id)\n",
    "        self.nodes_dict[current_id] = root\n",
    "        self.current_id += 1\n",
    "        \n",
    "    def _build_(self):\n",
    "        \"\"\"\n",
    "        loop each observation of each feature in each layer\n",
    "        O(N) * O(D) * O(log2(M))\n",
    "        \"\"\"\n",
    "        \n",
    "        splitter = Splitter()\n",
    "        \n",
    "        for i in range(self.max_depth): #  each layer\n",
    "            for dnode in nodes.dict: #  each node in this layer\n",
    "                for d in range(self.D): # each feature in this node\n",
    "                    # general info about this feature\n",
    "                    xd = dnode.X[:, d]\n",
    "                    dty = self.types[d]\n",
    "\n",
    "                    # each threshold for this feature\n",
    "                    # quantitative\n",
    "                    if dty == 'q':\n",
    "                        for v in np.unique(xd):\n",
    "                            yl = self.y[xd <= v]\n",
    "                            yr = self.y[xd > v]\n",
    "                            reduction = RSS_reduction(yl, yr, dnode.y)\n",
    "                            if reduction > splitter.reduction:\n",
    "                                splitter._replace_split(reduction, d, 'q', v)\n",
    "\n",
    "                    # categorical\n",
    "                    if dty == 'c':\n",
    "                        pass\n"
   ]
  },
  {
   "cell_type": "markdown",
   "metadata": {},
   "source": [
    "# Bagging for DecisionTree"
   ]
  },
  {
   "cell_type": "code",
   "execution_count": 6,
   "metadata": {},
   "outputs": [],
   "source": [
    "\n",
    "class Bagging:\n",
    "    def bootstrapping(self, X_train, y_train, B):\n",
    "        self.N, self.D = X_train.shape\n",
    "        self.B = B\n",
    "\n",
    "        trees = []\n",
    "        for i in range(B):\n",
    "            idx = np.random.choice(range(self.N), self.N, replace=True)\n",
    "            X_train_sample = X_train[idx]\n",
    "            y_train_sample = y_train[idx]\n",
    "\n",
    "            tree = DecisionTreeRegression()\n",
    "            tree.fit(X_train_sample, y_train_sample)\n",
    "            trees.append(tree)\n",
    "\n",
    "        self.trees = trees\n",
    "\n",
    "    def predict(self, X_test):\n",
    "        y_predicted = np.zeros((self.B, len(X_test))) # B by N\n",
    "        \n",
    "        for i in range(self.B):\n",
    "            y_predicted[i, :] = self.trees[i].predcit(X_test)\n",
    "\n",
    "        # return average value of all trees for each observation\n",
    "        return np.mean(y_predicted, axis=0)\n"
   ]
  },
  {
   "cell_type": "markdown",
   "metadata": {},
   "source": [
    "# Unrelated Samples"
   ]
  },
  {
   "cell_type": "code",
   "execution_count": 16,
   "metadata": {},
   "outputs": [],
   "source": [
    "B = [1, 10, 100]\n",
    "gain = [100, 10, 1]\n",
    "\n",
    "iters = 10000\n",
    "results_iters = np.zeros((len(B), iters))\n",
    "\n",
    "for (k, b) in enumerate(B): # each bagging\n",
    "    for i in range(iters): # iterations\n",
    "        v = 0\n",
    "        for j in range(b): # each sample\n",
    "            if np.random.uniform() * 100 > 40:\n",
    "                v += gain[k]\n",
    "            else:\n",
    "                v -= gain[k]\n",
    "        results_iters[k, i] = v\n"
   ]
  },
  {
   "cell_type": "code",
   "execution_count": null,
   "metadata": {},
   "outputs": [],
   "source": []
  },
  {
   "cell_type": "code",
   "execution_count": 39,
   "metadata": {},
   "outputs": [
    {
     "data": {
      "text/plain": [
       "<matplotlib.legend.Legend at 0x7fd9b22dc820>"
      ]
     },
     "execution_count": 39,
     "metadata": {},
     "output_type": "execute_result"
    },
    {
     "data": {
      "image/png": "[encoded data removed]",
      "text/plain": [
       "<Figure size 432x288 with 1 Axes>"
      ]
     },
     "metadata": {
      "needs_background": "light"
     },
     "output_type": "display_data"
    }
   ],
   "source": [
    "for (i, b) in enumerate(B): # each bagging\n",
    "    plt.hist(results_iters[i], label=b)\n",
    "\n",
    "plt.legend()"
   ]
  },
  {
   "cell_type": "code",
   "execution_count": 38,
   "metadata": {},
   "outputs": [
    {
     "name": "stdout",
     "output_type": "stream",
     "text": [
      "[0.6041, 0.6281, 0.973]\n"
     ]
    },
    {
     "data": {
      "image/png": "[encoded data removed]",
      "text/plain": [
       "<Figure size 432x288 with 1 Axes>"
      ]
     },
     "metadata": {
      "needs_background": "light"
     },
     "output_type": "display_data"
    }
   ],
   "source": [
    "count = [ np.sum(results_iters[i] > 0) / iters for (i, b) in enumerate(B) ]\n",
    "\n",
    "plt.bar(['1', '10', '100'], count)\n",
    "\n",
    "print(count)\n"
   ]
  },
  {
   "cell_type": "code",
   "execution_count": null,
   "metadata": {},
   "outputs": [],
   "source": []
  }
 ],
 "metadata": {
  "kernelspec": {
   "display_name": "Python 3",
   "language": "python",
   "name": "python3"
  },
  "language_info": {
   "codemirror_mode": {
    "name": "ipython",
    "version": 3
   },
   "file_extension": ".py",
   "mimetype": "text/x-python",
   "name": "python",
   "nbconvert_exporter": "python",
   "pygments_lexer": "ipython3",
   "version": "3.8.3"
  }
 },
 "nbformat": 4,
 "nbformat_minor": 4
}

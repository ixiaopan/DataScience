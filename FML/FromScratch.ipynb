{
 "cells": [
  {
   "cell_type": "code",
   "execution_count": 1,
   "metadata": {},
   "outputs": [],
   "source": [
    "\"\"\"\n",
    "@file: example code in \"Data Science From Scratch\"\n",
    "\"\"\"\n",
    "\n",
    "import numpy as np\n",
    "import matplotlib.pyplot as plt\n",
    "from collections import Counter\n",
    "import math\n",
    "import itertools\n",
    "import random\n",
    "import tqdm\n",
    "import numpy\n",
    "import matplotlib.image as mpimg\n",
    "from sklearn import datasets"
   ]
  },
  {
   "cell_type": "markdown",
   "metadata": {},
   "source": [
    "## 1. Linear Algebra"
   ]
  },
  {
   "cell_type": "markdown",
   "metadata": {},
   "source": [
    "### Vector"
   ]
  },
  {
   "cell_type": "code",
   "execution_count": 2,
   "metadata": {},
   "outputs": [],
   "source": [
    "def v_add(v, w):\n",
    "    return [ x + y for x, y in zip(v, w) ]"
   ]
  },
  {
   "cell_type": "code",
   "execution_count": 3,
   "metadata": {},
   "outputs": [],
   "source": [
    "assert v_add([1, 2, 3], [3, 4, 5]) == [4, 6, 8]"
   ]
  },
  {
   "cell_type": "code",
   "execution_count": 4,
   "metadata": {},
   "outputs": [],
   "source": [
    "def v_subtract(v, w):\n",
    "    return [ x - y for x, y in zip(v, w) ]"
   ]
  },
  {
   "cell_type": "code",
   "execution_count": 5,
   "metadata": {},
   "outputs": [],
   "source": [
    "assert v_subtract([5, 7, 9], [4, 5, 6]) == [1, 2, 3]"
   ]
  },
  {
   "cell_type": "code",
   "execution_count": 6,
   "metadata": {},
   "outputs": [],
   "source": [
    "def v_sum(vectors):\n",
    "    d = len(vectors[0])\n",
    "    return [ sum(v[i] for v in vectors) for i in range(d) ]"
   ]
  },
  {
   "cell_type": "code",
   "execution_count": 7,
   "metadata": {},
   "outputs": [],
   "source": [
    "assert v_sum([[1, 2], [3, 4]]) == [4, 6]"
   ]
  },
  {
   "cell_type": "code",
   "execution_count": 8,
   "metadata": {},
   "outputs": [],
   "source": [
    "def scalar_multiply(c, v):\n",
    "    return [ c * v_i for v_i in v ]"
   ]
  },
  {
   "cell_type": "code",
   "execution_count": 9,
   "metadata": {},
   "outputs": [],
   "source": [
    "assert scalar_multiply(2, [1, 4, 5]) == [2, 8, 10]"
   ]
  },
  {
   "cell_type": "code",
   "execution_count": 10,
   "metadata": {},
   "outputs": [],
   "source": [
    "def vector_mean(vectors):\n",
    "    n = len(vectors)\n",
    "    return scalar_multiply(1/n, v_sum(vectors))"
   ]
  },
  {
   "cell_type": "code",
   "execution_count": 11,
   "metadata": {},
   "outputs": [],
   "source": [
    "assert vector_mean([[1, 2], [3, 4], [5 , 6]]) == [3, 4]"
   ]
  },
  {
   "cell_type": "code",
   "execution_count": 12,
   "metadata": {},
   "outputs": [],
   "source": [
    "def dot(v, w):\n",
    "    return sum(v_i * w_i for v_i, w_i in zip(v, w))"
   ]
  },
  {
   "cell_type": "code",
   "execution_count": 13,
   "metadata": {},
   "outputs": [],
   "source": [
    "assert dot([2, 3, 4], [5, 2, 1]) == 20"
   ]
  },
  {
   "cell_type": "code",
   "execution_count": 14,
   "metadata": {},
   "outputs": [],
   "source": [
    "def sum_of_squares(v):\n",
    "    return dot(v, v)"
   ]
  },
  {
   "cell_type": "code",
   "execution_count": 15,
   "metadata": {},
   "outputs": [],
   "source": [
    "assert sum_of_squares([1, 2, 3]) == 14"
   ]
  },
  {
   "cell_type": "code",
   "execution_count": 16,
   "metadata": {},
   "outputs": [],
   "source": [
    "def magnitude(v):\n",
    "    return math.sqrt(sum_of_squares(v))"
   ]
  },
  {
   "cell_type": "code",
   "execution_count": 17,
   "metadata": {},
   "outputs": [],
   "source": [
    "assert magnitude([3, 4]) == 5"
   ]
  },
  {
   "cell_type": "code",
   "execution_count": 18,
   "metadata": {},
   "outputs": [],
   "source": [
    "def distance(v, w):\n",
    "    return magnitude(v_subtract(v, w))"
   ]
  },
  {
   "cell_type": "code",
   "execution_count": 19,
   "metadata": {},
   "outputs": [],
   "source": [
    "assert distance([3, 4], [2, 4]) == 1"
   ]
  },
  {
   "cell_type": "code",
   "execution_count": 20,
   "metadata": {},
   "outputs": [],
   "source": [
    "def squared_distance(v, w):\n",
    "    return sum_of_squares(v_subtract(v, w))"
   ]
  },
  {
   "cell_type": "code",
   "execution_count": 21,
   "metadata": {},
   "outputs": [],
   "source": [
    "assert squared_distance([3, 4], [5, 1]) == 13"
   ]
  },
  {
   "cell_type": "markdown",
   "metadata": {},
   "source": [
    "### Matrix"
   ]
  },
  {
   "cell_type": "code",
   "execution_count": 22,
   "metadata": {},
   "outputs": [],
   "source": [
    "def shape(A):\n",
    "    return len(A), len(A[0])"
   ]
  },
  {
   "cell_type": "code",
   "execution_count": 23,
   "metadata": {},
   "outputs": [],
   "source": [
    "assert shape([[2,3,4], [1, 2, 3]]) == (2, 3)"
   ]
  },
  {
   "cell_type": "code",
   "execution_count": 24,
   "metadata": {},
   "outputs": [],
   "source": [
    "def get_row(A, i):\n",
    "    return A[i]"
   ]
  },
  {
   "cell_type": "code",
   "execution_count": 25,
   "metadata": {},
   "outputs": [],
   "source": [
    "def get_column(A, j):\n",
    "    return [ A_i[j] for A_i in A ]"
   ]
  },
  {
   "cell_type": "code",
   "execution_count": 26,
   "metadata": {},
   "outputs": [],
   "source": [
    "def make_matrix(num_rows, num_cols, entry_fn):\n",
    "    \n",
    "    return [ [entry_fn(i, j) for j in range(num_cols)] for i in range(num_rows) ]    "
   ]
  },
  {
   "cell_type": "code",
   "execution_count": 27,
   "metadata": {},
   "outputs": [
    {
     "data": {
      "text/plain": [
       "[[0, 1, 2], [1, 2, 3]]"
      ]
     },
     "execution_count": 27,
     "metadata": {},
     "output_type": "execute_result"
    }
   ],
   "source": [
    "make_matrix(2, 3, lambda i, j: i+j)"
   ]
  },
  {
   "cell_type": "code",
   "execution_count": 28,
   "metadata": {},
   "outputs": [],
   "source": [
    "def identity_matrix(n):\n",
    "    return make_matrix(n, n, lambda i, j: 1 if i == j else 0)"
   ]
  },
  {
   "cell_type": "code",
   "execution_count": 29,
   "metadata": {},
   "outputs": [
    {
     "data": {
      "text/plain": [
       "[[1, 0, 0], [0, 1, 0], [0, 0, 1]]"
      ]
     },
     "execution_count": 29,
     "metadata": {},
     "output_type": "execute_result"
    }
   ],
   "source": [
    "identity_matrix(3)"
   ]
  },
  {
   "cell_type": "markdown",
   "metadata": {},
   "source": [
    "## 2. Statistics"
   ]
  },
  {
   "cell_type": "code",
   "execution_count": 30,
   "metadata": {},
   "outputs": [],
   "source": [
    "\"\"\"\n",
    "Example\n",
    "\"\"\"\n",
    "num_friends = [100.0,49,41,40,25,21,21,19,19,18,18,16,15,15,15,15,14,14,13,13,13,13,12,12,11,10,10,10,10,10,10,10,10,10,10,10,10,10,10,10,9,9,9,9,9,9,9,9,9,9,9,9,9,9,9,9,9,9,8,8,8,8,8,8,8,8,8,8,8,8,8,7,7,7,7,7,7,7,7,7,7,7,7,7,7,7,6,6,6,6,6,6,6,6,6,6,6,6,6,6,6,6,6,6,6,6,6,6,5,5,5,5,5,5,5,5,5,5,5,5,5,5,5,5,5,4,4,4,4,4,4,4,4,4,4,4,4,4,4,4,4,4,4,4,4,3,3,3,3,3,3,3,3,3,3,3,3,3,3,3,3,3,3,3,3,2,2,2,2,2,2,2,2,2,2,2,2,2,2,2,2,2,1,1,1,1,1,1,1,1,1,1,1,1,1,1,1,1,1,1,1,1,1,1]\n",
    "\n",
    "daily_minutes = [1,68.77,51.25,52.08,38.36,44.54,57.13,51.4,41.42,31.22,34.76,54.01,38.79,47.59,49.1,27.66,41.03,36.73,48.65,28.12,46.62,35.57,32.98,35,26.07,23.77,39.73,40.57,31.65,31.21,36.32,20.45,21.93,26.02,27.34,23.49,46.94,30.5,33.8,24.23,21.4,27.94,32.24,40.57,25.07,19.42,22.39,18.42,46.96,23.72,26.41,26.97,36.76,40.32,35.02,29.47,30.2,31,38.11,38.18,36.31,21.03,30.86,36.07,28.66,29.08,37.28,15.28,24.17,22.31,30.17,25.53,19.85,35.37,44.6,17.23,13.47,26.33,35.02,32.09,24.81,19.33,28.77,24.26,31.98,25.73,24.86,16.28,34.51,15.23,39.72,40.8,26.06,35.76,34.76,16.13,44.04,18.03,19.65,32.62,35.59,39.43,14.18,35.24,40.13,41.82,35.45,36.07,43.67,24.61,20.9,21.9,18.79,27.61,27.21,26.61,29.77,20.59,27.53,13.82,33.2,25,33.1,36.65,18.63,14.87,22.2,36.81,25.53,24.62,26.25,18.21,28.08,19.42,29.79,32.8,35.99,28.32,27.79,35.88,29.06,36.28,14.1,36.63,37.49,26.9,18.58,38.48,24.48,18.95,33.55,14.24,29.04,32.51,25.63,22.22,19,32.73,15.16,13.9,27.2,32.01,29.27,33,13.74,20.42,27.32,18.23,35.35,28.48,9.08,24.62,20.12,35.26,19.92,31.02,16.49,12.16,30.7,31.22,34.65,13.13,27.51,33.2,31.57,14.1,33.42,17.44,10.12,24.42,9.82,23.39,30.93,15.03,21.67,31.09,33.29,22.61,26.89,23.48,8.38,27.81,32.35,23.84]\n",
    "\n",
    "daily_hours = [dm / 60 for dm in daily_minutes]\n"
   ]
  },
  {
   "cell_type": "code",
   "execution_count": 31,
   "metadata": {},
   "outputs": [],
   "source": [
    "def mean(xl):\n",
    "    return sum(xl) / len(xl)"
   ]
  },
  {
   "cell_type": "code",
   "execution_count": 32,
   "metadata": {},
   "outputs": [
    {
     "data": {
      "text/plain": [
       "7.333333333333333"
      ]
     },
     "execution_count": 32,
     "metadata": {},
     "output_type": "execute_result"
    }
   ],
   "source": [
    "mean(num_friends)"
   ]
  },
  {
   "cell_type": "code",
   "execution_count": 33,
   "metadata": {},
   "outputs": [],
   "source": [
    "def _median_odd(xs):\n",
    "    return sorted(xs)[len(xs) // 2]"
   ]
  },
  {
   "cell_type": "code",
   "execution_count": 34,
   "metadata": {},
   "outputs": [],
   "source": [
    "def _median_even(xs):\n",
    "    i = len(xs) // 2\n",
    "    sorted_xs = sorted(xs)\n",
    "    return (sorted_xs[i] + sorted_xs[i - 1]) / 2"
   ]
  },
  {
   "cell_type": "code",
   "execution_count": 35,
   "metadata": {},
   "outputs": [],
   "source": [
    "def median(xs):\n",
    "    return _median_even(xs) if len(xs) % 2 == 0 else _median_odd(xs)"
   ]
  },
  {
   "cell_type": "code",
   "execution_count": 36,
   "metadata": {},
   "outputs": [],
   "source": [
    "assert median([1, 10, 2, 9, 5]) == 5"
   ]
  },
  {
   "cell_type": "code",
   "execution_count": 37,
   "metadata": {},
   "outputs": [],
   "source": [
    "assert median([1, 10, 2, 9]) == (2 + 9) / 2"
   ]
  },
  {
   "cell_type": "code",
   "execution_count": 38,
   "metadata": {},
   "outputs": [],
   "source": [
    "def quantile(xs, p):\n",
    "    p_index = int(len(xs) * p)\n",
    "    return sorted(xs)[p_index]"
   ]
  },
  {
   "cell_type": "code",
   "execution_count": 39,
   "metadata": {},
   "outputs": [],
   "source": [
    "assert quantile(num_friends, 0.1) == 1"
   ]
  },
  {
   "cell_type": "code",
   "execution_count": 40,
   "metadata": {},
   "outputs": [],
   "source": [
    "def mode(x):\n",
    "    counts = Counter(x)\n",
    "    max_value = max(counts.values())\n",
    "    return [ x_i for x_i, count in counts.items() if count == max_value ]"
   ]
  },
  {
   "cell_type": "code",
   "execution_count": 41,
   "metadata": {},
   "outputs": [],
   "source": [
    "assert set(mode(num_friends)) == {1, 6}"
   ]
  },
  {
   "cell_type": "code",
   "execution_count": 42,
   "metadata": {},
   "outputs": [],
   "source": [
    "def data_range(x):\n",
    "    return max(x) - min(x)"
   ]
  },
  {
   "cell_type": "code",
   "execution_count": 43,
   "metadata": {},
   "outputs": [
    {
     "data": {
      "text/plain": [
       "99.0"
      ]
     },
     "execution_count": 43,
     "metadata": {},
     "output_type": "execute_result"
    }
   ],
   "source": [
    "data_range(num_friends)"
   ]
  },
  {
   "cell_type": "code",
   "execution_count": 44,
   "metadata": {},
   "outputs": [],
   "source": [
    "def de_mean(x):\n",
    "    x_bar = mean(x)\n",
    "    return [ x_i - x_bar for x_i in x ]"
   ]
  },
  {
   "cell_type": "code",
   "execution_count": 45,
   "metadata": {},
   "outputs": [],
   "source": [
    "def variance(x):\n",
    "    return sum_of_squares(de_mean(x)) / (len(x) - 1)"
   ]
  },
  {
   "cell_type": "code",
   "execution_count": 46,
   "metadata": {},
   "outputs": [],
   "source": [
    "assert 81.54 < variance(num_friends) < 81.55"
   ]
  },
  {
   "cell_type": "code",
   "execution_count": 47,
   "metadata": {},
   "outputs": [],
   "source": [
    "def standard_deviation(xs):\n",
    "    return math.sqrt(variance(xs))"
   ]
  },
  {
   "cell_type": "code",
   "execution_count": 48,
   "metadata": {},
   "outputs": [],
   "source": [
    "assert 9.02 < standard_deviation(num_friends) < 9.04"
   ]
  },
  {
   "cell_type": "code",
   "execution_count": 49,
   "metadata": {},
   "outputs": [],
   "source": [
    "def IQR(xs):\n",
    "    return quantile(xs, 0.75) - quantile(xs, 0.25)"
   ]
  },
  {
   "cell_type": "code",
   "execution_count": 50,
   "metadata": {},
   "outputs": [],
   "source": [
    "assert IQR(num_friends) == 6"
   ]
  },
  {
   "cell_type": "code",
   "execution_count": 51,
   "metadata": {},
   "outputs": [],
   "source": [
    "def covariance(xs, ys):\n",
    "    return dot(de_mean(xs), de_mean(ys)) / (len(xs) - 1)"
   ]
  },
  {
   "cell_type": "code",
   "execution_count": 52,
   "metadata": {},
   "outputs": [],
   "source": [
    "assert 22.42 < covariance(num_friends, daily_minutes) < 22.43"
   ]
  },
  {
   "cell_type": "code",
   "execution_count": 53,
   "metadata": {},
   "outputs": [],
   "source": [
    "def correlation(xs, ys):\n",
    "    stdev_x = standard_deviation(xs)\n",
    "    stdev_y = standard_deviation(ys)\n",
    "    if stdev_x > 0 and stdev_y > 0:\n",
    "        return covariance(xs, ys) / stdev_x / stdev_y\n",
    "    else:\n",
    "        return 0"
   ]
  },
  {
   "cell_type": "code",
   "execution_count": 54,
   "metadata": {},
   "outputs": [],
   "source": [
    "assert 0.24 < correlation(num_friends, daily_minutes) < 0.25"
   ]
  },
  {
   "cell_type": "markdown",
   "metadata": {},
   "source": [
    "## 3. Gradient Descent"
   ]
  },
  {
   "cell_type": "code",
   "execution_count": 55,
   "metadata": {},
   "outputs": [],
   "source": [
    "def difference_quotient(f, x, h):\n",
    "    \"\"\"\n",
    "    how f(x) changes when we make a very small change to x\n",
    "    \"\"\"\n",
    "    return (f(x + h) - f(x)) / h"
   ]
  },
  {
   "cell_type": "code",
   "execution_count": 56,
   "metadata": {},
   "outputs": [],
   "source": [
    "\"\"\"\n",
    "when f is a function of many variables, it has multiple partial derivatives, \n",
    "each indicating how f changes when we make small changes in just one of the input variables\n",
    "\"\"\"\n",
    "def partial_difference_quotient(f, v, i, h):\n",
    "    w = [ v_i + (h if j == i else 0) for j, v_i in enumerator(v)]\n",
    "    \n",
    "    return (f(w) - f(v)) / h"
   ]
  },
  {
   "cell_type": "markdown",
   "metadata": {},
   "source": [
    "### Linear Gradient"
   ]
  },
  {
   "cell_type": "code",
   "execution_count": 57,
   "metadata": {},
   "outputs": [],
   "source": [
    "def linear_gradient(x, y, theta):\n",
    "    \"\"\"\n",
    "    the derivative of least square with respect to alpha and beta, respectively\n",
    "    gradient for a single data point\n",
    "    \"\"\"\n",
    "    \n",
    "    slope, intercept = theta\n",
    "\n",
    "    error = y - (slope * x + intercept)\n",
    "    \n",
    "    return [ -2 * error * x, -2 * error ]"
   ]
  },
  {
   "cell_type": "markdown",
   "metadata": {},
   "source": [
    "### Gradient Step"
   ]
  },
  {
   "cell_type": "code",
   "execution_count": 58,
   "metadata": {},
   "outputs": [],
   "source": [
    "def gradient_step(v, gradient, step_size):\n",
    "    step = scalar_multiply(step_size, gradient)\n",
    "\n",
    "    return v_subtract(v, step)"
   ]
  },
  {
   "cell_type": "markdown",
   "metadata": {},
   "source": [
    "### Gradient Descent Algorithm"
   ]
  },
  {
   "cell_type": "code",
   "execution_count": 146,
   "metadata": {},
   "outputs": [
    {
     "name": "stderr",
     "output_type": "stream",
     "text": [
      "loss: 5.913: 100%|██████████| 1500/1500 [00:05<00:00, 288.37it/s]  \n"
     ]
    },
    {
     "data": {
      "text/plain": [
       "[19.999853937255416, 4.756805442544874]"
      ]
     },
     "execution_count": 146,
     "metadata": {},
     "output_type": "execute_result"
    }
   ],
   "source": [
    "\"\"\"\n",
    "Example: Gradient Descent\n",
    "\"\"\"\n",
    "\n",
    "inputs = [(x, 20 * x + 5) for x in range(-50, 50)]\n",
    "\n",
    "# start with random values\n",
    "theta = [ random.random(), random.random() ]\n",
    "\n",
    "learning_rate = 0.00001\n",
    "\n",
    "with tqdm.trange(1500) as t:\n",
    "    for _ in t:\n",
    "        grad = v_sum([ linear_gradient(x, y, theta) for x, y in inputs ])\n",
    "        theta = gradient_step(theta, grad, learning_rate)\n",
    "        \n",
    "        loss = sum( (y_i - theta[0] * x_i - theta[1])**2 for x_i, y_i in inputs)\n",
    "        t.set_description(f\"loss: {loss:.3f}\")\n",
    "\n",
    "theta"
   ]
  },
  {
   "cell_type": "markdown",
   "metadata": {},
   "source": [
    "### Stochastic Gradient Descent Algorithm"
   ]
  },
  {
   "cell_type": "code",
   "execution_count": 147,
   "metadata": {},
   "outputs": [
    {
     "name": "stdout",
     "output_type": "stream",
     "text": [
      "[20.000060908706217, 4.9969682639426365]\n"
     ]
    }
   ],
   "source": [
    "\"\"\"\n",
    "Example: Stochastic Gradient Descent\n",
    "\n",
    "One drawback of the preceding approach is that we had to evaluate the gradients on the whole data set.\n",
    "\"\"\"\n",
    "\n",
    "learning_rate = 0.001\n",
    "for epoch in range(100):\n",
    "     for x, y in inputs:    \n",
    "        grad = linear_gradient(x, y, theta)\n",
    "        theta = gradient_step(theta, grad, learning_rate)\n",
    "\n",
    "print(theta)"
   ]
  },
  {
   "cell_type": "markdown",
   "metadata": {},
   "source": [
    "### Mini-batch Gradient Descent Algorithm"
   ]
  },
  {
   "cell_type": "code",
   "execution_count": 148,
   "metadata": {},
   "outputs": [
    {
     "name": "stdout",
     "output_type": "stream",
     "text": [
      "[19.999999753921177, 4.999590278608121]\n"
     ]
    }
   ],
   "source": [
    "\"\"\"\n",
    "Example: Minibatch Gradient Descent\n",
    "\n",
    "One drawback of the preceding approach is that we had to evaluate the gradinets on the whole data set.\n",
    "\"\"\"\n",
    "\n",
    "def minibatches(dataset, size, shuffle=False):\n",
    "    batch_start = [ start for start in range(0, len(dataset), size) ]\n",
    "    \n",
    "    if shuffle: \n",
    "        random.shuffle(batch_start)\n",
    "\n",
    "    for start in batch_start:\n",
    "        end = start + size\n",
    "        yield dataset[start:end]\n",
    "\n",
    "\n",
    "learning_rate = 0.001\n",
    "for epoch in range(1000):\n",
    "    for batch in minibatches(inputs, 100):\n",
    "        grad = vector_mean([ linear_gradient(x, y, theta ) for x, y in batch ])\n",
    "        theta = gradient_step(theta, grad, learning_rate)\n",
    "        \n",
    "print(theta)"
   ]
  },
  {
   "cell_type": "markdown",
   "metadata": {},
   "source": [
    "## 4. Regression"
   ]
  },
  {
   "cell_type": "code",
   "execution_count": 60,
   "metadata": {},
   "outputs": [],
   "source": [
    "def predict(w, b, x):\n",
    "    return w * x + b"
   ]
  },
  {
   "cell_type": "code",
   "execution_count": 61,
   "metadata": {},
   "outputs": [],
   "source": [
    "def error(w, b, x, y):\n",
    "    return y - predict(w, b, x)"
   ]
  },
  {
   "cell_type": "code",
   "execution_count": 62,
   "metadata": {},
   "outputs": [],
   "source": [
    "def sum_of_squared_error(w, b, x, y):\n",
    "    \"\"\"\n",
    "    sum of squared error, linear regression\n",
    "    \"\"\"\n",
    "    return sum( error(w, b, x_i, y_i)**2 for x_i, y_i in zip(x, y))"
   ]
  },
  {
   "cell_type": "markdown",
   "metadata": {},
   "source": [
    "### Ordinary Least Square"
   ]
  },
  {
   "cell_type": "code",
   "execution_count": 63,
   "metadata": {},
   "outputs": [],
   "source": [
    "def ordinary_least_square(x, y):\n",
    "    \"\"\"\n",
    "    w = (A^TA)^-1A^Ty\n",
    "    A = [[1, x_1], [1, x_2], ... [1, x_n]]\n",
    "\n",
    "    has this solution if A^TA is positive definite matrix\n",
    "    \"\"\"\n",
    "\n",
    "    w = covariance(x, y) / variance(x)\n",
    "    \n",
    "    b = mean(y) - w * mean(x)\n",
    "    \n",
    "    return w, b"
   ]
  },
  {
   "cell_type": "code",
   "execution_count": 69,
   "metadata": {},
   "outputs": [],
   "source": [
    "x = [i for i in range(-100, 110, 10)]\n",
    "y = [3 * i - 5 for i in x]\n",
    "\n",
    "assert ordinary_least_square(x, y) == (3, -5)"
   ]
  },
  {
   "cell_type": "markdown",
   "metadata": {},
   "source": [
    "### Using Gradient Descent"
   ]
  },
  {
   "cell_type": "code",
   "execution_count": 70,
   "metadata": {},
   "outputs": [],
   "source": [
    "\"\"\"\n",
    "Example\n",
    "\"\"\"\n",
    "\n",
    "outlier = num_friends.index(100)    # index of outlier\n",
    "\n",
    "num_friends_good = [x\n",
    "                    for i, x in enumerate(num_friends)\n",
    "                    if i != outlier]\n",
    "\n",
    "daily_minutes_good = [x\n",
    "                      for i, x in enumerate(daily_minutes)\n",
    "                      if i != outlier]\n",
    "\n",
    "daily_hours_good = [dm / 60 for dm in daily_minutes_good]\n"
   ]
  },
  {
   "cell_type": "code",
   "execution_count": 71,
   "metadata": {},
   "outputs": [
    {
     "name": "stderr",
     "output_type": "stream",
     "text": [
      "loss: 13196.619: 100%|██████████| 10000/10000 [00:39<00:00, 254.69it/s]\n"
     ]
    },
    {
     "data": {
      "text/plain": [
       "[0.9038659666918994, 22.947552150153584]"
      ]
     },
     "execution_count": 71,
     "metadata": {},
     "output_type": "execute_result"
    }
   ],
   "source": [
    "theta = [ random.random(), random.random() ]\n",
    "\n",
    "learning_rate1 = 0.00001\n",
    "\n",
    "with tqdm.trange(10000) as t:\n",
    "    for _ in t:\n",
    "        alpha, beta = theta\n",
    "\n",
    "        # total gradient of all dataset\n",
    "        grad = v_sum([ linear_gradient(x_i, y_i, theta) for x_i, y_i in zip(num_friends_good, daily_minutes_good) ])\n",
    "\n",
    "        loss = sum_of_squared_error(alpha, beta, num_friends_good, daily_minutes_good)\n",
    "        t.set_description(f\"loss: {loss:.3f}\")\n",
    "\n",
    "        # update parameter\n",
    "        theta = gradient_step(theta, grad, learning_rate1)\n",
    "\n",
    "theta"
   ]
  },
  {
   "cell_type": "markdown",
   "metadata": {},
   "source": [
    "### R-squared"
   ]
  },
  {
   "cell_type": "code",
   "execution_count": 72,
   "metadata": {},
   "outputs": [],
   "source": [
    "def r_squared(w, b, x, y):\n",
    "    \"\"\"\n",
    "    metric: 1 - SS(fit) / SS(mean)\n",
    "    \"\"\"\n",
    "    variation_to_mean = sum(y_i**2 for y_i in de_mean(y))\n",
    "\n",
    "    return 1 - (sum_of_squared_error(w, b, x, y) / variation_to_mean)"
   ]
  },
  {
   "cell_type": "code",
   "execution_count": 73,
   "metadata": {},
   "outputs": [
    {
     "data": {
      "text/plain": [
       "0.3291078377836305"
      ]
     },
     "execution_count": 73,
     "metadata": {},
     "output_type": "execute_result"
    }
   ],
   "source": [
    "w, b = ordinary_least_square(num_friends_good, daily_minutes_good)\n",
    "\n",
    "r_squared(w, b, num_friends_good, daily_minutes_good)"
   ]
  },
  {
   "cell_type": "markdown",
   "metadata": {},
   "source": [
    "### D-dimensional"
   ]
  },
  {
   "cell_type": "code",
   "execution_count": 74,
   "metadata": {},
   "outputs": [],
   "source": [
    "\"\"\"\n",
    "The model: y_i = \\alpha + \\beta x_i = \\alpha + \\beta_1 x_1 + \\beta_2 x_2 + ... + \\beta_k x_k\n",
    "\n",
    "beta = [ \\alpha, \\beta_1, \\beta_2, ..., \\beta_k ]\n",
    "\n",
    "x_i = [ 1, x_1, x_2, ..., x_k ]\n",
    "\n",
    "Example of x_i\n",
    "[1,    # constant term\n",
    " 49,   # number of friends\n",
    " 4,    # work hours per day\n",
    " 0]    # doesn't have PhD”\n",
    "\"\"\"\n",
    "\n",
    "def predict_m(x, beta):\n",
    "    return dot(beta, x)\n",
    "\n",
    "def error_m(x, y, beta):\n",
    "    return y - predict_m(x, beta)\n",
    "\n",
    "def squared_error_m(x, y, beta):\n",
    "    return error_m(x, y, beta)**2\n",
    "\n",
    "def r_squared_m(xs, ys, beta):\n",
    "    \"\"\"\n",
    "    How good is our model\n",
    "    \"\"\"\n",
    "    variation_to_mean = sum(y_i**2 for y_i in de_mean(ys))\n",
    "\n",
    "    return 1 - sum(squared_error_m(x, y, beta) for x, y in zip(xs, ys)) / variation_to_mean"
   ]
  },
  {
   "cell_type": "code",
   "execution_count": 75,
   "metadata": {},
   "outputs": [],
   "source": [
    "def squared_error_gradient(x, y, beta):\n",
    "    \"\"\"\n",
    "    gradient for a single data point(D-dimensional)\n",
    "    \"\"\"\n",
    "    return scalar_multiply(-2 * error_m(x, y, beta), x)\n",
    "\n",
    "\n",
    "\n",
    "x = [1, 2, 3]\n",
    "y = 30\n",
    "beta = [4, 4, 4]  # so prediction = 4 + 8 + 12 = 24”\n",
    "assert squared_error_gradient(x, y, beta) == [-12, -24, -36]"
   ]
  },
  {
   "cell_type": "code",
   "execution_count": 77,
   "metadata": {},
   "outputs": [],
   "source": [
    "\"\"\"\n",
    "Using Gradient Descent\n",
    "\"\"\"\n",
    "def least_square_gradient(X, y, eta = 0.001, num_steps=1000):\n",
    "    beta = [random.random(), random.random(), random.random(), random.random()]\n",
    "\n",
    "    with tqdm.trange(num_steps) as t:\n",
    "        for _ in t:\n",
    "            grad_beta = v_sum([ squared_error_gradient(x, y, beta) for x, y in zip(X, y) ])\n",
    "            beta = gradient_step(beta, grad_beta, eta)\n",
    "\n",
    "    return beta"
   ]
  },
  {
   "cell_type": "code",
   "execution_count": 78,
   "metadata": {},
   "outputs": [
    {
     "name": "stderr",
     "output_type": "stream",
     "text": [
      "100%|██████████| 5000/5000 [00:03<00:00, 1576.81it/s]"
     ]
    },
    {
     "name": "stdout",
     "output_type": "stream",
     "text": [
      "[30.558603111907885, 0.9735463229277417, -1.8642836251770607, 0.9392002279789685]\n"
     ]
    },
    {
     "name": "stderr",
     "output_type": "stream",
     "text": [
      "\n"
     ]
    },
    {
     "data": {
      "text/plain": [
       "0.680010501235204"
      ]
     },
     "execution_count": 78,
     "metadata": {},
     "output_type": "execute_result"
    }
   ],
   "source": [
    "\"\"\"\n",
    "Example: \n",
    "\"\"\"\n",
    "inputs = [[1.,49,4,0],[1,41,9,0],[1,40,8,0],[1,25,6,0],[1,21,1,0],[1,21,0,0],[1,19,3,0],[1,19,0,0],[1,18,9,0],[1,18,8,0],[1,16,4,0],[1,15,3,0],[1,15,0,0],[1,15,2,0],[1,15,7,0],[1,14,0,0],[1,14,1,0],[1,13,1,0],[1,13,7,0],[1,13,4,0],[1,13,2,0],[1,12,5,0],[1,12,0,0],[1,11,9,0],[1,10,9,0],[1,10,1,0],[1,10,1,0],[1,10,7,0],[1,10,9,0],[1,10,1,0],[1,10,6,0],[1,10,6,0],[1,10,8,0],[1,10,10,0],[1,10,6,0],[1,10,0,0],[1,10,5,0],[1,10,3,0],[1,10,4,0],[1,9,9,0],[1,9,9,0],[1,9,0,0],[1,9,0,0],[1,9,6,0],[1,9,10,0],[1,9,8,0],[1,9,5,0],[1,9,2,0],[1,9,9,0],[1,9,10,0],[1,9,7,0],[1,9,2,0],[1,9,0,0],[1,9,4,0],[1,9,6,0],[1,9,4,0],[1,9,7,0],[1,8,3,0],[1,8,2,0],[1,8,4,0],[1,8,9,0],[1,8,2,0],[1,8,3,0],[1,8,5,0],[1,8,8,0],[1,8,0,0],[1,8,9,0],[1,8,10,0],[1,8,5,0],[1,8,5,0],[1,7,5,0],[1,7,5,0],[1,7,0,0],[1,7,2,0],[1,7,8,0],[1,7,10,0],[1,7,5,0],[1,7,3,0],[1,7,3,0],[1,7,6,0],[1,7,7,0],[1,7,7,0],[1,7,9,0],[1,7,3,0],[1,7,8,0],[1,6,4,0],[1,6,6,0],[1,6,4,0],[1,6,9,0],[1,6,0,0],[1,6,1,0],[1,6,4,0],[1,6,1,0],[1,6,0,0],[1,6,7,0],[1,6,0,0],[1,6,8,0],[1,6,4,0],[1,6,2,1],[1,6,1,1],[1,6,3,1],[1,6,6,1],[1,6,4,1],[1,6,4,1],[1,6,1,1],[1,6,3,1],[1,6,4,1],[1,5,1,1],[1,5,9,1],[1,5,4,1],[1,5,6,1],[1,5,4,1],[1,5,4,1],[1,5,10,1],[1,5,5,1],[1,5,2,1],[1,5,4,1],[1,5,4,1],[1,5,9,1],[1,5,3,1],[1,5,10,1],[1,5,2,1],[1,5,2,1],[1,5,9,1],[1,4,8,1],[1,4,6,1],[1,4,0,1],[1,4,10,1],[1,4,5,1],[1,4,10,1],[1,4,9,1],[1,4,1,1],[1,4,4,1],[1,4,4,1],[1,4,0,1],[1,4,3,1],[1,4,1,1],[1,4,3,1],[1,4,2,1],[1,4,4,1],[1,4,4,1],[1,4,8,1],[1,4,2,1],[1,4,4,1],[1,3,2,1],[1,3,6,1],[1,3,4,1],[1,3,7,1],[1,3,4,1],[1,3,1,1],[1,3,10,1],[1,3,3,1],[1,3,4,1],[1,3,7,1],[1,3,5,1],[1,3,6,1],[1,3,1,1],[1,3,6,1],[1,3,10,1],[1,3,2,1],[1,3,4,1],[1,3,2,1],[1,3,1,1],[1,3,5,1],[1,2,4,1],[1,2,2,1],[1,2,8,1],[1,2,3,1],[1,2,1,1],[1,2,9,1],[1,2,10,1],[1,2,9,1],[1,2,4,1],[1,2,5,1],[1,2,0,1],[1,2,9,1],[1,2,9,1],[1,2,0,1],[1,2,1,1],[1,2,1,1],[1,2,4,1],[1,1,0,1],[1,1,2,1],[1,1,2,1],[1,1,5,1],[1,1,3,1],[1,1,10,1],[1,1,6,1],[1,1,0,1],[1,1,8,1],[1,1,6,1],[1,1,4,1],[1,1,9,1],[1,1,9,1],[1,1,4,1],[1,1,2,1],[1,1,9,1],[1,1,0,1],[1,1,8,1],[1,1,6,1],[1,1,1,1],[1,1,1,1],[1,1,5,1]]\n",
    "\n",
    "beta = least_square_gradient(inputs, daily_minutes_good, 0.000045, 5000)\n",
    "\n",
    "print(beta)\n",
    "\n",
    "r_squared_m(inputs, daily_minutes_good, beta)"
   ]
  },
  {
   "cell_type": "markdown",
   "metadata": {},
   "source": [
    "### Regularization"
   ]
  },
  {
   "cell_type": "code",
   "execution_count": 79,
   "metadata": {},
   "outputs": [],
   "source": [
    "\"\"\"\n",
    "Regularization is an approach we add to the error term a penalty\n",
    "that gets larger as beta gets larger.\n",
    "\n",
    "The more importance we place on the penalty term, the more we discourage large coefficents.\n",
    "\"\"\"\n",
    "def ridge_penalty(alpha, beta):\n",
    "    \"\"\"\n",
    "    Ridge Regularization: L2\n",
    "    \"\"\"\n",
    "    return alpha * dot(beta[1:], beta[1:])"
   ]
  },
  {
   "cell_type": "code",
   "execution_count": 80,
   "metadata": {},
   "outputs": [],
   "source": [
    "def lasso_penalty(alpha, beta):\n",
    "    \"\"\"\n",
    "    Lasso Regularization: L1\n",
    "    \"\"\"\n",
    "    return alpha * sum(abs(beta_i) for beta_i in beta)"
   ]
  },
  {
   "cell_type": "code",
   "execution_count": 81,
   "metadata": {},
   "outputs": [],
   "source": [
    "def squared_error_m_ridge(x, y, beta, alpha):\n",
    "    \"\"\"\n",
    "    Loss function with Ridge Penalty\n",
    "    \"\"\"\n",
    "    return squared_error_m(x, y, beta) + ridge_penalty(alpha, beta)\n"
   ]
  },
  {
   "cell_type": "code",
   "execution_count": 82,
   "metadata": {},
   "outputs": [],
   "source": [
    "def ridge_penaly_gradient(alpha, beta):\n",
    "    \"\"\"\n",
    "    Ridge Penalty Gradient\n",
    "    \"\"\"\n",
    "    return [0] + [ 2 * alpha * beta_i for beta_i in beta[1:] ]"
   ]
  },
  {
   "cell_type": "code",
   "execution_count": 83,
   "metadata": {},
   "outputs": [],
   "source": [
    "def squared_error_ridge_gradient(x, y, beta, alpha):\n",
    "    \"\"\"\n",
    "    Total Loss Gradient with Ridge\n",
    "    \"\"\"\n",
    "    return v_add(squared_error_gradient(x, y, beta), ridge_penaly_gradient(alpha, beta))"
   ]
  },
  {
   "cell_type": "code",
   "execution_count": 84,
   "metadata": {},
   "outputs": [],
   "source": [
    "\"\"\"\n",
    "Using Gradient Descent\n",
    "\"\"\"\n",
    "def least_square_gradient_ridge(X, y, alpha, eta = 0.001, num_steps=1000):\n",
    "    beta = [random.random(), random.random(), random.random(), random.random()]\n",
    "\n",
    "    with tqdm.trange(num_steps) as t:\n",
    "        for _ in t:\n",
    "            grad_beta = v_sum([ squared_error_ridge_gradient(x, y, beta, alpha) for x, y in zip(X, y) ])\n",
    "            beta = gradient_step(beta, grad_beta, eta)\n",
    "    return beta"
   ]
  },
  {
   "cell_type": "code",
   "execution_count": 85,
   "metadata": {},
   "outputs": [
    {
     "name": "stderr",
     "output_type": "stream",
     "text": [
      "100%|██████████| 5000/5000 [00:05<00:00, 894.28it/s] \n",
      "100%|██████████| 5000/5000 [00:05<00:00, 955.12it/s] \n",
      "100%|██████████| 5000/5000 [00:04<00:00, 1019.34it/s]"
     ]
    },
    {
     "name": "stdout",
     "output_type": "stream",
     "text": [
      "alpha= 0\n",
      "    [30.558140257813314, 0.9735699278790553, -1.8642665582764695, 0.9395629731511045]\n",
      "    0.6800104775308289\n",
      "alpha= 0.1\n",
      "    [30.833558922741897, 0.9515240238771543, -1.846828075358403, 0.5478197848620315]\n",
      "    0.679744139486858\n",
      "alpha= 1\n",
      "    [30.66730795651854, 0.9064236302338317, -1.6918493982932845, 0.0905373880906786]\n",
      "    0.6755909866384409\n"
     ]
    },
    {
     "name": "stderr",
     "output_type": "stream",
     "text": [
      "\n"
     ]
    }
   ],
   "source": [
    "\"\"\"\n",
    "Example:\n",
    "\"\"\"\n",
    "\n",
    "initial_beta = [0, 0.1, 1]\n",
    "beta_list = [ least_square_gradient_ridge(inputs, daily_minutes_good, beta_i, 0.000045, 5000) \n",
    "             for beta_i in initial_beta ]\n",
    "\n",
    "# [30.51, 0.97, -1.85, 0.91]\n",
    "# [30.8, 0.95, -1.83, 0.54]\n",
    "# [30.6, 0.90, -1.68, 0.10]\n",
    "for i, beta in enumerate(beta_list):\n",
    "    print('alpha=',  initial_beta[i])\n",
    "    print('   ', beta)\n",
    "    print('   ', r_squared_m(inputs, daily_minutes_good, beta))\n"
   ]
  },
  {
   "cell_type": "markdown",
   "metadata": {},
   "source": [
    "## 5. Logistic Regression"
   ]
  },
  {
   "cell_type": "markdown",
   "metadata": {},
   "source": [
    "### Binary Classification"
   ]
  },
  {
   "cell_type": "code",
   "execution_count": 97,
   "metadata": {},
   "outputs": [],
   "source": [
    "def logistic(x):\n",
    "    return 1 / (1 + math.exp(-x))\n",
    "\n",
    "\n",
    "def _negative_log_likelihood(x, y, beta):\n",
    "    \"\"\"\n",
    "    likelihood for a single point\n",
    "    \"\"\"\n",
    "    if y == 1:\n",
    "        return -math.log(logistic(dot(beta, x)))\n",
    "    else:\n",
    "        return -math.log(1 - logistic(dot(beta, x)))\n",
    "\n",
    "    \n",
    "def negative_log_likelihood(xs, ys, beta):\n",
    "    \"\"\"\n",
    "    likelihood for all points\n",
    "    \"\"\"\n",
    "    return sum(_negative_log_likelihood(x, y, beta) for x, y in zip(xs, ys))\n",
    "\n",
    "\n",
    "\n",
    "def _negative_log_partial_j(x, y, beta, j):\n",
    "    \"\"\"\n",
    "    maximum the likelihood using gradient descent\n",
    "\n",
    "    return the derivative of log likelihood with respect to w_j\n",
    "    \"\"\"\n",
    "    return -(y - logistic(dot(beta, x))) * x[j]\n",
    "\n",
    "\n",
    "def _negative_log_gradient(x, y, beta):\n",
    "    \"\"\"\n",
    "    return the vector gradient of w_1, w_2,...w_j\n",
    "    \"\"\"\n",
    "    return [ _negative_log_partial_j(x, y, beta, j) for j in range(len(beta)) ]\n",
    "\n",
    "\n",
    "\n",
    "def negative_log_gradient(xs, ys, beta):\n",
    "    \"\"\"\n",
    "    the gradient of all train data\n",
    "    \"\"\"\n",
    "    return v_sum([ _negative_log_gradient(x, y, beta) for x, y in zip(xs, ys) ])\n",
    "\n"
   ]
  },
  {
   "cell_type": "code",
   "execution_count": 98,
   "metadata": {},
   "outputs": [
    {
     "name": "stderr",
     "output_type": "stream",
     "text": [
      "100%|██████████| 5000/5000 [00:04<00:00, 1019.97it/s]\n"
     ]
    },
    {
     "data": {
      "text/plain": [
       "[-1.9928214958685053, 4.685878208818972, -4.410521510785045]"
      ]
     },
     "execution_count": 98,
     "metadata": {},
     "output_type": "execute_result"
    }
   ],
   "source": [
    "\"\"\"\n",
    "Example: \n",
    "    input: [experience, salary, paid_account]\n",
    "    label: {0, 1}\n",
    "        0 - no premium account, \n",
    "        1 premium account\n",
    "\"\"\"\n",
    "\n",
    "tuples = [(0.7,48000,1),(1.9,48000,0),(2.5,60000,1),(4.2,63000,0),(6,76000,0),(6.5,69000,0),(7.5,76000,0),(8.1,88000,0),(8.7,83000,1),(10,83000,1),(0.8,43000,0),(1.8,60000,0),(10,79000,1),(6.1,76000,0),(1.4,50000,0),(9.1,92000,0),(5.8,75000,0),(5.2,69000,0),(1,56000,0),(6,67000,0),(4.9,74000,0),(6.4,63000,1),(6.2,82000,0),(3.3,58000,0),(9.3,90000,1),(5.5,57000,1),(9.1,102000,0),(2.4,54000,0),(8.2,65000,1),(5.3,82000,0),(9.8,107000,0),(1.8,64000,0),(0.6,46000,1),(0.8,48000,0),(8.6,84000,1),(0.6,45000,0),(0.5,30000,1),(7.3,89000,0),(2.5,48000,1),(5.6,76000,0),(7.4,77000,0),(2.7,56000,0),(0.7,48000,0),(1.2,42000,0),(0.2,32000,1),(4.7,56000,1),(2.8,44000,1),(7.6,78000,0),(1.1,63000,0),(8,79000,1),(2.7,56000,0),(6,52000,1),(4.6,56000,0),(2.5,51000,0),(5.7,71000,0),(2.9,65000,0),(1.1,33000,1),(3,62000,0),(4,71000,0),(2.4,61000,0),(7.5,75000,0),(9.7,81000,1),(3.2,62000,0),(7.9,88000,0),(4.7,44000,1),(2.5,55000,0),(1.6,41000,0),(6.7,64000,1),(6.9,66000,1),(7.9,78000,1),(8.1,102000,0),(5.3,48000,1),(8.5,66000,1),(0.2,56000,0),(6,69000,0),(7.5,77000,0),(8,86000,0),(4.4,68000,0),(4.9,75000,0),(1.5,60000,0),(2.2,50000,0),(3.4,49000,1),(4.2,70000,0),(7.7,98000,0),(8.2,85000,0),(5.4,88000,0),(0.1,46000,0),(1.5,37000,0),(6.3,86000,0),(3.7,57000,0),(8.4,85000,0),(2,42000,0),(5.8,69000,1),(2.7,64000,0),(3.1,63000,0),(1.9,48000,0),(10,72000,1),(0.2,45000,0),(8.6,95000,0),(1.5,64000,0),(9.8,95000,0),(5.3,65000,0),(7.5,80000,0),(9.9,91000,0),(9.7,50000,1),(2.8,68000,0),(3.6,58000,0),(3.9,74000,0),(4.4,76000,0),(2.5,49000,0),(7.2,81000,0),(5.2,60000,1),(2.4,62000,0),(8.9,94000,0),(2.4,63000,0),(6.8,69000,1),(6.5,77000,0),(7,86000,0),(9.4,94000,0),(7.8,72000,1),(0.2,53000,0),(10,97000,0),(5.5,65000,0),(7.7,71000,1),(8.1,66000,1),(9.8,91000,0),(8,84000,0),(2.7,55000,0),(2.8,62000,0),(9.4,79000,0),(2.5,57000,0),(7.4,70000,1),(2.1,47000,0),(5.3,62000,1),(6.3,79000,0),(6.8,58000,1),(5.7,80000,0),(2.2,61000,0),(4.8,62000,0),(3.7,64000,0),(4.1,85000,0),(2.3,51000,0),(3.5,58000,0),(0.9,43000,0),(0.9,54000,0),(4.5,74000,0),(6.5,55000,1),(4.1,41000,1),(7.1,73000,0),(1.1,66000,0),(9.1,81000,1),(8,69000,1),(7.3,72000,1),(3.3,50000,0),(3.9,58000,0),(2.6,49000,0),(1.6,78000,0),(0.7,56000,0),(2.1,36000,1),(7.5,90000,0),(4.8,59000,1),(8.9,95000,0),(6.2,72000,0),(6.3,63000,0),(9.1,100000,0),(7.3,61000,1),(5.6,74000,0),(0.5,66000,0),(1.1,59000,0),(5.1,61000,0),(6.2,70000,0),(6.6,56000,1),(6.3,76000,0),(6.5,78000,0),(5.1,59000,0),(9.5,74000,1),(4.5,64000,0),(2,54000,0),(1,52000,0),(4,69000,0),(6.5,76000,0),(3,60000,0),(4.5,63000,0),(7.8,70000,0),(3.9,60000,1),(0.8,51000,0),(4.2,78000,0),(1.1,54000,0),(6.2,60000,0),(2.9,59000,0),(2.1,52000,0),(8.2,87000,0),(4.8,73000,0),(2.2,42000,1),(9.1,98000,0),(6.5,84000,0),(6.9,73000,0),(5.1,72000,0),(9.1,69000,1),(9.8,79000,1),]\n",
    "\n",
    "data = [list(row) for row in tuples]\n",
    "\n",
    "xs = [ [1] + p[:2] for p in data ] # [1, experience, salary]\n",
    "ys = [ p[2] for p in data ] # paid_account\n",
    "\n",
    "\n",
    "def scale(data):\n",
    "    \"\"\"returns the means and standard deviations for each position\"\"\"\n",
    "    dim = len(data[0])\n",
    "\n",
    "    means = vector_mean(data)\n",
    "    stdevs = [standard_deviation([vector[i] for vector in data]) for i in range(dim)]\n",
    "\n",
    "    return means, stdevs\n",
    "\n",
    "def rescale(data):\n",
    "    \"\"\"\n",
    "    Rescales the input data so that each position has\n",
    "    mean 0 and standard deviation 1. (Leaves a position\n",
    "    as is if its standard deviation is 0.)\n",
    "    \"\"\"\n",
    "    dim = len(data[0])\n",
    "    means, stdevs = scale(data)\n",
    "\n",
    "    # Make a copy of each vector\n",
    "    rescaled = [v[:] for v in data]\n",
    "\n",
    "    for v in rescaled:\n",
    "        for i in range(dim):\n",
    "            if stdevs[i] > 0:\n",
    "                v[i] = (v[i] - means[i]) / stdevs[i]\n",
    "\n",
    "    return rescaled\n",
    "\n",
    "\n",
    "X_train, y_train, X_test, y_test = train_test_split(rescale(xs), ys, 0.33)\n",
    "\n",
    "logistic_learning_rate = 0.01\n",
    "\n",
    "random.seed(0)\n",
    "logistic_beta = [random.random() for _ in range(len(X_train[0]))]\n",
    "\n",
    "with tqdm.trange(5000) as t:\n",
    "    for epoch in t:\n",
    "        logistic_beta = gradient_step(\n",
    "            logistic_beta, \n",
    "            negative_log_gradient(X_train, y_train, logistic_beta), \n",
    "            logistic_learning_rate\n",
    "        )\n",
    "\n",
    "logistic_beta\n"
   ]
  },
  {
   "cell_type": "code",
   "execution_count": 74,
   "metadata": {},
   "outputs": [
    {
     "data": {
      "text/plain": [
       "[8.740962020649306, 1.6498935546646993, -0.0002852534063108755]"
      ]
     },
     "execution_count": 74,
     "metadata": {},
     "output_type": "execute_result"
    }
   ],
   "source": [
    "\"\"\"\n",
    "transform rescaled beta to normal beta\n",
    "\"\"\"\n",
    "\n",
    "means, std = scale(xs)\n",
    "\n",
    "[ \n",
    "    logistic_beta[0] - logistic_beta[1] * means[1] / std[1] - logistic_beta[2] * means[2] / std[2],\n",
    "    logistic_beta[1] / std[1], \n",
    "    logistic_beta[2] / std[2] \n",
    "]\n"
   ]
  },
  {
   "cell_type": "code",
   "execution_count": 75,
   "metadata": {},
   "outputs": [
    {
     "data": {
      "text/plain": [
       "(0.7647058823529411, 0.8125)"
      ]
     },
     "execution_count": 75,
     "metadata": {},
     "output_type": "execute_result"
    }
   ],
   "source": [
    "\"\"\"\n",
    "measurement on testing data\n",
    "\"\"\"\n",
    "\n",
    "tp = fp = tn = fn = 0\n",
    "\n",
    "for x_i, y_i in zip(X_test, y_test):\n",
    "    predicted_prob = logistic(dot(logistic_beta, x_i))\n",
    "\n",
    "    if y_i == 1 and predicted_prob >= 0.5:\n",
    "        tp += 1\n",
    "    elif y_i == 1:\n",
    "        fn += 1\n",
    "    elif predicted_prob < 0.5:\n",
    "        tn += 1\n",
    "    else:\n",
    "        fp += 1\n",
    "\n",
    "precision(tp, fp, fn, tn), recall(tp, fp, fn, tn) "
   ]
  },
  {
   "cell_type": "markdown",
   "metadata": {},
   "source": [
    "### Multinomial "
   ]
  },
  {
   "cell_type": "code",
   "execution_count": 126,
   "metadata": {},
   "outputs": [],
   "source": [
    "\"\"\"\n",
    "General approach\n",
    "\n",
    "x \\in R^D: x = [ x_1, x_2, ..., x_D ] \n",
    "\n",
    "y \\in R^K: 1-of-k representation\n",
    "\n",
    "\"\"\"\n",
    "\n",
    "def softmax(y, ys):\n",
    "    \"\"\"\n",
    "    transform continuous outputs to probability\n",
    "    \"\"\"\n",
    "    return math.exp(y) / sum(math.exp(y_i) for y_i in ys)\n",
    "\n",
    "\n",
    "def _m_negative_log_likelihood(x, y, beta, labels):\n",
    "    \"\"\"\n",
    "    likelihood for a single point over K outputs\n",
    "\n",
    "    @param beta: \n",
    "        a list of D-dimensional vector(K-array), one weight for each class_k\n",
    "        [ [w_1, w_2, ..., w_D], [w_1, w_2, ..., w_D], ...]\n",
    "    \"\"\"\n",
    "\n",
    "    predicted_y_over_k = [ dot(beta_i, x) for beta_i in beta ]\n",
    "\n",
    "    return math.log(softmax(dot(beta[labels.index(y)], x), predicted_y_over_k))\n",
    "\n",
    "\n",
    "def m_negative_log_likelihood(xs, ys, beta, labels):\n",
    "    \"\"\"\n",
    "    likelihood for all points\n",
    "\n",
    "    @param beta: a list of D-dimensional vector(K-array)\n",
    "    @param labels: set of class labels, the index is corresponding to the index of beta\n",
    "    \"\"\"\n",
    "\n",
    "    return sum(_m_negative_log_likelihood(x, y, beta, labels) for x, y in zip(xs, ys))\n",
    "\n",
    "\n",
    "def _m_negative_log_partial_k(x, y, beta_k, beta, label):\n",
    "    \"\"\"\n",
    "    maximum the likelihood using gradient descent\n",
    "\n",
    "    return the derivative of log likelihood with respect to w_j\n",
    "    \"\"\"\n",
    "    \n",
    "    predicted_y_over_k = [ dot(beta_i, x) for beta_i in beta ]\n",
    "\n",
    "    w_k = []\n",
    "    for j in range(len(beta_k)):\n",
    "        if y == label: # y is in class_k\n",
    "            w_kj = -(1 - softmax(dot(beta_k, x), predicted_y_over_k)) * x[j]\n",
    "\n",
    "        else: \n",
    "            w_kj = softmax(dot(beta_k, x), predicted_y_over_k) * x[j]\n",
    "\n",
    "        w_k.append(w_kj)\n",
    "\n",
    "    return w_k\n",
    "\n",
    "\n",
    "def _m_negative_log_gradient(x, y, beta, labels):\n",
    "    \"\"\"\n",
    "    return the vector gradient of [ [w_1, w_2,...w_d], .... ] for a single point\n",
    "    \"\"\"\n",
    "    return [ _m_negative_log_partial_k(x, y, beta_k, beta, label) for beta_k, label in zip(beta, labels) ]\n",
    "\n",
    "\n",
    "\n",
    "def m_negative_log_gradient(xs, ys, beta, labels):\n",
    "    \"\"\"\n",
    "    the gradient of all train data\n",
    "    \"\"\"\n",
    "    xs_w = [ _m_negative_log_gradient(x, y, beta, labels) for x, y in zip(xs, ys) ]\n",
    "    \n",
    "    return [ v_sum([ x_w[i] for x_w in xs_w ]) for i in range(len(labels))]\n"
   ]
  },
  {
   "cell_type": "code",
   "execution_count": 129,
   "metadata": {},
   "outputs": [
    {
     "name": "stderr",
     "output_type": "stream",
     "text": [
      "100%|██████████| 5000/5000 [00:17<00:00, 281.27it/s]\n"
     ]
    },
    {
     "data": {
      "text/plain": [
       "[[1.5480800488432631, -1.708324542255063, 2.618013614533175],\n",
       " [-0.4447414470252569, 2.9775536665639555, -1.792507896251915]]"
      ]
     },
     "execution_count": 129,
     "metadata": {},
     "output_type": "execute_result"
    }
   ],
   "source": [
    "\"\"\"\n",
    "the same Example\n",
    "\"\"\"\n",
    "\n",
    "random.seed(0)\n",
    "m_labels = np.unique(y_train)\n",
    "m_d = len(X_train[0])\n",
    "m_logistic_beta = [ [random.random() for _ in range(m_d)] for k in range(len(m_labels)) ]\n",
    "\n",
    "with tqdm.trange(5000) as t:\n",
    "    for epoch in t:\n",
    "        delta = m_negative_log_gradient(X_train, y_train, m_logistic_beta, m_labels)\n",
    "        \n",
    "        for i in range(len(delta)):\n",
    "            m_logistic_beta[i] = gradient_step(m_logistic_beta[i], delta[i], logistic_learning_rate)\n",
    "\n",
    "m_logistic_beta"
   ]
  },
  {
   "cell_type": "code",
   "execution_count": 130,
   "metadata": {},
   "outputs": [
    {
     "data": {
      "text/plain": [
       "(0.75, 0.8)"
      ]
     },
     "execution_count": 130,
     "metadata": {},
     "output_type": "execute_result"
    }
   ],
   "source": [
    "\"\"\"\n",
    "measurement on testing data\n",
    "\"\"\"\n",
    "\n",
    "tp = fp = tn = fn = 0\n",
    "for x_i, y_i in zip(X_test, y_test):\n",
    "    m_predicted_y_over_k = [ dot(beta_i, x_i) for beta_i in m_logistic_beta ]\n",
    "\n",
    "    m_predicted_prob = [ softmax(dot(beta_i, x_i), m_predicted_y_over_k) for beta_i in m_logistic_beta ]\n",
    "\n",
    "    m_label = np.argmax(m_predicted_prob)\n",
    "\n",
    "    if y_i == 1 and y_i == m_label:\n",
    "        tp += 1\n",
    "    elif y_i == 1:\n",
    "        fn += 1\n",
    "    elif y_i == 0 and y_i == m_label:\n",
    "        tn += 1\n",
    "    else:\n",
    "        fp += 1\n",
    "\n",
    "precision(tp, fp, fn, tn), recall(tp, fp, fn, tn) "
   ]
  },
  {
   "cell_type": "code",
   "execution_count": null,
   "metadata": {},
   "outputs": [],
   "source": []
  },
  {
   "cell_type": "code",
   "execution_count": 131,
   "metadata": {},
   "outputs": [
    {
     "data": {
      "text/plain": [
       "((150, 4), (150,), array([5.1, 3.5, 1.4, 0.2]), array([0, 1, 2]))"
      ]
     },
     "execution_count": 131,
     "metadata": {},
     "output_type": "execute_result"
    }
   ],
   "source": [
    "\"\"\"\n",
    "Another Example using Multinominal Logistic Regression: \n",
    "\n",
    "iris dataset: 150 flowers, 3 types\n",
    "\"\"\"\n",
    "\n",
    "# import some data to play with\n",
    "iris = datasets.load_iris()\n",
    "X_iris = iris.data\n",
    "y_iris = iris.target\n",
    "\n",
    "X_iris.shape, y_iris.shape, X_iris[0], np.unique(y_iris)"
   ]
  },
  {
   "cell_type": "code",
   "execution_count": 135,
   "metadata": {},
   "outputs": [
    {
     "name": "stderr",
     "output_type": "stream",
     "text": [
      "100%|██████████| 5000/5000 [00:49<00:00, 101.67it/s]"
     ]
    },
    {
     "name": "stdout",
     "output_type": "stream",
     "text": [
      "[[1.4164272646273814, 2.249145243029397, -1.6891025160451956, -0.6948005591742075], [1.3586897990743976, 0.21643304568753877, 0.6247868678845939, -0.5572720868646369], [-0.9428235366557608, -0.7193077088711867, 3.1767987032215466, 2.318988978228133]]\n"
     ]
    },
    {
     "name": "stderr",
     "output_type": "stream",
     "text": [
      "\n"
     ]
    },
    {
     "data": {
      "text/plain": [
       "(28, 0.9333333333333333)"
      ]
     },
     "execution_count": 135,
     "metadata": {},
     "output_type": "execute_result"
    }
   ],
   "source": [
    "X_train_iris, y_train_iris, X_test_iris, y_test_iris = train_test_split(X_iris, y_iris, .2)\n",
    "\n",
    "iris_learning_rate = 0.0001\n",
    "random.seed(0)\n",
    "m_labels_iris = np.unique(y_train_iris)\n",
    "m_d_iris = len(X_train_iris[0])\n",
    "# initialize weights\n",
    "iris_logistic_beta = [ [random.random() for _ in range(m_d_iris)] for k in range(len(m_labels_iris)) ]\n",
    "\n",
    "with tqdm.trange(5000) as t:\n",
    "    for epoch in t:\n",
    "        delta_iris = m_negative_log_gradient(X_train_iris, y_train_iris, iris_logistic_beta, m_labels_iris)\n",
    "        for i in range(len(delta_iris)):\n",
    "            iris_logistic_beta[i] = gradient_step(iris_logistic_beta[i], delta_iris[i], iris_learning_rate)\n",
    "\n",
    "print(iris_logistic_beta)\n",
    "\n",
    "\n",
    "\"\"\"\n",
    "measurement on testing data\n",
    "\"\"\"\n",
    "num_correct = 0\n",
    "for x_i, y_i in zip(X_test_iris, y_test_iris):\n",
    "    m_iris_predicted_y_over_k = [ dot(beta_i, x_i) for beta_i in iris_logistic_beta ]\n",
    "\n",
    "    m_iris_predicted_prob = [ softmax(dot(beta_i, x_i), m_iris_predicted_y_over_k) for beta_i in iris_logistic_beta ]\n",
    "\n",
    "    m_iris_label = np.argmax(m_iris_predicted_prob)\n",
    "\n",
    "    if y_i == m_iris_label:\n",
    "        num_correct += 1\n",
    "\n",
    "num_correct, num_correct / len(y_test_iris)"
   ]
  },
  {
   "cell_type": "code",
   "execution_count": null,
   "metadata": {},
   "outputs": [],
   "source": []
  },
  {
   "cell_type": "markdown",
   "metadata": {},
   "source": [
    "## 6. KNN"
   ]
  },
  {
   "cell_type": "code",
   "execution_count": 128,
   "metadata": {},
   "outputs": [],
   "source": [
    "def raw_majority_vote(labels):\n",
    "    \"\"\"\n",
    "    the most common label\n",
    "    \"\"\"\n",
    "    votes = Counter(labels)\n",
    "\n",
    "    winner, _ = votes.most_common(1)[0]\n",
    "    \n",
    "    return winner\n",
    "\n",
    "\n",
    "def majority_vote(labels):\n",
    "    \"\"\"\n",
    "    in case of the same votes\n",
    "    \"\"\"\n",
    "    votes = Counter(labels)\n",
    "\n",
    "    winner, winner_count = votes.most_common(1)[0]\n",
    "    \n",
    "    num_winners = len([ v for v in votes.values() if v == winner_count ])\n",
    "    \n",
    "    if num_winners:\n",
    "        return winner\n",
    "    else:\n",
    "        # reduce k\n",
    "        return majority_vote(labels[:-1])\n",
    "\n",
    "\n",
    "def knn_classify(inputs, labels, k, x):\n",
    "    # Order the labeled points from nearest to farthest\n",
    "    sorted_inputs = sorted(\n",
    "        [ (distance(x, point), label) for point, label in zip(inputs, labels) ], \n",
    "        key=lambda lp: lp[0]\n",
    "    )\n",
    "\n",
    "    k_nearest_labels = [ lp[1] for lp in sorted_inputs[:k] ]\n",
    "\n",
    "    return majority_vote(k_nearest_labels)\n"
   ]
  },
  {
   "cell_type": "code",
   "execution_count": 129,
   "metadata": {},
   "outputs": [
    {
     "data": {
      "text/plain": [
       "((150, 4), (150,), array([5.1, 3.5, 1.4, 0.2]), 0)"
      ]
     },
     "execution_count": 129,
     "metadata": {},
     "output_type": "execute_result"
    }
   ],
   "source": [
    "\"\"\"\n",
    "Example: 150 flowers, 3 types\n",
    "\"\"\"\n",
    "\n",
    "# import some data to play with\n",
    "iris = datasets.load_iris()\n",
    "X = iris.data\n",
    "y = iris.target\n",
    "\n",
    "X.shape, y.shape, X[0], y[0]"
   ]
  },
  {
   "cell_type": "code",
   "execution_count": 133,
   "metadata": {},
   "outputs": [
    {
     "data": {
      "text/plain": [
       "(29, 0.9666666666666667)"
      ]
     },
     "execution_count": 133,
     "metadata": {},
     "output_type": "execute_result"
    }
   ],
   "source": [
    "X_train, y_train, X_test, y_test =  train_test_split(X, y, .2)\n",
    "\n",
    "num_correct = 0\n",
    "\n",
    "for test_p, test_label in zip(X_test, y_test):\n",
    "    predicted_label = knn_classify(X_train, y_train, 5, test_p)\n",
    "    \n",
    "    if predicted_label == test_label:\n",
    "        num_correct += 1\n",
    "\n",
    "num_correct, num_correct / len(y_test)"
   ]
  },
  {
   "cell_type": "markdown",
   "metadata": {},
   "source": [
    "## 7. Naive Bayes"
   ]
  },
  {
   "cell_type": "markdown",
   "metadata": {},
   "source": [
    "\n",
    "### Multinomial Naive Bayes"
   ]
  },
  {
   "cell_type": "code",
   "execution_count": 408,
   "metadata": {},
   "outputs": [],
   "source": [
    "import re\n",
    "from collections import defaultdict\n",
    "from typing import NamedTuple\n",
    "\n",
    "def tokenize(text, unique=False):\n",
    "    \"\"\"\n",
    "    tokenize message into  words\n",
    "    \"\"\"\n",
    "    \n",
    "    text = text.lower()\n",
    "\n",
    "    words = re.findall(\"[a-z0-9']+\", text)\n",
    "    \n",
    "    return set(words) if unique else words\n",
    "\n",
    "assert tokenize('Data science is science') == ['data', 'science', 'is', 'science']\n",
    "\n",
    "\n",
    "class Message(NamedTuple):\n",
    "    text: str\n",
    "    is_spam: bool\n",
    "\n",
    "\n",
    "\n",
    "class MultinomialNB:\n",
    "    def __init__(self, alpha=1):\n",
    "        self.alpha = alpha\n",
    "\n",
    "        self.tokens = set()\n",
    "\n",
    "        self.token_count_spam = {}\n",
    "        self.token_count_ham = {}\n",
    "        \n",
    "        self.spam_messages = self.ham_messages = 0\n",
    "\n",
    "        \n",
    "    def train(self, inputs):\n",
    "        # the fraction of spam or ham\n",
    "        for msg in inputs:\n",
    "            if msg.is_spam:\n",
    "                self.spam_messages += 1\n",
    "            else:\n",
    "                self.ham_messages += 1\n",
    "\n",
    "  \n",
    "            for word in tokenize(msg.text):\n",
    "                # vocabulary\n",
    "                self.tokens.add(word)\n",
    "\n",
    "                if msg.is_spam:\n",
    "                    if word not in self.token_count_spam:\n",
    "                        self.token_count_spam[word] = 0\n",
    "                    \n",
    "                    self.token_count_spam[word] += 1\n",
    "                else:\n",
    "                    if word not in self.token_count_ham:\n",
    "                        self.token_count_ham[word] = 0\n",
    "\n",
    "                    self.token_count_ham[word] += 1\n",
    "\n",
    "\n",
    "    def _probabilities(self, token):\n",
    "        \"\"\"\n",
    "        returns P(token | spam) and P(token | not spam)\n",
    "        \"\"\"\n",
    "\n",
    "        num_token_in_spam = self.token_count_spam.get(token, 0)\n",
    "        num_token_in_ham = self.token_count_ham.get(token, 0)\n",
    "        \n",
    "\n",
    "        v = len(self.tokens) * self.alpha\n",
    "        total_num_words_in_spam = sum(self.token_count_spam.values())\n",
    "        total_num_words_in_ham = sum(self.token_count_ham.values())\n",
    "\n",
    "        prob_token_spam = (num_token_in_spam + self.alpha) / (total_num_words_in_spam + v)\n",
    "        prob_token_ham = (num_token_in_ham + self.alpha) / (total_num_words_in_ham + v)\n",
    "\n",
    "        return prob_token_spam, prob_token_ham\n",
    "\n",
    "  \n",
    "    def predict(self, message):\n",
    "        log_prob_if_spam = log_prob_if_ham = 0.0\n",
    "\n",
    "        for word in tokenize(message):\n",
    "            p_token_spam, p_token_ham = self._probabilities(word)\n",
    "\n",
    "            log_prob_if_spam += math.log(p_token_spam)\n",
    "            log_prob_if_ham += math.log(p_token_ham)\n",
    "\n",
    "        # prior prob of class_i\n",
    "        prior_spam = self.spam_messages / (self.spam_messages + self.ham_messages)\n",
    "\n",
    "        # p(spam|token) vs p(not spam|token)\n",
    "        prob_spam_token = math.exp(log_prob_if_spam) * prior_spam \n",
    "        prob_ham_token = math.exp(log_prob_if_ham) * (1 - prior_spam)        \n",
    "\n",
    "        return prob_spam_token, prob_ham_token\n"
   ]
  },
  {
   "cell_type": "code",
   "execution_count": 409,
   "metadata": {},
   "outputs": [
    {
     "data": {
      "text/plain": [
       "(0.00030121377997263015, 0.00013548070246744218)"
      ]
     },
     "execution_count": 409,
     "metadata": {},
     "output_type": "execute_result"
    }
   ],
   "source": [
    "\"\"\"\n",
    "Example\n",
    "\"\"\"\n",
    "\n",
    "messages = [\n",
    "    Message(\"Chinese Beijing Chinese\", is_spam=True),\n",
    "    Message(\"Chinese Chinese Shanghai\", is_spam=True),\n",
    "    Message(\"Chinese Macao\", is_spam=True),\n",
    "    Message(\"Tokyo Japan Chinese\", is_spam=False)\n",
    "]\n",
    "\n",
    "model = MultinomialNB(alpha=1)\n",
    "model.train(messages)\n",
    "\n",
    "# \"Chinese\" win\n",
    "model.predict(\"Chinese Chinese Chinese Tokyo Japan\")"
   ]
  },
  {
   "cell_type": "markdown",
   "metadata": {},
   "source": [
    "### Bernoulli Naive Bayes"
   ]
  },
  {
   "cell_type": "code",
   "execution_count": 417,
   "metadata": {},
   "outputs": [],
   "source": [
    "\n",
    "class BernoulliNB:\n",
    "    def __init__(self, alpha=1):\n",
    "        self.alpha = alpha\n",
    "\n",
    "        self.tokens = set()\n",
    "\n",
    "        self.token_doc_count_spam = {}\n",
    "        self.token_doc_count_ham = {}\n",
    "        \n",
    "        self.spam_messages = self.ham_messages = 0\n",
    "\n",
    "        \n",
    "    def train(self, inputs):\n",
    "        # the fraction of spam or ham\n",
    "        for msg in inputs:\n",
    "            if msg.is_spam:\n",
    "                self.spam_messages += 1\n",
    "            else:\n",
    "                self.ham_messages += 1\n",
    "\n",
    "  \n",
    "            for word in tokenize(msg.text, unique=True):\n",
    "                # unique vocabulary\n",
    "                self.tokens.add(word)\n",
    "\n",
    "                if msg.is_spam:\n",
    "                    if word not in self.token_doc_count_spam:\n",
    "                        self.token_doc_count_spam[word] = 0\n",
    "                    \n",
    "                    self.token_doc_count_spam[word] += 1\n",
    "                else:\n",
    "                    if word not in self.token_doc_count_ham:\n",
    "                        self.token_doc_count_ham[word] = 0\n",
    "\n",
    "                    self.token_doc_count_ham[word] += 1\n",
    "\n",
    "\n",
    "    def _probabilities(self, token):\n",
    "        \"\"\"\n",
    "        p(token|spam): fraction of documents of class_i that contains token\n",
    "        returns P(token | spam) and P(token | not spam)\n",
    "        \"\"\"\n",
    "\n",
    "        num_token_doc_in_spam = self.token_doc_count_spam.get(token, 0)\n",
    "        num_token_doc_in_ham = self.token_doc_count_ham.get(token, 0)\n",
    "\n",
    "        prob_token_spam = (num_token_doc_in_spam + self.alpha) / (self.spam_messages + 2 * self.alpha)\n",
    "        prob_token_ham = (num_token_doc_in_ham + self.alpha) / (self.ham_messages + 2 * self.alpha)\n",
    "\n",
    "        return prob_token_spam, prob_token_ham\n",
    "\n",
    "  \n",
    "    def predict(self, message):\n",
    "        log_prob_if_spam = log_prob_if_ham = 0.0\n",
    "\n",
    "        test_words = tokenize(message, unique=True)\n",
    "\n",
    "        for token in self.tokens:\n",
    "            p_token_spam, p_token_ham = self._probabilities(token)\n",
    "\n",
    "            if token in test_words:\n",
    "                log_prob_if_spam += math.log(p_token_spam)\n",
    "                log_prob_if_ham += math.log(p_token_ham)\n",
    "            else:\n",
    "                log_prob_if_spam += math.log(1 - p_token_spam)\n",
    "                log_prob_if_ham += math.log(1 - p_token_ham)\n",
    "            \n",
    "\n",
    "        # prior prob of class_i\n",
    "        prior_spam = self.spam_messages / (self.spam_messages + self.ham_messages)\n",
    "\n",
    "        # p(spam|token) vs p(not spam|token)\n",
    "        prob_spam_token = math.exp(log_prob_if_spam) * prior_spam \n",
    "        prob_ham_token = math.exp(log_prob_if_ham) * (1 - prior_spam)        \n",
    "\n",
    "        return prob_spam_token, prob_ham_token\n"
   ]
  },
  {
   "cell_type": "code",
   "execution_count": 418,
   "metadata": {},
   "outputs": [
    {
     "data": {
      "text/plain": [
       "(0.005184000000000002, 0.02194787379972565)"
      ]
     },
     "execution_count": 418,
     "metadata": {},
     "output_type": "execute_result"
    }
   ],
   "source": [
    "\"\"\"\n",
    "Example\n",
    "\"\"\"\n",
    "\n",
    "bernoulli_model = BernoulliNB(alpha=1)\n",
    "bernoulli_model.train(messages)\n",
    "\n",
    "# \"not Chinese\" win because it ignores the frequence\n",
    "# the probability of Tokyo and Japan in \"Chinese\" is smaller than in \"not Chinese\"\n",
    "bernoulli_model.predict(\"Chinese Chinese Chinese Tokyo Japan\")"
   ]
  },
  {
   "cell_type": "code",
   "execution_count": 420,
   "metadata": {},
   "outputs": [
    {
     "data": {
      "text/plain": [
       "(0.017523765563964844, 0.0016479492187499998)"
      ]
     },
     "execution_count": 420,
     "metadata": {},
     "output_type": "execute_result"
    }
   ],
   "source": [
    "\"\"\"\n",
    "Example\n",
    "\"\"\"\n",
    "\n",
    "\n",
    "messages_1 = [Message(\"spam rules\", is_spam=True),\n",
    "            Message(\"ham rules\", is_spam=False),\n",
    "            Message(\"hello ham\", is_spam=False)]\n",
    "\n",
    "model_1 = BernoulliNB(alpha=0.5)\n",
    "model_1.train(messages)\n",
    "\n",
    "# \"Spam\" win\n",
    "model_1.predict(\"hello spam\")"
   ]
  },
  {
   "cell_type": "markdown",
   "metadata": {},
   "source": [
    "### Gaussian Naive Bayes"
   ]
  },
  {
   "cell_type": "code",
   "execution_count": null,
   "metadata": {},
   "outputs": [],
   "source": []
  },
  {
   "cell_type": "code",
   "execution_count": null,
   "metadata": {},
   "outputs": [],
   "source": []
  },
  {
   "cell_type": "code",
   "execution_count": null,
   "metadata": {},
   "outputs": [],
   "source": []
  },
  {
   "cell_type": "markdown",
   "metadata": {},
   "source": [
    "## 8. Clustering"
   ]
  },
  {
   "cell_type": "markdown",
   "metadata": {},
   "source": [
    "### K-means"
   ]
  },
  {
   "cell_type": "code",
   "execution_count": 349,
   "metadata": {},
   "outputs": [],
   "source": [
    "\"\"\"\n",
    "Goal: identify clusters of similar inputs\n",
    "\"\"\"\n",
    "\n",
    "def num_diff(v1, v2):\n",
    "    \"\"\"\n",
    "    Tracking the training process\n",
    "    \"\"\"\n",
    "    return len([x for x, y in zip(v1, v2) if x != y])\n",
    "\n",
    "\n",
    "\n",
    "class Kmeans:\n",
    "    def __init__(self, k):\n",
    "        self.k = k\n",
    "        self.means = None\n",
    "        self.clusters = None\n",
    "\n",
    "\n",
    "    def cluster_means(self, k, inputs, assignments):\n",
    "        \"\"\"\n",
    "        Calculate the center of cluster\n",
    "        randomly pick one of the points if it's empty\n",
    "        \"\"\"\n",
    "        self.clusters = [[] for i in range(k)]\n",
    "\n",
    "        \n",
    "        for point, assignment in zip(inputs, assignments):\n",
    "            self.clusters[assignment].append(point)\n",
    "\n",
    "\n",
    "        return [ vector_mean(cluster) if cluster else random.choice(inputs) for cluster in self.clusters ]\n",
    "\n",
    "\n",
    "    def classify(self, point):\n",
    "        \"\"\"\n",
    "        return the index of the cluster closest to the input\n",
    "        \"\"\"\n",
    "        return min(range(self.k), key=lambda i: squared_distance(point, self.means[i]))\n",
    "\n",
    "    \n",
    "    def EStep(self, inputs):\n",
    "        assignments = []\n",
    "        self.means = self.cluster_means(self.k, inputs, assignments)\n",
    "\n",
    "        with tqdm.tqdm(itertools.count()) as t:\n",
    "            for _ in t:\n",
    "                # cluster\n",
    "                new_assignments = [ self.classify(p) for p in inputs ]\n",
    "\n",
    "                # threshold: == 0 or <= 100, etc\n",
    "                if assignments and num_diff(assignments, new_assignments) == 0:\n",
    "                    break\n",
    "\n",
    "                # MStep\n",
    "                self.means = self.cluster_means(self.k, inputs, new_assignments)\n",
    "                assignments = new_assignments\n"
   ]
  },
  {
   "cell_type": "code",
   "execution_count": 87,
   "metadata": {},
   "outputs": [
    {
     "name": "stderr",
     "output_type": "stream",
     "text": [
      "2it [00:00, 1550.29it/s]\n"
     ]
    },
    {
     "data": {
      "text/plain": [
       "<matplotlib.collections.PathCollection at 0x7fdb320cfc40>"
      ]
     },
     "execution_count": 87,
     "metadata": {},
     "output_type": "execute_result"
    },
    {
     "data": {
      "image/png": "[encoded data removed]",
      "text/plain": [
       "<Figure size 432x288 with 1 Axes>"
      ]
     },
     "metadata": {
      "needs_background": "light"
     },
     "output_type": "display_data"
    }
   ],
   "source": [
    "\"\"\"\n",
    "Examples\n",
    "\"\"\"\n",
    "\n",
    "inputs_cluster = [[-14,-5],[13,13],[20,23],[-19,-11],[-9,-16],[21,27],[-49,15],[26,13],[-46,5],[-34,-1],[11,15],[-49,0],[-22,-16],[19,28],[-12,-8],[-13,-19],[-41,8],[-11,-6],[-25,-9],[-18,-3]]\n",
    "\n",
    "# plot points\n",
    "inputs_cluster_np = np.array(inputs_cluster)\n",
    "plt.scatter(inputs_cluster_np[:, 0], inputs_cluster_np[:, 1])\n",
    "\n",
    "\n",
    "clusterer = Kmeans(k=3)\n",
    "clusterer.EStep(inputs_cluster)\n",
    "\n",
    "# plot centers\n",
    "means = np.array(clusterer.means)\n",
    "plt.scatter(means[:, 0], means[:, 1])\n",
    "\n"
   ]
  },
  {
   "cell_type": "markdown",
   "metadata": {},
   "source": [
    "### Choosing K"
   ]
  },
  {
   "cell_type": "code",
   "execution_count": 98,
   "metadata": {},
   "outputs": [
    {
     "name": "stderr",
     "output_type": "stream",
     "text": [
      "1it [00:00, 405.21it/s]\n",
      "2it [00:00, 1861.65it/s]\n",
      "1it [00:00, 895.26it/s]\n",
      "1it [00:00, 552.75it/s]\n",
      "2it [00:00, 1353.87it/s]\n",
      "4it [00:00, 1882.33it/s]\n",
      "3it [00:00, 1402.62it/s]\n",
      "2it [00:00, 836.44it/s]\n",
      "5it [00:00, 1448.51it/s]\n",
      "3it [00:00, 1078.41it/s]\n",
      "2it [00:00, 566.99it/s]\n",
      "3it [00:00, 733.70it/s]\n",
      "4it [00:00, 914.34it/s]\n",
      "2it [00:00, 131.38it/s]\n",
      "4it [00:00, 768.22it/s]\n",
      "5it [00:00, 906.09it/s]\n",
      "2it [00:00, 478.01it/s]\n",
      "5it [00:00, 912.40it/s]\n",
      "4it [00:00, 717.90it/s]\n",
      "6it [00:00, 837.77it/s]\n",
      "5it [00:00, 453.27it/s]\n",
      "3it [00:00, 483.16it/s]\n",
      "5it [00:00, 236.17it/s]\n",
      "5it [00:00, 565.48it/s]\n",
      "6it [00:00, 135.92it/s]\n",
      "6it [00:00, 488.49it/s]\n",
      "4it [00:00, 435.86it/s]\n",
      "2it [00:00, 461.57it/s]\n",
      "5it [00:00, 648.85it/s]\n",
      "4it [00:00, 199.44it/s]\n",
      "8it [00:00, 443.63it/s]\n",
      "4it [00:00, 547.20it/s]\n",
      "3it [00:00, 149.40it/s]\n",
      "8it [00:00, 448.96it/s]\n",
      "7it [00:00, 258.05it/s]\n",
      "4it [00:00, 318.12it/s]\n",
      "6it [00:00, 500.08it/s]\n",
      "2it [00:00, 115.57it/s]\n",
      "5it [00:00, 288.67it/s]\n",
      "5it [00:00, 262.19it/s]\n",
      "6it [00:00, 360.80it/s]\n",
      "4it [00:00, 204.74it/s]\n",
      "5it [00:00, 250.35it/s]\n",
      "3it [00:00, 173.12it/s]\n",
      "8it [00:00, 470.12it/s]\n",
      "5it [00:00, 452.08it/s]\n",
      "4it [00:00, 408.91it/s]\n",
      "8it [00:00, 285.31it/s]\n",
      "7it [00:00, 274.87it/s]\n",
      "6it [00:00, 298.31it/s]\n",
      "8it [00:00, 213.01it/s]\n",
      "5it [00:00, 280.50it/s]\n",
      "8it [00:00, 241.95it/s]\n",
      "5it [00:00, 122.19it/s]\n",
      "7it [00:00, 153.40it/s]\n",
      "5it [00:00, 257.85it/s]\n",
      "10it [00:00, 232.94it/s]\n",
      "5it [00:00, 251.07it/s]\n",
      "7it [00:00, 223.27it/s]\n",
      "5it [00:00, 203.33it/s]\n",
      "6it [00:00, 167.87it/s]\n",
      "9it [00:00, 227.72it/s]\n",
      "6it [00:00, 149.95it/s]\n",
      "6it [00:00, 184.89it/s]\n",
      "5it [00:00, 159.80it/s]\n",
      "5it [00:00, 156.37it/s]\n",
      "6it [00:00, 166.77it/s]\n",
      "7it [00:00, 150.70it/s]\n",
      "6it [00:00, 168.24it/s]\n",
      "5it [00:00, 120.87it/s]\n",
      "5it [00:00, 143.02it/s]\n",
      "8it [00:00, 194.49it/s]\n",
      "6it [00:00, 196.70it/s]\n",
      "7it [00:00, 208.86it/s]\n",
      "6it [00:00, 187.51it/s]\n",
      "5it [00:00, 157.81it/s]\n",
      "7it [00:00, 164.30it/s]\n",
      "3it [00:00, 124.88it/s]\n",
      "5it [00:00, 112.56it/s]\n",
      "5it [00:00, 185.64it/s]\n",
      "6it [00:00, 163.83it/s]\n",
      "8it [00:00, 158.39it/s]\n",
      "5it [00:00, 143.97it/s]\n",
      "4it [00:00, 183.77it/s]\n",
      "5it [00:00, 110.91it/s]\n",
      "5it [00:00, 124.78it/s]\n",
      "6it [00:00, 130.12it/s]\n",
      "5it [00:00, 206.81it/s]\n",
      "3it [00:00, 72.60it/s]\n",
      "10it [00:00, 106.50it/s]\n",
      "7it [00:00, 92.21it/s]\n",
      "6it [00:00, 115.84it/s]\n",
      "4it [00:00, 118.87it/s]\n",
      "2it [00:00, 150.57it/s]\n",
      "5it [00:00, 112.81it/s]\n",
      "5it [00:00, 164.45it/s]\n",
      "5it [00:00, 129.46it/s]\n",
      "6it [00:00, 147.97it/s]\n",
      "5it [00:00, 163.12it/s]\n",
      "8it [00:00, 138.80it/s]\n",
      "6it [00:00, 139.30it/s]\n",
      "8it [00:00, 150.71it/s]\n",
      "3it [00:00, 144.11it/s]\n",
      "5it [00:00, 104.26it/s]\n",
      "3it [00:00, 107.51it/s]\n",
      "4it [00:00, 97.81it/s]\n",
      "5it [00:00, 81.83it/s]\n",
      "6it [00:00, 120.00it/s]\n",
      "9it [00:00, 135.69it/s]\n",
      "10it [00:00, 151.20it/s]\n",
      "4it [00:00, 134.71it/s]\n",
      "7it [00:00, 150.94it/s]\n",
      "5it [00:00, 131.02it/s]\n",
      "6it [00:00, 143.31it/s]\n",
      "5it [00:00, 123.52it/s]\n",
      "5it [00:00, 98.31it/s]\n",
      "5it [00:00, 129.01it/s]\n",
      "9it [00:00, 148.04it/s]\n",
      "9it [00:00, 115.42it/s]\n",
      "7it [00:00, 99.95it/s]\n",
      "7it [00:00, 102.25it/s]\n",
      "6it [00:00, 82.12it/s]\n",
      "2it [00:00, 111.74it/s]\n",
      "5it [00:00, 139.04it/s]\n",
      "6it [00:00, 122.55it/s]\n",
      "5it [00:00, 141.05it/s]\n",
      "5it [00:00, 152.25it/s]\n",
      "5it [00:00, 100.05it/s]\n",
      "7it [00:00, 133.04it/s]\n",
      "5it [00:00, 150.19it/s]\n",
      "7it [00:00, 128.91it/s]\n",
      "5it [00:00, 133.70it/s]\n",
      "6it [00:00, 133.09it/s]\n",
      "5it [00:00, 93.50it/s]\n",
      "8it [00:00, 127.09it/s]\n",
      "4it [00:00, 110.26it/s]\n",
      "5it [00:00, 115.81it/s]\n",
      "4it [00:00, 103.58it/s]\n",
      "8it [00:00, 145.05it/s]\n",
      "4it [00:00, 101.76it/s]\n",
      "4it [00:00, 98.83it/s]\n",
      "7it [00:00, 123.63it/s]\n",
      "5it [00:00, 136.52it/s]\n",
      "3it [00:00, 48.27it/s]\n",
      "5it [00:00, 84.82it/s]\n",
      "5it [00:00, 88.51it/s]\n",
      "9it [00:00, 52.14it/s]\n",
      "3it [00:00, 77.21it/s]\n",
      "6it [00:00, 77.53it/s]\n",
      "6it [00:00, 103.02it/s]\n",
      "6it [00:00, 93.76it/s]\n",
      "7it [00:00, 117.75it/s]\n",
      "4it [00:00, 96.72it/s]\n",
      "7it [00:00, 60.35it/s]\n",
      "6it [00:00, 119.05it/s]\n",
      "7it [00:00, 83.68it/s]\n",
      "8it [00:00, 110.60it/s]\n",
      "6it [00:00, 111.97it/s]\n",
      "3it [00:00, 69.58it/s]\n",
      "5it [00:00, 81.60it/s]\n",
      "3it [00:00, 118.95it/s]\n",
      "8it [00:00, 117.83it/s]\n",
      "7it [00:00, 84.45it/s]\n",
      "5it [00:00, 84.94it/s]\n",
      "5it [00:00, 64.34it/s]\n",
      "4it [00:00, 113.81it/s]\n",
      "4it [00:00, 93.24it/s]\n",
      "6it [00:00, 97.92it/s]\n",
      "7it [00:00, 97.54it/s]\n",
      "3it [00:00, 59.75it/s]\n",
      "5it [00:00, 80.11it/s]\n",
      "7it [00:00, 120.63it/s]\n",
      "3it [00:00, 78.76it/s]\n",
      "6it [00:00, 96.79it/s]\n",
      "5it [00:00, 96.90it/s]\n",
      "5it [00:00, 107.47it/s]\n",
      "9it [00:00, 117.90it/s]\n",
      "7it [00:00, 94.24it/s]\n",
      "7it [00:00, 106.45it/s]\n",
      "3it [00:00, 77.01it/s]\n",
      "4it [00:00, 74.22it/s]\n",
      "4it [00:00, 100.23it/s]\n",
      "6it [00:00, 70.84it/s]\n",
      "7it [00:00, 68.91it/s]\n",
      "3it [00:00, 72.94it/s]\n",
      "4it [00:00, 76.49it/s]\n",
      "4it [00:00, 60.42it/s]\n",
      "4it [00:00, 90.57it/s]\n",
      "6it [00:00, 77.30it/s]\n",
      "5it [00:00, 75.51it/s]\n",
      "4it [00:00, 67.12it/s]\n",
      "7it [00:00, 57.42it/s]\n",
      "4it [00:00, 67.39it/s]\n",
      "5it [00:00, 67.72it/s]\n",
      "5it [00:00, 67.13it/s]\n",
      "9it [00:00, 61.45it/s]\n",
      "3it [00:00, 54.33it/s]\n",
      "5it [00:00, 62.01it/s]\n",
      "6it [00:00, 47.72it/s]\n",
      "5it [00:00, 43.76it/s]\n",
      "4it [00:00, 73.84it/s]\n",
      "4it [00:00, 55.10it/s]\n",
      "3it [00:00, 64.96it/s]\n"
     ]
    },
    {
     "data": {
      "text/plain": [
       "[<matplotlib.lines.Line2D at 0x7fdb36438700>]"
      ]
     },
     "execution_count": 98,
     "metadata": {},
     "output_type": "execute_result"
    },
    {
     "data": {
      "image/png": "[encoded data removed]",
      "text/plain": [
       "<Figure size 432x288 with 1 Axes>"
      ]
     },
     "metadata": {
      "needs_background": "light"
     },
     "output_type": "display_data"
    }
   ],
   "source": [
    "def squared_classify_error(inputs, k):\n",
    "    clusterer = Kmeans(k)\n",
    "    clusterer.EStep(inputs)\n",
    "    \n",
    "    assignments = [ clusterer.classify(p) for p in inputs ]\n",
    "\n",
    "    return sum( squared_distance(p, clusterer.means[assignment]) for p, assignment in zip(inputs, assignments) )\n",
    "\n",
    "\n",
    "ks = range(1, len(inputs) + 1)\n",
    "errors = [ squared_classify_error(inputs_cluster, i) for i in ks ]\n",
    "plt.plot(ks, errors)"
   ]
  },
  {
   "cell_type": "markdown",
   "metadata": {},
   "source": [
    "### Image Segmentation"
   ]
  },
  {
   "cell_type": "code",
   "execution_count": 101,
   "metadata": {},
   "outputs": [
    {
     "data": {
      "text/plain": [
       "(512, 512, 3)"
      ]
     },
     "execution_count": 101,
     "metadata": {},
     "output_type": "execute_result"
    },
    {
     "data": {
      "image/png": "[encoded data removed]",
      "text/plain": [
       "<Figure size 432x288 with 1 Axes>"
      ]
     },
     "metadata": {
      "needs_background": "light"
     },
     "output_type": "display_data"
    }
   ],
   "source": [
    "image_path = r\"IMG_3400.JPG\"    # wherever your image is\n",
    "\n",
    "img = mpimg.imread(image_path) / 256  # rescale to between 0 and 1\n",
    "plt.imshow(img)\n",
    "plt.axis('off')\n",
    "\n",
    "img.shape"
   ]
  },
  {
   "cell_type": "code",
   "execution_count": 91,
   "metadata": {},
   "outputs": [
    {
     "name": "stderr",
     "output_type": "stream",
     "text": [
      "44it [02:27,  3.36s/it]\n"
     ]
    }
   ],
   "source": [
    "pixels = [ pixel.tolist() for row in img for pixel in row ]\n",
    "\n",
    "cluterer_image = Kmeans(6)\n",
    "cluterer_image.EStep(pixels)\n"
   ]
  },
  {
   "cell_type": "code",
   "execution_count": 92,
   "metadata": {},
   "outputs": [],
   "source": [
    "def recolor(pixel):\n",
    "    \"\"\"\n",
    "    Construct a new image with the same format\n",
    "    \"\"\"\n",
    "    cluster_index = cluterer_image.classify(pixel)\n",
    "    return cluterer_image.means[cluster_index]"
   ]
  },
  {
   "cell_type": "code",
   "execution_count": 96,
   "metadata": {},
   "outputs": [
    {
     "data": {
      "text/plain": [
       "(-0.5, 511.5, 511.5, -0.5)"
      ]
     },
     "execution_count": 96,
     "metadata": {},
     "output_type": "execute_result"
    },
    {
     "data": {
      "image/png": "[encoded data removed]",
      "text/plain": [
       "<Figure size 432x288 with 1 Axes>"
      ]
     },
     "metadata": {
      "needs_background": "light"
     },
     "output_type": "display_data"
    }
   ],
   "source": [
    "new_img = [ [ recolor(pixel) for pixel in row ] for row in img ]\n",
    "\n",
    "plt.imshow(new_img)\n",
    "plt.axis('off')\n"
   ]
  },
  {
   "cell_type": "markdown",
   "metadata": {},
   "source": [
    "### Hierarchical Clustering"
   ]
  },
  {
   "cell_type": "code",
   "execution_count": null,
   "metadata": {},
   "outputs": [],
   "source": []
  },
  {
   "cell_type": "code",
   "execution_count": null,
   "metadata": {},
   "outputs": [],
   "source": []
  },
  {
   "cell_type": "code",
   "execution_count": null,
   "metadata": {},
   "outputs": [],
   "source": []
  },
  {
   "cell_type": "markdown",
   "metadata": {},
   "source": [
    "## 9. PCA"
   ]
  },
  {
   "cell_type": "code",
   "execution_count": 87,
   "metadata": {},
   "outputs": [
    {
     "data": {
      "text/plain": [
       "<matplotlib.collections.PathCollection at 0x7fe5daa065b0>"
      ]
     },
     "execution_count": 87,
     "metadata": {},
     "output_type": "execute_result"
    },
    {
     "data": {
      "image/png": "[encoded data removed]",
      "text/plain": [
       "<Figure size 432x288 with 1 Axes>"
      ]
     },
     "metadata": {
      "needs_background": "light"
     },
     "output_type": "display_data"
    }
   ],
   "source": [
    "\n",
    "pca_data = [\n",
    "[20.9666776351559,-13.1138080189357],\n",
    "[22.7719907680008,-19.8890894944696],\n",
    "[25.6687103160153,-11.9956004517219],\n",
    "[18.0019794950564,-18.1989191165133],\n",
    "[21.3967402102156,-10.8893126308196],\n",
    "[0.443696899177716,-19.7221132386308],\n",
    "[29.9198322142127,-14.0958668502427],\n",
    "[19.0805843080126,-13.7888747608312],\n",
    "[16.4685063521314,-11.2612927034291],\n",
    "[21.4597664701884,-12.4740034586705],\n",
    "[3.87655283720532,-17.575162461771],\n",
    "[34.5713920556787,-10.705185165378],\n",
    "[13.3732115747722,-16.7270274494424],\n",
    "[20.7281704141919,-8.81165591556553],\n",
    "[24.839851437942,-12.1240962157419],\n",
    "[20.3019544741252,-12.8725060780898],\n",
    "[21.9021426929599,-17.3225432396452],\n",
    "[23.2285885715486,-12.2676568419045],\n",
    "[28.5749111681851,-13.2616470619453],\n",
    "[29.2957424128701,-14.6299928678996],\n",
    "[15.2495527798625,-18.4649714274207],\n",
    "[26.5567257400476,-9.19794350561966],\n",
    "[30.1934232346361,-12.6272709845971],\n",
    "[36.8267446011057,-7.25409849336718],\n",
    "[32.157416823084,-10.4729534347553],\n",
    "[5.85964365291694,-22.6573731626132],\n",
    "[25.7426190674693,-14.8055803854566],\n",
    "[16.237602636139,-16.5920595763719],\n",
    "[14.7408608850568,-20.0537715298403],\n",
    "[6.85907008242544,-18.3965586884781],\n",
    "[26.5918329233128,-8.92664811750842],\n",
    "[-11.2216019958228,-27.0519081982856],\n",
    "[8.93593745011035,-20.8261235122575],\n",
    "[24.4481258671796,-18.0324012215159],\n",
    "[2.82048515404903,-22.4208457598703],\n",
    "[30.8803004755948,-11.455358009593],\n",
    "[15.4586738236098,-11.1242825084309],\n",
    "[28.5332537090494,-14.7898744423126],\n",
    "[40.4830293441052,-2.41946428697183],\n",
    "[15.7563759125684,-13.5771266003795],\n",
    "[19.3635588851727,-20.6224770470434],\n",
    "[13.4212840786467,-19.0238227375766],\n",
    "[7.77570680426702,-16.6385739839089],\n",
    "[21.4865983854408,-15.290799330002],\n",
    "[12.6392705930724,-23.6433305964301],\n",
    "[12.4746151388128,-17.9720169566614],\n",
    "[23.4572410437998,-14.602080545086],\n",
    "[13.6878189833565,-18.9687408182414],\n",
    "[15.4077465943441,-14.5352487124086],\n",
    "[20.3356581548895,-10.0883159703702],\n",
    "[20.7093833689359,-12.6939091236766],\n",
    "[11.1032293684441,-14.1383848928755],\n",
    "[17.5048321498308,-9.2338593361801],\n",
    "[16.3303688220188,-15.1054735529158],\n",
    "[26.6929062710726,-13.306030567991],\n",
    "[34.4985678099711,-9.86199941278607],\n",
    "[39.1374291499406,-10.5621430853401],\n",
    "[21.9088956482146,-9.95198845621849],\n",
    "[22.2367457578087,-17.2200123442707],\n",
    "[10.0032784145577,-19.3557700653426],\n",
    "[14.045833906665,-15.871937521131],\n",
    "[15.5640911917607,-18.3396956121887],\n",
    "[24.4771926581586,-14.8715313479137],\n",
    "[26.533415556629,-14.693883922494],\n",
    "[12.8722580202544,-21.2750596021509],\n",
    "[24.4768291376862,-15.9592080959207],\n",
    "[18.2230748567433,-14.6541444069985],\n",
    "[4.1902148367447,-20.6144032528762],\n",
    "[12.4332594022086,-16.6079789231489],\n",
    "[20.5483758651873,-18.8512560786321],\n",
    "[17.8180560451358,-12.5451990696752],\n",
    "[11.0071081078049,-20.3938092335862],\n",
    "[8.30560561422449,-22.9503944138682],\n",
    "[33.9857852657284,-4.8371294974382],\n",
    "[17.4376502239652,-14.5095976075022],\n",
    "[29.0379635148943,-14.8461553663227],\n",
    "[29.1344666599319,-7.70862921632672],\n",
    "[32.9730697624544,-15.5839178785654],\n",
    "[13.4211493998212,-20.150199857584],\n",
    "[11.380538260355,-12.8619410359766],\n",
    "[28.672631499186,-8.51866271785711],\n",
    "[16.4296061111902,-23.3326051279759],\n",
    "[25.7168371582585,-13.8899296143829],\n",
    "[13.3185154732595,-17.8959160024249],\n",
    "[3.60832478605376,-25.4023343597712],\n",
    "[39.5445949652652,-11.466377647931],\n",
    "[25.1693484426101,-12.2752652925707],\n",
    "[25.2884257196471,-7.06710309184533],\n",
    "[6.77665715793125,-22.3947299635571],\n",
    "[20.1844223778907,-16.0427471125407],\n",
    "[25.5506805272535,-9.33856532270204],\n",
    "[25.1495682602477,-7.17350567090738],\n",
    "[15.6978431006492,-17.5979197162642],\n",
    "[37.42780451491,-10.843637288504],\n",
    "[22.974620174842,-10.6171162611686],\n",
    "[34.6327117468934,-9.26182440487384],\n",
    "[34.7042513789061,-6.9630753351114],\n",
    "[15.6563953929008,-17.2196961218915],\n",
    "[25.2049825789225,-14.1592086208169]\n",
    "]\n",
    "\n",
    "np_pca_data = np.array(pca_data)\n",
    "plt.scatter(np_pca_data[:, 0], np_pca_data[:, 1])\n"
   ]
  },
  {
   "cell_type": "code",
   "execution_count": 88,
   "metadata": {},
   "outputs": [],
   "source": [
    "def direction(w):\n",
    "    \"\"\"\n",
    "    for a given direction d(a vector of magnitude 1)\n",
    "    \"\"\"\n",
    "    mag = magnitude(w)\n",
    "    return [ w_i / mag for w_i in w ]\n",
    "\n",
    "\n",
    "def directional_variance(data, w):\n",
    "    \"\"\"\n",
    "    maximize the variance\n",
    "    \"\"\"\n",
    "    w_dir = direction(w)\n",
    "    return sum(dot(v, w_dir)**2 for v in data)\n",
    "\n",
    "\n",
    "def directional_variance_gradient(data, w):\n",
    "    \"\"\"\n",
    "    the gradient of directional variance with respect to w\n",
    "    \"\"\"\n",
    "    w_dir = direction(w)\n",
    "    return [ sum(2 * dot(v, w_dir) * v[i] for v in data) for i in range(len(w)) ]\n",
    "\n",
    "\n",
    "def first_principal_component(data, n=100, step_size=0.1):\n",
    "    guess = [1 for _ in data[0]]\n",
    "\n",
    "    with tqdm.trange(n) as t:\n",
    "        for _ in t:\n",
    "            dv = directional_variance(data, guess)\n",
    "            gradient_step(guess, directional_variance_gradient(data, guess), step_size)\n",
    "            t.set_description(f\"dv: {dv: .3f}\")\n",
    "\n",
    "    return direction(guess)\n"
   ]
  },
  {
   "cell_type": "code",
   "execution_count": 89,
   "metadata": {},
   "outputs": [
    {
     "name": "stderr",
     "output_type": "stream",
     "text": [
      "dv:  8893.505: 100%|██████████| 100/100 [00:00<00:00, 300.08it/s]\n"
     ]
    },
    {
     "name": "stdout",
     "output_type": "stream",
     "text": [
      "[0.7071067811865475, 0.7071067811865475]\n"
     ]
    },
    {
     "data": {
      "image/png": "[encoded data removed]",
      "text/plain": [
       "<Figure size 432x288 with 1 Axes>"
      ]
     },
     "metadata": {
      "needs_background": "light"
     },
     "output_type": "display_data"
    }
   ],
   "source": [
    "\n",
    "mean_pca_data = vector_mean(pca_data)\n",
    "de_mean_pca_data = [ v_subtract(v, mean_pca_data) for v in pca_data ]\n",
    "\n",
    "# plot\n",
    "np_de_mean_pca_data = np.array(de_mean_pca_data)\n",
    "plt.scatter(np_de_mean_pca_data[:, 0], np_de_mean_pca_data[:, 1])\n",
    "\n",
    "\n",
    "# the first component\n",
    "pca_w1 = first_principal_component(de_mean_pca_data)\n",
    "plt.plot([0, pca_w1[0] * 10], [0, pca_w1[1] * 10], c='r')\n",
    "\n",
    "\n",
    "print(pca_w1)"
   ]
  },
  {
   "cell_type": "code",
   "execution_count": 90,
   "metadata": {},
   "outputs": [
    {
     "data": {
      "text/plain": [
       "<matplotlib.collections.PathCollection at 0x7fe5dac2fbb0>"
      ]
     },
     "execution_count": 90,
     "metadata": {},
     "output_type": "execute_result"
    },
    {
     "data": {
      "image/png": "[encoded data removed]",
      "text/plain": [
       "<Figure size 432x288 with 1 Axes>"
      ]
     },
     "metadata": {
      "needs_background": "light"
     },
     "output_type": "display_data"
    }
   ],
   "source": [
    "def project(v, w):\n",
    "    \"\"\"\n",
    "    Project vector v on the direction of w\n",
    "    \"\"\"\n",
    "    projection_len = dot(v, w)\n",
    "    \n",
    "    # represent in original basis\n",
    "    return scalar_multiply(projection_len, w)\n",
    "    \n",
    "\n",
    "def remove_projection_from_vector(v, w):\n",
    "    return v_subtract(v, project(v, w))\n",
    "    \n",
    "    \n",
    "def remove_projection(data, w):\n",
    "    return [ remove_projection_from_vector(v, w) for v in data ]\n",
    "\n",
    "\n",
    "# remove the first component\n",
    "pca_data_remain = remove_projection(de_mean_pca_data, pca_w1)\n",
    "np_pca_data_remain = np.array(pca_data_remain)\n",
    "plt.scatter(np_pca_data_remain[:, 0], np_pca_data_remain[:, 1])\n"
   ]
  },
  {
   "cell_type": "code",
   "execution_count": 91,
   "metadata": {},
   "outputs": [],
   "source": [
    "def pca(data, num_components):\n",
    "    components = []\n",
    "\n",
    "    for _ in range(num_components):\n",
    "        component = first_principal_component(data)\n",
    "        components.append(component)\n",
    "        data = remove_projection(data, component)\n",
    "\n",
    "    return components\n",
    "\n",
    "def transform_vector(v, components):\n",
    "    return [ dot(v, w) for w in components ]\n",
    "\n",
    "\n",
    "def transform_data(data, components):\n",
    "    return [transform_vector(v, components) for v in data ]"
   ]
  },
  {
   "cell_type": "code",
   "execution_count": 102,
   "metadata": {},
   "outputs": [
    {
     "name": "stderr",
     "output_type": "stream",
     "text": [
      "dv:  10390.639: 100%|██████████| 100/100 [00:00<00:00, 516.77it/s]\n",
      "dv:  0.000: 100%|██████████| 100/100 [00:00<00:00, 336.04it/s]\n"
     ]
    },
    {
     "data": {
      "text/plain": [
       "<matplotlib.collections.PathCollection at 0x7fe5db0c7f10>"
      ]
     },
     "execution_count": 102,
     "metadata": {},
     "output_type": "execute_result"
    },
    {
     "data": {
      "image/png": "[encoded data removed]",
      "text/plain": [
       "<Figure size 432x288 with 1 Axes>"
      ]
     },
     "metadata": {
      "needs_background": "light"
     },
     "output_type": "display_data"
    }
   ],
   "source": [
    "basis_pca_data = pca(pca_data, 2)\n",
    "\n",
    "np_basis_pca_data = np.array(transform_data(pca_data, basis_pca_data))\n",
    "\n",
    "plt.scatter(np_basis_pca_data[:, 0], np_basis_pca_data[:, 1])\n"
   ]
  },
  {
   "cell_type": "markdown",
   "metadata": {},
   "source": [
    "## 10. Neural Network"
   ]
  },
  {
   "cell_type": "markdown",
   "metadata": {},
   "source": [
    "### Perceptron"
   ]
  },
  {
   "cell_type": "code",
   "execution_count": 142,
   "metadata": {},
   "outputs": [],
   "source": [
    "\"\"\"\n",
    "The simplest neural network:\n",
    "\n",
    "approximates one neuron with n inputs\n",
    "\n",
    "It computes a weighted sum of its inputs and “fires” if that weighted sum is 0 or greater\n",
    "\"\"\"\n",
    "\n",
    "def p_step_function(y):\n",
    "    return 1 if y > 0 else 0\n",
    "\n",
    "\n",
    "def perceptron_output(w, x):\n",
    "    return p_step_function(dot(w, x))\n"
   ]
  },
  {
   "cell_type": "code",
   "execution_count": 148,
   "metadata": {},
   "outputs": [],
   "source": [
    "\"\"\"\n",
    "Example: AND gate\n",
    "\"\"\"\n",
    "\n",
    "and_weights = [-3, 2, 2]\n",
    "\n",
    "assert perceptron_output(and_weights, [1, 1, 1]) == 1\n",
    "assert perceptron_output(and_weights, [1, 0, 1]) == 0\n",
    "assert perceptron_output(and_weights, [1, 1, 0]) == 0\n",
    "assert perceptron_output(and_weights, [1, 0, 0]) == 0\n",
    "  \n",
    "or_weights = [-1, 2, 2]\n",
    "\n",
    "assert perceptron_output(or_weights, [1, 1, 1]) == 1\n",
    "assert perceptron_output(or_weights, [1, 0, 1]) == 1\n",
    "assert perceptron_output(or_weights, [1, 1, 0]) == 1\n",
    "assert perceptron_output(or_weights, [1, 0, 0]) == 0\n",
    " "
   ]
  },
  {
   "cell_type": "code",
   "execution_count": 167,
   "metadata": {
    "scrolled": true
   },
   "outputs": [
    {
     "data": {
      "text/plain": [
       "<matplotlib.legend.Legend at 0x7ff261112d60>"
      ]
     },
     "execution_count": 167,
     "metadata": {},
     "output_type": "execute_result"
    },
    {
     "data": {
      "image/png": "[encoded data removed]",
      "text/plain": [
       "<Figure size 432x288 with 1 Axes>"
      ]
     },
     "metadata": {
      "needs_background": "light"
     },
     "output_type": "display_data"
    }
   ],
   "source": [
    "fig, ax = plt.subplots()\n",
    "\n",
    "ax.scatter([1, 0, 1, 0], [1, 1, 0, 0])\n",
    "ax.set_ylim(-0.5, 1.5)\n",
    "ax.set_xlim(-0.5, 1.5)\n",
    "\n",
    "ts = np.linspace(-.5, 1.5, 20)\n",
    "ax.plot(ts, (-3+ 2*ts) / -2, label=\"AND boundary\")\n",
    "ax.plot(ts, (-1+ 2*ts) / -2, label=\"OR boundary\")\n",
    "\n",
    "ax.legend()"
   ]
  },
  {
   "cell_type": "markdown",
   "metadata": {},
   "source": [
    "### Feed-Forward Neural Networks"
   ]
  },
  {
   "cell_type": "code",
   "execution_count": 168,
   "metadata": {},
   "outputs": [],
   "source": [
    "def sigmoid(x):\n",
    "    return 1 / (1 + math.exp(-x))\n",
    "\n",
    "\n",
    "def neuron_output(weights, inputs):\n",
    "    return sigmoid(dot(weights, inputs))\n",
    "\n",
    "\n",
    "\"\"\"\n",
    "a neural network is a list (layers) of lists (neurons) of vectors (weights)\n",
    "\"\"\"\n",
    "def feed_forward(network, input_vector):\n",
    "    outputs = []\n",
    "\n",
    "    for layer in network:\n",
    "        input_i = input_vector + [1]\n",
    "\n",
    "        output = [ neuron_output(neuron, input_i) for neuron in layer ]\n",
    "        outputs.append(output)\n",
    "        \n",
    "        input_vector = output\n",
    "\n",
    "    return outputs"
   ]
  },
  {
   "cell_type": "code",
   "execution_count": 170,
   "metadata": {},
   "outputs": [],
   "source": [
    "\"\"\"\n",
    "XOR Gate\n",
    "\"\"\"\n",
    "xor_network = [# hidden layer\n",
    "               [[20., 20, -30],      # 'and' neuron\n",
    "                [20., 20, -10]],     # 'or'  neuron\n",
    "               # output layer\n",
    "               [[-60., 60, -30]]]    # '2nd input but not 1st input' neuron\n",
    "\n",
    "assert 0.000 < feed_forward(xor_network, [0, 0])[-1][0] < 0.001\n",
    "assert 0.999 < feed_forward(xor_network, [1, 0])[-1][0] < 1.000\n",
    "assert 0.999 < feed_forward(xor_network, [0, 1])[-1][0] < 1.000\n",
    "assert 0.000 < feed_forward(xor_network, [1, 1])[-1][0] < 0.001"
   ]
  },
  {
   "cell_type": "markdown",
   "metadata": {},
   "source": [
    "### Backpropagation"
   ]
  },
  {
   "cell_type": "code",
   "execution_count": 208,
   "metadata": {},
   "outputs": [],
   "source": [
    "def sqerror_gradient(network, input_vectors, target_vectors):\n",
    "    \"\"\"\n",
    "    Given a neural network, an input vector, and a target vector,\n",
    "    make a prediction and compute the gradient of the squared error\n",
    "    loss with respect to the neuron weights.\n",
    "    \"\"\"\n",
    "\n",
    "    # forward propagate, two layers: [[AND, OR], [output]]\n",
    "    hidden_outputs, outputs = feed_forward(network, input_vectors)\n",
    " \n",
    "    # gradients with respect to output neuron pre-activation outputs\n",
    "    output_deltas = [ (output - target) * output * (1 - output) \n",
    "                     for output, target in zip(outputs, target_vectors) ]\n",
    "    \n",
    "    # gradients with respect to output neuron weights\n",
    "    output_gradient =  [ \n",
    "        [ output_deltas[i] * hidden_output for hidden_output in hidden_outputs + [1] ]\n",
    "       for i, _ in enumerate(network[-1])]\n",
    "               \n",
    "    # gradients with respect to hidden neuron pre-activation outputs\n",
    "    hidden_deltas = [ \n",
    "        hidden_output * ( 1 - hidden_output ) * dot(output_deltas, [n[i] for n in network[-1]])\n",
    "        for i, hidden_output in enumerate(hidden_outputs)] \n",
    "    \n",
    "    # gradients with respect to hidden neuron weights\n",
    "    hidden_gradient = [[ hidden_deltas[i] * input_i for input_i in input_vectors + [1] ] \n",
    "                       for i, _ in enumerate(network[0])]\n",
    "\n",
    "    return [ hidden_gradient, output_gradient ]\n",
    "    "
   ]
  },
  {
   "cell_type": "code",
   "execution_count": 211,
   "metadata": {},
   "outputs": [
    {
     "name": "stderr",
     "output_type": "stream",
     "text": [
      "neural net for xor: 100%|██████████| 20000/20000 [00:02<00:00, 8709.08it/s] \n"
     ]
    },
    {
     "data": {
      "text/plain": [
       "[[[6.953505610104289, 6.952785792366962, -3.1484761965046655],\n",
       "  [5.115899442661922, 5.115407875835949, -7.839603434415663]],\n",
       " [[10.961705832630562, -11.63060534664317, -5.1442290566130815]]]"
      ]
     },
     "execution_count": 211,
     "metadata": {},
     "output_type": "execute_result"
    }
   ],
   "source": [
    "\"\"\"\n",
    "Example: \n",
    "\"\"\"\n",
    "\n",
    "random.seed(0)\n",
    "\n",
    "# training data\n",
    "nn_xs = [[0., 0], [0., 1], [1., 0], [1., 1]]\n",
    "nn_ys = [[0.], [1.], [1.], [0.]]\n",
    "\n",
    "# start with random weights\n",
    "nn_network = [ \n",
    "    # hidden layer: 2 inputs -> 2 outputs\n",
    "    [\n",
    "        [random.random() for _ in range(2 + 1)],   # 1st hidden neuron\n",
    "        [random.random() for _ in range(2 + 1)]\n",
    "    ],  # 2nd hidden neuron\n",
    "    \n",
    "    # output layer: 2 inputs -> 1 output\n",
    "    [[random.random() for _ in range(2 + 1)]]   # 1st output neuron\n",
    "]\n",
    "nn_learning_rate = 1\n",
    "\n",
    "for epoch in tqdm.trange(20000, desc=\"neural net for xor\"):\n",
    "    for x, y in zip(nn_xs, nn_ys):\n",
    "        gradients = sqerror_gradient(nn_network, x, y)\n",
    "        \n",
    "        # Take a gradient step for each neuron in each layer\n",
    "        nn_network = [[gradient_step(neuron, grad, nn_learning_rate)\n",
    "                    for neuron, grad in zip(layer, layer_grad)]\n",
    "                   for layer, layer_grad in zip(nn_network, gradients)]\n",
    "\n",
    "nn_network"
   ]
  },
  {
   "cell_type": "markdown",
   "metadata": {},
   "source": [
    "## 11. Machine Learning"
   ]
  },
  {
   "cell_type": "markdown",
   "metadata": {},
   "source": [
    "### Train-test-split"
   ]
  },
  {
   "cell_type": "code",
   "execution_count": 66,
   "metadata": {},
   "outputs": [],
   "source": [
    "\"\"\"\n",
    "Measure complexity of our model: train data and testing data\n",
    "\"\"\"\n",
    "\n",
    "def split_data(dataset, prob):\n",
    "    data_copy = dataset[:]\n",
    "\n",
    "    random.shuffle(data_copy)\n",
    "    \n",
    "    cut = int(len(dataset) * prob)\n",
    "\n",
    "    return data_copy[:cut], data_copy[cut:]\n",
    "\n",
    "\n",
    "def train_test_split(xs, ys, prob):\n",
    "    \"\"\"\n",
    "    Paired input variables and output variables\n",
    "    \"\"\"\n",
    "\n",
    "    lens = [ i for i in range(len(ys))]\n",
    "    \n",
    "    train_index, test_index = split_data(lens, 1 - prob)\n",
    "    \n",
    "    return ([ xs[i] for i in train_index ], \n",
    "            [ ys[i] for i in train_index ], \n",
    "            [ xs[i] for i in test_index ], \n",
    "            [ ys[i] for i in test_index ])\n",
    "\n",
    "xs = [ x for x in range(1000)]\n",
    "ys = [ 2*x for x in xs]\n",
    "X_train, y_train, X_test, y_test = train_test_split(xs, ys, 0.25)\n",
    "\n",
    "assert len(X_train) == len(y_train) == 750\n",
    "assert len(X_test) == len(y_test) == 250"
   ]
  },
  {
   "cell_type": "markdown",
   "metadata": {},
   "source": [
    "### Metrics"
   ]
  },
  {
   "cell_type": "code",
   "execution_count": 71,
   "metadata": {},
   "outputs": [],
   "source": [
    "\"\"\"\n",
    "Metrics\n",
    "\"\"\"\n",
    "\n",
    "def accuracy(tp, fp, fn, tn):\n",
    "    \"\"\"\n",
    "    the faction of correct predictions\n",
    "    \"\"\"\n",
    "    return (tp + tn) / (tp + fp + fn + tn)\n",
    "\n",
    "\n",
    "\n",
    "def precision(tp, fp, fn, tn):\n",
    "    \"\"\"\n",
    "    how accurate our positive predictions were:\n",
    "    \"\"\"\n",
    "    return tp / (tp + fp)\n",
    "\n",
    "\n",
    "def recall(tp, fp, fn, tn):\n",
    "    \"\"\"\n",
    "    the fraction of the positives that our model identified\n",
    "    \"\"\"\n",
    "    return tp / (tp + fn)"
   ]
  },
  {
   "cell_type": "markdown",
   "metadata": {},
   "source": [
    "### Bias-variance tradeoff"
   ]
  },
  {
   "cell_type": "code",
   "execution_count": null,
   "metadata": {},
   "outputs": [],
   "source": []
  },
  {
   "cell_type": "code",
   "execution_count": null,
   "metadata": {},
   "outputs": [],
   "source": []
  },
  {
   "cell_type": "code",
   "execution_count": null,
   "metadata": {},
   "outputs": [],
   "source": []
  },
  {
   "cell_type": "code",
   "execution_count": null,
   "metadata": {},
   "outputs": [],
   "source": []
  },
  {
   "cell_type": "markdown",
   "metadata": {},
   "source": [
    "### Standardization"
   ]
  },
  {
   "cell_type": "code",
   "execution_count": 136,
   "metadata": {},
   "outputs": [
    {
     "data": {
      "text/plain": [
       "(10.770329614269007, 22.135943621178654, 11.40175425099138)"
      ]
     },
     "execution_count": 136,
     "metadata": {},
     "output_type": "execute_result"
    }
   ],
   "source": [
    "\"\"\"\n",
    "Many techniques are sensitive to the scale of your data.\n",
    "\n",
    "The following example illustrates this problem: changing units might change results\n",
    "\n",
    "The solution is to rescale to remove unit ( standard deviation from the mean )\n",
    "\"\"\"\n",
    "\n",
    "a_to_b = distance([63, 150], [67, 160])        # 10.77\n",
    "a_to_c = distance([63, 150], [70, 171])        # 22.14\n",
    "b_to_c = distance([67, 160], [70, 171])        # 11.40\n",
    "\n",
    "\n",
    "# for b, a is the closet neighbour \n",
    "a_to_b, a_to_c, b_to_c\n"
   ]
  },
  {
   "cell_type": "code",
   "execution_count": 137,
   "metadata": {},
   "outputs": [
    {
     "data": {
      "text/plain": [
       "(14.284257068535268, 27.52889391167034, 13.370115930686627)"
      ]
     },
     "execution_count": 137,
     "metadata": {},
     "output_type": "execute_result"
    }
   ],
   "source": [
    "a_to_b = distance([160, 150], [170.2, 160])    # 14.28\n",
    "a_to_c = distance([160, 150], [177.8, 171])    # 27.53\n",
    "b_to_c = distance([170.2, 160], [177.8, 171])  # 13.37\n",
    "\n",
    "# for b, c is the closet neighbour \n",
    "a_to_b, a_to_c, b_to_c\n"
   ]
  },
  {
   "cell_type": "code",
   "execution_count": null,
   "metadata": {},
   "outputs": [],
   "source": [
    "def scale(xs_vectors):\n",
    "    dim = len(xs_vectors[0])\n",
    "    v_stdevs = [ std_dev(v[k] for v in xs_vectors)  for k in range(dim) ]\n",
    "\n",
    "    v_means = vector_mean(xs_vectors)\n",
    "\n",
    "    return v_means, v_stdevs\n"
   ]
  },
  {
   "cell_type": "code",
   "execution_count": 138,
   "metadata": {},
   "outputs": [],
   "source": [
    "v_m_means, v_s_stdevs = scale([[-3, -1, 1], [-1, 0, 1], [1, 1, 1]])\n",
    "\n",
    "assert v_m_means == [-1, 0, 1]\n",
    "assert v_s_stdevs == [2, 1, 0]"
   ]
  },
  {
   "cell_type": "code",
   "execution_count": null,
   "metadata": {},
   "outputs": [],
   "source": [
    "def rescale(xs):\n",
    "    v_m_means, v_s_stdevs = scale(xs)\n",
    "\n",
    "    dim = len(xs[0])\n",
    "\n",
    "    rescaled = [ v[:] for v in xs]\n",
    "    \n",
    "    for v in rescaled:\n",
    "        for k in range(dim):\n",
    "            if v_s_stdevs[k] > 0:\n",
    "                v[k] = (v[k] - v_m_means[k]) / v_s_stdevs[k]\n",
    "\n",
    "    return rescaled\n",
    "    "
   ]
  },
  {
   "cell_type": "code",
   "execution_count": 139,
   "metadata": {},
   "outputs": [],
   "source": [
    "tmeans, tstdevs = scale(rescale([[-3, -1, 1], [-1, 0, 1], [1, 1, 1]]))\n",
    "assert tmeans == [0, 0, 1]\n",
    "assert tstdevs == [1, 1, 0]\n"
   ]
  },
  {
   "cell_type": "markdown",
   "metadata": {},
   "source": [
    "## 12. Decision Tree"
   ]
  },
  {
   "cell_type": "code",
   "execution_count": null,
   "metadata": {},
   "outputs": [],
   "source": []
  },
  {
   "cell_type": "code",
   "execution_count": null,
   "metadata": {},
   "outputs": [],
   "source": []
  },
  {
   "cell_type": "markdown",
   "metadata": {},
   "source": [
    "## 13. Deep Learning"
   ]
  },
  {
   "cell_type": "code",
   "execution_count": null,
   "metadata": {},
   "outputs": [],
   "source": []
  },
  {
   "cell_type": "code",
   "execution_count": null,
   "metadata": {},
   "outputs": [],
   "source": []
  },
  {
   "cell_type": "markdown",
   "metadata": {},
   "source": [
    "## 14. NLP"
   ]
  },
  {
   "cell_type": "code",
   "execution_count": null,
   "metadata": {},
   "outputs": [],
   "source": []
  },
  {
   "cell_type": "code",
   "execution_count": null,
   "metadata": {},
   "outputs": [],
   "source": []
  },
  {
   "cell_type": "markdown",
   "metadata": {},
   "source": [
    "## 15. Recommender Systems"
   ]
  },
  {
   "cell_type": "code",
   "execution_count": 308,
   "metadata": {},
   "outputs": [],
   "source": [
    "\"\"\"\n",
    "Example\n",
    "\"\"\"\n",
    "users_interests = [\n",
    "    [\"Hadoop\", \"Big Data\", \"HBase\", \"Java\", \"Spark\", \"Storm\", \"Cassandra\"],\n",
    "    [\"NoSQL\", \"MongoDB\", \"Cassandra\", \"HBase\", \"Postgres\"],\n",
    "    [\"Python\", \"scikit-learn\", \"scipy\", \"numpy\", \"statsmodels\", \"pandas\"],\n",
    "    [\"R\", \"Python\", \"statistics\", \"regression\", \"probability\"],\n",
    "    [\"machine learning\", \"regression\", \"decision trees\", \"libsvm\"],\n",
    "    [\"Python\", \"R\", \"Java\", \"C++\", \"Haskell\", \"programming languages\"],\n",
    "    [\"statistics\", \"probability\", \"mathematics\", \"theory\"],\n",
    "    [\"machine learning\", \"scikit-learn\", \"Mahout\", \"neural networks\"],\n",
    "    [\"neural networks\", \"deep learning\", \"Big Data\", \"artificial intelligence\"],\n",
    "    [\"Hadoop\", \"Java\", \"MapReduce\", \"Big Data\"],\n",
    "    [\"statistics\", \"R\", \"statsmodels\"],\n",
    "    [\"C++\", \"deep learning\", \"artificial intelligence\", \"probability\"],\n",
    "    [\"pandas\", \"R\", \"Python\"],\n",
    "    [\"databases\", \"HBase\", \"Postgres\", \"MySQL\", \"MongoDB\"],\n",
    "    [\"libsvm\", \"regression\", \"support vector machines\"]\n",
    "]\n",
    "\n",
    "flatten_interests = [ interest for interest_row in users_interests \n",
    "                     for interest in interest_row ]\n",
    "\n",
    "unique_interests = np.unique(flatten_interests)\n",
    "\n"
   ]
  },
  {
   "cell_type": "markdown",
   "metadata": {},
   "source": [
    "### Recommend Popular "
   ]
  },
  {
   "cell_type": "code",
   "execution_count": 309,
   "metadata": {},
   "outputs": [
    {
     "data": {
      "text/plain": [
       "[('Python', 4),\n",
       " ('R', 4),\n",
       " ('statistics', 3),\n",
       " ('regression', 3),\n",
       " ('probability', 3)]"
      ]
     },
     "execution_count": 309,
     "metadata": {},
     "output_type": "execute_result"
    }
   ],
   "source": [
    "\"\"\"\n",
    "One wasy approach is to simply recommend what's popular\n",
    "\"\"\"\n",
    "\n",
    "popular_interests = Counter(flatten_interests)\n",
    "\n",
    "def most_popular_suggest(data, max_length):\n",
    "    suggests = [ \n",
    "        (interest, frequency) \n",
    "        for interest, frequency in popular_interests.most_common()\n",
    "        if interest not in data\n",
    "    ]\n",
    "\n",
    "    return suggests[:max_length]\n",
    "    \n",
    "most_popular_suggest(users_interests[0], 5)\n"
   ]
  },
  {
   "cell_type": "markdown",
   "metadata": {},
   "source": [
    "### User-Based Collaborative Filtering"
   ]
  },
  {
   "cell_type": "code",
   "execution_count": 290,
   "metadata": {},
   "outputs": [
    {
     "data": {
      "text/plain": [
       "(36,\n",
       " array(['Big Data', 'C++', 'Cassandra', 'HBase', 'Hadoop', 'Haskell',\n",
       "        'Java', 'Mahout', 'MapReduce', 'MongoDB', 'MySQL', 'NoSQL',\n",
       "        'Postgres', 'Python', 'R', 'Spark', 'Storm',\n",
       "        'artificial intelligence', 'databases', 'decision trees',\n",
       "        'deep learning', 'libsvm', 'machine learning', 'mathematics',\n",
       "        'neural networks', 'numpy', 'pandas', 'probability',\n",
       "        'programming languages', 'regression', 'scikit-learn', 'scipy',\n",
       "        'statistics', 'statsmodels', 'support vector machines', 'theory'],\n",
       "       dtype='<U23'),\n",
       " 15,\n",
       " 15)"
      ]
     },
     "execution_count": 290,
     "metadata": {},
     "output_type": "execute_result"
    }
   ],
   "source": [
    "\"\"\"\n",
    "Methodology:\n",
    "    Look for users who are somehow similar to her, \n",
    "    and then suggest the things that those users are interested in.\n",
    "    So we have to find was to measure how similar the two uses are.\n",
    "\n",
    "Representation(1-of-K):\n",
    "    v[i] will be 1 if the user specified the ith interest, and 0 otherwise.\n",
    "\n",
    "\"\"\"\n",
    "\n",
    "\n",
    "user_interest_vector = [ \n",
    "    [ 1 if item in user else 0 for item in unique_interests ] \n",
    "    for user in users_interests]\n",
    "\n",
    "\n",
    "# calculate similarity among train data\n",
    "def cosine_similarity(v1, v2):\n",
    "    return dot(v1, v2) / math.sqrt(dot(v1, v1) * dot(v2, v2))\n",
    "\n",
    "user_similarity = [\n",
    "    [cosine_similarity(user_i, user_j) for user_i in user_interest_vector]\n",
    "    for user_j in user_interest_vector\n",
    "]\n",
    "\n",
    "\n",
    "def most_similar_user_to(user_id):\n",
    "    similar_list = [ \n",
    "        (id, similarity) for id, similarity in enumerate(user_similarity[user_id])\n",
    "        if id != user_id and similarity > 0 \n",
    "    ]\n",
    "\n",
    "    return sorted(similar_list, key=lambda pair: pair[-1], reverse=True)\n",
    "    \n",
    "\n",
    "\n",
    "len(unique_interests), unique_interests, len(user_similarity), len(user_similarity[0]),  \n"
   ]
  },
  {
   "cell_type": "code",
   "execution_count": 300,
   "metadata": {},
   "outputs": [
    {
     "data": {
      "text/plain": [
       "[('MapReduce', 0.5669467095138409),\n",
       " ('MongoDB', 0.50709255283711),\n",
       " ('Postgres', 0.50709255283711),\n",
       " ('NoSQL', 0.3380617018914066),\n",
       " ('neural networks', 0.1889822365046136),\n",
       " ('deep learning', 0.1889822365046136),\n",
       " ('artificial intelligence', 0.1889822365046136),\n",
       " ('databases', 0.1690308509457033),\n",
       " ('MySQL', 0.1690308509457033),\n",
       " ('Python', 0.1543033499620919),\n",
       " ('R', 0.1543033499620919),\n",
       " ('C++', 0.1543033499620919),\n",
       " ('Haskell', 0.1543033499620919),\n",
       " ('programming languages', 0.1543033499620919)]"
      ]
     },
     "execution_count": 300,
     "metadata": {},
     "output_type": "execute_result"
    }
   ],
   "source": [
    "\n",
    "def user_based_suggestion(user_id, include_current_interests=True):\n",
    "    \"\"\"\n",
    "    For each interest, add up the user similarities of the other users interested in it\n",
    "    \"\"\"\n",
    "\n",
    "    suggestion = {}\n",
    "    other_similar_people = most_similar_user_to(user_id)\n",
    "    \n",
    "    for id, similarity in other_similar_people:\n",
    "        for interest in users_interests[id]:\n",
    "            if interest not in suggestion:\n",
    "                suggestion[interest] = 0\n",
    "\n",
    "            suggestion[interest] += similarity\n",
    "    \n",
    "    # Convert them to a sorted list.\n",
    "    suggestion = sorted(suggestion.items(),\n",
    "                         key=lambda pair: pair[-1],  # weight\n",
    "                         reverse=True)\n",
    "\n",
    "    if include_current_interests:\n",
    "        return suggestion\n",
    "    else:\n",
    "        return [(sugg, weight) for sugg, weight in suggestion\n",
    "            if sugg not in users_interests[user_id]]\n",
    "\n",
    "\n",
    "user_based_suggestion(0, False)"
   ]
  },
  {
   "cell_type": "markdown",
   "metadata": {},
   "source": [
    "### Item-Based Collaborative Filtering"
   ]
  },
  {
   "cell_type": "code",
   "execution_count": 318,
   "metadata": {},
   "outputs": [
    {
     "data": {
      "text/plain": [
       "[('Hadoop', 0.8164965809277261),\n",
       " ('Java', 0.6666666666666666),\n",
       " ('MapReduce', 0.5773502691896258),\n",
       " ('Spark', 0.5773502691896258),\n",
       " ('Storm', 0.5773502691896258),\n",
       " ('Cassandra', 0.4082482904638631),\n",
       " ('artificial intelligence', 0.4082482904638631),\n",
       " ('deep learning', 0.4082482904638631),\n",
       " ('neural networks', 0.4082482904638631),\n",
       " ('HBase', 0.3333333333333333)]"
      ]
     },
     "execution_count": 318,
     "metadata": {},
     "output_type": "execute_result"
    }
   ],
   "source": [
    "\"\"\"\n",
    "suggest items for each user by aggregating interests that are similar to her current interests\n",
    "\"\"\"\n",
    "\n",
    "# first transpose user-interest-vector matrix\n",
    "interest_user_matrix = [\n",
    "    [ row[i] for row in user_interest_vector ]\n",
    "    for i in range(len(user_interest_vector[0]))]\n",
    "\n",
    "\n",
    "item_similarity = [\n",
    "    [cosine_similarity(item_i, item_j) for item_i in interest_user_matrix]\n",
    "    for item_j in interest_user_matrix\n",
    "]\n",
    "\n",
    "def most_similar_to_item(interest_id):    \n",
    "    similar_list = [ \n",
    "        (unique_interests[id], similarity) \n",
    "        for id, similarity in enumerate(item_similarity[interest_id])\n",
    "        if id != interest_id and similarity > 0 \n",
    "    ]\n",
    "\n",
    "    return sorted(similar_list, key=lambda pair: pair[-1], reverse=True)\n",
    "\n",
    "\n",
    "most_similar_to_item(0)"
   ]
  },
  {
   "cell_type": "code",
   "execution_count": 335,
   "metadata": {},
   "outputs": [
    {
     "data": {
      "text/plain": [
       "[('MapReduce', 1.861807319565799),\n",
       " ('MongoDB', 1.3164965809277263),\n",
       " ('Postgres', 1.3164965809277263),\n",
       " ('NoSQL', 1.2844570503761732),\n",
       " ('MySQL', 0.5773502691896258),\n",
       " ('databases', 0.5773502691896258),\n",
       " ('Haskell', 0.5773502691896258),\n",
       " ('programming languages', 0.5773502691896258),\n",
       " ('artificial intelligence', 0.4082482904638631),\n",
       " ('deep learning', 0.4082482904638631),\n",
       " ('neural networks', 0.4082482904638631),\n",
       " ('C++', 0.4082482904638631),\n",
       " ('Python', 0.2886751345948129),\n",
       " ('R', 0.2886751345948129)]"
      ]
     },
     "execution_count": 335,
     "metadata": {},
     "output_type": "execute_result"
    }
   ],
   "source": [
    "def item_based_suggestion(user_id, include_current_interests=True):\n",
    "    interests_of_user = users_interests[user_id]\n",
    "\n",
    "    suggestions = {}\n",
    "    \n",
    "    for interest in interests_of_user: \n",
    "        interest_id = unique_interests.tolist().index(interest)\n",
    "\n",
    "        for interest, similarity in most_similar_to_item(interest_id):\n",
    "            if interest not in suggestions:\n",
    "                suggestions[interest] = 0\n",
    "            \n",
    "            suggestions[interest] += similarity\n",
    "\n",
    "    suggestions = sorted(suggestions.items(), key=lambda pair: pair[-1], reverse=True)\n",
    "\n",
    "    if include_current_interests:\n",
    "        return suggestions\n",
    "    else:\n",
    "        return [(suggestion, weight)\n",
    "                for suggestion, weight in suggestions\n",
    "                if suggestion not in users_interests[user_id]]\n",
    "\n",
    "item_based_suggestion(0, False)"
   ]
  },
  {
   "cell_type": "markdown",
   "metadata": {},
   "source": [
    "### Matrix Factorization"
   ]
  },
  {
   "cell_type": "code",
   "execution_count": 59,
   "metadata": {},
   "outputs": [],
   "source": [
    "import csv\n",
    "from typing import NamedTuple\n",
    "\n",
    "class Rating(NamedTuple):\n",
    "    user_id: str\n",
    "    movie_id: str\n",
    "    rating: int\n",
    "\n",
    "MOVIES = './data/u.item'\n",
    "RATINGS = './data/u.data'\n",
    "\n",
    "\n",
    "with open(MOVIES, encoding=\"iso-8859-1\") as f:\n",
    "        reader = csv.reader(f, delimiter=\"|\")\n",
    "        movies = {movie_id: title for movie_id, title, *_ in reader}\n",
    "        \n",
    "with open(RATINGS, encoding=\"iso-8859-1\") as f:\n",
    "        reader = csv.reader(f, delimiter=\"\\t\")\n",
    "        ratings = [Rating(user_id, movie_id, float(rating))\n",
    "                   for user_id, movie_id, rating, _ in reader]"
   ]
  },
  {
   "cell_type": "code",
   "execution_count": 60,
   "metadata": {},
   "outputs": [
    {
     "data": {
      "text/plain": [
       "(1682, 100000, 943)"
      ]
     },
     "execution_count": 60,
     "metadata": {},
     "output_type": "execute_result"
    }
   ],
   "source": [
    "# 1692 movies rated by 943 users\n",
    "len(movies), len(ratings), len(set([rating.user_id for rating in ratings]))\n"
   ]
  },
  {
   "cell_type": "code",
   "execution_count": 61,
   "metadata": {},
   "outputs": [
    {
     "data": {
      "text/plain": [
       "('Kolya (1996)', Rating(user_id='196', movie_id='242', rating=3.0))"
      ]
     },
     "execution_count": 61,
     "metadata": {},
     "output_type": "execute_result"
    }
   ],
   "source": [
    "movies['242'], ratings[0]"
   ]
  },
  {
   "cell_type": "code",
   "execution_count": 62,
   "metadata": {},
   "outputs": [],
   "source": [
    "\"\"\"\n",
    "Step 1: split data into train, validation, test sets\n",
    "\"\"\"\n",
    "\n",
    "random.seed(0)\n",
    "random.shuffle(ratings)\n",
    "split1 = int(len(ratings) * 0.7)\n",
    "split2 = int(len(ratings) * 0.85)\n",
    "train = ratings[:split1]\n",
    "validation = ratings[split1:split2]\n",
    "test = ratings[split2:]"
   ]
  },
  {
   "cell_type": "code",
   "execution_count": 63,
   "metadata": {},
   "outputs": [
    {
     "data": {
      "text/plain": [
       "1.2609526646939684"
      ]
     },
     "execution_count": 63,
     "metadata": {},
     "output_type": "execute_result"
    }
   ],
   "source": [
    "\"\"\"\n",
    "Step 2: baseline, SS(mean), the model should do better than this\n",
    "\"\"\"\n",
    "\n",
    "avg_rating = sum(rating.rating for rating in train) / len(train) \n",
    "baseline_error = sum((rating.rating - avg_rating)**2 for rating in test) / len(test)\n",
    "\n",
    "baseline_error"
   ]
  },
  {
   "cell_type": "code",
   "execution_count": 83,
   "metadata": {},
   "outputs": [],
   "source": [
    "\"\"\"\n",
    "Step 3: embeddings\n",
    "\"\"\"\n",
    "\n",
    "# unique id\n",
    "user_ids = { rating.user_id for rating in ratings }\n",
    "movie_ids = { rating.movie_id for rating in ratings }\n",
    "\n",
    "DIM = 2\n",
    "user_vectors = { user_id: random_tensor(DIM) for user_id in user_ids }\n",
    "movie_vectors = { movie_id: random_tensor(DIM) for movie_id in movie_ids }\n",
    "\n",
    "learning_rate = 0.05\n",
    "\n",
    "# https://developers.google.com/machine-learning/recommendation/collaborative/matrix\n",
    "def learning(data):\n",
    "    \"\"\"\n",
    "    minimize the objective function using stochastic gradient descent\n",
    "    \"\"\"\n",
    "    loss = 0\n",
    "    for rating in data:\n",
    "        movie_vector = movie_vectors[rating.movie_id]\n",
    "        user_vector = user_vectors[rating.user_id]\n",
    "        \n",
    "        predicted = dot(user_vector, movie_vector)\n",
    "        error = rating.rating - predicted\n",
    "        loss += error**2\n",
    "\n",
    "        if learning_rate is not None:\n",
    "            user_gradient = [ error * w for w in movie_vector ]\n",
    "            movie_gradient = [ error * u for u in user_vector ]\n",
    "\n",
    "             # Take gradient steps\n",
    "            for j in range(DIM):\n",
    "                user_vector[j] -= learning_rate * user_gradient[j]\n",
    "                movie_vector[j] -= learning_rate * movie_gradient[j]\n",
    "\n",
    "    print('avg loss: ', loss / len(data))\n",
    "\n",
    "for epoch in range(20):\n",
    "    learning(train)\n",
    "\n",
    "learning(test)"
   ]
  }
 ],
 "metadata": {
  "kernelspec": {
   "display_name": "Python 3",
   "language": "python",
   "name": "python3"
  },
  "language_info": {
   "codemirror_mode": {
    "name": "ipython",
    "version": 3
   },
   "file_extension": ".py",
   "mimetype": "text/x-python",
   "name": "python",
   "nbconvert_exporter": "python",
   "pygments_lexer": "ipython3",
   "version": "3.8.3"
  }
 },
 "nbformat": 4,
 "nbformat_minor": 4
}

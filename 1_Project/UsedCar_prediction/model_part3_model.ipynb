{
 "cells": [
  {
   "cell_type": "markdown",
   "metadata": {},
   "source": [
    "# Selecting and Training Models\n",
    "\n",
    "- Select and Train a few Algorithms\n",
    "    - Linear Regression\n",
    "    \n",
    "    - Decision Tree\n",
    "    \n",
    "    - Random Forest\n",
    "    \n",
    "    - XGBoost\n",
    "    \n",
    "    - LGBM\n",
    "    \n",
    "    \n",
    "- Evaluation using Mean Squared Error\n",
    "\n",
    "\n",
    "- Model Evaluation using Cross Validation\n",
    "\n",
    "\n",
    "- Hyperparameter Tuning using GridSearchCV\n",
    "\n",
    "\n",
    "- Check Feature Importance\n",
    "\n",
    "\n",
    "- Evaluate the Final System on test data\n",
    "\n",
    "\n",
    "- Saving the Model\n",
    "\n"
   ]
  },
  {
   "cell_type": "markdown",
   "metadata": {},
   "source": [
    "## 1. Setup"
   ]
  },
  {
   "cell_type": "code",
   "execution_count": 1,
   "metadata": {},
   "outputs": [],
   "source": [
    "# https://www.kaggle.com/ferhatmetin34/used-car-dataset-price-prediction#Models\n",
    "\n",
    "import numpy as np\n",
    "import pandas as pd\n",
    "\n",
    "from sklearn.model_selection import train_test_split\n",
    "\n",
    "from ml_model.pipeline import clean_data, build_preparation_pipeline\n"
   ]
  },
  {
   "cell_type": "markdown",
   "metadata": {},
   "source": [
    "## Load Data"
   ]
  },
  {
   "cell_type": "code",
   "execution_count": 2,
   "metadata": {},
   "outputs": [],
   "source": [
    "\n",
    "df_vehicles = pd.read_csv('./data/vehicles.csv')\n",
    " \n",
    "df_vehicles = df_vehicles.drop(['Unnamed: 0'], axis=1)\n"
   ]
  },
  {
   "cell_type": "code",
   "execution_count": 3,
   "metadata": {},
   "outputs": [
    {
     "data": {
      "text/plain": [
       "(458213, 25)"
      ]
     },
     "execution_count": 3,
     "metadata": {},
     "output_type": "execute_result"
    }
   ],
   "source": [
    "df_vehicles.shape\n"
   ]
  },
  {
   "cell_type": "markdown",
   "metadata": {},
   "source": [
    "## Clean Data"
   ]
  },
  {
   "cell_type": "code",
   "execution_count": 4,
   "metadata": {},
   "outputs": [],
   "source": [
    "df = clean_data(df_vehicles)\n"
   ]
  },
  {
   "cell_type": "markdown",
   "metadata": {},
   "source": [
    "## Train test split"
   ]
  },
  {
   "cell_type": "code",
   "execution_count": 5,
   "metadata": {},
   "outputs": [],
   "source": [
    "train_set, test_set = train_test_split(df, test_size=0.2, random_state=42)\n",
    "\n",
    "vehicles_train = train_set.drop('price', axis=1)\n",
    "y_train = train_set['price']\n",
    "\n",
    "vehicles_test = test_set.drop('price', axis=1)\n",
    "y_test = test_set['price']\n"
   ]
  },
  {
   "cell_type": "code",
   "execution_count": 6,
   "metadata": {},
   "outputs": [
    {
     "data": {
      "text/plain": [
       "((318009, 24), (318009,), (79503, 24), (79503,))"
      ]
     },
     "execution_count": 6,
     "metadata": {},
     "output_type": "execute_result"
    }
   ],
   "source": [
    "vehicles_train.shape, y_train.shape, vehicles_test.shape, y_test.shape\n"
   ]
  },
  {
   "cell_type": "markdown",
   "metadata": {},
   "source": [
    "## Preparation Pipeline"
   ]
  },
  {
   "cell_type": "code",
   "execution_count": 7,
   "metadata": {},
   "outputs": [],
   "source": [
    "preparation_pipeline = build_preparation_pipeline()\n",
    "\n",
    "X_train = preparation_pipeline.fit_transform(vehicles_train)\n",
    "X_test = preparation_pipeline.transform(vehicles_test)\n"
   ]
  },
  {
   "cell_type": "code",
   "execution_count": 8,
   "metadata": {},
   "outputs": [
    {
     "data": {
      "text/plain": [
       "((318009, 111), (79503, 111))"
      ]
     },
     "execution_count": 8,
     "metadata": {},
     "output_type": "execute_result"
    }
   ],
   "source": [
    "X_train.shape, X_test.shape\n"
   ]
  },
  {
   "cell_type": "markdown",
   "metadata": {},
   "source": [
    "# 2. Short-list models"
   ]
  },
  {
   "cell_type": "code",
   "execution_count": 1,
   "metadata": {},
   "outputs": [],
   "source": [
    "from sklearn.linear_model import LinearRegression\n",
    "from sklearn.tree import DecisionTreeRegressor\n",
    "from sklearn.ensemble import RandomForestRegressor\n"
   ]
  },
  {
   "cell_type": "code",
   "execution_count": null,
   "metadata": {},
   "outputs": [],
   "source": [
    "models = []\n",
    "models.append(LinearRegression())\n",
    "models.append(DecisionTree())\n",
    "models.append(RandomForestRegressor(random_state=42,max_depth=5))\n",
    "# models.append(XGBRegressor(random_state=42,tree_method=\"hist\",max_depth=5))\n",
    "# models.append(LGBMRegressor(random_state=42))\n",
    "\n",
    "r2_values_test = []\n",
    "r2_values_train=[]\n",
    "rmse_values_test=[]\n",
    "mse_values_test=[]\n",
    "for model in models:\n",
    "    \n",
    "    model_=model.fit(X_train_encoded,y_train)\n",
    "    y_pred=model_.predict(X_test_encoded)\n",
    "    \n",
    "    r2_train=model_.score(X_train_encoded,y_train)\n",
    "    r2_values_train.append(r2_train)\n",
    "    \n",
    "    r2 = model_.score(X_test_encoded,y_test)\n",
    "    r2_values_test.append(r2)\n",
    "       \n",
    "    \n",
    "    rmse_test=np.sqrt(mean_squared_error(y_test,y_pred))   \n",
    "    rmse_values_test.append(rmse_test)\n",
    "    \n",
    "    mse_test=mean_squared_error(y_test,y_pred)\n",
    "    mse_values_test.append(mse_test)\n",
    "    \n",
    "result=pd.DataFrame(list(zip(r2_values_test,r2_values_train)),columns=[\"r2_score_test\",\"r2_score_train\"])\n",
    "result[\"rmse_test\"] =rmse_values_test\n",
    "result[\"mse_test\"]=mse_values_test\n",
    "result[\"model\"]=[\"XGBoost\",\"LGBM\",\"RF\",\"ExtraTree\",\"HGBoost\"]  \n",
    "result"
   ]
  },
  {
   "cell_type": "markdown",
   "metadata": {},
   "source": [
    "## Model selection with cross-validaiton"
   ]
  },
  {
   "cell_type": "code",
   "execution_count": null,
   "metadata": {},
   "outputs": [],
   "source": []
  },
  {
   "cell_type": "code",
   "execution_count": null,
   "metadata": {},
   "outputs": [],
   "source": []
  },
  {
   "cell_type": "markdown",
   "metadata": {},
   "source": [
    "# 3. Fine-Tuning using GridSearchCV\n"
   ]
  },
  {
   "cell_type": "code",
   "execution_count": null,
   "metadata": {},
   "outputs": [],
   "source": []
  },
  {
   "cell_type": "code",
   "execution_count": null,
   "metadata": {},
   "outputs": [],
   "source": []
  },
  {
   "cell_type": "code",
   "execution_count": null,
   "metadata": {},
   "outputs": [],
   "source": []
  },
  {
   "cell_type": "code",
   "execution_count": null,
   "metadata": {},
   "outputs": [],
   "source": []
  },
  {
   "cell_type": "markdown",
   "metadata": {},
   "source": [
    "# 4. Checking Feature importance"
   ]
  },
  {
   "cell_type": "code",
   "execution_count": null,
   "metadata": {},
   "outputs": [],
   "source": []
  },
  {
   "cell_type": "code",
   "execution_count": null,
   "metadata": {},
   "outputs": [],
   "source": []
  },
  {
   "cell_type": "code",
   "execution_count": null,
   "metadata": {},
   "outputs": [],
   "source": []
  },
  {
   "cell_type": "code",
   "execution_count": null,
   "metadata": {},
   "outputs": [],
   "source": []
  },
  {
   "cell_type": "markdown",
   "metadata": {},
   "source": [
    "# 5. Evaluate on test data"
   ]
  },
  {
   "cell_type": "code",
   "execution_count": null,
   "metadata": {},
   "outputs": [],
   "source": []
  },
  {
   "cell_type": "code",
   "execution_count": null,
   "metadata": {},
   "outputs": [],
   "source": []
  },
  {
   "cell_type": "code",
   "execution_count": null,
   "metadata": {},
   "outputs": [],
   "source": []
  },
  {
   "cell_type": "markdown",
   "metadata": {},
   "source": [
    "# 6. Save the model"
   ]
  },
  {
   "cell_type": "code",
   "execution_count": null,
   "metadata": {},
   "outputs": [],
   "source": [
    "import joblib\n",
    "\n",
    "joblib.dump(my_model, \"my_model.pkl\") # DIFF\n"
   ]
  },
  {
   "cell_type": "code",
   "execution_count": null,
   "metadata": {},
   "outputs": [],
   "source": []
  },
  {
   "cell_type": "code",
   "execution_count": null,
   "metadata": {},
   "outputs": [],
   "source": []
  }
 ],
 "metadata": {
  "kernelspec": {
   "display_name": "Python 3",
   "language": "python",
   "name": "python3"
  },
  "language_info": {
   "codemirror_mode": {
    "name": "ipython",
    "version": 3
   },
   "file_extension": ".py",
   "mimetype": "text/x-python",
   "name": "python",
   "nbconvert_exporter": "python",
   "pygments_lexer": "ipython3",
   "version": "3.8.3"
  }
 },
 "nbformat": 4,
 "nbformat_minor": 4
}

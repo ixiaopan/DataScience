{
 "cells": [
  {
   "cell_type": "markdown",
   "metadata": {},
   "source": [
    "https://www.python-course.eu/machine_learning.php"
   ]
  },
  {
   "cell_type": "markdown",
   "metadata": {},
   "source": [
    "# Exception\n"
   ]
  },
  {
   "cell_type": "code",
   "execution_count": null,
   "metadata": {},
   "outputs": [],
   "source": [
    "try:\n",
    "    import pytorch\n",
    "\n",
    "except ImportError: # one of the most common built-in exceptions\n",
    "    !pip3 install pytorch\n",
    "    \n",
    "\n",
    "if pytorch:\n",
    "    # do something\n",
    "else:\n",
    "    # continue anyway\n"
   ]
  },
  {
   "cell_type": "code",
   "execution_count": 127,
   "metadata": {},
   "outputs": [
    {
     "name": "stdout",
     "output_type": "stream",
     "text": [
      "Got it.\n"
     ]
    }
   ],
   "source": [
    "def f():\n",
    "    try:\n",
    "        x = int('ff')\n",
    "    except ValueError:\n",
    "        print('Got it.')\n",
    "\n",
    "f()\n",
    " "
   ]
  },
  {
   "cell_type": "markdown",
   "metadata": {},
   "source": [
    "### Multiple Except Clauses\n"
   ]
  },
  {
   "cell_type": "code",
   "execution_count": 132,
   "metadata": {},
   "outputs": [
    {
     "name": "stdout",
     "output_type": "stream",
     "text": [
      "Invalid value\n"
     ]
    }
   ],
   "source": [
    "try:\n",
    "    f = open('Algorithms.ipynb')\n",
    "    s = f.readline()\n",
    "    i = int(s.strip())\n",
    "\n",
    "except IOError as e:\n",
    "    errno, strerror = e.args\n",
    "    print(f'{errno} {strerror}')\n",
    "\n",
    "except ValueError:\n",
    "    print('Invalid value')\n",
    "\n",
    "except:\n",
    "    print('unexpected value')\n"
   ]
  },
  {
   "cell_type": "code",
   "execution_count": 133,
   "metadata": {},
   "outputs": [
    {
     "name": "stdout",
     "output_type": "stream",
     "text": [
      "IO Error or value error\n"
     ]
    }
   ],
   "source": [
    "try:\n",
    "    f = open('Algorithms.ipynb')\n",
    "    s = f.readline()\n",
    "    i = int(s.strip())\n",
    "\n",
    "except (IOError, ValueError):\n",
    "    print('IO Error or value error')\n",
    "\n",
    "except:\n",
    "    print('unexpected value')\n"
   ]
  },
  {
   "cell_type": "markdown",
   "metadata": {},
   "source": [
    "### Raise error"
   ]
  },
  {
   "cell_type": "code",
   "execution_count": 134,
   "metadata": {},
   "outputs": [
    {
     "name": "stdout",
     "output_type": "stream",
     "text": [
      "Got it.\n"
     ]
    }
   ],
   "source": [
    "def f():\n",
    "    try:\n",
    "        x = int('ff')\n",
    "    except ValueError:\n",
    "        print('Got it.')\n",
    "\n",
    "try:\n",
    "    f()\n",
    "except ValueError:\n",
    "    print('outer error')\n"
   ]
  },
  {
   "cell_type": "code",
   "execution_count": 135,
   "metadata": {},
   "outputs": [
    {
     "name": "stdout",
     "output_type": "stream",
     "text": [
      "Got it.\n",
      "outer error\n"
     ]
    }
   ],
   "source": [
    "def f():\n",
    "    try:\n",
    "        x = int('ff')\n",
    "    except ValueError:\n",
    "        print('Got it.')\n",
    "        raise  # raise error\n",
    "\n",
    "try:\n",
    "    f()\n",
    "except ValueError:\n",
    "    print('outer error')\n"
   ]
  },
  {
   "cell_type": "markdown",
   "metadata": {},
   "source": [
    "### Customed Exception\n",
    "\n",
    "TODO\n"
   ]
  },
  {
   "cell_type": "code",
   "execution_count": null,
   "metadata": {},
   "outputs": [],
   "source": []
  },
  {
   "cell_type": "markdown",
   "metadata": {},
   "source": [
    "### else clause\n",
    "\n",
    "An else clause must be placed after all exception clauses and it will be executed if the try clause doesn't raise an error.\n"
   ]
  },
  {
   "cell_type": "code",
   "execution_count": 136,
   "metadata": {},
   "outputs": [
    {
     "name": "stdout",
     "output_type": "stream",
     "text": [
      "cannot open file\n"
     ]
    }
   ],
   "source": [
    "l=[]\n",
    "\n",
    "try:\n",
    "    f=open('test.txt', 'r')\n",
    "except IOError:\n",
    "    print('cannot open file')\n",
    "else:\n",
    "    l = f.readlines()\n",
    "    f.close()\n",
    "\n",
    "if l:\n",
    "    print(l[10])\n"
   ]
  },
  {
   "cell_type": "code",
   "execution_count": 146,
   "metadata": {},
   "outputs": [
    {
     "name": "stdout",
     "output_type": "stream",
     "text": [
      "cannot open file\n"
     ]
    }
   ],
   "source": [
    "l=[]\n",
    "\n",
    "try:\n",
    "    f=open('test.ipynb', 'r')\n",
    "   \n",
    "    # the difference from 'else': if this raises an error, it will lead to IOError\n",
    "    l = f.readlines() \n",
    "    f.close()\n",
    "except IOError:\n",
    "    print('cannot open file')\n",
    "\n",
    "if l:\n",
    "    print(l[10])\n"
   ]
  },
  {
   "cell_type": "code",
   "execution_count": null,
   "metadata": {},
   "outputs": [],
   "source": []
  },
  {
   "cell_type": "markdown",
   "metadata": {},
   "source": [
    "# Number\n",
    "\n",
    "There's no type declaration to distinguish integers and floating point numbers. Python tells them apart by the presence or absence of a decimal point.\n",
    "\n",
    "- Using `type()` to check the data type of any variable.\n",
    "\n",
    "- Adding int to int yields an int\n",
    "\n",
    "- Adding int to float yields a float.\n"
   ]
  },
  {
   "cell_type": "code",
   "execution_count": 33,
   "metadata": {},
   "outputs": [],
   "source": [
    "assert type(1) == int\n",
    "assert type(3.2) == float\n",
    "\n",
    "assert 1 + 1.0 == 2.0\n",
    "assert 1 + 2 == 3\n"
   ]
  },
  {
   "cell_type": "markdown",
   "metadata": {},
   "source": [
    "- Explicitly coerce an int to a float, and vice versa.\n",
    "\n",
    "- `int()` is a truncate function. It truncates negative numbers torwards 0.\n",
    "\n",
    "- Floating point numbers are accurate to **16** decimal places.\n"
   ]
  },
  {
   "cell_type": "code",
   "execution_count": 36,
   "metadata": {},
   "outputs": [],
   "source": [
    "assert float(2) == 2.0\n",
    "\n",
    "assert int(4.8) == 4\n",
    "\n",
    "assert int(-2.5) == -2\n",
    "\n",
    "assert 1.1233467890123456789 == 1.1233467890123456\n"
   ]
  },
  {
   "cell_type": "markdown",
   "metadata": {},
   "source": [
    "floor division\n",
    "\n",
    "- `//` perfroms a kind of integer division. When the result is positive, it behaves as truncating to 0 decimal places.\n",
    "\n",
    "- When integer-dividing negative numbers, the `//` operator rounds 'down'.\n"
   ]
  },
  {
   "cell_type": "code",
   "execution_count": 16,
   "metadata": {},
   "outputs": [],
   "source": [
    "# floor division\n",
    "\n",
    "assert 11//5 == 2\n",
    "\n",
    "assert 11//2 == 5\n",
    "\n",
    "\n",
    "assert -11//5 == -3\n",
    "\n",
    "assert -11//2 == -6\n",
    "\n"
   ]
  },
  {
   "cell_type": "markdown",
   "metadata": {},
   "source": [
    "# List\n",
    "\n",
    "List is an ordered set of items, which don't have to have the same type.\n",
    "\n",
    "https://docs.python.org/3.1/tutorial/datastructures.html\n"
   ]
  },
  {
   "cell_type": "code",
   "execution_count": 58,
   "metadata": {},
   "outputs": [],
   "source": [
    "list_a = []\n",
    "\n",
    "list_a = list_a + ['a']\n",
    "\n",
    "list_a.append('b')\n",
    "\n",
    "list_a.extend(['c', 'd'])\n",
    "\n",
    "list_a.insert(1, 'e')\n",
    "\n",
    "assert list_a == ['a', 'e', 'b', 'c', 'd']\n"
   ]
  },
  {
   "cell_type": "markdown",
   "metadata": {},
   "source": [
    "- The `+` operator concatenates lists to create a new list. However, memory usage can be concern when you're dealing with large lists since it returns a new list.\n",
    "\n",
    "\n",
    "- Then, what's the difference between `append()` and `extend()`?\n",
    "\n",
    "Well, `extend()` accepts a single argument, which is always a list, and adds each of the items of that list to `list_a` while `append()` adds a single argument that can be any datatyoe as a whole to `list_a`.\n",
    "\n",
    "\n"
   ]
  },
  {
   "cell_type": "code",
   "execution_count": 63,
   "metadata": {},
   "outputs": [],
   "source": [
    "list_a = [1, 2, 3]\n",
    "list_a.append([4, 5])\n",
    "assert list_a == [1, 2, 3, [4, 5]]\n",
    "\n",
    "\n",
    "list_a = [1, 2, 3]\n",
    "list_a.extend([4, 5])\n",
    "assert list_a == [1,2, 3, 4, 5]\n"
   ]
  },
  {
   "cell_type": "markdown",
   "metadata": {},
   "source": [
    "\n",
    "A simple way to make a copy of the original list is slicing.\n"
   ]
  },
  {
   "cell_type": "code",
   "execution_count": 12,
   "metadata": {},
   "outputs": [],
   "source": [
    "list_a = ['a', 'b', 'c']\n",
    "\n",
    "# make a copy\n",
    "list_a_copy = list_a[:]\n",
    "\n",
    "# So, they are two different things.\n",
    "list_a_copy[1] = 'z'\n",
    "assert list_a_copy[1] == 'z'\n",
    "assert list_a[1] == 'b'\n"
   ]
  },
  {
   "cell_type": "code",
   "execution_count": 14,
   "metadata": {},
   "outputs": [
    {
     "data": {
      "text/plain": [
       "(140490430042880, 140490430561024)"
      ]
     },
     "execution_count": 14,
     "metadata": {},
     "output_type": "execute_result"
    }
   ],
   "source": [
    "id(list_a), id(list_a_copy)\n"
   ]
  },
  {
   "cell_type": "markdown",
   "metadata": {},
   "source": [
    "# Shallow and deep copy"
   ]
  },
  {
   "cell_type": "markdown",
   "metadata": {},
   "source": [
    "The class `list` provide a copy method `copy()` but it is a shallow copy. What does this mean by 'shallow copy' ?\n"
   ]
  },
  {
   "cell_type": "code",
   "execution_count": 5,
   "metadata": {},
   "outputs": [
    {
     "name": "stdout",
     "output_type": "stream",
     "text": [
      "['Bob', ['Paris', 'UK']] ['Bob', ['Paris', 'UK']]\n"
     ]
    }
   ],
   "source": [
    "person1=['Bob', ['London', 'UK']]\n",
    "person2 = person1.copy()\n",
    "\n",
    "person2[1][0] = 'Paris'\n",
    "print(person1, person2)\n"
   ]
  },
  {
   "cell_type": "markdown",
   "metadata": {},
   "source": [
    "How to solve this?"
   ]
  },
  {
   "cell_type": "code",
   "execution_count": 6,
   "metadata": {},
   "outputs": [
    {
     "name": "stdout",
     "output_type": "stream",
     "text": [
      "['Bob', ['London', 'UK']] ['Bob', ['Paris', 'UK']]\n"
     ]
    }
   ],
   "source": [
    "from copy import deepcopy\n",
    "\n",
    "person1=['Bob', ['London', 'UK']]\n",
    "person2=deepcopy(person1)\n",
    "\n",
    "\n",
    "person2[1][0] = 'Paris'\n",
    "print(person1, person2)"
   ]
  },
  {
   "cell_type": "markdown",
   "metadata": {},
   "source": [
    "What about 'dict'?\n"
   ]
  },
  {
   "cell_type": "code",
   "execution_count": 11,
   "metadata": {},
   "outputs": [
    {
     "name": "stdout",
     "output_type": "stream",
     "text": [
      "{'street': 'Park Road', 'city': 'NewYork'} {'street': 'Park Road', 'city': 'NewYork'}\n"
     ]
    }
   ],
   "source": [
    "dict1 = {\n",
    "    'name': 'Bob',\n",
    "    'address': {\n",
    "        'street': 'Park Road',\n",
    "        'city': 'London'\n",
    "    }\n",
    "}\n",
    "dict2 = dict1.copy()\n",
    "dict2['address']['city'] = 'NewYork'\n",
    "print(dict1['address'], dict2['address'])\n"
   ]
  },
  {
   "cell_type": "code",
   "execution_count": 12,
   "metadata": {},
   "outputs": [
    {
     "name": "stdout",
     "output_type": "stream",
     "text": [
      "{'name': 'Bob', 'address': 'UK'} {'name': 'Bob', 'address': {'street': 'Park Road', 'city': 'London'}}\n"
     ]
    }
   ],
   "source": [
    "dict1 = {\n",
    "    'name': 'Bob',\n",
    "    'address': {\n",
    "        'street': 'Park Road',\n",
    "        'city': 'London'\n",
    "    }\n",
    "}\n",
    "dict2 = dict1.copy()\n",
    "dict1['address'] = 'UK'\n",
    "\n",
    "print(dict1, dict2)\n"
   ]
  },
  {
   "cell_type": "markdown",
   "metadata": {},
   "source": [
    "\n",
    "The property `address` of dict1 now refer to another 'object': 'UK' while dict2 still keep the original reference to the address.\n"
   ]
  },
  {
   "cell_type": "markdown",
   "metadata": {},
   "source": [
    "# Set\n",
    "\n",
    "How to create an empty set? Be careful with this!\n"
   ]
  },
  {
   "cell_type": "code",
   "execution_count": 82,
   "metadata": {},
   "outputs": [
    {
     "name": "stdout",
     "output_type": "stream",
     "text": [
      "{1}\n",
      "set()\n",
      "{} <class 'dict'>\n"
     ]
    }
   ],
   "source": [
    "# create a set with at least one element\n",
    "set_a = {1}\n",
    "print(set_a)\n",
    "\n",
    "\n",
    "empty_set = set()\n",
    "print(empty_set)\n",
    "\n",
    "\n",
    "# Be careful! This is a dict!\n",
    "empty_set = {}\n",
    "print(empty_set, type(empty_set))\n",
    "\n"
   ]
  },
  {
   "cell_type": "markdown",
   "metadata": {},
   "source": [
    "# None\n",
    "\n",
    "None is a special constant in Python. It's a null value. \n",
    "\n",
    "- None is not the same as False.\n",
    "- None is not the same as 0.\n",
    "- None is not the same as empty string.\n",
    "\n",
    "Comparing None to anything other than None will always return False.\n",
    "\n"
   ]
  },
  {
   "cell_type": "code",
   "execution_count": 91,
   "metadata": {},
   "outputs": [],
   "source": [
    "def equal(a, b):\n",
    "    return a == b\n",
    "\n",
    "assert equal(None, 0) == False\n",
    "assert equal(None, False) == False\n",
    "assert equal(None, '') == False\n",
    "assert equal(None, []) == False\n",
    "\n",
    "assert equal(None, None) == True\n"
   ]
  },
  {
   "cell_type": "markdown",
   "metadata": {},
   "source": [
    "# Boolean context"
   ]
  },
  {
   "cell_type": "code",
   "execution_count": 85,
   "metadata": {},
   "outputs": [],
   "source": [
    "def is_it_true(anything):\n",
    "    if anything:\n",
    "        return 'yes'\n",
    "    else:\n",
    "        return 'no'\n",
    "\n",
    "# number\n",
    "assert is_it_true(0) == 'no'\n",
    "assert is_it_true(0.9) == 'yes'\n",
    "\n",
    "# list\n",
    "assert is_it_true([]) == 'no'\n",
    "assert is_it_true([1]) == 'yes'\n",
    "\n",
    "# string\n",
    "assert is_it_true('') == 'no'\n",
    "assert is_it_true('ds') == 'yes'\n",
    "\n",
    "# tuple\n",
    "assert is_it_true(()) == 'no'\n",
    "assert is_it_true((1, 2)) == 'yes'\n",
    "\n",
    "# set\n",
    "assert is_it_true(set()) == 'no'\n",
    "assert is_it_true({1, 2}) == 'yes'\n",
    "\n",
    "\n",
    "# dict\n",
    "assert is_it_true({}) == 'no'\n",
    "assert is_it_true({'age': 12}) == 'yes'\n",
    "\n",
    "\n",
    "# None\n",
    "assert is_it_true(None) == 'no'\n"
   ]
  },
  {
   "cell_type": "markdown",
   "metadata": {},
   "source": [
    "# Function"
   ]
  },
  {
   "cell_type": "markdown",
   "metadata": {},
   "source": [
    "### The Default Pitfall"
   ]
  },
  {
   "cell_type": "code",
   "execution_count": 76,
   "metadata": {},
   "outputs": [],
   "source": [
    "def f(name=[], age=[]):\n",
    "    name.append('spam')\n",
    "    age.append('age12')\n",
    "    return name, age\n"
   ]
  },
  {
   "cell_type": "code",
   "execution_count": 77,
   "metadata": {},
   "outputs": [
    {
     "data": {
      "text/plain": [
       "([], [])"
      ]
     },
     "execution_count": 77,
     "metadata": {},
     "output_type": "execute_result"
    }
   ],
   "source": [
    "#\n",
    "f.__defaults__\n"
   ]
  },
  {
   "cell_type": "code",
   "execution_count": 78,
   "metadata": {},
   "outputs": [
    {
     "name": "stdout",
     "output_type": "stream",
     "text": [
      "(['spam'], ['age12']) (['spam'], ['age12'])\n",
      "(['spam', 'spam'], ['age12', 'age12']) (['spam', 'spam'], ['age12', 'age12'])\n",
      "(['spam', 'spam', 'spam'], ['age12', 'age12', 'age12']) (['spam', 'spam', 'spam'], ['age12', 'age12', 'age12'])\n"
     ]
    }
   ],
   "source": [
    "for i in range(3):\n",
    "    print(f(), f.__defaults__)\n"
   ]
  },
  {
   "cell_type": "markdown",
   "metadata": {},
   "source": [
    "Emm.. weird. What's wrong?\n",
    "\n",
    "\n",
    "Well, when the function is defined, the compilers creates an attribute `__defaults__`.\n",
    "\n",
    "Whenever we call the function, the parameter `name` will be assigned to the list object referenced by `f.__defaults__[0]`.\n",
    "\n",
    "\n",
    "How to overcome this? The solution is to use `None`\n"
   ]
  },
  {
   "cell_type": "code",
   "execution_count": 79,
   "metadata": {},
   "outputs": [],
   "source": [
    "def f(name=None):\n",
    "    if name is None:\n",
    "        name = [] # reference to another object\n",
    "    name.append('spam')\n",
    "    return name\n"
   ]
  },
  {
   "cell_type": "code",
   "execution_count": 80,
   "metadata": {},
   "outputs": [
    {
     "data": {
      "text/plain": [
       "(None,)"
      ]
     },
     "execution_count": 80,
     "metadata": {},
     "output_type": "execute_result"
    }
   ],
   "source": [
    "#\n",
    "f.__defaults__\n"
   ]
  },
  {
   "cell_type": "code",
   "execution_count": 81,
   "metadata": {},
   "outputs": [
    {
     "name": "stdout",
     "output_type": "stream",
     "text": [
      "['spam'] (None,)\n",
      "['spam'] (None,)\n",
      "['spam'] (None,)\n"
     ]
    }
   ],
   "source": [
    "for i in range(3):\n",
    "    print(f(), f.__defaults__)\n"
   ]
  },
  {
   "cell_type": "markdown",
   "metadata": {},
   "source": [
    "### Arbitrary number of (keyword) parameter\n",
    "\n",
    "- `*` defines a variable number of arguments\n",
    "\n",
    "- `**` defines a variable number of keyword arguments\n",
    "\n"
   ]
  },
  {
   "cell_type": "code",
   "execution_count": 111,
   "metadata": {},
   "outputs": [
    {
     "name": "stdout",
     "output_type": "stream",
     "text": [
      "<class 'tuple'> ('name', 12, 3)\n"
     ]
    }
   ],
   "source": [
    "def f(*rest):\n",
    "    print(type(rest), rest)\n",
    "\n",
    "f('name', 12, 3)\n"
   ]
  },
  {
   "cell_type": "code",
   "execution_count": 112,
   "metadata": {},
   "outputs": [
    {
     "name": "stdout",
     "output_type": "stream",
     "text": [
      "1 2 3\n"
     ]
    }
   ],
   "source": [
    "def f(x, y, z):\n",
    "    print(x, y, z)\n",
    "\n",
    "p=[1, 2, 3]\n",
    "f(*p) # instead of f(p[0], p[1], p[2])"
   ]
  },
  {
   "cell_type": "code",
   "execution_count": 113,
   "metadata": {},
   "outputs": [
    {
     "name": "stdout",
     "output_type": "stream",
     "text": [
      "{'name': 's', 'age': 12}\n"
     ]
    }
   ],
   "source": [
    "def f(**kwargs):\n",
    "    print(kwargs)\n",
    "\n",
    "f(name='s', age=12)    \n"
   ]
  },
  {
   "cell_type": "code",
   "execution_count": 114,
   "metadata": {},
   "outputs": [
    {
     "name": "stdout",
     "output_type": "stream",
     "text": [
      "Bob 21 ff\n"
     ]
    }
   ],
   "source": [
    "def f(name, age, job):\n",
    "    print(name, age, job)\n",
    "\n",
    "f(**({'name': 'Bob', 'age': 21, 'job': 'ff'}))\n"
   ]
  },
  {
   "cell_type": "code",
   "execution_count": 115,
   "metadata": {},
   "outputs": [
    {
     "name": "stdout",
     "output_type": "stream",
     "text": [
      "1 2 Bob 21\n"
     ]
    }
   ],
   "source": [
    "def f(x, y, name, age):\n",
    "    print(x, y, name, age)\n",
    "\n",
    "p=[1, 2]\n",
    "a = {'name': 'Bob', 'age': 21}\n",
    "f(*p,**a) \n"
   ]
  },
  {
   "cell_type": "markdown",
   "metadata": {},
   "source": [
    "### Call-By-Value VS Call-By-Reference\n",
    "\n",
    "> If you pass immutable arguments like integers, strings or tuples to a function, the passing acts like call-by-value. The object reference is passed to the function parameters. They can't be changed within the function, because they can't be changed at all, i.e. they are immutable. It's different, if we pass mutable arguments. They are also passed by object reference, but they can be changed in place within the function. If we pass a list to a function, we have to consider two cases: Elements of a list can be changed in place, i.e. the list will be changed even in the caller's scope. If a new list is assigned to the name, the old list will not be affected, i.e. the list in the caller's scope will remain untouched. - https://www.python-course.eu/python3_passing_arguments.php\n",
    "\n"
   ]
  },
  {
   "cell_type": "markdown",
   "metadata": {},
   "source": [
    "### Side Effect"
   ]
  },
  {
   "cell_type": "markdown",
   "metadata": {},
   "source": [
    "\n",
    "In addition to producing a return value, it modifies the caller's environmnet in other ways.\n",
    "\n"
   ]
  },
  {
   "cell_type": "code",
   "execution_count": 98,
   "metadata": {},
   "outputs": [
    {
     "name": "stdout",
     "output_type": "stream",
     "text": [
      "['Leeds']\n",
      "['Leeds', 'London', 'Paris']\n",
      "['Leeds']\n"
     ]
    }
   ],
   "source": [
    "def side_effects(cities):\n",
    "    print(cities)\n",
    "    cities =  cities + [\"London\", \"Paris\"]\n",
    "    print(cities)\n",
    "    \n",
    "locations = ['Leeds']\n",
    "side_effects(locations)\n",
    "print(locations)\n",
    "# well, as expected"
   ]
  },
  {
   "cell_type": "code",
   "execution_count": 99,
   "metadata": {},
   "outputs": [
    {
     "name": "stdout",
     "output_type": "stream",
     "text": [
      "['Leeds']\n",
      "['Leeds', 'London', 'Paris']\n",
      "['Leeds', 'London', 'Paris']\n"
     ]
    }
   ],
   "source": [
    "def side_effects(cities):\n",
    "    print(cities)\n",
    "    cities += [\"London\", \"Paris\"] # += side-effect\n",
    "    print(cities)\n",
    "    \n",
    "locations = ['Leeds']\n",
    "side_effects(locations)\n",
    "print(locations)\n",
    "# emm, what's wrong?"
   ]
  },
  {
   "cell_type": "markdown",
   "metadata": {},
   "source": [
    "How to avoid this? pass a copy to the function "
   ]
  },
  {
   "cell_type": "code",
   "execution_count": 101,
   "metadata": {},
   "outputs": [
    {
     "name": "stdout",
     "output_type": "stream",
     "text": [
      "['Leeds']\n",
      "['Leeds', 'London', 'Paris']\n",
      "['Leeds']\n"
     ]
    }
   ],
   "source": [
    "def side_effects(cities):\n",
    "    print(cities)\n",
    "    cities += [\"London\", \"Paris\"]\n",
    "    print(cities)\n",
    "    \n",
    "locations = ['Leeds']\n",
    "\n",
    "# or locations[:]\n",
    "side_effects(list(locations))\n",
    "\n",
    "print(locations)\n"
   ]
  },
  {
   "cell_type": "code",
   "execution_count": null,
   "metadata": {},
   "outputs": [],
   "source": []
  },
  {
   "cell_type": "markdown",
   "metadata": {},
   "source": [
    "# Variable Scope "
   ]
  },
  {
   "cell_type": "markdown",
   "metadata": {},
   "source": [
    "\n",
    "**Variables inside a function are local to this function.**\n",
    "\n",
    "\n",
    "In other words, **All variables have the scope of the block, where they are declared and defined**.\n",
    "\n",
    "\n"
   ]
  },
  {
   "cell_type": "code",
   "execution_count": 34,
   "metadata": {},
   "outputs": [
    {
     "name": "stdout",
     "output_type": "stream",
     "text": [
      "hello\n"
     ]
    }
   ],
   "source": [
    "# variable s is not defined inside the function f, so it will lookup the parent scope, i.e. the global scope in this case.\n",
    "\n",
    "def f():\n",
    "    print(s)\n",
    "s = 'hello'\n",
    "f()\n"
   ]
  },
  {
   "cell_type": "code",
   "execution_count": 36,
   "metadata": {},
   "outputs": [
    {
     "name": "stdout",
     "output_type": "stream",
     "text": [
      "inside hello\n"
     ]
    }
   ],
   "source": [
    "# variable s is defined inside f, so it won't lookup the parent scope.\n",
    "def f():\n",
    "    s = 'inside hello'\n",
    "    print(s)\n",
    "s = 'outer hellor'\n",
    "f()"
   ]
  },
  {
   "cell_type": "code",
   "execution_count": 38,
   "metadata": {},
   "outputs": [
    {
     "ename": "UnboundLocalError",
     "evalue": "local variable 's' referenced before assignment",
     "output_type": "error",
     "traceback": [
      "\u001b[0;31m-------------------------------------------\u001b[0m",
      "\u001b[0;31mUnboundLocalError\u001b[0mTraceback (most recent call last)",
      "\u001b[0;32m<ipython-input-38-bcc2f2c9b882>\u001b[0m in \u001b[0;36m<module>\u001b[0;34m\u001b[0m\n\u001b[1;32m      7\u001b[0m     \u001b[0mprint\u001b[0m\u001b[0;34m(\u001b[0m\u001b[0ms\u001b[0m\u001b[0;34m)\u001b[0m\u001b[0;34m\u001b[0m\u001b[0;34m\u001b[0m\u001b[0m\n\u001b[1;32m      8\u001b[0m \u001b[0ms\u001b[0m \u001b[0;34m=\u001b[0m \u001b[0;34m'outer hellor'\u001b[0m\u001b[0;34m\u001b[0m\u001b[0;34m\u001b[0m\u001b[0m\n\u001b[0;32m----> 9\u001b[0;31m \u001b[0mf\u001b[0m\u001b[0;34m(\u001b[0m\u001b[0;34m)\u001b[0m\u001b[0;34m\u001b[0m\u001b[0;34m\u001b[0m\u001b[0m\n\u001b[0m",
      "\u001b[0;32m<ipython-input-38-bcc2f2c9b882>\u001b[0m in \u001b[0;36mf\u001b[0;34m()\u001b[0m\n\u001b[1;32m      3\u001b[0m \u001b[0;31m# so Python decides that we want to use the local variable rather than a global one.\u001b[0m\u001b[0;34m\u001b[0m\u001b[0;34m\u001b[0m\u001b[0;34m\u001b[0m\u001b[0m\n\u001b[1;32m      4\u001b[0m \u001b[0;32mdef\u001b[0m \u001b[0mf\u001b[0m\u001b[0;34m(\u001b[0m\u001b[0;34m)\u001b[0m\u001b[0;34m:\u001b[0m\u001b[0;34m\u001b[0m\u001b[0;34m\u001b[0m\u001b[0m\n\u001b[0;32m----> 5\u001b[0;31m     \u001b[0mprint\u001b[0m\u001b[0;34m(\u001b[0m\u001b[0ms\u001b[0m\u001b[0;34m)\u001b[0m\u001b[0;34m\u001b[0m\u001b[0;34m\u001b[0m\u001b[0m\n\u001b[0m\u001b[1;32m      6\u001b[0m     \u001b[0ms\u001b[0m \u001b[0;34m+=\u001b[0m \u001b[0;34m'aaaa'\u001b[0m\u001b[0;34m\u001b[0m\u001b[0;34m\u001b[0m\u001b[0m\n\u001b[1;32m      7\u001b[0m     \u001b[0mprint\u001b[0m\u001b[0;34m(\u001b[0m\u001b[0ms\u001b[0m\u001b[0;34m)\u001b[0m\u001b[0;34m\u001b[0m\u001b[0;34m\u001b[0m\u001b[0m\n",
      "\u001b[0;31mUnboundLocalError\u001b[0m: local variable 's' referenced before assignment"
     ]
    }
   ],
   "source": [
    "# it will raise an error. It's different from JavaScript, which has a concept of variable hoisting.\n",
    "# since variable can only be either local or global. In this case, Python saw a variable s inside the function f, \n",
    "# so Python decides that we want to use the local variable rather than a global one. \n",
    "# Unfortunately, variable s is not declared or defined.\n",
    "def f():\n",
    "    print(s) \n",
    "    s += 'aaaa'\n",
    "    print(s)\n",
    "s = 'outer hellor'\n",
    "f()"
   ]
  },
  {
   "cell_type": "code",
   "execution_count": 40,
   "metadata": {},
   "outputs": [
    {
     "name": "stdout",
     "output_type": "stream",
     "text": [
      "outer hello\n",
      "outer helloinner hello\n",
      "outer helloinner hello\n"
     ]
    }
   ],
   "source": [
    "def f():\n",
    "    global s\n",
    "    print(s) \n",
    "    s += 'inner hello'\n",
    "    print(s)\n",
    "s = 'outer hello'\n",
    "f()\n",
    "print(s)"
   ]
  },
  {
   "cell_type": "markdown",
   "metadata": {},
   "source": [
    "!!**A variable defined inside of a function is local unless it is explitily maked as global.**"
   ]
  },
  {
   "cell_type": "code",
   "execution_count": 45,
   "metadata": {},
   "outputs": [
    {
     "name": "stdout",
     "output_type": "stream",
     "text": [
      "Value of city in main: outer\n",
      "Before calling g: Hamburg\n",
      "After calling g: Hamburg\n",
      "Value of city in main: Geneva\n"
     ]
    }
   ],
   "source": [
    "city='outer'\n",
    "def f():\n",
    "    city = \"Hamburg\"\n",
    "    def g():\n",
    "        global city\n",
    "        city = \"Geneva\"\n",
    "    print(\"Before calling g: \" + city)\n",
    "    g()\n",
    "    print(\"After calling g: \" + city)\n",
    "    \n",
    "print(\"Value of city in main: \" + city)\n",
    "f()\n",
    "print(\"Value of city in main: \" + city)"
   ]
  },
  {
   "cell_type": "markdown",
   "metadata": {},
   "source": [
    "# Working with files\n",
    "\n",
    "https://docs.python.org/3.1/library/os.path.html\n"
   ]
  },
  {
   "cell_type": "code",
   "execution_count": 11,
   "metadata": {},
   "outputs": [
    {
     "name": "stdout",
     "output_type": "stream",
     "text": [
      "/Users/wuxiaopan/work/DataScience/0_Python\n"
     ]
    }
   ],
   "source": [
    "import os\n",
    "\n",
    "\n",
    "print(os.getcwd())\n",
    "# os.chdir('../0_Python')\n"
   ]
  },
  {
   "cell_type": "markdown",
   "metadata": {},
   "source": [
    "One of the most common operation is to concanate file paths."
   ]
  },
  {
   "cell_type": "code",
   "execution_count": 6,
   "metadata": {},
   "outputs": [
    {
     "data": {
      "text/plain": [
       "'aa/bbb'"
      ]
     },
     "execution_count": 6,
     "metadata": {},
     "output_type": "execute_result"
    }
   ],
   "source": [
    "os.path.join('aa', 'bbb')\n"
   ]
  },
  {
   "cell_type": "markdown",
   "metadata": {},
   "source": [
    "Split file path into directory, filename and extension."
   ]
  },
  {
   "cell_type": "code",
   "execution_count": 10,
   "metadata": {},
   "outputs": [
    {
     "name": "stdout",
     "output_type": "stream",
     "text": [
      "/user/work/data cat.jpg\n",
      "cat .jpg\n"
     ]
    }
   ],
   "source": [
    "directory, filename = os.path.split('/user/work/data/cat.jpg')\n",
    "print(directory, filename)\n",
    "\n",
    "filename, extension = os.path.splitext(filename)\n",
    "print(filename, extension)\n"
   ]
  },
  {
   "cell_type": "markdown",
   "metadata": {},
   "source": [
    "TODO: glob"
   ]
  },
  {
   "cell_type": "markdown",
   "metadata": {},
   "source": [
    "# Module"
   ]
  },
  {
   "cell_type": "markdown",
   "metadata": {},
   "source": [
    "Every file, which has the file extension '.py' and consists of proper Python code is a module.\n",
    "\n",
    "You can include anything including strings, objects, functions in this file. All those objects can be accessed after import.\n",
    "\n",
    "\n",
    "The module name is the filename without the extension.\n",
    "\n",
    "\n",
    "You can import several names you need only from the module. It's not recommend to import all names defined in a module, which will lead to name conflicts.\n",
    "\n"
   ]
  },
  {
   "cell_type": "markdown",
   "metadata": {},
   "source": [
    "### Running Scripts\n",
    "\n",
    "Modules in python are objects, so they have a built-in attribute `__name__`. \n",
    "\n",
    "And a module's `__name__` depends on how you use this module. \n",
    "\n",
    "- If you import the module, then `__name__` is the module's filename, without a directory path or file extension.\n",
    "\n",
    "\n",
    "- If you run this module directly as a standalone program(run as a script), then `__name__` will be `__main__`.\n"
   ]
  },
  {
   "cell_type": "code",
   "execution_count": null,
   "metadata": {},
   "outputs": [],
   "source": [
    "\n",
    "import some_module\n",
    "some_module.__name__ # some_module\n",
    "\n",
    "\n",
    "# another scenoria\n",
    "if __name__ == '__main__':\n",
    "    start()\n",
    "\n",
    "!python some_module.py\n",
    "    \n"
   ]
  },
  {
   "cell_type": "markdown",
   "metadata": {},
   "source": [
    "### Module Search Path\n",
    "\n",
    "- the directory of the file being executed\n",
    "\n",
    "- the global path PYTHONPATH\n",
    "\n",
    "- standard installation path, e.g. /usr/lib/xxx\n",
    "\n",
    "\n",
    "You can insert a new directory as the first item at runtime, for example, to solve name conflics.\n"
   ]
  },
  {
   "cell_type": "code",
   "execution_count": null,
   "metadata": {},
   "outputs": [],
   "source": [
    "import sys\n",
    "\n",
    "# a list of directory names that constitute the current search path\n",
    "sys.path \n",
    "\n",
    "sys.path.insert(0, new_path) # \n"
   ]
  },
  {
   "cell_type": "markdown",
   "metadata": {},
   "source": [
    "### Content of a module"
   ]
  },
  {
   "cell_type": "code",
   "execution_count": null,
   "metadata": {},
   "outputs": [],
   "source": [
    "dir(module)\n"
   ]
  },
  {
   "cell_type": "markdown",
   "metadata": {},
   "source": [
    "# Package"
   ]
  },
  {
   "cell_type": "markdown",
   "metadata": {},
   "source": [
    "A directory containing a file named `__init__.py` and other Python files.\n",
    "\n",
    "Two packages can have modules with the same name.\n",
    "\n",
    "\n",
    "https://www.python-course.eu/python3_packages.php\n"
   ]
  },
  {
   "cell_type": "markdown",
   "metadata": {},
   "source": [
    "# Iterator/Iterable"
   ]
  },
  {
   "cell_type": "markdown",
   "metadata": {},
   "source": [
    "Iterator is iterable, but not every iterable is an iterator. e.g. `list ` is iterable but it is not an iterator.\n",
    "\n",
    "An object is iterable if we can get an iterator from it or it has a `__iter__()` method that returns an iterator.\n",
    "\n",
    "\n",
    "Iterator is an object that returns one element at a time using  `__next__()`, which will be used when the function `next()` is called.\n",
    "\n",
    "\n",
    "An iterator can be created from an iterable by using `iter()`.\n",
    "\n",
    "\n",
    "How does for-loop work?\n",
    "\n",
    "- calls `iter()` on the object, then return an iterator object with a `__next__()` method.\n",
    "\n",
    "- raise a `StopIteration` exception, if all elements have been visited.\n",
    "\n",
    "- then the for-loop stops\n",
    "\n"
   ]
  },
  {
   "cell_type": "code",
   "execution_count": 6,
   "metadata": {},
   "outputs": [
    {
     "name": "stdout",
     "output_type": "stream",
     "text": [
      "<list_iterator object at 0x7fcadf367160>\n",
      "apple\n",
      "banana\n",
      "pear\n"
     ]
    },
    {
     "ename": "StopIteration",
     "evalue": "",
     "output_type": "error",
     "traceback": [
      "\u001b[0;31m-------------------------\u001b[0m",
      "\u001b[0;31mStopIteration\u001b[0mTraceback (most recent call last)",
      "\u001b[0;32m<ipython-input-6-7dfff1742125>\u001b[0m in \u001b[0;36m<module>\u001b[0;34m\u001b[0m\n\u001b[1;32m      8\u001b[0m \u001b[0mprint\u001b[0m\u001b[0;34m(\u001b[0m\u001b[0mnext\u001b[0m\u001b[0;34m(\u001b[0m\u001b[0miterator_obj\u001b[0m\u001b[0;34m)\u001b[0m\u001b[0;34m)\u001b[0m\u001b[0;34m\u001b[0m\u001b[0;34m\u001b[0m\u001b[0m\n\u001b[1;32m      9\u001b[0m \u001b[0mprint\u001b[0m\u001b[0;34m(\u001b[0m\u001b[0mnext\u001b[0m\u001b[0;34m(\u001b[0m\u001b[0miterator_obj\u001b[0m\u001b[0;34m)\u001b[0m\u001b[0;34m)\u001b[0m\u001b[0;34m\u001b[0m\u001b[0;34m\u001b[0m\u001b[0m\n\u001b[0;32m---> 10\u001b[0;31m \u001b[0mprint\u001b[0m\u001b[0;34m(\u001b[0m\u001b[0mnext\u001b[0m\u001b[0;34m(\u001b[0m\u001b[0miterator_obj\u001b[0m\u001b[0;34m)\u001b[0m\u001b[0;34m)\u001b[0m\u001b[0;34m\u001b[0m\u001b[0;34m\u001b[0m\u001b[0m\n\u001b[0m",
      "\u001b[0;31mStopIteration\u001b[0m: "
     ]
    }
   ],
   "source": [
    "fruits = ['apple', 'banana', 'pear']\n",
    "\n",
    "iterator_obj = iter(fruits)\n",
    "\n",
    "print(iterator_obj)\n",
    "\n",
    "print(next(iterator_obj))\n",
    "print(next(iterator_obj))\n",
    "print(next(iterator_obj))\n",
    "print(next(iterator_obj))"
   ]
  },
  {
   "cell_type": "markdown",
   "metadata": {},
   "source": [
    "### Implementing an iterator"
   ]
  },
  {
   "cell_type": "code",
   "execution_count": 14,
   "metadata": {},
   "outputs": [],
   "source": [
    "class ReverseStr:\n",
    "    def __init__(self, s):\n",
    "        self.s = s\n",
    "        self.len=len(s)\n",
    "        \n",
    "    def __iter__(self):\n",
    "        return self\n",
    "    \n",
    "    def __next__(self):\n",
    "        if self.len == 0:\n",
    "            raise StopIteration\n",
    "        self.len = self.len - 1\n",
    "        return self.s[self.len]\n"
   ]
  },
  {
   "cell_type": "code",
   "execution_count": 16,
   "metadata": {},
   "outputs": [
    {
     "name": "stdout",
     "output_type": "stream",
     "text": [
      "e\n",
      "l\n",
      "p\n",
      "p\n",
      "a\n"
     ]
    }
   ],
   "source": [
    "rs = ReverseStr('apple')\n",
    "\n",
    "rs_iter = iter(rs)\n",
    "while True:\n",
    "    try:\n",
    "        print(next(rs_iter))\n",
    "    except StopIteration:\n",
    "        break\n"
   ]
  },
  {
   "cell_type": "markdown",
   "metadata": {},
   "source": [
    "# Generator\n",
    "\n",
    "\n",
    "It generates something. What does this something mean? A generator object that will produce a sequence of elements accessed by iterating over it instead of a single result that the normal function returns.\n"
   ]
  },
  {
   "cell_type": "code",
   "execution_count": 55,
   "metadata": {},
   "outputs": [],
   "source": [
    "def counter(start=0, step=1, end=10):\n",
    "    while start < end:\n",
    "        start = start + step\n",
    "        yield start\n",
    "  "
   ]
  },
  {
   "cell_type": "code",
   "execution_count": 58,
   "metadata": {},
   "outputs": [
    {
     "name": "stdout",
     "output_type": "stream",
     "text": [
      "1,2,3,4,5,6,7,8,9,10,"
     ]
    }
   ],
   "source": [
    "it = counter()\n",
    "for i in it:\n",
    "    print(i, end=',')"
   ]
  },
  {
   "cell_type": "code",
   "execution_count": 60,
   "metadata": {},
   "outputs": [
    {
     "name": "stdout",
     "output_type": "stream",
     "text": [
      "0,1,1,2,3,"
     ]
    }
   ],
   "source": [
    "# 0 1 1 2 3 5 8 13 21...\n",
    "\n",
    "def fibonacci(n):\n",
    "    a, b = 0, 1\n",
    "    i = 0\n",
    "    while i<n:\n",
    "        yield a\n",
    "        a,b = b,a+b\n",
    "        i+=1\n",
    "\n",
    "for i in fibonacci(5):\n",
    "    print(i, end=',')"
   ]
  },
  {
   "cell_type": "markdown",
   "metadata": {},
   "source": [
    "### Return in a generator\n",
    "\n",
    "Since python3.3, generators can also use return statements, but a generaotr still needs at least yield statement. return statement is equivalent to StopIteration exception.\n"
   ]
  },
  {
   "cell_type": "code",
   "execution_count": 62,
   "metadata": {},
   "outputs": [
    {
     "name": "stdout",
     "output_type": "stream",
     "text": [
      "1\n"
     ]
    },
    {
     "ename": "StopIteration",
     "evalue": "2",
     "output_type": "error",
     "traceback": [
      "\u001b[0;31m----------------------------------------------------\u001b[0m",
      "\u001b[0;31mStopIteration\u001b[0m      Traceback (most recent call last)",
      "\u001b[0;32m<ipython-input-62-1dc0776ce12c>\u001b[0m in \u001b[0;36m<module>\u001b[0;34m\u001b[0m\n\u001b[1;32m      6\u001b[0m \u001b[0mit\u001b[0m \u001b[0;34m=\u001b[0m \u001b[0mgen\u001b[0m\u001b[0;34m(\u001b[0m\u001b[0;34m)\u001b[0m\u001b[0;34m\u001b[0m\u001b[0;34m\u001b[0m\u001b[0m\n\u001b[1;32m      7\u001b[0m \u001b[0mprint\u001b[0m\u001b[0;34m(\u001b[0m\u001b[0mnext\u001b[0m\u001b[0;34m(\u001b[0m\u001b[0mit\u001b[0m\u001b[0;34m)\u001b[0m\u001b[0;34m)\u001b[0m\u001b[0;34m\u001b[0m\u001b[0;34m\u001b[0m\u001b[0m\n\u001b[0;32m----> 8\u001b[0;31m \u001b[0mprint\u001b[0m\u001b[0;34m(\u001b[0m\u001b[0mnext\u001b[0m\u001b[0;34m(\u001b[0m\u001b[0mit\u001b[0m\u001b[0;34m)\u001b[0m\u001b[0;34m)\u001b[0m\u001b[0;34m\u001b[0m\u001b[0;34m\u001b[0m\u001b[0m\n\u001b[0m",
      "\u001b[0;31mStopIteration\u001b[0m: 2"
     ]
    }
   ],
   "source": [
    "def gen():\n",
    "    yield 1\n",
    "    return 2\n",
    "    yield 3\n",
    "\n",
    "it = gen()\n",
    "print(next(it))\n",
    "print(next(it))"
   ]
  },
  {
   "cell_type": "markdown",
   "metadata": {},
   "source": [
    "### Send method/Coroutines\n",
    "\n",
    "Generators can both send values and recieve values using `send()` method.\n",
    "\n",
    "`send()` will both send value and return the value yielded by the generator.\n"
   ]
  },
  {
   "cell_type": "code",
   "execution_count": 70,
   "metadata": {},
   "outputs": [
    {
     "name": "stdout",
     "output_type": "stream",
     "text": [
      "2.10, 2.40, set current count value to another value:\n",
      "returned from send() 100.5\n",
      "100.80, 101.10, 101.40, "
     ]
    }
   ],
   "source": [
    "def count(firstval=0, step=1):\n",
    "    counter = firstval\n",
    "    while True:\n",
    "        new_counter_val = yield counter\n",
    "        if new_counter_val is None:\n",
    "            counter += step\n",
    "        else:\n",
    "            counter = new_counter_val\n",
    "            \n",
    "start_value = 2.1\n",
    "stop_value = 0.3\n",
    "counter = count(start_value, stop_value) \n",
    "for i in range(2):\n",
    "    new_value = next(counter)\n",
    "    print(f\"{new_value:2.2f}\", end=\", \")\n",
    "\n",
    "print(\"set current count value to another value:\")\n",
    "\n",
    "return_x = counter.send(100.5)\n",
    "print('returned from send()', return_x)\n",
    "\n",
    "for i in range(3):\n",
    "    new_value = next(counter)\n",
    "    print(f\"{new_value:2.2f}\", end=\", \")"
   ]
  },
  {
   "cell_type": "markdown",
   "metadata": {},
   "source": [
    "### throw()\n",
    "\n",
    "TODO when should we use it?\n"
   ]
  },
  {
   "cell_type": "markdown",
   "metadata": {},
   "source": [
    "### yield from `<expr>`\n",
    "\n",
    "`<expr>` is an expression evaluating to an iterable.\n",
    "\n",
    "TODO when should we use it?\n"
   ]
  },
  {
   "cell_type": "code",
   "execution_count": 74,
   "metadata": {},
   "outputs": [
    {
     "data": {
      "text/plain": [
       "['a', 'b', 'c', 'd']"
      ]
     },
     "execution_count": 74,
     "metadata": {},
     "output_type": "execute_result"
    }
   ],
   "source": [
    "def f():\n",
    "    yield from 'abcd'\n",
    "\n",
    "list(f())\n"
   ]
  },
  {
   "cell_type": "markdown",
   "metadata": {},
   "source": [
    "# Decorator\n",
    "\n",
    "- function decorator\n",
    "\n",
    "- class decorator\n"
   ]
  },
  {
   "cell_type": "code",
   "execution_count": 79,
   "metadata": {},
   "outputs": [
    {
     "name": "stdout",
     "output_type": "stream",
     "text": [
      "Before calling...\n",
      "foo function  1\n",
      "After calling...\n"
     ]
    }
   ],
   "source": [
    "def first_decorator(func):\n",
    "    def function_wrapper(x):\n",
    "        print('Before calling...')\n",
    "        func(x)\n",
    "        print('After calling...')\n",
    "    return function_wrapper\n",
    "\n",
    "\n",
    "@first_decorator\n",
    "def f(x):\n",
    "    print('foo function ', x)\n",
    "f(1)"
   ]
  },
  {
   "cell_type": "code",
   "execution_count": 82,
   "metadata": {},
   "outputs": [
    {
     "name": "stdout",
     "output_type": "stream",
     "text": [
      "morning, f is calling...\n"
     ]
    },
    {
     "data": {
      "text/plain": [
       "9"
      ]
     },
     "execution_count": 82,
     "metadata": {},
     "output_type": "execute_result"
    }
   ],
   "source": [
    "def greeting(expr):\n",
    "    def greeting_decorator(func):\n",
    "        def function_wrapper(x):\n",
    "            print(expr+', ' + func.__name__ + ' is calling...')\n",
    "            return func(x)\n",
    "        return function_wrapper\n",
    "    return greeting_decorator\n",
    "        \n",
    "@greeting('morning')\n",
    "def f(x):\n",
    "    return x**2\n",
    "\n",
    "f(3)     "
   ]
  },
  {
   "cell_type": "markdown",
   "metadata": {},
   "source": [
    "### Using wraps from functools\n",
    "\n",
    "- `__name__`\n",
    "\n",
    "- `__doc__`\n",
    "\n",
    "- `__module__`\n",
    "\n",
    "These attribtues will be lost after the decoration.\n"
   ]
  },
  {
   "cell_type": "code",
   "execution_count": 96,
   "metadata": {},
   "outputs": [
    {
     "name": "stdout",
     "output_type": "stream",
     "text": [
      "Hi sayHi is calling\n",
      "Hi, Amy\n",
      "function_wrapper\n",
      "docs from function wrapper\n"
     ]
    }
   ],
   "source": [
    "def deco(func):\n",
    "    def function_wrapper(x):\n",
    "        \"\"\"docs from function wrapper\"\"\"\n",
    "        print('Hi ' + func.__name__ + ' is calling')\n",
    "        func(x)\n",
    "    return function_wrapper\n",
    "    \n",
    "@deco    \n",
    "def sayHi(name):\n",
    "    \"\"\"say hi\"\"\"\n",
    "    print('Hi, ' + name)\n",
    "\n",
    "sayHi('Amy')\n",
    "print(sayHi.__name__)\n",
    "print(sayHi.__doc__)\n"
   ]
  },
  {
   "cell_type": "code",
   "execution_count": 95,
   "metadata": {},
   "outputs": [
    {
     "name": "stdout",
     "output_type": "stream",
     "text": [
      "Hi sayHi is calling\n",
      "Hi, Amy\n",
      "sayHi\n",
      "docs from sayHi\n"
     ]
    }
   ],
   "source": [
    "from functools import wraps\n",
    "\n",
    "def deco(func):\n",
    "    @wraps(func)\n",
    "    def function_wrapper(x):\n",
    "        \"\"\"docs from function wrapper\"\"\"\n",
    "        print('Hi ' + func.__name__ + ' is calling')\n",
    "        func(x)\n",
    "    return function_wrapper\n",
    "    \n",
    "@deco    \n",
    "def sayHi(name):\n",
    "    \"\"\"docs from sayHi\"\"\"\n",
    "    print('Hi, ' + name)\n",
    "\n",
    "\n",
    "sayHi('Amy')\n",
    "print(sayHi.__name__)\n",
    "print(sayHi.__doc__)\n"
   ]
  },
  {
   "cell_type": "markdown",
   "metadata": {},
   "source": [
    "# Lambda"
   ]
  },
  {
   "cell_type": "markdown",
   "metadata": {},
   "source": [
    "lambda operator is a way to create small anonymous functions used mainly in combination with `filter(), map(), reduce()...`\n",
    "\n",
    "\n",
    "lambda arguments: expression, where arguments is a comman separated list\n",
    "\n",
    "\n"
   ]
  },
  {
   "cell_type": "code",
   "execution_count": 17,
   "metadata": {},
   "outputs": [
    {
     "data": {
      "text/plain": [
       "3"
      ]
     },
     "execution_count": 17,
     "metadata": {},
     "output_type": "execute_result"
    }
   ],
   "source": [
    "suma = lambda x, y : x + y\n",
    "suma(1, 2)"
   ]
  },
  {
   "cell_type": "markdown",
   "metadata": {},
   "source": [
    "### Mapping\n"
   ]
  },
  {
   "cell_type": "markdown",
   "metadata": {},
   "source": [
    "- Before Python3, `map()` used to return a **list**\n",
    "\n",
    "- `map()` returns an **iterator** in Python 3\n"
   ]
  },
  {
   "cell_type": "code",
   "execution_count": 26,
   "metadata": {},
   "outputs": [
    {
     "data": {
      "text/plain": [
       "([84.2, 86.0, 68.0, 14.0, 104.0],\n",
       " [29.000000000000004, 30.0, 20.0, -10.0, 40.0])"
      ]
     },
     "execution_count": 26,
     "metadata": {},
     "output_type": "execute_result"
    }
   ],
   "source": [
    "t = [29, 30, 20, -10, 40]\n",
    "def f(t):\n",
    "    return 9/5*t + 32\n",
    "def celsius(t):\n",
    "    return 5/9*(t-32)\n",
    "f_t = list(map(f, t))\n",
    "c_t = list(map(celsius, f_t))\n",
    "f_t, c_t"
   ]
  },
  {
   "cell_type": "code",
   "execution_count": 28,
   "metadata": {},
   "outputs": [
    {
     "data": {
      "text/plain": [
       "([84.2, 86.0, 68.0, 14.0, 104.0],\n",
       " [29.000000000000004, 30.0, 20.0, -10.0, 40.0])"
      ]
     },
     "execution_count": 28,
     "metadata": {},
     "output_type": "execute_result"
    }
   ],
   "source": [
    "# using lambda\n",
    "f_t = list(map(lambda t: 9/5*t + 32, t))\n",
    "c_t = list(map(lambda t: 5/9*(t-32), f_t))\n",
    "f_t, c_t"
   ]
  },
  {
   "cell_type": "markdown",
   "metadata": {},
   "source": [
    "`map()` can be applied to more than one list. They don't have the same length. If so, map will stop when the shortest list has been consumed.\n"
   ]
  },
  {
   "cell_type": "code",
   "execution_count": 36,
   "metadata": {},
   "outputs": [
    {
     "name": "stdout",
     "output_type": "stream",
     "text": [
      "[0, -2, -5]\n",
      "[1, 6]\n"
     ]
    }
   ],
   "source": [
    "a=[1, 2, 3, 4]\n",
    "b = [-1, -4, -8]\n",
    "c=[2, 10]\n",
    "\n",
    "print(list(map(lambda x, y: x + y, a, b)))\n",
    "print(list(map(lambda x, y: x + y, c, b)))\n"
   ]
  },
  {
   "cell_type": "markdown",
   "metadata": {},
   "source": [
    "### Reducing a list\n",
    "\n",
    "`reduce()` had been removed from the core of Python.\n",
    "\n"
   ]
  },
  {
   "cell_type": "code",
   "execution_count": 39,
   "metadata": {},
   "outputs": [
    {
     "name": "stdout",
     "output_type": "stream",
     "text": [
      "5050\n",
      "100\n"
     ]
    }
   ],
   "source": [
    "from functools import reduce\n",
    "\n",
    "print(reduce(lambda x, y: x + y, range(1, 101)))\n",
    "print(reduce(lambda x, y: x if x > y else y, range(1, 101)))\n"
   ]
  },
  {
   "cell_type": "markdown",
   "metadata": {},
   "source": [
    "# zip"
   ]
  },
  {
   "cell_type": "markdown",
   "metadata": {},
   "source": [
    "`zip()` can accept any iterable object and returns an iterator, which will produce a tuple. \n",
    "\n"
   ]
  },
  {
   "cell_type": "code",
   "execution_count": 44,
   "metadata": {},
   "outputs": [
    {
     "name": "stdout",
     "output_type": "stream",
     "text": [
      "('a', 'aa', 1)\n",
      "('b', 'bb', 2)\n",
      "('c', 'cc', 3)\n"
     ]
    }
   ],
   "source": [
    "letters = ['a', 'b', 'c']\n",
    "names = ['aa', 'bb', 'cc']\n",
    "apples = [1, 2, 3]\n",
    "\n",
    "for i in zip(letters, names, apples):\n",
    "    print(i)"
   ]
  },
  {
   "cell_type": "markdown",
   "metadata": {},
   "source": [
    "### Arbitary iterables"
   ]
  },
  {
   "cell_type": "code",
   "execution_count": 47,
   "metadata": {},
   "outputs": [
    {
     "data": {
      "text/plain": [
       "[('a', 'b', 'c', 'dd'), (12, 22, 33, 10)]"
      ]
     },
     "execution_count": 47,
     "metadata": {},
     "output_type": "execute_result"
    }
   ],
   "source": [
    "city_population = [('a', 12), ('b',22), ('c', 33), ('dd', 10)]\n",
    "\n",
    "list(zip(*city_population))\n"
   ]
  },
  {
   "cell_type": "markdown",
   "metadata": {},
   "source": [
    "### Converting 2 iterables into a dict"
   ]
  },
  {
   "cell_type": "code",
   "execution_count": 51,
   "metadata": {},
   "outputs": [
    {
     "data": {
      "text/plain": [
       "{'a': 12, 'b': 22}"
      ]
     },
     "execution_count": 51,
     "metadata": {},
     "output_type": "execute_result"
    }
   ],
   "source": [
    "city_population = [('a', 'b'), (12,22)]\n",
    "\n",
    "dict(zip(*city_population))\n"
   ]
  },
  {
   "cell_type": "markdown",
   "metadata": {},
   "source": [
    "# Serialize"
   ]
  },
  {
   "cell_type": "code",
   "execution_count": null,
   "metadata": {},
   "outputs": [],
   "source": []
  },
  {
   "cell_type": "markdown",
   "metadata": {},
   "source": [
    "# Regexp"
   ]
  },
  {
   "cell_type": "code",
   "execution_count": null,
   "metadata": {},
   "outputs": [],
   "source": []
  },
  {
   "cell_type": "markdown",
   "metadata": {},
   "source": [
    "# Pytest"
   ]
  },
  {
   "cell_type": "code",
   "execution_count": null,
   "metadata": {},
   "outputs": [],
   "source": []
  },
  {
   "cell_type": "markdown",
   "metadata": {},
   "source": [
    "# OOP"
   ]
  },
  {
   "cell_type": "code",
   "execution_count": null,
   "metadata": {},
   "outputs": [],
   "source": []
  }
 ],
 "metadata": {
  "kernelspec": {
   "display_name": "Python 3",
   "language": "python",
   "name": "python3"
  },
  "language_info": {
   "codemirror_mode": {
    "name": "ipython",
    "version": 3
   },
   "file_extension": ".py",
   "mimetype": "text/x-python",
   "name": "python",
   "nbconvert_exporter": "python",
   "pygments_lexer": "ipython3",
   "version": "3.8.3"
  }
 },
 "nbformat": 4,
 "nbformat_minor": 4
}

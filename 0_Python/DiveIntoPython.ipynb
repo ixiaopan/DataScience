{
 "cells": [
  {
   "cell_type": "markdown",
   "metadata": {},
   "source": [
    "# Search Path"
   ]
  },
  {
   "cell_type": "markdown",
   "metadata": {},
   "source": [
    "You can insert a new directory as the first item at runtime, for example, to solve name conflics.\n"
   ]
  },
  {
   "cell_type": "code",
   "execution_count": 26,
   "metadata": {},
   "outputs": [],
   "source": [
    "import sys\n",
    "\n",
    "sys.path # a list of directory names that constitute the current search path\n",
    "\n",
    "sys.path.insert(0, new_path) # \n"
   ]
  },
  {
   "cell_type": "markdown",
   "metadata": {},
   "source": [
    "# Exception\n"
   ]
  },
  {
   "cell_type": "code",
   "execution_count": null,
   "metadata": {},
   "outputs": [],
   "source": [
    "\n",
    "try:\n",
    "    import pytorh\n",
    "\n",
    "except ImportError: # one of the most common built-in exceptions\n",
    "    !pip3 install pytorch\n",
    "    \n",
    "\n",
    "if pytorch:\n",
    "    # do something\n",
    "else:\n",
    "    # continue anyway\n"
   ]
  },
  {
   "cell_type": "markdown",
   "metadata": {},
   "source": [
    "# Running Scripts\n",
    "\n",
    "Modules in python are objects, so they have a built-in attribute `__name__`. \n",
    "\n",
    "And a module's `__name__` depends on how you use this module. \n",
    "\n",
    "- If you import the module, then `__name__` is the module's filename, without a directory path or file extension.\n",
    "\n",
    "- If you run this module directly as a standalone program, then `__name__` will be `__main__`.\n",
    "\n",
    "\n",
    "\n"
   ]
  },
  {
   "cell_type": "code",
   "execution_count": null,
   "metadata": {},
   "outputs": [],
   "source": [
    "import some_module\n",
    "some_module.__name__ # some_module\n",
    "\n",
    "\n",
    "# another scenoria\n",
    "if __name__ == '__main__':\n",
    "    start()\n",
    "\n",
    "!python some_module.py\n",
    "    "
   ]
  },
  {
   "cell_type": "markdown",
   "metadata": {},
   "source": [
    "# Number\n",
    "\n",
    "There's no type declaration to distinguish integers and floating point numbers. Python tells them apart by the presence or absence of a decimal point.\n",
    "\n",
    "- Using `type()` to check the data type of any variable.\n",
    "\n",
    "- Adding int to int yields an int\n",
    "\n",
    "- Adding int to float yields a float.\n"
   ]
  },
  {
   "cell_type": "code",
   "execution_count": 33,
   "metadata": {},
   "outputs": [],
   "source": [
    "assert type(1) == int\n",
    "assert type(3.2) == float\n",
    "\n",
    "assert 1 + 1.0 == 2.0\n",
    "assert 1 + 2 == 3\n"
   ]
  },
  {
   "cell_type": "markdown",
   "metadata": {},
   "source": [
    "- Explicitly coerce an int to a float, and vice versa.\n",
    "\n",
    "- `int()` is a truncate function. It truncates negative numbers torwards 0.\n",
    "\n",
    "- Floating point numbers are accurate to **16** decimal places.\n"
   ]
  },
  {
   "cell_type": "code",
   "execution_count": 36,
   "metadata": {},
   "outputs": [],
   "source": [
    "assert float(2) == 2.0\n",
    "\n",
    "assert int(4.8) == 4\n",
    "\n",
    "assert int(-2.5) == -2\n",
    "\n",
    "assert 1.1233467890123456789 == 1.1233467890123456\n"
   ]
  },
  {
   "cell_type": "markdown",
   "metadata": {},
   "source": [
    "floor division\n",
    "\n",
    "- `//` perfroms a kind of integer division. When the result is positive, it behaves as truncating to 0 decimal places.\n",
    "\n",
    "- When integer-dividing negative numbers, the `//` operator rounds 'down'.\n"
   ]
  },
  {
   "cell_type": "code",
   "execution_count": 16,
   "metadata": {},
   "outputs": [],
   "source": [
    "# floor division\n",
    "\n",
    "assert 11//5 == 2\n",
    "\n",
    "assert 11//2 == 5\n",
    "\n",
    "\n",
    "assert -11//5 == -3\n",
    "\n",
    "assert -11//2 == -6\n",
    "\n"
   ]
  },
  {
   "cell_type": "markdown",
   "metadata": {},
   "source": [
    "# List\n",
    "\n",
    "List is an ordered set of items, which don't have to have the same type.\n",
    "\n",
    "https://docs.python.org/3.1/tutorial/datastructures.html\n"
   ]
  },
  {
   "cell_type": "code",
   "execution_count": 58,
   "metadata": {},
   "outputs": [],
   "source": [
    "list_a = []\n",
    "\n",
    "list_a = list_a + ['a']\n",
    "\n",
    "list_a.append('b')\n",
    "\n",
    "list_a.extend(['c', 'd'])\n",
    "\n",
    "list_a.insert(1, 'e')\n",
    "\n",
    "assert list_a == ['a', 'e', 'b', 'c', 'd']\n"
   ]
  },
  {
   "cell_type": "markdown",
   "metadata": {},
   "source": [
    "- The `+` operator concatenates lists to create a new list. However, memory usage can be concern when you're dealing with large lists since it returns a new list.\n",
    "\n",
    "\n",
    "- Then, what's the difference between `append()` and `extend()`?\n",
    "\n",
    "Well, `extend()` accepts a single argument, which is always a list, and adds each of the items of that list to `list_a` while `append()` adds a single argument that can be any datatyoe as a whole to `list_a`.\n",
    "\n",
    "\n"
   ]
  },
  {
   "cell_type": "code",
   "execution_count": 63,
   "metadata": {},
   "outputs": [],
   "source": [
    "list_a = [1, 2, 3]\n",
    "list_a.append([4, 5])\n",
    "assert list_a == [1, 2, 3, [4, 5]]\n",
    "\n",
    "\n",
    "list_a = [1, 2, 3]\n",
    "list_a.extend([4, 5])\n",
    "assert list_a == [1,2, 3, 4, 5]\n"
   ]
  },
  {
   "cell_type": "markdown",
   "metadata": {},
   "source": [
    "\n",
    "A simple way to make a copy of the original list is slicing.\n"
   ]
  },
  {
   "cell_type": "code",
   "execution_count": 12,
   "metadata": {},
   "outputs": [],
   "source": [
    "list_a = ['a', 'b', 'c']\n",
    "\n",
    "# make a copy\n",
    "list_a_copy = list_a[:]\n",
    "\n",
    "# So, they are two different things.\n",
    "list_a_copy[1] = 'z'\n",
    "assert list_a_copy[1] == 'z'\n",
    "assert list_a[1] == 'b'\n"
   ]
  },
  {
   "cell_type": "code",
   "execution_count": 14,
   "metadata": {},
   "outputs": [
    {
     "data": {
      "text/plain": [
       "(140490430042880, 140490430561024)"
      ]
     },
     "execution_count": 14,
     "metadata": {},
     "output_type": "execute_result"
    }
   ],
   "source": [
    "id(list_a), id(list_a_copy)\n"
   ]
  },
  {
   "cell_type": "markdown",
   "metadata": {},
   "source": [
    "# Shallow and deep copy"
   ]
  },
  {
   "cell_type": "code",
   "execution_count": null,
   "metadata": {},
   "outputs": [],
   "source": []
  },
  {
   "cell_type": "code",
   "execution_count": null,
   "metadata": {},
   "outputs": [],
   "source": []
  },
  {
   "cell_type": "code",
   "execution_count": null,
   "metadata": {},
   "outputs": [],
   "source": []
  },
  {
   "cell_type": "markdown",
   "metadata": {},
   "source": [
    "# Set\n",
    "\n",
    "How to create an empty set? Be careful with this!\n"
   ]
  },
  {
   "cell_type": "code",
   "execution_count": 82,
   "metadata": {},
   "outputs": [
    {
     "name": "stdout",
     "output_type": "stream",
     "text": [
      "{1}\n",
      "set()\n",
      "{} <class 'dict'>\n"
     ]
    }
   ],
   "source": [
    "# create a set with at least one element\n",
    "set_a = {1}\n",
    "print(set_a)\n",
    "\n",
    "\n",
    "empty_set = set()\n",
    "print(empty_set)\n",
    "\n",
    "\n",
    "# Be careful! This is a dict!\n",
    "empty_set = {}\n",
    "print(empty_set, type(empty_set))\n",
    "\n"
   ]
  },
  {
   "cell_type": "markdown",
   "metadata": {},
   "source": [
    "# None\n",
    "\n",
    "None is a special constant in Python. It's a null value. \n",
    "\n",
    "- None is not the same as False.\n",
    "- None is not the same as 0.\n",
    "- None is not the same as empty string.\n",
    "\n",
    "Comparing None to anything other than None will always return False.\n",
    "\n"
   ]
  },
  {
   "cell_type": "code",
   "execution_count": 91,
   "metadata": {},
   "outputs": [],
   "source": [
    "def equal(a, b):\n",
    "    return a == b\n",
    "\n",
    "assert equal(None, 0) == False\n",
    "assert equal(None, False) == False\n",
    "assert equal(None, '') == False\n",
    "assert equal(None, []) == False\n",
    "\n",
    "assert equal(None, None) == True\n"
   ]
  },
  {
   "cell_type": "markdown",
   "metadata": {},
   "source": [
    "# Boolean context"
   ]
  },
  {
   "cell_type": "code",
   "execution_count": 85,
   "metadata": {},
   "outputs": [],
   "source": [
    "def is_it_true(anything):\n",
    "    if anything:\n",
    "        return 'yes'\n",
    "    else:\n",
    "        return 'no'\n",
    "\n",
    "# number\n",
    "assert is_it_true(0) == 'no'\n",
    "assert is_it_true(0.9) == 'yes'\n",
    "\n",
    "# list\n",
    "assert is_it_true([]) == 'no'\n",
    "assert is_it_true([1]) == 'yes'\n",
    "\n",
    "# string\n",
    "assert is_it_true('') == 'no'\n",
    "assert is_it_true('ds') == 'yes'\n",
    "\n",
    "# tuple\n",
    "assert is_it_true(()) == 'no'\n",
    "assert is_it_true((1, 2)) == 'yes'\n",
    "\n",
    "# set\n",
    "assert is_it_true(set()) == 'no'\n",
    "assert is_it_true({1, 2}) == 'yes'\n",
    "\n",
    "\n",
    "# dict\n",
    "assert is_it_true({}) == 'no'\n",
    "assert is_it_true({'age': 12}) == 'yes'\n",
    "\n",
    "\n",
    "# None\n",
    "assert is_it_true(None) == 'no'\n"
   ]
  },
  {
   "cell_type": "markdown",
   "metadata": {},
   "source": [
    "# Working with files\n",
    "\n",
    "https://docs.python.org/3.1/library/os.path.html\n"
   ]
  },
  {
   "cell_type": "code",
   "execution_count": 11,
   "metadata": {},
   "outputs": [
    {
     "name": "stdout",
     "output_type": "stream",
     "text": [
      "/Users/wuxiaopan/work/DataScience/0_Python\n"
     ]
    }
   ],
   "source": [
    "import os\n",
    "\n",
    "\n",
    "print(os.getcwd())\n",
    "# os.chdir('../0_Python')\n"
   ]
  },
  {
   "cell_type": "markdown",
   "metadata": {},
   "source": [
    "One of the most common operation is to concanate file paths."
   ]
  },
  {
   "cell_type": "code",
   "execution_count": 6,
   "metadata": {},
   "outputs": [
    {
     "data": {
      "text/plain": [
       "'aa/bbb'"
      ]
     },
     "execution_count": 6,
     "metadata": {},
     "output_type": "execute_result"
    }
   ],
   "source": [
    "os.path.join('aa', 'bbb')\n"
   ]
  },
  {
   "cell_type": "markdown",
   "metadata": {},
   "source": [
    "Split file path into directory, filename and extension."
   ]
  },
  {
   "cell_type": "code",
   "execution_count": 10,
   "metadata": {},
   "outputs": [
    {
     "name": "stdout",
     "output_type": "stream",
     "text": [
      "/user/work/data cat.jpg\n",
      "cat .jpg\n"
     ]
    }
   ],
   "source": [
    "directory, filename = os.path.split('/user/work/data/cat.jpg')\n",
    "print(directory, filename)\n",
    "\n",
    "filename, extension = os.path.splitext(filename)\n",
    "print(filename, extension)\n"
   ]
  },
  {
   "cell_type": "markdown",
   "metadata": {},
   "source": [
    "TODO: glob"
   ]
  },
  {
   "cell_type": "code",
   "execution_count": null,
   "metadata": {},
   "outputs": [],
   "source": []
  },
  {
   "cell_type": "markdown",
   "metadata": {},
   "source": [
    "# Regexp"
   ]
  },
  {
   "cell_type": "code",
   "execution_count": null,
   "metadata": {},
   "outputs": [],
   "source": []
  },
  {
   "cell_type": "code",
   "execution_count": null,
   "metadata": {},
   "outputs": [],
   "source": []
  },
  {
   "cell_type": "code",
   "execution_count": null,
   "metadata": {},
   "outputs": [],
   "source": []
  },
  {
   "cell_type": "markdown",
   "metadata": {},
   "source": [
    "# Generator"
   ]
  },
  {
   "cell_type": "code",
   "execution_count": null,
   "metadata": {},
   "outputs": [],
   "source": []
  },
  {
   "cell_type": "code",
   "execution_count": null,
   "metadata": {},
   "outputs": [],
   "source": []
  },
  {
   "cell_type": "code",
   "execution_count": null,
   "metadata": {},
   "outputs": [],
   "source": []
  },
  {
   "cell_type": "code",
   "execution_count": null,
   "metadata": {},
   "outputs": [],
   "source": []
  },
  {
   "cell_type": "markdown",
   "metadata": {},
   "source": [
    "# Serialize"
   ]
  },
  {
   "cell_type": "code",
   "execution_count": null,
   "metadata": {},
   "outputs": [],
   "source": [
    "\n"
   ]
  },
  {
   "cell_type": "markdown",
   "metadata": {},
   "source": [
    "# HTTP"
   ]
  },
  {
   "cell_type": "code",
   "execution_count": null,
   "metadata": {},
   "outputs": [],
   "source": []
  },
  {
   "cell_type": "code",
   "execution_count": null,
   "metadata": {},
   "outputs": [],
   "source": []
  },
  {
   "cell_type": "code",
   "execution_count": null,
   "metadata": {},
   "outputs": [],
   "source": []
  }
 ],
 "metadata": {
  "kernelspec": {
   "display_name": "Python 3",
   "language": "python",
   "name": "python3"
  },
  "language_info": {
   "codemirror_mode": {
    "name": "ipython",
    "version": 3
   },
   "file_extension": ".py",
   "mimetype": "text/x-python",
   "name": "python",
   "nbconvert_exporter": "python",
   "pygments_lexer": "ipython3",
   "version": "3.8.3"
  }
 },
 "nbformat": 4,
 "nbformat_minor": 4
}

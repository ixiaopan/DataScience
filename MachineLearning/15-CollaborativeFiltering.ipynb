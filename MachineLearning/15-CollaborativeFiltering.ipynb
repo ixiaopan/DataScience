{
 "cells": [
  {
   "cell_type": "markdown",
   "metadata": {},
   "source": [
    "https://github.com/arthur-e/Programming-Collective-Intelligence/blob/master\n"
   ]
  },
  {
   "cell_type": "code",
   "execution_count": 1,
   "metadata": {},
   "outputs": [],
   "source": [
    "import numpy as np\n",
    "import seaborn as sns\n",
    "import matplotlib.pyplot as plt\n"
   ]
  },
  {
   "cell_type": "code",
   "execution_count": 2,
   "metadata": {},
   "outputs": [],
   "source": [
    "# A dictionary of movie critics and their ratings of a small set of movies\n",
    "\n",
    "critics = {\n",
    "    'Lisa Rose': {\n",
    "        'Lady in the Water': 2.5,\n",
    "        'Snakes on a Plane': 3.5,\n",
    "        'Just My Luck': 3.0,\n",
    "        'Superman Returns': 3.5,\n",
    "        'You, Me and Dupree': 2.5,\n",
    "        'The Night Listener': 3.0,\n",
    "    },\n",
    "    'Gene Seymour': {\n",
    "        'Lady in the Water': 3.0,\n",
    "        'Snakes on a Plane': 3.5,\n",
    "        'Just My Luck': 1.5,\n",
    "        'Superman Returns': 5.0,\n",
    "        'The Night Listener': 3.0,\n",
    "        'You, Me and Dupree': 3.5,\n",
    "    },\n",
    "    'Michael Phillips': {\n",
    "        'Lady in the Water': 2.5,\n",
    "        'Snakes on a Plane': 3.0,\n",
    "        'Superman Returns': 3.5,\n",
    "        'The Night Listener': 4.0,\n",
    "    },\n",
    "    'Claudia Puig': {\n",
    "        'Snakes on a Plane': 3.5,\n",
    "        'Just My Luck': 3.0,\n",
    "        'The Night Listener': 4.5,\n",
    "        'Superman Returns': 4.0,\n",
    "        'You, Me and Dupree': 2.5,\n",
    "    },\n",
    "    'Mick LaSalle': {\n",
    "        'Lady in the Water': 3.0,\n",
    "        'Snakes on a Plane': 4.0,\n",
    "        'Just My Luck': 2.0,\n",
    "        'Superman Returns': 3.0,\n",
    "        'The Night Listener': 3.0,\n",
    "        'You, Me and Dupree': 2.0,\n",
    "    },\n",
    "    'Jack Matthews': {\n",
    "        'Lady in the Water': 3.0,\n",
    "        'Snakes on a Plane': 4.0,\n",
    "        'The Night Listener': 3.0,\n",
    "        'Superman Returns': 5.0,\n",
    "#         'You, Me and Dupree': 3.5,\n",
    "        'You, Me and Dupree': 1.5,\n",
    "    },\n",
    "    'Toby': {'Snakes on a Plane': 4.5, 'You, Me and Dupree': 1.0,\n",
    "             'Superman Returns': 4.0},\n",
    "}\n"
   ]
  },
  {
   "cell_type": "markdown",
   "metadata": {},
   "source": [
    "# 1. Similarity"
   ]
  },
  {
   "cell_type": "markdown",
   "metadata": {},
   "source": [
    "## Euclidean distance"
   ]
  },
  {
   "cell_type": "markdown",
   "metadata": {},
   "source": [
    "$$\n",
    "distance = \\frac{1}{1 +\\sum (x_i - y_i)^2}\n",
    "$$"
   ]
  },
  {
   "cell_type": "code",
   "execution_count": 3,
   "metadata": {},
   "outputs": [],
   "source": [
    "def similar_distance(prefs, person1, person2):\n",
    "    '''\n",
    "    Returns a distance-based similarity score for person1 and person2.\n",
    "    '''\n",
    "    \n",
    "    pref1 = prefs[person1]\n",
    "    pref2 = prefs[person2]\n",
    "    \n",
    "    movies1 = pref1.keys()\n",
    "    movies2 = pref2.keys()\n",
    "    shared_movies = list(set(movies1) & set(movies2))\n",
    "\n",
    "    if len(shared_movies) == 0:\n",
    "        return 0\n",
    "    \n",
    "\n",
    "    scores = sum([ (pref1[m] - pref2[m])**2 for m in shared_movies ])\n",
    "\n",
    "    return 1 / (1 + scores)\n",
    "        "
   ]
  },
  {
   "cell_type": "code",
   "execution_count": 4,
   "metadata": {},
   "outputs": [
    {
     "data": {
      "text/plain": [
       "0.14814814814814814"
      ]
     },
     "execution_count": 4,
     "metadata": {},
     "output_type": "execute_result"
    }
   ],
   "source": [
    "similar_distance(critics, 'Lisa Rose', 'Gene Seymour')\n"
   ]
  },
  {
   "cell_type": "markdown",
   "metadata": {},
   "source": [
    "## Pearson Correlation Score"
   ]
  },
  {
   "cell_type": "markdown",
   "metadata": {},
   "source": [
    "The correlation coefficient is a measure of how well two sets of data fit on a straight line.\n",
    "\n",
    "If one is inclined to give higher scores than the other, there can still be perfect correlation if the difference between their scores is consistent. (relatively similar preference)\n",
    "\n",
    "However, Euclidean distance will say that the two persons are dissimilar.\n"
   ]
  },
  {
   "cell_type": "markdown",
   "metadata": {},
   "source": [
    "$$\n",
    "r_{xy} = \\frac{\\sum x_iy_i - n \\hat x\\hat y}{(n-1)s_xs_y}\n",
    "$$"
   ]
  },
  {
   "cell_type": "code",
   "execution_count": 5,
   "metadata": {},
   "outputs": [],
   "source": [
    "\n",
    "def plotPearson(per1, per2, ax):\n",
    "    movies_1= critics[per1]\n",
    "    movies_2 = critics[per2]\n",
    "    shared_movies = list(set(movies_1.keys()) & set(movies_2.keys()))\n",
    "\n",
    "    x = [movies_1[m] for m in shared_movies]\n",
    "    y = [movies_2[m] for m in shared_movies]\n",
    "\n",
    "    sns.scatterplot(x=x, y=y, ax=ax)\n",
    "    ax.set_xlim(1, 6)\n",
    "    ax.set_ylim(1, 6)\n",
    "    ax.set_xlabel(per1)\n",
    "    ax.set_ylabel(per2)\n"
   ]
  },
  {
   "cell_type": "code",
   "execution_count": 6,
   "metadata": {},
   "outputs": [
    {
     "data": {
      "image/png": "[encoded data removed]",
      "text/plain": [
       "<Figure size 576x288 with 2 Axes>"
      ]
     },
     "metadata": {
      "needs_background": "light"
     },
     "output_type": "display_data"
    }
   ],
   "source": [
    "fig, ax = plt.subplots(1,2,figsize=(8, 4))\n",
    "plotPearson('Mick LaSalle', 'Gene Seymour', ax=ax[0])\n",
    "plotPearson('Jack Matthews', 'Lisa Rose', ax=ax[1])\n"
   ]
  },
  {
   "cell_type": "code",
   "execution_count": 15,
   "metadata": {},
   "outputs": [],
   "source": [
    "def similar_pearson(prefs, person1, person2):\n",
    "    pref1 = prefs[person1]\n",
    "    pref2 = prefs[person2]\n",
    "    \n",
    "    movies1 = pref1.keys()\n",
    "    movies2 = pref2.keys()\n",
    "    shared_movies = list(set(movies1) & set(movies2))\n",
    "\n",
    "    if len(shared_movies) == 0:\n",
    "        return 0\n",
    "    \n",
    "    n = len(shared_movies)\n",
    "    s1 = [pref1[m] for m in shared_movies]\n",
    "    s2 = [pref2[m] for m in shared_movies]\n",
    "    s12 = sum([pref1[m]*pref2[m] for m in shared_movies])\n",
    "    x_mean = np.mean(s1)\n",
    "    y_mean = np.mean(s2)\n",
    "    print(person1, x_mean, person2, y_mean)\n",
    "    s_x = np.sqrt(sum([(pref1[m] - x_mean)**2 for m in shared_movies]) / (n - 1))\n",
    "    s_y = np.sqrt(sum([(pref2[m] - y_mean)**2 for m in shared_movies]) / (n - 1))\n",
    "\n",
    "    return (s12-n*x_mean*y_mean)/((n-1)*s_x*s_y)\n",
    "    "
   ]
  },
  {
   "cell_type": "code",
   "execution_count": 16,
   "metadata": {},
   "outputs": [
    {
     "name": "stdout",
     "output_type": "stream",
     "text": [
      "Mick LaSalle 2.8333333333333335 Gene Seymour 3.25\n",
      "Mick LaSalle, Gene Seymour: 0.41176470588235303\n",
      "Jack Matthews 3.3 Lisa Rose 3.0\n",
      "Jack Matthews, Lisa Rose: 0.8628356124532918\n",
      "Lisa Rose 3.0 Gene Seymour 3.25\n",
      "Lisa Rose, Gene Seymour: 0.39605901719066977\n"
     ]
    }
   ],
   "source": [
    "for m1, m2 in [\n",
    "        ['Mick LaSalle', 'Gene Seymour'],\n",
    "        ['Jack Matthews', 'Lisa Rose'],\n",
    "        ['Lisa Rose', 'Gene Seymour']\n",
    "    ]:    \n",
    "    print(f'{m1}, {m2}:', similar_pearson(critics, m1, m2))\n"
   ]
  },
  {
   "cell_type": "markdown",
   "metadata": {},
   "source": [
    "# 2. Top N Match"
   ]
  },
  {
   "cell_type": "code",
   "execution_count": 17,
   "metadata": {},
   "outputs": [],
   "source": [
    "def topMatches(prefs, person, n=5, similarity=similar_pearson):\n",
    "\n",
    "    scores = [(similarity(prefs, person, other), other) for other in prefs\n",
    "              if other != person]\n",
    "    \n",
    "    scores.sort()\n",
    "    scores.reverse()\n",
    "    return scores[0:n]\n"
   ]
  },
  {
   "cell_type": "code",
   "execution_count": 18,
   "metadata": {},
   "outputs": [
    {
     "name": "stdout",
     "output_type": "stream",
     "text": [
      "Toby 3.1666666666666665 Lisa Rose 3.1666666666666665\n",
      "Toby 3.1666666666666665 Gene Seymour 4.0\n",
      "Toby 4.25 Michael Phillips 3.25\n",
      "Toby 3.1666666666666665 Claudia Puig 3.3333333333333335\n",
      "Toby 3.1666666666666665 Mick LaSalle 3.0\n",
      "Toby 3.1666666666666665 Jack Matthews 3.5\n"
     ]
    },
    {
     "data": {
      "text/plain": [
       "[(0.9912407071619307, 'Lisa Rose'),\n",
       " (0.924473451641905, 'Mick LaSalle'),\n",
       " (0.9157242946978208, 'Jack Matthews'),\n",
       " (0.8934051474415639, 'Claudia Puig'),\n",
       " (0.3812464258315117, 'Gene Seymour')]"
      ]
     },
     "execution_count": 18,
     "metadata": {},
     "output_type": "execute_result"
    }
   ],
   "source": [
    "topMatches(critics, 'Toby')\n"
   ]
  },
  {
   "cell_type": "markdown",
   "metadata": {},
   "source": [
    "# 3. User-Based"
   ]
  },
  {
   "cell_type": "markdown",
   "metadata": {},
   "source": [
    "\n",
    "Finding someone who has similar tastes with me is interesting, but what I really want is a item recommendation. I could just look at the person who has tastes most similar to mine and look for a movie he likes that I haven’t seen yet, but that would be too permissive.\n",
    "\n",
    "Such an approach could accidentally turn up reviewers who haven’t reviewed some of the movies that I might like. It could also return a reviewer who strangely liked a movie that got bad reviews from all the other critics returned by topMatches.\n",
    "\n",
    "How to solve this?\n",
    "\n",
    "Take the votes of **all the other critics** and multiply how similar they are to me by the score they gave each movie."
   ]
  },
  {
   "cell_type": "code",
   "execution_count": 184,
   "metadata": {},
   "outputs": [],
   "source": [
    "def getRecommendationByUser(prefs, person, similarity=similar_pearson):\n",
    "    items_of_user = prefs[person]\n",
    "\n",
    "    scores = {}\n",
    "    totalSim = {}\n",
    "    for other in prefs.keys():\n",
    "        if other == person:\n",
    "            continue\n",
    "\n",
    "        sim = similarity(prefs, person, other)\n",
    "        for item, rating in prefs[other].items():\n",
    "            if item in items_of_user:\n",
    "                continue\n",
    "\n",
    "            scores.setdefault(item, 0)\n",
    "            scores[item] += sim * rating\n",
    "\n",
    "            totalSim.setdefault(item, 0)\n",
    "            totalSim[item] += sim\n",
    "            \n",
    "    rankings = [ (score / totalSim[item], item) for item, score in scores.items() ]\n",
    "    \n",
    "    rankings.sort()\n",
    "    rankings.reverse()\n",
    "\n",
    "    return rankings\n",
    "\n"
   ]
  },
  {
   "cell_type": "code",
   "execution_count": 185,
   "metadata": {},
   "outputs": [
    {
     "data": {
      "text/plain": [
       "[(3.1094970584337838, 'The Night Listener'),\n",
       " (3.0019793358105082, 'Lady in the Water'),\n",
       " (2.5309807037655645, 'Just My Luck')]"
      ]
     },
     "execution_count": 185,
     "metadata": {},
     "output_type": "execute_result"
    }
   ],
   "source": [
    "getRecommendationByUser(critics, 'Toby')\n"
   ]
  },
  {
   "cell_type": "markdown",
   "metadata": {},
   "source": [
    "# 4. Item-based"
   ]
  },
  {
   "cell_type": "markdown",
   "metadata": {},
   "source": [
    "It’s not always clear that flipping people and items will lead to useful results, but in many cases it will allow you to make interesting comparisons.\n",
    "\n",
    "\n",
    "- It would allow them to search for people who might buy certain products\n",
    "\n",
    "\n",
    "- Making sure that new links on a link-recommendation site are seen by the people who are most likely to enjoy them.\n"
   ]
  },
  {
   "cell_type": "code",
   "execution_count": 147,
   "metadata": {},
   "outputs": [],
   "source": [
    "def flipUserItems(prefs):\n",
    "    items2user = {}\n",
    "\n",
    "    for person in prefs.keys():\n",
    "        for item in prefs[person].keys():\n",
    "            items2user.setdefault(item, {})\n",
    "            items2user[item][person] = prefs[person][item]\n",
    "\n",
    "    return items2user\n",
    "        "
   ]
  },
  {
   "cell_type": "code",
   "execution_count": 150,
   "metadata": {},
   "outputs": [],
   "source": [
    "items2user = flipUserItems(critics)\n"
   ]
  },
  {
   "cell_type": "code",
   "execution_count": 151,
   "metadata": {},
   "outputs": [
    {
     "data": {
      "text/plain": [
       "[(0.48795003647426666, 'Lady in the Water'),\n",
       " (0.19009938260870438, 'You, Me and Dupree'),\n",
       " (0.11180339887498948, 'Snakes on a Plane'),\n",
       " (-0.1798471947990542, 'The Night Listener'),\n",
       " (-0.42289003161103106, 'Just My Luck')]"
      ]
     },
     "execution_count": 151,
     "metadata": {},
     "output_type": "execute_result"
    }
   ],
   "source": [
    "topMatches(items2user, 'Superman Returns')\n"
   ]
  },
  {
   "cell_type": "markdown",
   "metadata": {},
   "source": [
    "## Item Similarity Dictionary"
   ]
  },
  {
   "cell_type": "code",
   "execution_count": 154,
   "metadata": {},
   "outputs": [],
   "source": [
    "def calculateSimilarItems(prefs, n=10):\n",
    "    result = {}\n",
    "    for item in prefs:\n",
    "        ret = topMatches(prefs, item, n)\n",
    "        result[item] = ret\n",
    "    return result\n",
    "        "
   ]
  },
  {
   "cell_type": "code",
   "execution_count": 159,
   "metadata": {},
   "outputs": [
    {
     "data": {
      "text/plain": [
       "{'Lady in the Water': [(0.7637626158259765, 'Snakes on a Plane'),\n",
       "  (0.48795003647426666, 'Superman Returns'),\n",
       "  (-0.09759000729485333, 'You, Me and Dupree'),\n",
       "  (-0.6123724356958032, 'The Night Listener'),\n",
       "  (-0.9449111825230627, 'Just My Luck')],\n",
       " 'Snakes on a Plane': [(0.7637626158259765, 'Lady in the Water'),\n",
       "  (0.1118033988749895, 'Superman Returns'),\n",
       "  (-0.3333333333333333, 'Just My Luck'),\n",
       "  (-0.5663521139548504, 'The Night Listener'),\n",
       "  (-0.8858795678282955, 'You, Me and Dupree')],\n",
       " 'Just My Luck': [(0.5555555555555556, 'The Night Listener'),\n",
       "  (-0.3333333333333333, 'Snakes on a Plane'),\n",
       "  (-0.42289003161103106, 'Superman Returns'),\n",
       "  (-0.4856618642571827, 'You, Me and Dupree'),\n",
       "  (-0.9449111825230707, 'Lady in the Water')],\n",
       " 'Superman Returns': [(0.48795003647426666, 'Lady in the Water'),\n",
       "  (0.19009938260870438, 'You, Me and Dupree'),\n",
       "  (0.11180339887498948, 'Snakes on a Plane'),\n",
       "  (-0.1798471947990542, 'The Night Listener'),\n",
       "  (-0.42289003161103106, 'Just My Luck')],\n",
       " 'You, Me and Dupree': [(0.19009938260870435, 'Superman Returns'),\n",
       "  (0.07537783614444377, 'The Night Listener'),\n",
       "  (-0.09759000729485333, 'Lady in the Water'),\n",
       "  (-0.4856618642571827, 'Just My Luck'),\n",
       "  (-0.8858795678282994, 'Snakes on a Plane')],\n",
       " 'The Night Listener': [(0.5555555555555556, 'Just My Luck'),\n",
       "  (0.07537783614444019, 'You, Me and Dupree'),\n",
       "  (-0.17984719479905423, 'Superman Returns'),\n",
       "  (-0.5663521139548617, 'Snakes on a Plane'),\n",
       "  (-0.6123724356957887, 'Lady in the Water')]}"
      ]
     },
     "execution_count": 159,
     "metadata": {},
     "output_type": "execute_result"
    }
   ],
   "source": [
    "items_similarity_dic = calculateSimilarItems(items2user)\n",
    "\n",
    "items_similarity_dic"
   ]
  },
  {
   "cell_type": "code",
   "execution_count": 170,
   "metadata": {},
   "outputs": [],
   "source": [
    "def getRecommendationByItem(prefs, items_similarity_dict, user):\n",
    "    items_of_user = prefs[user]\n",
    "\n",
    "    scores = {}\n",
    "    totalSim = {}\n",
    "    \n",
    "    for item, rating in items_of_user.items():\n",
    "        for similarity, item2 in items_similarity_dict[item]:\n",
    "            if item2 in items_of_user:\n",
    "                continue\n",
    "\n",
    "            scores.setdefault(item2, 0)\n",
    "            scores[item2] += similarity * rating\n",
    "\n",
    "            totalSim.setdefault(item2, 0)\n",
    "            totalSim[item2] += similarity\n",
    "            \n",
    "    rankings = [ (score / totalSim[item], item) for item, score in scores.items() ]\n",
    "    \n",
    "    rankings.sort()\n",
    "    rankings.reverse()\n",
    "\n",
    "    return rankings\n",
    "    \n",
    "    "
   ]
  },
  {
   "cell_type": "code",
   "execution_count": 171,
   "metadata": {},
   "outputs": [
    {
     "data": {
      "text/plain": [
       "[(4.7592326516167835, 'The Night Listener'),\n",
       " (4.5845577441160055, 'Lady in the Water'),\n",
       " (2.960999860724268, 'Just My Luck')]"
      ]
     },
     "execution_count": 171,
     "metadata": {},
     "output_type": "execute_result"
    }
   ],
   "source": [
    "getRecommendationByItem(critics, items_similarity_dic, 'Toby')\n"
   ]
  },
  {
   "cell_type": "code",
   "execution_count": null,
   "metadata": {},
   "outputs": [],
   "source": []
  },
  {
   "cell_type": "code",
   "execution_count": null,
   "metadata": {},
   "outputs": [],
   "source": []
  }
 ],
 "metadata": {
  "kernelspec": {
   "display_name": "Python 3",
   "language": "python",
   "name": "python3"
  },
  "language_info": {
   "codemirror_mode": {
    "name": "ipython",
    "version": 3
   },
   "file_extension": ".py",
   "mimetype": "text/x-python",
   "name": "python",
   "nbconvert_exporter": "python",
   "pygments_lexer": "ipython3",
   "version": "3.8.3"
  }
 },
 "nbformat": 4,
 "nbformat_minor": 4
}

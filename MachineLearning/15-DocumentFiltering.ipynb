{
 "cells": [
  {
   "cell_type": "code",
   "execution_count": 1,
   "metadata": {},
   "outputs": [],
   "source": [
    "import re\n",
    "import math\n"
   ]
  },
  {
   "cell_type": "markdown",
   "metadata": {},
   "source": [
    "For document filtering, we used naive bayes to make the classification\n",
    "\n",
    "- binominal: the presence of a word as a featute\n",
    "\n",
    "\n",
    "- multinomial: the frequency of a word as a featute\n",
    "\n"
   ]
  },
  {
   "cell_type": "code",
   "execution_count": 55,
   "metadata": {},
   "outputs": [],
   "source": [
    "def tokenize(doc):\n",
    "    sep = re.compile('\\\\s')\n",
    "    \n",
    "    words = [s.lower() for s in sep.split(doc) if len(s) > 2 and len(s) < 20]\n",
    "\n",
    "    return dict([(w,1) for w in words])\n"
   ]
  },
  {
   "cell_type": "code",
   "execution_count": 58,
   "metadata": {},
   "outputs": [],
   "source": [
    "class classifier:\n",
    "    def __init__(self, getfeatures):\n",
    "        self.feature_counts = {}\n",
    "        self.cat_counts = {}\n",
    "        self.getfeatures = getfeatures\n",
    "    \n",
    "    def incFeature(self, f, cat):\n",
    "        self.feature_counts.setdefault(f, {})\n",
    "        self.feature_counts[f].setdefault(cat, 0)\n",
    "        self.feature_counts[f][cat]+=1\n",
    "\n",
    "    def incCat(self, cat):\n",
    "        self.cat_counts.setdefault(cat, 0)\n",
    "        self.cat_counts[cat]+=1\n",
    "    \n",
    "    def featureLen(self, f, cat):\n",
    "        if f in self.feature_counts and cat in self.feature_counts[f]:\n",
    "            return self.feature_counts[f][cat]\n",
    "        return 0\n",
    "    \n",
    "    def catLen(self, cat):\n",
    "        if cat in self.cat_counts:\n",
    "            return self.cat_counts[cat]\n",
    "\n",
    "        return 0\n",
    "    \n",
    "    def totalLen(self):\n",
    "        return sum(self.cat_counts.values())\n",
    "\n",
    "    \n",
    "    def categories(self):\n",
    "        return self.cat_counts.keys()\n",
    "\n",
    "    \n",
    "    def train(self, doc, cat):\n",
    "        features = self.getfeatures(doc)\n",
    "\n",
    "        for f in features:\n",
    "            self.incFeature(f, cat)\n",
    "        \n",
    "        self.incCat(cat)\n",
    "        \n",
    "    def featureProb(self, f, cat):\n",
    "        return self.featureLen(f, cat) / self.catLen(cat)\n",
    "    "
   ]
  },
  {
   "cell_type": "code",
   "execution_count": 60,
   "metadata": {},
   "outputs": [
    {
     "data": {
      "text/plain": [
       "0.6666666666666666"
      ]
     },
     "execution_count": 60,
     "metadata": {},
     "output_type": "execute_result"
    }
   ],
   "source": [
    "\n",
    "clf = classifier(tokenize)\n",
    "\n",
    "def sampletrain(clf):\n",
    "    clf.train('Nobody owns the water.','good') \n",
    "    clf.train('the quick rabbit jumps fences','good') \n",
    "    clf.train('the quick brown fox jumps','good')\n",
    "    clf.train('buy pharmaceuticals now','bad') \n",
    "    clf.train('make quick money at the online casino','bad') \n",
    "\n",
    "sampletrain(clf)\n",
    "clf.featureProb('quick', 'good')\n"
   ]
  },
  {
   "cell_type": "code",
   "execution_count": 63,
   "metadata": {},
   "outputs": [
    {
     "data": {
      "text/plain": [
       "0.0"
      ]
     },
     "execution_count": 63,
     "metadata": {},
     "output_type": "execute_result"
    }
   ],
   "source": [
    "clf.featureProb('money', 'good')\n"
   ]
  },
  {
   "cell_type": "code",
   "execution_count": null,
   "metadata": {},
   "outputs": [],
   "source": []
  }
 ],
 "metadata": {
  "kernelspec": {
   "display_name": "Python 3",
   "language": "python",
   "name": "python3"
  },
  "language_info": {
   "codemirror_mode": {
    "name": "ipython",
    "version": 3
   },
   "file_extension": ".py",
   "mimetype": "text/x-python",
   "name": "python",
   "nbconvert_exporter": "python",
   "pygments_lexer": "ipython3",
   "version": "3.8.3"
  }
 },
 "nbformat": 4,
 "nbformat_minor": 4
}

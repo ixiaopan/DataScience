{
 "cells": [
  {
   "cell_type": "code",
   "execution_count": 90,
   "metadata": {},
   "outputs": [],
   "source": [
    "import networkx as nx\n",
    "import matplotlib.pyplot as plt\n",
    "from networkx.algorithms.community.centrality import girvan_newman\n",
    "import networkx.algorithms.community as nx_comm\n",
    "import numpy as np\n",
    "from scipy.spatial import distance\n",
    "\n",
    "import torch\n",
    "from typing import Tuple\n",
    "\n"
   ]
  },
  {
   "cell_type": "markdown",
   "metadata": {},
   "source": [
    "## Create Graph\n"
   ]
  },
  {
   "cell_type": "code",
   "execution_count": 91,
   "metadata": {},
   "outputs": [],
   "source": [
    "def plot(G):\n",
    "    options = {\n",
    "        'node_size': 500,\n",
    "        'width': 2,\n",
    "        'font_weight': 'bold',\n",
    "        'font_color': 'white'\n",
    "    }\n",
    "    fig, ax = plt.subplots(figsize=(6, 4))\n",
    "    nx.draw(G, with_labels=True, **options, ax=ax)\n",
    "\n",
    "    \n",
    "def create_undirected_graph(edge_list):\n",
    "    G = nx.Graph()\n",
    "    G.add_edges_from(edge_list)\n",
    "    N, E = G.number_of_nodes(), G.number_of_edges()\n",
    "    \n",
    "    print('Number of Nodes, ', N)\n",
    "    print('Number of Edges, ', E)\n",
    "    print('Avg of Degree, ', 2*E/N)\n",
    "\n",
    "    plot(G)\n",
    "\n",
    "    return G\n",
    "\n",
    "def create_directed_graph(edge_list):\n",
    "    G = nx.DiGraph()\n",
    "    G.add_edges_from(edge_list)\n",
    "    N, E = G.number_of_nodes(), G.number_of_edges()\n",
    "    \n",
    "    print('Number of Di Nodes, ', N)\n",
    "    print('Number of Di Edges, ', E)\n",
    "    print('Avg of Degree, ', 2*E/N)\n",
    "\n",
    "    plot(G)\n",
    "\n",
    "    return G\n",
    "\n",
    "def cal_community(G):\n",
    "    communities = girvan_newman(G)\n",
    "\n",
    "    node_groups = []\n",
    "    for com in next(communities):\n",
    "        node_groups.append(list(com))\n",
    "\n",
    "    return node_groups\n",
    "\n",
    "\n",
    "def cal_adj_matrix(G):\n",
    "    A = nx.adjacency_matrix(G)\n",
    "    \n",
    "    return A.todense()\n",
    "\n"
   ]
  },
  {
   "cell_type": "markdown",
   "metadata": {},
   "source": [
    "## 1. Closeness Centrality for nodes"
   ]
  },
  {
   "cell_type": "code",
   "execution_count": 23,
   "metadata": {},
   "outputs": [
    {
     "name": "stdout",
     "output_type": "stream",
     "text": [
      "Number of Nodes,  8\n",
      "Number of Edges,  9\n",
      "Avg of Degree,  2.25\n",
      "Closeness nx \n",
      " {'1': 0.7, '2': 0.4666666666666667, '3': 0.4666666666666667, '4': 0.4375, '5': 0.6363636363636364, '6': 0.5384615384615384, '7': 0.4666666666666667, '8': 0.3333333333333333}\n",
      "Closeness manualy \n",
      " [1.42857143 2.14285714 2.14285714 2.28571429 1.57142857 1.85714286\n",
      " 2.14285714 3.        ]\n",
      "Betweeness \n",
      " {'1': 14.0, '2': 0.0, '3': 0.0, '4': 0.0, '5': 10.0, '6': 0.0, '7': 6.0, '8': 0.0}\n"
     ]
    },
    {
     "data": {
      "image/png": "[encoded data removed]",
      "text/plain": [
       "<Figure size 432x288 with 1 Axes>"
      ]
     },
     "metadata": {},
     "output_type": "display_data"
    }
   ],
   "source": [
    "\n",
    "edge_list = [\n",
    "    ('1', '2'), \n",
    "    ('1', '3'),\n",
    "    ('1', '4'),\n",
    "    ('1', '5'),\n",
    "    ('1', '6'),\n",
    "    \n",
    "    ('2', '3'),\n",
    "    ('5', '6'),\n",
    "    ('7', '5'),\n",
    "    ('7', '8')\n",
    "]\n",
    "\n",
    "G = create_undirected_graph(edge_list)\n",
    "cc = nx.closeness_centrality(G)\n",
    "\n",
    "# |node| / path\n",
    "print('Closeness nx \\n', cc)\n",
    "\n",
    "# path / |node|\n",
    "print('Closeness manualy \\n', 1/np.array(list(cc.values())))\n",
    "\n",
    "print('Betweeness \\n', nx.betweenness_centrality(G, normalized=False))\n",
    "\n"
   ]
  },
  {
   "cell_type": "markdown",
   "metadata": {},
   "source": [
    "## 2. Clustering coefficient\n"
   ]
  },
  {
   "cell_type": "code",
   "execution_count": 24,
   "metadata": {},
   "outputs": [
    {
     "name": "stdout",
     "output_type": "stream",
     "text": [
      "Number of Nodes,  5\n",
      "Number of Edges,  7\n",
      "Avg of Degree,  2.8\n",
      "{'a': 0.5, 'b': 1.0, 'c': 0.5, 'd': 1.0, 'e': 1.0}\n"
     ]
    },
    {
     "data": {
      "text/plain": [
       "0.8"
      ]
     },
     "execution_count": 24,
     "metadata": {},
     "output_type": "execute_result"
    },
    {
     "data": {
      "image/png": "[encoded data removed]",
      "text/plain": [
       "<Figure size 432x288 with 1 Axes>"
      ]
     },
     "metadata": {},
     "output_type": "display_data"
    }
   ],
   "source": [
    "edge_list = [\n",
    "    ('a', 'b'), \n",
    "    ('a', 'c'),\n",
    "    ('a', 'd'),\n",
    "    ('a', 'e'),\n",
    "    \n",
    "    ('b', 'c'),\n",
    "    ('c', 'd'),\n",
    "    ('c', 'e'),\n",
    "]\n",
    "\n",
    "G = create_undirected_graph(edge_list)\n",
    "\n",
    "# nx.clustering(G, 'a')\n",
    "\n",
    "# Clustering coefficient of all nodes\n",
    "clust_coefficients = nx.clustering(G)\n",
    "print(clust_coefficients)\n",
    "\n",
    "# avg\n",
    "sum(clust_coefficients.values()) / len(clust_coefficients)\n",
    "    "
   ]
  },
  {
   "cell_type": "markdown",
   "metadata": {},
   "source": [
    "## 3. Betweeness Centrality for edges"
   ]
  },
  {
   "cell_type": "code",
   "execution_count": 92,
   "metadata": {},
   "outputs": [
    {
     "name": "stdout",
     "output_type": "stream",
     "text": [
      "Number of Nodes,  7\n",
      "Number of Edges,  9\n",
      "Avg of Degree,  2.5714285714285716\n"
     ]
    },
    {
     "data": {
      "image/png": "[encoded data removed]",
      "text/plain": [
       "<Figure size 432x288 with 1 Axes>"
      ]
     },
     "metadata": {},
     "output_type": "display_data"
    }
   ],
   "source": [
    "edge_list = [\n",
    "    ('1', '2'), \n",
    "    ('1', '4'),\n",
    "    ('1', '5'),\n",
    "    ('2', '3'),\n",
    "    ('2', '4'),\n",
    "    ('3', '6'),\n",
    "    ('4', '5'),\n",
    "    ('5', '6'),\n",
    "    ('5', '7')\n",
    "]\n",
    "\n",
    "G = create_undirected_graph(edge_list)\n"
   ]
  },
  {
   "cell_type": "code",
   "execution_count": 93,
   "metadata": {},
   "outputs": [
    {
     "data": {
      "text/plain": [
       "{('1', '2'): 3.0,\n",
       " ('1', '4'): 1.0,\n",
       " ('1', '5'): 4.0,\n",
       " ('2', '3'): 4.0,\n",
       " ('2', '4'): 3.0,\n",
       " ('4', '5'): 4.0,\n",
       " ('5', '6'): 6.0,\n",
       " ('5', '7'): 6.0,\n",
       " ('3', '6'): 4.0}"
      ]
     },
     "execution_count": 93,
     "metadata": {},
     "output_type": "execute_result"
    }
   ],
   "source": [
    "nx.edge_betweenness_centrality(G, normalized=False)\n"
   ]
  },
  {
   "cell_type": "code",
   "execution_count": 27,
   "metadata": {},
   "outputs": [
    {
     "data": {
      "text/plain": [
       "{('a', 'b'): 0.0,\n",
       " ('a', 'c'): 0.0,\n",
       " ('b', 'c'): 0.0,\n",
       " ('b', 'd'): 0.0,\n",
       " ('d', 'e'): 1.5,\n",
       " ('d', 'f'): 1.0,\n",
       " ('d', 'g'): 1.5,\n",
       " ('e', 'f'): 1.5,\n",
       " ('f', 'g'): 1.5}"
      ]
     },
     "execution_count": 27,
     "metadata": {},
     "output_type": "execute_result"
    }
   ],
   "source": [
    "source = ['d', 'e', 'f', 'g']\n",
    "target = ['d', 'e', 'f', 'g']\n",
    "\n",
    "nx.edge_betweenness_centrality_subset(G, source, target, normalized=False)\n"
   ]
  },
  {
   "cell_type": "markdown",
   "metadata": {},
   "source": [
    "## girvan_newman algorithm"
   ]
  },
  {
   "cell_type": "code",
   "execution_count": 95,
   "metadata": {},
   "outputs": [
    {
     "data": {
      "text/plain": [
       "[['5', '4', '7', '1', '2'], ['3', '6']]"
      ]
     },
     "execution_count": 95,
     "metadata": {},
     "output_type": "execute_result"
    }
   ],
   "source": [
    "\n",
    "cal_community(G)\n"
   ]
  },
  {
   "cell_type": "markdown",
   "metadata": {},
   "source": [
    "## 4. Modularity"
   ]
  },
  {
   "cell_type": "code",
   "execution_count": 49,
   "metadata": {},
   "outputs": [
    {
     "data": {
      "image/png": "[encoded data removed]",
      "text/plain": [
       "<Figure size 432x288 with 1 Axes>"
      ]
     },
     "metadata": {},
     "output_type": "display_data"
    }
   ],
   "source": [
    "\n",
    "G = nx.empty_graph(n=4, create_using=nx.Graph())\n",
    "\n",
    "G.add_edges_from([(1, 2), (1, 3)])\n",
    "\n",
    "plot(G)\n"
   ]
  },
  {
   "cell_type": "code",
   "execution_count": 50,
   "metadata": {},
   "outputs": [
    {
     "data": {
      "text/plain": [
       "matrix([[ 0.  ,  0.  ,  0.  ,  0.  ],\n",
       "        [ 0.  , -1.  ,  0.5 ,  0.5 ],\n",
       "        [ 0.  ,  0.5 , -0.25, -0.25],\n",
       "        [ 0.  ,  0.5 , -0.25, -0.25]])"
      ]
     },
     "execution_count": 50,
     "metadata": {},
     "output_type": "execute_result"
    }
   ],
   "source": [
    "\n",
    "nx.modularity_matrix(G)\n"
   ]
  },
  {
   "cell_type": "code",
   "execution_count": 51,
   "metadata": {},
   "outputs": [
    {
     "data": {
      "text/plain": [
       "(-0.5,)"
      ]
     },
     "execution_count": 51,
     "metadata": {},
     "output_type": "execute_result"
    }
   ],
   "source": [
    "\n",
    "nx_comm.modularity(G, [{0, 1}, {2, 3}]), \n",
    "\n"
   ]
  },
  {
   "cell_type": "markdown",
   "metadata": {},
   "source": [
    "## 5. Eigen Centrality\n"
   ]
  },
  {
   "cell_type": "code",
   "execution_count": 73,
   "metadata": {},
   "outputs": [
    {
     "data": {
      "image/png": "[encoded data removed]",
      "text/plain": [
       "<Figure size 432x288 with 1 Axes>"
      ]
     },
     "metadata": {},
     "output_type": "display_data"
    }
   ],
   "source": [
    "edge_list = [\n",
    "    (0, 1),(0, 2),(0, 4),\n",
    "    (1, 2),(1, 4),\n",
    "    (2, 5),\n",
    "    (4, 5)\n",
    "]\n",
    "\n",
    "G = nx.empty_graph(n=6, create_using=nx.Graph())\n",
    "G.add_edges_from(edge_list)\n",
    "plot(G)\n"
   ]
  },
  {
   "cell_type": "code",
   "execution_count": 74,
   "metadata": {},
   "outputs": [
    {
     "data": {
      "text/plain": [
       "matrix([[0, 1, 1, 0, 1, 0],\n",
       "        [1, 0, 1, 0, 1, 0],\n",
       "        [1, 1, 0, 0, 0, 1],\n",
       "        [0, 0, 0, 0, 0, 0],\n",
       "        [1, 1, 0, 0, 0, 1],\n",
       "        [0, 0, 1, 0, 1, 0]])"
      ]
     },
     "execution_count": 74,
     "metadata": {},
     "output_type": "execute_result"
    }
   ],
   "source": [
    "cal_adj_matrix(G)\n"
   ]
  },
  {
   "cell_type": "code",
   "execution_count": 75,
   "metadata": {},
   "outputs": [
    {
     "name": "stdout",
     "output_type": "stream",
     "text": [
      "degree c normalized, \n",
      " {0: 0.6000000000000001, 1: 0.6000000000000001, 2: 0.6000000000000001, 3: 0.0, 4: 0.6000000000000001, 5: 0.4}\n",
      "degree c [3.6 3.6 3.6 0.  3.6 2.4]\n",
      "\n",
      "\n"
     ]
    }
   ],
   "source": [
    "print('degree c normalized, \\n', nx.degree_centrality(G))\n",
    "print('degree c', np.array(list(nx.degree_centrality(G).values())) * (G.number_of_edges() - 1))\n",
    "\n",
    "print('\\n')\n",
    "\n",
    "# print('in degree c normalized, \\n', nx.in_degree_centrality(G))\n",
    "# print('in degree c, ', np.array(list(nx.in_degree_centrality(G).values())) * (G.number_of_edges() - 1))\n",
    "\n"
   ]
  },
  {
   "cell_type": "code",
   "execution_count": 76,
   "metadata": {},
   "outputs": [
    {
     "data": {
      "text/plain": [
       "{0: 0.49122201059320597,\n",
       " 1: 0.49122201059320597,\n",
       " 2: 0.4557987441346209,\n",
       " 3: 1.6134046192581886e-07,\n",
       " 4: 0.4557987441346209,\n",
       " 5: 0.3192129106225423}"
      ]
     },
     "execution_count": 76,
     "metadata": {},
     "output_type": "execute_result"
    }
   ],
   "source": [
    "\n",
    "nx.eigenvector_centrality(G)\n"
   ]
  },
  {
   "cell_type": "markdown",
   "metadata": {},
   "source": [
    "## 6. Page Rank\n"
   ]
  },
  {
   "cell_type": "code",
   "execution_count": 88,
   "metadata": {
    "scrolled": true
   },
   "outputs": [
    {
     "name": "stdout",
     "output_type": "stream",
     "text": [
      "Number of Di Nodes,  3\n",
      "Number of Di Edges,  4\n",
      "Avg of Degree,  2.6666666666666665\n",
      "page_rank_scores nx,  {'B': 0.387789442707259, 'A': 0.21481051315058508, 'C': 0.3974000441421556}\n"
     ]
    },
    {
     "data": {
      "image/png": "[encoded data removed]",
      "text/plain": [
       "<Figure size 432x288 with 1 Axes>"
      ]
     },
     "metadata": {},
     "output_type": "display_data"
    }
   ],
   "source": [
    "\n",
    "di_edge_list = [\n",
    "    ('B', 'A'), ('B', 'C'),\n",
    "    ('A','C'), ('C','B')\n",
    "]\n",
    "G = create_directed_graph(di_edge_list)\n",
    "\n",
    "rank_scores = nx.pagerank(G, alpha=0.85)\n",
    "print('page_rank_scores nx, ', rank_scores)\n"
   ]
  },
  {
   "cell_type": "code",
   "execution_count": 89,
   "metadata": {},
   "outputs": [
    {
     "name": "stdout",
     "output_type": "stream",
     "text": [
      "in degree c normalized, \n",
      " {'B': 0.5, 'A': 0.5, 'C': 1.0}\n"
     ]
    }
   ],
   "source": [
    "\n",
    "print('in degree c normalized, \\n', nx.in_degree_centrality(G))\n"
   ]
  },
  {
   "cell_type": "markdown",
   "metadata": {},
   "source": [
    "## undirected graph"
   ]
  },
  {
   "cell_type": "code",
   "execution_count": 99,
   "metadata": {},
   "outputs": [
    {
     "name": "stdout",
     "output_type": "stream",
     "text": [
      "Number of Nodes,  7\n",
      "Number of Edges,  8\n",
      "Avg of Degree,  2.2857142857142856\n",
      "2 6 0.5\n",
      "6 1 0.25\n",
      "1 4 0.5833333333333333\n",
      "2 5 1.0\n"
     ]
    },
    {
     "data": {
      "image/png": "[encoded data removed]",
      "text/plain": [
       "<Figure size 432x288 with 1 Axes>"
      ]
     },
     "metadata": {},
     "output_type": "display_data"
    }
   ],
   "source": [
    "# \n",
    "edge_list = [\n",
    "    (1, 2), \n",
    "    (1, 5),\n",
    "    (2, 3),\n",
    "    (2, 4),\n",
    "    (3, 6),\n",
    "    (4, 5),\n",
    "    (5, 6),\n",
    "    (5, 6),\n",
    "    (5, 7)\n",
    "]\n",
    "G = create_undirected_graph(edge_list)\n",
    "\n",
    "# rank_scores = nx.pagerank(G, alpha=0.85)\n",
    "# rank_scores_raw = np.array(list(rank_scores.values()))*G.number_of_nodes()\n",
    "\n",
    "# print('rank_scores nx, \\n', rank_scores)\n",
    "# print('pagerank manually, \\n', rank_scores_raw)\n",
    "\n",
    "preds =nx.resource_allocation_index(G, [(2, 6), (6, 1), (1, 4), (2, 5)])\n",
    "\n",
    "for u, v, p in preds:\n",
    "    print(u, v, p)\n",
    "    "
   ]
  },
  {
   "cell_type": "markdown",
   "metadata": {},
   "source": [
    "# Recommendation Similarity"
   ]
  },
  {
   "cell_type": "code",
   "execution_count": 34,
   "metadata": {},
   "outputs": [],
   "source": [
    "## Cosine Distance\n",
    "def d_cosine(v1, vlist):\n",
    "    v1 = np.array(v1)\n",
    "    vlist = np.array(vlist)\n",
    "\n",
    "    theta = []\n",
    "\n",
    "    for v in vlist:    \n",
    "        t = (v1 @ v) / np.linalg.norm(v1) / np.linalg.norm(v)       \n",
    "        theta.append(t)\n",
    "    \n",
    "    return theta\n",
    "\n",
    "\n",
    "def d_euclidian(v1, vlist):\n",
    "    v1 = np.array(v1)\n",
    "    vlist = np.array(vlist)\n",
    "\n",
    "    theta = []\n",
    "    for v in vlist: \n",
    "        theta.append(np.linalg.norm(v1-v))\n",
    "\n",
    "    return theta, 1/(1+np.array(theta)**2)\n",
    "\n",
    "\n",
    "\n",
    "def d_manhattan(v1, vlist):\n",
    "    v1 = np.array(v1)\n",
    "    vlist = np.array(vlist)\n",
    "\n",
    "    theta = []\n",
    "    for v in vlist:\n",
    "        theta.append(np.sum(np.abs(v1-v)))\n",
    "    return theta\n",
    "    \n"
   ]
  },
  {
   "cell_type": "markdown",
   "metadata": {},
   "source": [
    "the equation for measuring similarity based on Pearson Correlation\n",
    "\n",
    "$$\n",
    "sim(a, b) = \\frac{\\sum_{m\\in M} (r_{a, m} - \\overline r_a)(r_{b, m} - \\overline r_b)}{\\sqrt{\\sum_{m\\in M} (r_{a, m} - \\overline r_a)^2}\\sqrt{\\sum_{m\\in M} (r_{b, m} - \\overline r_b)^2}}\n",
    "$$\n",
    "\n",
    "- $r_{a,m}$ = rating of user $a$ for item $m$ \n",
    "\n",
    "- $\\overline r_a$ = the average rating of user $a$\n"
   ]
  },
  {
   "cell_type": "code",
   "execution_count": 35,
   "metadata": {},
   "outputs": [],
   "source": [
    "def d_pearson(matrix, idx):\n",
    "    vlist = np.array(matrix)\n",
    "    v1 = vlist[idx]\n",
    "\n",
    "        \n",
    "    theta=[]\n",
    "    for v2 in vlist:\n",
    "        m1 = np.sum(v1) / len(v1[v1 != 0])\n",
    "        m2 = np.sum(v2) / len(v2[v2 != 0])\n",
    "\n",
    "        d1 = np.array([v - m1 if v != 0 else v for v in v1 ])\n",
    "        d2 = np.array([v - m2 if v != 0 else v for v in v2 ])\n",
    "\n",
    "        s=np.sum(d1*d2) / np.sqrt(np.sum(d1**2)) / np.sqrt(np.sum(d2**2))\n",
    "        theta.append(s) \n",
    "\n",
    "    return theta\n"
   ]
  },
  {
   "cell_type": "markdown",
   "metadata": {},
   "source": [
    "make a prediction \n",
    "\n",
    "$$\n",
    "pred(a, p) = \\overline r_a + \\frac{\\sum_{u \\in U} sim(a, u)*(r_{u,p} - \\overline r_u)}{\\sum_{u \\in U} sim(a, u)}\n",
    "$$"
   ]
  },
  {
   "cell_type": "code",
   "execution_count": 36,
   "metadata": {},
   "outputs": [],
   "source": [
    "def makePrediction(matrix, aidx, midx, simi_func='cos', k=-1):\n",
    "    '''\n",
    "    simi_func: cos/pearson\n",
    "    '''\n",
    "    matrix = np.array(matrix)\n",
    "\n",
    "    if simi_func == 'cos':\n",
    "        me = matrix[aidx]\n",
    "        similarity = d_cosine(me, matrix)\n",
    "    if simi_func == 'pearson':\n",
    "        similarity = d_pearson(matrix, aidx)\n",
    "    \n",
    "    avg_score_user = [np.sum(score_user) / len(score_user[score_user != 0]) for score_user in matrix ]\n",
    "    score_m = matrix[:, midx] \n",
    "\n",
    "    avg_score_b = np.delete(avg_score_user, aidx)\n",
    "    simi_b = np.delete(similarity, aidx)    \n",
    "    score_m_b = np.delete(score_m, aidx)\n",
    "\n",
    "    print('avg score user', avg_score_user)\n",
    "    print('score of m', score_m)\n",
    "    print('user simi', similarity)\n",
    "\n",
    "    diff_score=[s - avg_score_b[i] if s > 0 else s for (i,s) in enumerate( score_m_b)]\n",
    "    diff_simi=[ simi_b[i] if s > 0 else 0 for (i,s) in enumerate(score_m_b)]\n",
    "    \n",
    "    v = np.sum(np.multiply(simi_b, diff_score)) / np.sum(diff_simi)\n",
    "    print(v)\n",
    "\n",
    "    return avg_score_user[aidx] + v\n",
    "    \n"
   ]
  },
  {
   "cell_type": "code",
   "execution_count": 37,
   "metadata": {},
   "outputs": [
    {
     "name": "stdout",
     "output_type": "stream",
     "text": [
      "avg score user [2.875, 2.75, 3.0, 2.8333333333333335]\n",
      "score of m [2.5 0.  2.5 1. ]\n",
      "user simi [0.738317225479803, 1.0000000000000002, 0.5127291752509333, 0.9777361740330238]\n",
      "-1.043506842064868\n"
     ]
    },
    {
     "data": {
      "text/plain": [
       "1.706493157935132"
      ]
     },
     "execution_count": 37,
     "metadata": {},
     "output_type": "execute_result"
    }
   ],
   "source": [
    "makePrediction([\n",
    "    [2.5,3.5,3.0,2.5],\n",
    "    [2.5,3.0,0,0],\n",
    "    [0,3.5,3.0,2.5],\n",
    "    [3.0,4.5,0,1.0]\n",
    "], 1, 3, simi_func='cos')\n"
   ]
  },
  {
   "cell_type": "code",
   "execution_count": null,
   "metadata": {},
   "outputs": [],
   "source": []
  },
  {
   "cell_type": "code",
   "execution_count": 3,
   "metadata": {},
   "outputs": [
    {
     "data": {
      "text/plain": [
       "tensor([[2.5944, 3.4445, 2.9878, 2.5006],\n",
       "        [2.2763, 3.1512, 2.3029, 1.4631],\n",
       "        [2.6269, 3.4934, 3.0110, 2.4993],\n",
       "        [3.0845, 4.4438, 2.6913, 0.9974]])"
      ]
     },
     "execution_count": 3,
     "metadata": {},
     "output_type": "execute_result"
    }
   ],
   "source": [
    "def sgd_factorise_masked(A: torch.Tensor, M: torch.Tensor, rank: int, num_epochs=1000, lr=0.01) -> Tuple[torch.Tensor, torch.Tensor]:\n",
    "    m, n = A.shape\n",
    "\n",
    "    U = torch.rand((m, rank))\n",
    "    V = torch.rand((n, rank))\n",
    "\n",
    "    for i in range(num_epochs):\n",
    "        for r in range(m):\n",
    "            for c in range(n):\n",
    "                if M[r, c]:\n",
    "                    e = A[r, c] - U[r] @ V[c].T\n",
    "                    U[r] = U[r] + lr * e * V[c]\n",
    "                    V[c] = V[c] + lr * e * U[r]\n",
    "\n",
    "    return U, V\n",
    "\n",
    "A=torch.tensor([\n",
    "    [2.5, 3.5,3.0,2.5],\n",
    "    [2.5, 3.0,0.0,0.0],\n",
    "    [0.0,3.5,3.0,2.5],\n",
    "    [3.0,4.5,0.0,1.0]\n",
    "])\n",
    "\n",
    "M = torch.tensor([\n",
    "    [1, 1, 1, 1],\n",
    "    [1, 1, 0, 0,],\n",
    "    [0, 1, 1, 1],\n",
    "    [1, 1, 0, 1]\n",
    "])\n",
    "\n",
    "U, V = sgd_factorise_masked(A, M, 2)\n",
    "\n",
    "A_Complete = U @ V.T\n",
    "\n",
    "A_Complete\n"
   ]
  },
  {
   "cell_type": "code",
   "execution_count": null,
   "metadata": {},
   "outputs": [],
   "source": []
  },
  {
   "cell_type": "code",
   "execution_count": 118,
   "metadata": {},
   "outputs": [
    {
     "data": {
      "text/plain": [
       "[0.8912374332033542]"
      ]
     },
     "execution_count": 118,
     "metadata": {},
     "output_type": "execute_result"
    }
   ],
   "source": [
    "d_cosine(\n",
    "    [3,8,7,5],\n",
    "    [\n",
    "        [10,8,6,6]\n",
    "    ]\n",
    ")\n"
   ]
  },
  {
   "cell_type": "code",
   "execution_count": 119,
   "metadata": {},
   "outputs": [
    {
     "data": {
      "text/plain": [
       "[0.7071067811865476]"
      ]
     },
     "execution_count": 119,
     "metadata": {},
     "output_type": "execute_result"
    }
   ],
   "source": [
    "d_euclidian(\n",
    "    [1.5, 1.5],\n",
    "            \n",
    "    [\n",
    "        [2, 1]\n",
    "    ]\n",
    ")\n",
    "            "
   ]
  },
  {
   "cell_type": "code",
   "execution_count": 120,
   "metadata": {},
   "outputs": [
    {
     "data": {
      "text/plain": [
       "[7]"
      ]
     },
     "execution_count": 120,
     "metadata": {},
     "output_type": "execute_result"
    }
   ],
   "source": [
    "d_manhattan(\n",
    "    [3, 8],\n",
    "    [\n",
    "        [10, 8]\n",
    "    ]\n",
    ")"
   ]
  },
  {
   "cell_type": "code",
   "execution_count": 121,
   "metadata": {},
   "outputs": [
    {
     "data": {
      "text/plain": [
       "[0.8626056877614031,\n",
       " -0.7378647873726218,\n",
       " 1.0,\n",
       " -0.7432422527106193,\n",
       " 0.8444444444444444]"
      ]
     },
     "execution_count": 121,
     "metadata": {},
     "output_type": "execute_result"
    }
   ],
   "source": [
    "d_pearson([\n",
    "    [8,2,5,7,1,8],\n",
    "    [0,0,4,1,7,3],\n",
    "    [0,5,7,7,4,8],\n",
    "    [2,7,4,3,6,3],\n",
    "    [7,5,7,8,5,7]\n",
    "], 2)\n"
   ]
  },
  {
   "cell_type": "code",
   "execution_count": null,
   "metadata": {},
   "outputs": [],
   "source": []
  }
 ],
 "metadata": {
  "kernelspec": {
   "display_name": "Python 3",
   "language": "python",
   "name": "python3"
  },
  "language_info": {
   "codemirror_mode": {
    "name": "ipython",
    "version": 3
   },
   "file_extension": ".py",
   "mimetype": "text/x-python",
   "name": "python",
   "nbconvert_exporter": "python",
   "pygments_lexer": "ipython3",
   "version": "3.8.3"
  }
 },
 "nbformat": 4,
 "nbformat_minor": 4
}

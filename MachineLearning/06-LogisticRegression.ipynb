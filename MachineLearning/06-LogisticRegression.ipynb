{
 "cells": [
  {
   "cell_type": "code",
   "execution_count": 1,
   "metadata": {},
   "outputs": [],
   "source": [
    "import numpy as np\n",
    "import pandas as pd\n",
    "import matplotlib.pyplot as plt\n",
    "from sklearn import datasets\n",
    "from sklearn.model_selection import train_test_split\n",
    "import seaborn as sns"
   ]
  },
  {
   "cell_type": "markdown",
   "metadata": {},
   "source": [
    "# 1. Binary Logistic"
   ]
  },
  {
   "cell_type": "markdown",
   "metadata": {},
   "source": [
    "$$\n",
    "p(y=1|x) = \\sigma(w^Tx) = \\frac{1}{1 + e^{-w^Tx}} \\\\\n",
    " \\\\\n",
    "p(y=0|x) = 1 - p(y=1|x)\n",
    " \\\\\n",
    "$$\n",
    "\n",
    "Therefore, $y_n \\sim Bern(n, p_n)$\n",
    "\n",
    "$$\n",
    "p(y_n= y|x_n) = p_n^{y_n} (1 - p_n)^{1 - y_n} = \\sigma(w \\cdot x_n)^{y_n} (1 - \\sigma(w \\cdot x_n))^{1 - y_n}\n",
    "$$\n",
    "\n",
    "The negative log-likelihood function is\n",
    "\n",
    "$$\n",
    "NLL(\\theta) = -\\sum^N  y_n log(p(x_n)) - (1 - y_n)log(1 - p(x_n)) \\\\\n",
    "$$"
   ]
  },
  {
   "cell_type": "code",
   "execution_count": 199,
   "metadata": {},
   "outputs": [],
   "source": [
    "def logistic(z):\n",
    "    return 1 / (1 + np.exp(-z))\n",
    "\n",
    "\n",
    "class BinaryLogistic:\n",
    "    def __init__(self):\n",
    "        pass\n",
    "\n",
    "    def fit(self, X, y, ln=0.001, iters=10):\n",
    "        N, D = X.shape\n",
    "\n",
    "        theta_hat = np.random.randn(D)\n",
    "        for i in range(iters):\n",
    "            # print('BCE', self.crossEntropyLoss(X, y, theta_hat))\n",
    "\n",
    "            p = logistic(X @ theta_hat)\n",
    "            grad = X.T @ (p - y)\n",
    "            theta_hat -= ln * grad\n",
    "\n",
    "        self.theta_hat = theta_hat\n",
    "\n",
    "    def crossEntropyLoss(self, X, y, theta):\n",
    "        \"\"\"\n",
    "        Negative Loss function\n",
    "        \"\"\"\n",
    "        epsilon = 1e-12\n",
    "\n",
    "        p = logistic(X @ theta)\n",
    "\n",
    "        cost = -np.average(y * np.log(p + epsilon) + (1 - y) * np.log(1 - p + epsilon))\n",
    "\n",
    "        return cost\n",
    "\n",
    "    def predict_prob(self, X_test):\n",
    "        return logistic(X_test @ self.theta_hat)\n",
    "\n",
    "\n",
    "    def prob(self, X_test):\n",
    "        self.p = logistic(X_test @ self.theta_hat)\n",
    "        return self.p.round()\n"
   ]
  },
  {
   "cell_type": "markdown",
   "metadata": {},
   "source": [
    "## Example"
   ]
  },
  {
   "cell_type": "code",
   "execution_count": 200,
   "metadata": {},
   "outputs": [
    {
     "name": "stderr",
     "output_type": "stream",
     "text": [
      "/Users/wuxiaopan/opt/anaconda3/lib/python3.8/site-packages/sklearn/utils/validation.py:68: FutureWarning: Pass n_class=2 as keyword args. From version 0.25 passing these as positional arguments will result in an error\n",
      "  warnings.warn(\"Pass {} as keyword args. From version 0.25 \"\n"
     ]
    },
    {
     "data": {
      "text/plain": [
       "((259, 65), (259,), (101, 65))"
      ]
     },
     "execution_count": 200,
     "metadata": {},
     "output_type": "execute_result"
    }
   ],
   "source": [
    "digits = datasets.load_digits(2) # binary classificatin (0 or 1)\n",
    "\n",
    "X, y = digits.data, digits.target\n",
    "X = np.c_[np.ones(X.shape[0]), X]\n",
    "\n",
    "X_train, X_test, y_train, y_test = train_test_split(X, y, test_size=0.28)\n",
    "\n",
    "X_train.shape, y_train.shape, X_test.shape\n"
   ]
  },
  {
   "cell_type": "code",
   "execution_count": 201,
   "metadata": {},
   "outputs": [
    {
     "data": {
      "text/plain": [
       "array([ 0.01209538,  0.61562571,  1.81039831, -1.63240167, -0.52373471,\n",
       "        0.83368693, -0.46934796,  0.47080822,  0.6584371 , -0.16224037,\n",
       "       -1.45067083, -1.55163918, -0.35249545,  1.57851733,  0.10597435,\n",
       "        0.93061975, -0.37400327,  0.39588083, -0.1030568 , -1.55705591,\n",
       "        1.57840998,  2.36820344, -2.98108271, -0.22183238, -0.19227683,\n",
       "       -0.53630661,  0.06387335, -2.4360591 ,  3.19632611,  1.11572039,\n",
       "        0.06848294, -0.00456664,  1.32242242, -1.08181668, -1.63163586,\n",
       "        1.27347108,  1.29291572,  1.96479462, -0.36116229, -0.45952579,\n",
       "       -1.19948059,  0.38322784, -0.71000202, -1.39365565,  1.63166831,\n",
       "        1.76903609,  0.64669718,  0.52312199,  0.96492825,  0.26799377,\n",
       "        0.99711758, -0.73220307, -0.44825737,  1.02457485, -3.51778207,\n",
       "        0.68997724, -0.44680532,  1.13365704, -0.30658709, -2.97462035,\n",
       "       -1.073388  , -0.06014906,  2.17104253, -0.70820775,  0.93278177])"
      ]
     },
     "execution_count": 201,
     "metadata": {},
     "output_type": "execute_result"
    }
   ],
   "source": [
    "\n",
    "binary_model = BinaryLogistic()\n",
    "\n",
    "binary_model.fit(X_train, y_train)\n",
    "\n",
    "binary_model.theta_hat\n"
   ]
  },
  {
   "cell_type": "code",
   "execution_count": 202,
   "metadata": {},
   "outputs": [
    {
     "name": "stdout",
     "output_type": "stream",
     "text": [
      "correct num 100\n",
      "accuracy 0.9900990099009901\n"
     ]
    },
    {
     "data": {
      "text/plain": [
       "0.12640249232312295"
      ]
     },
     "execution_count": 202,
     "metadata": {},
     "output_type": "execute_result"
    }
   ],
   "source": [
    "print('correct num', np.sum(binary_model.prob(X_test) == y_test))\n",
    "\n",
    "print('accuracy', np.mean(binary_model.prob(X_test) == y_test))\n",
    "\n",
    "binary_model.crossEntropyLoss(X_test, y_test, binary_model.theta_hat)\n"
   ]
  },
  {
   "cell_type": "code",
   "execution_count": 203,
   "metadata": {},
   "outputs": [
    {
     "data": {
      "text/plain": [
       "(array([[51.,  0.,  0.,  0.,  0.,  0.,  0.,  0.,  0.],\n",
       "        [ 0.,  0.,  0.,  0.,  0.,  0.,  0.,  0., 50.]]),\n",
       " array([0.        , 0.11111111, 0.22222222, 0.33333333, 0.44444444,\n",
       "        0.55555556, 0.66666667, 0.77777778, 0.88888889, 1.        ]),\n",
       " <a list of 2 BarContainer objects>)"
      ]
     },
     "execution_count": 203,
     "metadata": {},
     "output_type": "execute_result"
    },
    {
     "data": {
      "image/png": "[encoded data removed]",
      "text/plain": [
       "<Figure size 432x288 with 1 Axes>"
      ]
     },
     "metadata": {
      "needs_background": "light"
     },
     "output_type": "display_data"
    }
   ],
   "source": [
    "yhat = binary_model.prob(X_test)\n",
    "\n",
    "fig, ax = plt.subplots()\n",
    "bins = np.linspace(0, 1, 10)\n",
    "ax.hist([binary_model.p[yhat == 0], binary_model.p[yhat == 1]], bins)\n"
   ]
  },
  {
   "cell_type": "markdown",
   "metadata": {},
   "source": [
    "# 2. Softmax Regression"
   ]
  },
  {
   "cell_type": "markdown",
   "metadata": {},
   "source": [
    "$$\n",
    "y_i = \\left[\\matrix{y_{i1}\\\\y_{i2}\\\\...\\\\y_{ik}}\\right] \\rightarrow Softmax \\rightarrow \\left[\\matrix{p_{i1}\\\\p_{i2}\\\\...\\\\p_{ik}}\\right]\n",
    "\\\\\n",
    "L(\\theta) = - \\left[ \\sum_{i=1}^{m} \\sum_{k=1}^{K}  1\\left\\{y_{i} = k\\right\\} \\log \\frac{\\exp(\\theta^{(k)\\top} \\mathbf{x}_i)}{\\sum_{j=1}^K \\exp(\\theta^{(j)\\top} \\mathbf{x}_i)}\\right]\n",
    "\\\\\n",
    "\\nabla_{\\theta^{(k)}} L(\\theta) = - \\sum_{i=1}^{m}{ \\left[ \\mathbf{x}_i \\left( 1\\{ y_i = k\\}  - P(y_i = k | \\mathbf{x}_i; \\theta) \\right) \\right]  }\n",
    "$$"
   ]
  },
  {
   "cell_type": "code",
   "execution_count": 204,
   "metadata": {},
   "outputs": [],
   "source": [
    "\"\"\"\n",
    "X = N x D\n",
    "theta = D x K\n",
    "y, N x K, one hot encoding\n",
    "\n",
    "Z = X @ theta, N x K\n",
    "\"\"\"\n",
    "\n",
    "def get_one_hot(targets, nb_classes):\n",
    "    res = np.eye(nb_classes)[np.array(targets).reshape(-1)]\n",
    "    return res.reshape(list(targets.shape)+[nb_classes])\n",
    "\n",
    "def softmax(Z):\n",
    "    return np.exp(Z) / np.exp(Z).sum(1).reshape(-1, 1)\n",
    "\n",
    "\n",
    "class MultiLogistic:\n",
    "    def __init__(self, lr=0.01):\n",
    "        self.lr = lr\n",
    "\n",
    "    def softmax_loss(self, X, y, theta):\n",
    "        p = softmax(X @ theta)\n",
    "        return -np.trace(np.log(p) @ y.T)\n",
    "\n",
    "\n",
    "    def softmax_gradient(self, X, y, theta):\n",
    "        p = softmax(X @ theta)\n",
    "        return -X.T @(y - p)\n",
    "\n",
    "    def fit(self, X_train, y_train):\n",
    "        N, D = X_train.shape\n",
    "        _, K = y_train.shape\n",
    "\n",
    "        iters = 2000        \n",
    "        theta_gd = np.random.randn(D, K)\n",
    "        for i in range(iters):\n",
    "            gr = self.softmax_gradient(X_train, y_train, theta_gd)\n",
    "            theta_gd -= self.lr * gr\n",
    "\n",
    "            if i%100 == 0:\n",
    "                print(\"Training Loss: \", self.softmax_loss(X_train, y_train, theta_gd))\n",
    "\n",
    "        self.theta_gd = theta_gd\n",
    "\n",
    "    def predict(self, X_test, y_test):\n",
    "        # Compute the accuracy of the test set\n",
    "        proba = softmax(X_test @ self.theta_gd) # N by K\n",
    "\n",
    "        acc = sum(proba.argmax(1) == y_test) / float(proba.shape[0])\n",
    "        \n",
    "        print('accuracy:', acc)\n"
   ]
  },
  {
   "cell_type": "markdown",
   "metadata": {},
   "source": [
    "## Example 1"
   ]
  },
  {
   "cell_type": "code",
   "execution_count": 205,
   "metadata": {},
   "outputs": [
    {
     "name": "stderr",
     "output_type": "stream",
     "text": [
      "/Users/wuxiaopan/opt/anaconda3/lib/python3.8/site-packages/sklearn/utils/validation.py:68: FutureWarning: Pass n_class=10 as keyword args. From version 0.25 passing these as positional arguments will result in an error\n",
      "  warnings.warn(\"Pass {} as keyword args. From version 0.25 \"\n"
     ]
    },
    {
     "data": {
      "text/plain": [
       "((1293, 65), (1293, 10), (504, 65))"
      ]
     },
     "execution_count": 205,
     "metadata": {},
     "output_type": "execute_result"
    }
   ],
   "source": [
    "digits = datasets.load_digits(10) \n",
    "\n",
    "X, y = digits.data, digits.target\n",
    "X = np.c_[np.ones(X.shape[0]), X]\n",
    "\n",
    "# scale [0, 1]\n",
    "X /= 255 \n",
    "\n",
    "X_train, X_test, y_train, y_test = train_test_split(X, y, test_size=0.28)\n",
    "y_train = get_one_hot(y_train, 10)\n",
    "\n",
    "X_train.shape, y_train.shape, X_test.shape\n"
   ]
  },
  {
   "cell_type": "code",
   "execution_count": 206,
   "metadata": {},
   "outputs": [
    {
     "name": "stdout",
     "output_type": "stream",
     "text": [
      "Training Loss:  3035.7799852079615\n",
      "Training Loss:  2000.2502346684173\n",
      "Training Loss:  1441.2979358181376\n",
      "Training Loss:  1126.5303765400201\n",
      "Training Loss:  933.8435997623195\n",
      "Training Loss:  805.8505422436833\n",
      "Training Loss:  715.0682991572419\n",
      "Training Loss:  647.3267040337837\n",
      "Training Loss:  594.7456926003338\n",
      "Training Loss:  552.6451474058978\n",
      "Training Loss:  518.0875917307092\n",
      "Training Loss:  489.14212638473197\n",
      "Training Loss:  464.4892163568101\n",
      "Training Loss:  443.1969210744782\n",
      "Training Loss:  424.5882450263495\n",
      "Training Loss:  408.1593102695636\n",
      "Training Loss:  393.5270961415689\n",
      "Training Loss:  380.3950301166458\n",
      "Training Loss:  368.5297147720746\n",
      "Training Loss:  357.7448065632285\n",
      "accuracy: 0.9305555555555556\n"
     ]
    }
   ],
   "source": [
    "lcl = MultiLogistic()\n",
    "\n",
    "lcl.fit(X_train, y_train)\n",
    "\n",
    "lcl.predict(X_test, y_test)\n"
   ]
  },
  {
   "cell_type": "markdown",
   "metadata": {},
   "source": [
    "## Example 2"
   ]
  },
  {
   "cell_type": "code",
   "execution_count": 207,
   "metadata": {},
   "outputs": [
    {
     "data": {
      "text/plain": [
       "((178, 14), (178, 3))"
      ]
     },
     "execution_count": 207,
     "metadata": {},
     "output_type": "execute_result"
    }
   ],
   "source": [
    "wine = datasets.load_wine()\n",
    "X = wine['data']\n",
    "y = wine['target']\n",
    "\n",
    "def standard_scaler(X):\n",
    "    mean = X.mean(0)\n",
    "    sd = X.std(0)\n",
    "    return (X - mean)/sd \n",
    "\n",
    "\n",
    "X = standard_scaler(X) \n",
    "X_train = np.c_[np.ones(X.shape[0]), X]\n",
    "y_train = get_one_hot(y, len(np.unique(y)))\n",
    "\n",
    "X_train.shape, y_train.shape\n"
   ]
  },
  {
   "cell_type": "code",
   "execution_count": 208,
   "metadata": {},
   "outputs": [
    {
     "name": "stdout",
     "output_type": "stream",
     "text": [
      "Training Loss:  260.46080992895486\n",
      "Training Loss:  15.838267937540607\n",
      "Training Loss:  8.715520814101755\n",
      "Training Loss:  6.306106319340954\n",
      "Training Loss:  5.075937135429375\n",
      "Training Loss:  4.31303185922459\n",
      "Training Loss:  3.784265582397425\n",
      "Training Loss:  3.390906195007256\n",
      "Training Loss:  3.083787835597212\n",
      "Training Loss:  2.8355182056018737\n",
      "Training Loss:  2.6295229311946007\n",
      "Training Loss:  2.455119898758925\n",
      "Training Loss:  2.305073972744593\n",
      "Training Loss:  2.1742849656322543\n",
      "Training Loss:  2.059038084789897\n",
      "Training Loss:  1.956552985103311\n",
      "Training Loss:  1.8647004491204298\n",
      "Training Loss:  1.781817709370373\n",
      "Training Loss:  1.7065842047422246\n",
      "Training Loss:  1.637935674324483\n",
      "accuracy: 1.0\n"
     ]
    }
   ],
   "source": [
    "lcl = MultiLogistic(lr=0.001)\n",
    "\n",
    "lcl.fit(X_train, y_train)\n",
    "\n",
    "lcl.predict(X_train, y)\n"
   ]
  },
  {
   "cell_type": "markdown",
   "metadata": {},
   "source": [
    "# 3. One-vs-Rest"
   ]
  },
  {
   "cell_type": "code",
   "execution_count": 228,
   "metadata": {},
   "outputs": [
    {
     "data": {
      "text/plain": [
       "((100, 2), (100,))"
      ]
     },
     "execution_count": 228,
     "metadata": {},
     "output_type": "execute_result"
    },
    {
     "data": {
      "image/png": "[encoded data removed]",
      "text/plain": [
       "<Figure size 432x288 with 1 Axes>"
      ]
     },
     "metadata": {
      "needs_background": "light"
     },
     "output_type": "display_data"
    }
   ],
   "source": [
    "from sklearn.datasets import make_blobs\n",
    "import numpy as np\n",
    "import matplotlib.pyplot as plt\n",
    "\n",
    "X, y = make_blobs(random_state=42)\n",
    "\n",
    "color=['b', 'g', 'r']\n",
    "for i in range(3):\n",
    "    X_c = X[y==i]\n",
    "    plt.scatter(X_c[:,:1], X_c[:,1:], label='class '+str(i), c=color[i])\n",
    "plt.legend()\n",
    "\n",
    "X.shape, y.shape\n"
   ]
  },
  {
   "cell_type": "code",
   "execution_count": 229,
   "metadata": {},
   "outputs": [],
   "source": [
    "X_new = np.c_[np.ones(len(X)), X]\n",
    "\n",
    "y0 = np.ones(len(X_new))\n",
    "y0[y!=0] = 0\n",
    "\n",
    "y1 = np.ones(len(X_new))\n",
    "y1[y!=1] = 0\n",
    "\n",
    "y2 = np.ones(len(X_new))\n",
    "y2[y!=2] = 0\n"
   ]
  },
  {
   "cell_type": "code",
   "execution_count": 230,
   "metadata": {},
   "outputs": [
    {
     "data": {
      "text/plain": [
       "array([[-0.52565904, -0.26148419,  0.45981176],\n",
       "       [-1.49698112,  1.74919947,  0.24014411],\n",
       "       [-0.6513969 , -0.39349822, -0.45669994]])"
      ]
     },
     "execution_count": 230,
     "metadata": {},
     "output_type": "execute_result"
    }
   ],
   "source": [
    "theta = np.empty((0, 3))\n",
    "oneVsAllModels = []\n",
    "\n",
    "for yi in [y0, y1, y2]:\n",
    "    binary_model = BinaryLogistic()\n",
    "    binary_model.fit(X_new, yi)\n",
    "    theta = np.vstack([theta, binary_model.theta_hat])\n",
    "    oneVsAllModels.append(binary_model)\n",
    "\n",
    "theta"
   ]
  },
  {
   "cell_type": "code",
   "execution_count": 231,
   "metadata": {},
   "outputs": [
    {
     "data": {
      "text/plain": [
       "<matplotlib.legend.Legend at 0x7f7fa6a3c1c0>"
      ]
     },
     "execution_count": 231,
     "metadata": {},
     "output_type": "execute_result"
    },
    {
     "data": {
      "image/png": "[encoded data removed]",
      "text/plain": [
       "<Figure size 432x288 with 1 Axes>"
      ]
     },
     "metadata": {
      "needs_background": "light"
     },
     "output_type": "display_data"
    }
   ],
   "source": [
    "line = np.linspace(-10,10)\n",
    "\n",
    "color=['b', 'g', 'r']\n",
    "for i in range(3):\n",
    "    X_c = X[y==i]\n",
    "    plt.scatter(X_c[:,:1], X_c[:,1:], label='class '+str(i), c=color[i])\n",
    "\n",
    "for i in range(3):\n",
    "    intercept, a, b = theta[i]\n",
    "    plt.plot(line, -(line * a + intercept) / b, c=color[i])\n",
    "\n",
    "plt.ylim(-10, 15)\n",
    "plt.legend()\n"
   ]
  },
  {
   "cell_type": "code",
   "execution_count": 232,
   "metadata": {},
   "outputs": [
    {
     "data": {
      "text/plain": [
       "array([0, 1])"
      ]
     },
     "execution_count": 232,
     "metadata": {},
     "output_type": "execute_result"
    }
   ],
   "source": [
    "def max_vote(X_test):\n",
    "    prob = []\n",
    "    for model in oneVsAllModels:\n",
    "        prob.append(model.predict_prob(X_test))\n",
    "    return np.argmax(prob, axis=0)\n",
    "\n",
    "max_vote([[1, -5.0 , 5], [1, 5.0 , 5]])\n"
   ]
  },
  {
   "cell_type": "code",
   "execution_count": 233,
   "metadata": {},
   "outputs": [
    {
     "data": {
      "text/plain": [
       "<matplotlib.legend.Legend at 0x7f7fa57650d0>"
      ]
     },
     "execution_count": 233,
     "metadata": {},
     "output_type": "execute_result"
    },
    {
     "data": {
      "image/png": "[encoded data removed]",
      "text/plain": [
       "<Figure size 432x288 with 1 Axes>"
      ]
     },
     "metadata": {
      "needs_background": "light"
     },
     "output_type": "display_data"
    }
   ],
   "source": [
    "from matplotlib.colors import ListedColormap\n",
    "\n",
    "axes=[-10, 12, -10, 12]\n",
    "x1s = np.linspace(axes[0], axes[1], 100)\n",
    "x2s = np.linspace(axes[2], axes[3], 100)\n",
    "x1, x2 = np.meshgrid(x1s, x2s)\n",
    "X_new = np.c_[np.ones(len(x1.ravel())), x1.ravel(), x2.ravel()]\n",
    "\n",
    "y_pred = max_vote(X_new).reshape(x1.shape)\n",
    "\n",
    "color=['b', 'g', 'r']\n",
    "custom_cmap = ListedColormap(color)\n",
    "plt.contourf(x1, x2, y_pred, alpha=0.3, cmap=custom_cmap)\n",
    "\n",
    "for i in range(3):\n",
    "    X_c = X[y==i]\n",
    "    plt.scatter(X_c[:,:1], X_c[:,1:], label='class '+str(i), c=color[i])\n",
    "\n",
    "line = np.linspace(-10,12)\n",
    "for i in range(3):\n",
    "    intercept, a, b = theta[i]\n",
    "    plt.plot(line, -(line * a + intercept) / b, c=color[i])\n",
    "\n",
    "plt.ylim(-10, 12)\n",
    "plt.legend()"
   ]
  },
  {
   "cell_type": "code",
   "execution_count": null,
   "metadata": {},
   "outputs": [],
   "source": []
  }
 ],
 "metadata": {
  "kernelspec": {
   "display_name": "Python 3",
   "language": "python",
   "name": "python3"
  },
  "language_info": {
   "codemirror_mode": {
    "name": "ipython",
    "version": 3
   },
   "file_extension": ".py",
   "mimetype": "text/x-python",
   "name": "python",
   "nbconvert_exporter": "python",
   "pygments_lexer": "ipython3",
   "version": "3.8.3"
  }
 },
 "nbformat": 4,
 "nbformat_minor": 4
}

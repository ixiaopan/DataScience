{
 "cells": [
  {
   "cell_type": "code",
   "execution_count": 84,
   "metadata": {},
   "outputs": [
    {
     "name": "stdout",
     "output_type": "stream",
     "text": [
      "0.23.1\n"
     ]
    }
   ],
   "source": [
    "import numpy as np\n",
    "import pandas as pd\n",
    "import sklearn\n",
    "\n",
    "print(sklearn.__version__)"
   ]
  },
  {
   "cell_type": "markdown",
   "metadata": {},
   "source": [
    "## Voting Ensemble"
   ]
  },
  {
   "cell_type": "markdown",
   "metadata": {},
   "source": [
    "Voting can be implemented by VotingRegressor and Voting Classifier provided by Sklearn. They accept a list of base models as a parameter 'estimators', which is a list of tuples with the name of a model and the model instance. For classification, 'voting' argument can also be defined to specify which voting type(hard or soft) will be used.\n",
    "\n",
    "```\n",
    "models = [ ('lr', LogisticRegression()), ('SVM', SVC()) ]\n",
    "ensemble = VotingClassifier(estimators=models)\n",
    "\n",
    "models = [ ('tree', DecisionTree()), ('linear_regression', LinearRegression()) ]\n",
    "ensemble = VotingRegressor(estimators=models)\n",
    "```\n"
   ]
  },
  {
   "cell_type": "markdown",
   "metadata": {},
   "source": [
    "## Hard Vote"
   ]
  },
  {
   "cell_type": "code",
   "execution_count": 85,
   "metadata": {},
   "outputs": [],
   "source": [
    "from numpy import mean\n",
    "from numpy import std\n",
    "\n",
    "from sklearn.datasets import make_classification\n",
    "from sklearn.model_selection import cross_val_score\n",
    "from sklearn.model_selection import train_test_split, StratifiedKFold\n",
    "from sklearn.neighbors import KNeighborsClassifier\n",
    "from sklearn.ensemble import VotingClassifier\n",
    "\n",
    "import matplotlib.pyplot as plt\n"
   ]
  },
  {
   "cell_type": "markdown",
   "metadata": {},
   "source": [
    "create synthetic data by sklearn\n"
   ]
  },
  {
   "cell_type": "code",
   "execution_count": 86,
   "metadata": {},
   "outputs": [],
   "source": [
    "\n",
    "def get_data():\n",
    "    X, y = make_classification(n_samples=2000, n_features=20, n_informative=15, n_redundant=5, random_state=2)\n",
    "    return X, y\n"
   ]
  },
  {
   "cell_type": "code",
   "execution_count": 87,
   "metadata": {},
   "outputs": [
    {
     "data": {
      "text/plain": [
       "((2000, 20), (2000,))"
      ]
     },
     "execution_count": 87,
     "metadata": {},
     "output_type": "execute_result"
    }
   ],
   "source": [
    "X, y = get_data()\n",
    "\n",
    "X.shape, y.shape\n"
   ]
  },
  {
   "cell_type": "markdown",
   "metadata": {},
   "source": [
    "\n",
    "We use KNN with different paramters as our base models.\n"
   ]
  },
  {
   "cell_type": "code",
   "execution_count": 88,
   "metadata": {},
   "outputs": [],
   "source": [
    "def get_ensemble():\n",
    "    models = []\n",
    "    \n",
    "    for n in [1, 3, 5, 7, 9]:\n",
    "        knn_i = KNeighborsClassifier(n_neighbors=n)\n",
    "        models.append(('knn_' + str(n), knn_i))\n",
    "\n",
    "    ensemble_model = VotingClassifier(estimators=models, voting='hard')\n",
    "    \n",
    "    return ensemble_model\n",
    "    \n",
    "def get_compared_models():\n",
    "    models = []\n",
    "    for n in [1, 3, 5, 7, 9]:\n",
    "        knn_i = KNeighborsClassifier(n_neighbors=n)\n",
    "        models.append(('knn_' + str(n), knn_i))\n",
    "    models.append(('ensemble', get_ensemble()))\n",
    "    return models\n",
    "        \n",
    "    "
   ]
  },
  {
   "cell_type": "markdown",
   "metadata": {},
   "source": [
    "evaluate model by cross-validation"
   ]
  },
  {
   "cell_type": "code",
   "execution_count": 89,
   "metadata": {},
   "outputs": [],
   "source": [
    "def evaluate(model, X, y):\n",
    "    cv = StratifiedKFold(n_splits=10, shuffle=True, random_state=1)\n",
    "    scores = cross_val_score(model, X, y, scoring='accuracy', cv=cv, n_jobs=-1, error_score='raise')\n",
    "    return scores\n"
   ]
  },
  {
   "cell_type": "markdown",
   "metadata": {},
   "source": [
    "train the models\n"
   ]
  },
  {
   "cell_type": "code",
   "execution_count": 90,
   "metadata": {},
   "outputs": [
    {
     "name": "stdout",
     "output_type": "stream",
     "text": [
      "knn_1 0.8985\n",
      "knn_3 0.9244999999999999\n",
      "knn_5 0.93\n",
      "knn_7 0.9330000000000002\n",
      "knn_9 0.9279999999999999\n",
      "ensemble 0.9355\n"
     ]
    }
   ],
   "source": [
    "models = get_compared_models()\n",
    "results, names = [], []\n",
    "for name, model in models:\n",
    "    scores = evaluate(model, X, y)\n",
    "    results.append(scores)\n",
    "    names.append(name)\n",
    "    print(name, mean(scores))\n"
   ]
  },
  {
   "cell_type": "code",
   "execution_count": 91,
   "metadata": {},
   "outputs": [
    {
     "data": {
      "image/png": "[encoded data removed]",
      "text/plain": [
       "<Figure size 432x288 with 1 Axes>"
      ]
     },
     "metadata": {
      "needs_background": "light"
     },
     "output_type": "display_data"
    }
   ],
   "source": [
    "plt.boxplot(results, labels=names, showmeans=True)\n",
    "\n",
    "plt.show()\n"
   ]
  },
  {
   "cell_type": "markdown",
   "metadata": {},
   "source": [
    "## Regression"
   ]
  },
  {
   "cell_type": "code",
   "execution_count": 92,
   "metadata": {},
   "outputs": [],
   "source": [
    "from sklearn.datasets import make_regression\n",
    "from sklearn.tree import DecisionTreeRegressor\n",
    "from sklearn.ensemble import VotingRegressor\n"
   ]
  },
  {
   "cell_type": "code",
   "execution_count": 93,
   "metadata": {},
   "outputs": [
    {
     "data": {
      "text/plain": [
       "((2000, 20), (2000,))"
      ]
     },
     "execution_count": 93,
     "metadata": {},
     "output_type": "execute_result"
    }
   ],
   "source": [
    "\n",
    "X_r, y_r = make_regression(n_samples=2000, n_features=20, n_informative=15, noise=0.1, random_state=42)\n",
    "\n",
    "X_r.shape, y_r.shape\n"
   ]
  },
  {
   "cell_type": "markdown",
   "metadata": {},
   "source": [
    "we will use decision tree with different depths as our base models\n"
   ]
  },
  {
   "cell_type": "code",
   "execution_count": 94,
   "metadata": {},
   "outputs": [],
   "source": [
    "\n",
    "def get_regression_ensemble():\n",
    "    models = []\n",
    "    \n",
    "    for n in range(1, 6):\n",
    "        dt_i = DecisionTreeRegressor(max_depth=n)\n",
    "        models.append(('tree_' + str(n), dt_i))\n",
    "\n",
    "    ensemble_model = VotingRegressor(estimators=models)\n",
    "    \n",
    "    return ensemble_model\n",
    "  \n",
    "def get_compared_regression_models():\n",
    "    models = []\n",
    "    \n",
    "    for n in range(1, 6):\n",
    "        dt_i = DecisionTreeRegressor(max_depth=n)\n",
    "        models.append(('tree_' + str(n), dt_i))\n",
    "\n",
    "    models.append(('ensemble', get_regression_ensemble()))\n",
    "\n",
    "    return models\n",
    "    "
   ]
  },
  {
   "cell_type": "markdown",
   "metadata": {},
   "source": [
    "evaluate the models\n"
   ]
  },
  {
   "cell_type": "code",
   "execution_count": 95,
   "metadata": {},
   "outputs": [],
   "source": [
    "def evaluate_regression(model, X, y):\n",
    "    cv = StratifiedKFold(n_splits=10)\n",
    "\n",
    "    scores = cross_val_score(model, X, y, scoring='neg_mean_squared_error', cv=cv)\n",
    "    \n",
    "    return scores\n"
   ]
  },
  {
   "cell_type": "markdown",
   "metadata": {},
   "source": [
    "train models\n"
   ]
  },
  {
   "cell_type": "code",
   "execution_count": 96,
   "metadata": {},
   "outputs": [
    {
     "name": "stdout",
     "output_type": "stream",
     "text": [
      "tree_1 -0.21406525446978986\n",
      "tree_2 -0.17147639005515655\n",
      "tree_3 -0.17239744615405236\n",
      "tree_4 -0.16389575818137037\n",
      "tree_5 -0.16042964994271697\n",
      "ensemble -0.15730821526468367\n"
     ]
    }
   ],
   "source": [
    "models = get_compared_regression_models()\n",
    "\n",
    "results, names = [], []\n",
    "for name, model in models:\n",
    "    scores = evaluate_regression(model, X, y)\n",
    "    results.append(scores)\n",
    "    names.append(name)\n",
    "    print(name, mean(scores))\n"
   ]
  },
  {
   "cell_type": "code",
   "execution_count": 97,
   "metadata": {},
   "outputs": [
    {
     "data": {
      "image/png": "[encoded data removed]",
      "text/plain": [
       "<Figure size 432x288 with 1 Axes>"
      ]
     },
     "metadata": {
      "needs_background": "light"
     },
     "output_type": "display_data"
    }
   ],
   "source": [
    "plt.boxplot(results, labels=names, showmeans=True)\n",
    "\n",
    "plt.show()\n"
   ]
  },
  {
   "cell_type": "markdown",
   "metadata": {},
   "source": [
    "## AdaBoost\n"
   ]
  },
  {
   "cell_type": "code",
   "execution_count": null,
   "metadata": {},
   "outputs": [],
   "source": [
    "## Loss Functions\n",
    "def get_weighted_pmk(y, weights):\n",
    "    ks = np.unique(y)\n",
    "    weighted_pmk = [sum(weights[y == k]) for k in ks]      \n",
    "    return(np.array(weighted_pmk)/sum(weights))\n",
    "\n",
    "def gini_index(y, weights):\n",
    "    weighted_pmk = get_weighted_pmk(y, weights)\n",
    "    return np.sum( weighted_pmk*(1-weighted_pmk) )\n",
    "\n",
    "def cross_entropy(y, weights):\n",
    "    weighted_pmk = get_weighted_pmk(y, weights)    \n",
    "    return -np.sum(weighted_pmk*np.log2(weighted_pmk))\n",
    "\n",
    "def split_loss(child1, child2, weights1, weights2, loss = cross_entropy):\n",
    "    return (len(child1)*loss(child1, weights1) + len(child2)*loss(child2, weights2))/(len(child1) + len(child2))\n",
    " \n",
    "\n",
    "class AdaBoost:    \n",
    "    def fit(self, X_train, y_train, T, stub_depth = 1):\n",
    "        self.y_train = y_train\n",
    "        self.X_train = X_train\n",
    "        self.N, self.D = X_train.shape\n",
    "        self.T = T\n",
    "        self.stub_depth = stub_depth\n",
    "        \n",
    "        ## Instantiate stuff\n",
    "        self.weights = np.repeat(1/self.N, self.N)\n",
    "        self.trees = []\n",
    "        self.alphas = []\n",
    "        self.yhats = np.empty((self.N, self.T))\n",
    "        \n",
    "        for t in range(self.T):\n",
    "            ## Calculate stuff\n",
    "            self.T_t = DecisionTreeClassifier()\n",
    "            self.T_t.fit(self.X_train, self.y_train, self.weights, max_depth = self.stub_depth)\n",
    "            self.yhat_t = self.T_t.predict(self.X_train)\n",
    "            \n",
    "            # Weighted error rate of the M predictor\n",
    "            self.epsilon_t = sum(self.weights*(self.yhat_t != self.y_train))/sum(self.weights)\n",
    "            # predictor weight\n",
    "            self.alpha_t = np.log( (1-self.epsilon_t)/self.epsilon_t )\n",
    "            # update sampe weight: if classify correctly, w; else w*exp(\\alpha)\n",
    "            self.weights = np.array([w*(1-self.epsilon_t)/self.epsilon_t if self.yhat_t[i] != self.y_train[i]\n",
    "                                    else w for i, w in enumerate(self.weights)])\n",
    "            # TODO: normalize w to ensure the sum of w is 1\n",
    "\n",
    "            ## Append stuff\n",
    "            self.trees.append(self.T_t)\n",
    "            self.alphas.append(self.alpha_t)\n",
    "            self.yhats[:,t] = self.yhat_t \n",
    "            \n",
    "        self.yhat = np.sign(np.dot(self.yhats, self.alphas))\n",
    "        \n",
    "    def predict(self, X_test):\n",
    "        yhats = np.zeros(len(X_test))\n",
    "        for t, tree in enumerate(self.trees):\n",
    "            yhats_tree = tree.predict(X_test)\n",
    "            yhats += yhats_tree*self.alphas[t]\n",
    "        return np.sign(yhats)\n"
   ]
  },
  {
   "cell_type": "code",
   "execution_count": 227,
   "metadata": {},
   "outputs": [
    {
     "data": {
      "text/html": [
       "<div>\n",
       "<style scoped>\n",
       "    .dataframe tbody tr th:only-of-type {\n",
       "        vertical-align: middle;\n",
       "    }\n",
       "\n",
       "    .dataframe tbody tr th {\n",
       "        vertical-align: top;\n",
       "    }\n",
       "\n",
       "    .dataframe thead th {\n",
       "        text-align: right;\n",
       "    }\n",
       "</style>\n",
       "<table border=\"1\" class=\"dataframe\">\n",
       "  <thead>\n",
       "    <tr style=\"text-align: right;\">\n",
       "      <th></th>\n",
       "      <th>chest_pain</th>\n",
       "      <th>blocked_arteries</th>\n",
       "      <th>weight</th>\n",
       "      <th>heart_disease</th>\n",
       "      <th>weights</th>\n",
       "    </tr>\n",
       "  </thead>\n",
       "  <tbody>\n",
       "    <tr>\n",
       "      <th>0</th>\n",
       "      <td>1</td>\n",
       "      <td>1</td>\n",
       "      <td>205</td>\n",
       "      <td>1</td>\n",
       "      <td>0.125</td>\n",
       "    </tr>\n",
       "    <tr>\n",
       "      <th>1</th>\n",
       "      <td>0</td>\n",
       "      <td>1</td>\n",
       "      <td>180</td>\n",
       "      <td>1</td>\n",
       "      <td>0.125</td>\n",
       "    </tr>\n",
       "    <tr>\n",
       "      <th>2</th>\n",
       "      <td>1</td>\n",
       "      <td>0</td>\n",
       "      <td>210</td>\n",
       "      <td>1</td>\n",
       "      <td>0.125</td>\n",
       "    </tr>\n",
       "    <tr>\n",
       "      <th>3</th>\n",
       "      <td>1</td>\n",
       "      <td>1</td>\n",
       "      <td>167</td>\n",
       "      <td>1</td>\n",
       "      <td>0.125</td>\n",
       "    </tr>\n",
       "    <tr>\n",
       "      <th>4</th>\n",
       "      <td>0</td>\n",
       "      <td>1</td>\n",
       "      <td>156</td>\n",
       "      <td>0</td>\n",
       "      <td>0.125</td>\n",
       "    </tr>\n",
       "    <tr>\n",
       "      <th>5</th>\n",
       "      <td>0</td>\n",
       "      <td>1</td>\n",
       "      <td>125</td>\n",
       "      <td>0</td>\n",
       "      <td>0.125</td>\n",
       "    </tr>\n",
       "    <tr>\n",
       "      <th>6</th>\n",
       "      <td>1</td>\n",
       "      <td>0</td>\n",
       "      <td>168</td>\n",
       "      <td>0</td>\n",
       "      <td>0.125</td>\n",
       "    </tr>\n",
       "    <tr>\n",
       "      <th>7</th>\n",
       "      <td>1</td>\n",
       "      <td>1</td>\n",
       "      <td>172</td>\n",
       "      <td>0</td>\n",
       "      <td>0.125</td>\n",
       "    </tr>\n",
       "  </tbody>\n",
       "</table>\n",
       "</div>"
      ],
      "text/plain": [
       "   chest_pain  blocked_arteries  weight  heart_disease  weights\n",
       "0           1                 1     205              1    0.125\n",
       "1           0                 1     180              1    0.125\n",
       "2           1                 0     210              1    0.125\n",
       "3           1                 1     167              1    0.125\n",
       "4           0                 1     156              0    0.125\n",
       "5           0                 1     125              0    0.125\n",
       "6           1                 0     168              0    0.125\n",
       "7           1                 1     172              0    0.125"
      ]
     },
     "execution_count": 227,
     "metadata": {},
     "output_type": "execute_result"
    }
   ],
   "source": [
    "\n",
    "\n",
    "data = {\n",
    "    \"chest_pain\": ['Yes', 'No', 'Yes', 'Yes', 'No', 'No', 'Yes', 'Yes'],\n",
    "    \"blocked_arteries\": ['Yes', 'Yes', 'No', 'Yes', 'Yes', 'Yes', 'No', 'Yes'],\n",
    "    \"weight\": [205, 180, 210, 167, 156, 125, 168, 172],\n",
    "    \"heart_disease\": ['Yes', 'Yes', 'Yes', 'Yes','No','No', 'No', 'No']\n",
    "}\n",
    "\n",
    "df = pd.DataFrame(data)\n",
    "\n",
    "df = df.replace(['Yes', 'No'], [1, 0])\n",
    "\n",
    "df['weights'] = 1/8\n",
    "\n",
    "df\n"
   ]
  },
  {
   "cell_type": "code",
   "execution_count": 228,
   "metadata": {},
   "outputs": [
    {
     "data": {
      "image/png": "[encoded data removed]",
      "text/plain": [
       "<Figure size 432x288 with 1 Axes>"
      ]
     },
     "metadata": {
      "needs_background": "light"
     },
     "output_type": "display_data"
    }
   ],
   "source": [
    "from sklearn import tree\n",
    "\n",
    "X = df.drop(['heart_disease', 'weights'], axis=1)\n",
    "y = df['heart_disease']\n",
    "\n",
    "clf = tree.DecisionTreeClassifier(max_depth=1) \n",
    "clf = clf.fit(X, y)\n",
    "\n",
    "tree.plot_tree(clf.fit(X, y))\n",
    "plt.show()\n"
   ]
  },
  {
   "cell_type": "code",
   "execution_count": 229,
   "metadata": {},
   "outputs": [],
   "source": [
    "def cal_alpha(error):\n",
    "    return 0.5*np.log((1 - error)/error)\n"
   ]
  },
  {
   "cell_type": "code",
   "execution_count": 230,
   "metadata": {},
   "outputs": [
    {
     "name": "stdout",
     "output_type": "stream",
     "text": [
      "0.9729550745276566\n"
     ]
    },
    {
     "data": {
      "text/html": [
       "<div>\n",
       "<style scoped>\n",
       "    .dataframe tbody tr th:only-of-type {\n",
       "        vertical-align: middle;\n",
       "    }\n",
       "\n",
       "    .dataframe tbody tr th {\n",
       "        vertical-align: top;\n",
       "    }\n",
       "\n",
       "    .dataframe thead th {\n",
       "        text-align: right;\n",
       "    }\n",
       "</style>\n",
       "<table border=\"1\" class=\"dataframe\">\n",
       "  <thead>\n",
       "    <tr style=\"text-align: right;\">\n",
       "      <th></th>\n",
       "      <th>chest_pain</th>\n",
       "      <th>blocked_arteries</th>\n",
       "      <th>weight</th>\n",
       "      <th>heart_disease</th>\n",
       "      <th>weights</th>\n",
       "    </tr>\n",
       "  </thead>\n",
       "  <tbody>\n",
       "    <tr>\n",
       "      <th>0</th>\n",
       "      <td>1</td>\n",
       "      <td>1</td>\n",
       "      <td>205</td>\n",
       "      <td>1</td>\n",
       "      <td>0.047246</td>\n",
       "    </tr>\n",
       "    <tr>\n",
       "      <th>1</th>\n",
       "      <td>0</td>\n",
       "      <td>1</td>\n",
       "      <td>180</td>\n",
       "      <td>1</td>\n",
       "      <td>0.047246</td>\n",
       "    </tr>\n",
       "    <tr>\n",
       "      <th>2</th>\n",
       "      <td>1</td>\n",
       "      <td>0</td>\n",
       "      <td>210</td>\n",
       "      <td>1</td>\n",
       "      <td>0.047246</td>\n",
       "    </tr>\n",
       "    <tr>\n",
       "      <th>3</th>\n",
       "      <td>1</td>\n",
       "      <td>1</td>\n",
       "      <td>167</td>\n",
       "      <td>1</td>\n",
       "      <td>0.330719</td>\n",
       "    </tr>\n",
       "    <tr>\n",
       "      <th>4</th>\n",
       "      <td>0</td>\n",
       "      <td>1</td>\n",
       "      <td>156</td>\n",
       "      <td>0</td>\n",
       "      <td>0.047246</td>\n",
       "    </tr>\n",
       "    <tr>\n",
       "      <th>5</th>\n",
       "      <td>0</td>\n",
       "      <td>1</td>\n",
       "      <td>125</td>\n",
       "      <td>0</td>\n",
       "      <td>0.047246</td>\n",
       "    </tr>\n",
       "    <tr>\n",
       "      <th>6</th>\n",
       "      <td>1</td>\n",
       "      <td>0</td>\n",
       "      <td>168</td>\n",
       "      <td>0</td>\n",
       "      <td>0.047246</td>\n",
       "    </tr>\n",
       "    <tr>\n",
       "      <th>7</th>\n",
       "      <td>1</td>\n",
       "      <td>1</td>\n",
       "      <td>172</td>\n",
       "      <td>0</td>\n",
       "      <td>0.047246</td>\n",
       "    </tr>\n",
       "  </tbody>\n",
       "</table>\n",
       "</div>"
      ],
      "text/plain": [
       "   chest_pain  blocked_arteries  weight  heart_disease   weights\n",
       "0           1                 1     205              1  0.047246\n",
       "1           0                 1     180              1  0.047246\n",
       "2           1                 0     210              1  0.047246\n",
       "3           1                 1     167              1  0.330719\n",
       "4           0                 1     156              0  0.047246\n",
       "5           0                 1     125              0  0.047246\n",
       "6           1                 0     168              0  0.047246\n",
       "7           1                 1     172              0  0.047246"
      ]
     },
     "execution_count": 230,
     "metadata": {},
     "output_type": "execute_result"
    }
   ],
   "source": [
    "alpha_1 = cal_alpha(1/8)\n",
    "\n",
    "correct_samples = df[clf.predict(X) == y]\n",
    "df.loc[clf.predict(X) == y, 'weights'] = correct_samples['weights'] * np.exp(-alpha_1)\n",
    "\n",
    "misclassified_samples = df[clf.predict(X) != y]\n",
    "df.loc[clf.predict(X) != y, 'weights'] = misclassified_samples['weights'] * np.exp(alpha_1)\n",
    "\n",
    "print(alpha_1)\n",
    "\n",
    "df\n"
   ]
  },
  {
   "cell_type": "code",
   "execution_count": 231,
   "metadata": {},
   "outputs": [
    {
     "data": {
      "text/plain": [
       "0    0.071429\n",
       "1    0.071429\n",
       "2    0.071429\n",
       "3    0.500000\n",
       "4    0.071429\n",
       "5    0.071429\n",
       "6    0.071429\n",
       "7    0.071429\n",
       "Name: weights, dtype: float64"
      ]
     },
     "execution_count": 231,
     "metadata": {},
     "output_type": "execute_result"
    }
   ],
   "source": [
    "df['weights']/df['weights'].sum()\n"
   ]
  },
  {
   "cell_type": "code",
   "execution_count": null,
   "metadata": {},
   "outputs": [],
   "source": []
  }
 ],
 "metadata": {
  "kernelspec": {
   "display_name": "Python 3",
   "language": "python",
   "name": "python3"
  },
  "language_info": {
   "codemirror_mode": {
    "name": "ipython",
    "version": 3
   },
   "file_extension": ".py",
   "mimetype": "text/x-python",
   "name": "python",
   "nbconvert_exporter": "python",
   "pygments_lexer": "ipython3",
   "version": "3.8.3"
  }
 },
 "nbformat": 4,
 "nbformat_minor": 4
}

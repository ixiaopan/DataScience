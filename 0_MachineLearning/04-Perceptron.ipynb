{
 "cells": [
  {
   "cell_type": "code",
   "execution_count": 174,
   "metadata": {},
   "outputs": [],
   "source": [
    "import numpy as np\n",
    "import pandas as pd\n",
    "import matplotlib.pyplot as plt\n",
    "from sklearn import datasets\n"
   ]
  },
  {
   "cell_type": "code",
   "execution_count": 175,
   "metadata": {},
   "outputs": [],
   "source": [
    "\n",
    "def sign(t):\n",
    "    return (-1)**(t < 0)\n",
    "\n",
    "\n",
    "\n",
    "def Perceptron(X, y, ln=0.001, iters=1000):    \n",
    "    theta = np.random.randn(len(X[0]))\n",
    "\n",
    "    for i in range(iters):\n",
    "        y_predicted = sign(X @ theta)\n",
    "\n",
    "        # converge, all points are classified correctly\n",
    "        if np.all(y == y_predicted):\n",
    "            print('break')\n",
    "            break\n",
    "        \n",
    "        for i in range(len(X)):\n",
    "            if (y[i] * sign(X[i] @ theta)) < 0:\n",
    "                theta += ln * y[i] * X[i]\n",
    "\n",
    "    return theta\n"
   ]
  },
  {
   "cell_type": "code",
   "execution_count": 176,
   "metadata": {},
   "outputs": [
    {
     "name": "stdout",
     "output_type": "stream",
     "text": [
      "break\n"
     ]
    },
    {
     "data": {
      "text/plain": [
       "array([-0.6375746 ,  0.63875947,  0.93325438])"
      ]
     },
     "execution_count": 176,
     "metadata": {},
     "output_type": "execute_result"
    },
    {
     "data": {
      "image/png": "[encoded data removed]",
      "text/plain": [
       "<Figure size 432x288 with 1 Axes>"
      ]
     },
     "metadata": {
      "needs_background": "light"
     },
     "output_type": "display_data"
    }
   ],
   "source": [
    "# OR Function\n",
    "X = np.array([\n",
    "    [0, 0],\n",
    "    [1, 0],\n",
    "    [0, 1],\n",
    "    [1, 1]\n",
    "])\n",
    "y = np.array([-1, 1, 1, 1])\n",
    "\n",
    "theta_hat = Perceptron(np.c_[np.ones(len(X)), X], y)\n",
    "\n",
    "# plot\n",
    "fig, ax = plt.subplots()\n",
    "ax.scatter(X[:, 0], X[:, 1])\n",
    "x = np.linspace(-1, 2, 100)\n",
    "y = -(theta_hat[0] + theta_hat[1] * x)/theta_hat[1]\n",
    "ax.plot(x, y, c='r')\n",
    "\n",
    "theta_hat"
   ]
  },
  {
   "cell_type": "code",
   "execution_count": 177,
   "metadata": {},
   "outputs": [],
   "source": [
    "# load data\n",
    "cancer = datasets.load_breast_cancer()\n",
    "X = cancer['data']\n",
    "y = cancer['target']\n"
   ]
  },
  {
   "cell_type": "code",
   "execution_count": 178,
   "metadata": {},
   "outputs": [
    {
     "data": {
      "text/plain": [
       "array([[  17.99    ,   10.38    ,  122.8     , 1001.      ,    0.1184  ,\n",
       "           0.2776  ,    0.3001  ,    0.1471  ,    0.2419  ,    0.07871 ,\n",
       "           1.095   ,    0.9053  ,    8.589   ,  153.4     ,    0.006399,\n",
       "           0.04904 ,    0.05373 ,    0.01587 ,    0.03003 ,    0.006193,\n",
       "          25.38    ,   17.33    ,  184.6     , 2019.      ,    0.1622  ,\n",
       "           0.6656  ,    0.7119  ,    0.2654  ,    0.4601  ,    0.1189  ],\n",
       "       [  20.57    ,   17.77    ,  132.9     , 1326.      ,    0.08474 ,\n",
       "           0.07864 ,    0.0869  ,    0.07017 ,    0.1812  ,    0.05667 ,\n",
       "           0.5435  ,    0.7339  ,    3.398   ,   74.08    ,    0.005225,\n",
       "           0.01308 ,    0.0186  ,    0.0134  ,    0.01389 ,    0.003532,\n",
       "          24.99    ,   23.41    ,  158.8     , 1956.      ,    0.1238  ,\n",
       "           0.1866  ,    0.2416  ,    0.186   ,    0.275   ,    0.08902 ]])"
      ]
     },
     "execution_count": 178,
     "metadata": {},
     "output_type": "execute_result"
    }
   ],
   "source": [
    "X[:2]"
   ]
  },
  {
   "cell_type": "code",
   "execution_count": 179,
   "metadata": {},
   "outputs": [
    {
     "data": {
      "text/plain": [
       "array([0, 1])"
      ]
     },
     "execution_count": 179,
     "metadata": {},
     "output_type": "execute_result"
    }
   ],
   "source": [
    "np.unique(y)"
   ]
  },
  {
   "cell_type": "code",
   "execution_count": 180,
   "metadata": {},
   "outputs": [
    {
     "data": {
      "text/plain": [
       "0.984182776801406"
      ]
     },
     "execution_count": 180,
     "metadata": {},
     "output_type": "execute_result"
    }
   ],
   "source": [
    "def standard_scaler(X):\n",
    "    mean = X.mean(0)\n",
    "    sd = X.std(0)\n",
    "    return (X - mean)/sd\n",
    "\n",
    "X = standard_scaler(X)\n",
    "intercept_X = np.c_[np.ones(len(X)), X]\n",
    "y[ y == 0 ] = -1\n",
    "\n",
    "theta_hat = Perceptron(intercept_X, y)\n",
    "\n",
    "# accuracy\n",
    "np.mean(sign(intercept_X @ theta_hat) == y)\n"
   ]
  },
  {
   "cell_type": "code",
   "execution_count": null,
   "metadata": {},
   "outputs": [],
   "source": []
  }
 ],
 "metadata": {
  "kernelspec": {
   "display_name": "Python 3",
   "language": "python",
   "name": "python3"
  },
  "language_info": {
   "codemirror_mode": {
    "name": "ipython",
    "version": 3
   },
   "file_extension": ".py",
   "mimetype": "text/x-python",
   "name": "python",
   "nbconvert_exporter": "python",
   "pygments_lexer": "ipython3",
   "version": "3.8.3"
  }
 },
 "nbformat": 4,
 "nbformat_minor": 4
}

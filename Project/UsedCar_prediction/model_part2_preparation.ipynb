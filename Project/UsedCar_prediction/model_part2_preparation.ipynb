{
 "cells": [
  {
   "cell_type": "code",
   "execution_count": 5,
   "metadata": {},
   "outputs": [],
   "source": [
    "import numpy as np\n",
    "import pandas as pd\n",
    "import seaborn as sns\n",
    "import matplotlib.pyplot as plt\n"
   ]
  },
  {
   "cell_type": "markdown",
   "metadata": {},
   "source": [
    "# 1. Data Cleaning"
   ]
  },
  {
   "cell_type": "code",
   "execution_count": 24,
   "metadata": {},
   "outputs": [],
   "source": [
    "df_vehicles = pd.read_csv('./data/vehicles.csv')\n"
   ]
  },
  {
   "cell_type": "code",
   "execution_count": 25,
   "metadata": {},
   "outputs": [],
   "source": [
    "df_vehicles = df_vehicles.drop(['Unnamed: 0'], axis=1)\n"
   ]
  },
  {
   "cell_type": "code",
   "execution_count": 26,
   "metadata": {},
   "outputs": [
    {
     "data": {
      "text/plain": [
       "(458213, 25)"
      ]
     },
     "execution_count": 26,
     "metadata": {},
     "output_type": "execute_result"
    }
   ],
   "source": [
    "df_vehicles.shape\n"
   ]
  },
  {
   "cell_type": "code",
   "execution_count": 27,
   "metadata": {},
   "outputs": [],
   "source": [
    "def cutIQR(df, col, q1=0.25, q2=0.75):\n",
    "    Q1 = df[col].quantile(q1)\n",
    "    Q3 = df[col].quantile(q2)\n",
    "\n",
    "    IQR = Q3 - Q1\n",
    "\n",
    "    lower = Q1 - 1.5 * IQR\n",
    "    upper = Q3 + 1.5 * IQR\n",
    "    \n",
    "    cutted_df = df[(df[col] >= lower) & (df[col] <= upper)]\n",
    "\n",
    "    return cutted_df\n",
    "\n",
    "def clean_data(df_vehicles):\n",
    "    # step1: missing values\n",
    "    # for others, simply impute with unknown or generated from other features\n",
    "    cleaned_df = df_vehicles.dropna(subset=['year'])\n",
    "\n",
    "    # step2: remove extreme outlier\n",
    "    cleaned_df = cutIQR(cleaned_df, 'price', q2=0.85)\n",
    "    \n",
    "    cleaned_df = cleaned_df[cleaned_df['odometer'] <= 10000000]\n",
    "    cleaned_df = cutIQR(cleaned_df, 'odometer', q2=0.85)\n",
    "\n",
    "    return cleaned_df\n"
   ]
  },
  {
   "cell_type": "code",
   "execution_count": 28,
   "metadata": {},
   "outputs": [],
   "source": [
    "df = clean_data(df_vehicles)\n"
   ]
  },
  {
   "cell_type": "markdown",
   "metadata": {},
   "source": [
    "## 2. Create a Test Set\n"
   ]
  },
  {
   "cell_type": "code",
   "execution_count": 29,
   "metadata": {},
   "outputs": [],
   "source": [
    "from sklearn.model_selection import train_test_split\n",
    "\n",
    "train_set, test_set = train_test_split(df, test_size=0.2, random_state=42)\n"
   ]
  },
  {
   "cell_type": "code",
   "execution_count": 30,
   "metadata": {},
   "outputs": [
    {
     "data": {
      "text/plain": [
       "((318009, 25), (79503, 25))"
      ]
     },
     "execution_count": 30,
     "metadata": {},
     "output_type": "execute_result"
    }
   ],
   "source": [
    "train_set.shape, test_set.shape\n"
   ]
  },
  {
   "cell_type": "markdown",
   "metadata": {},
   "source": [
    "### Split X and y\n"
   ]
  },
  {
   "cell_type": "code",
   "execution_count": 58,
   "metadata": {},
   "outputs": [],
   "source": [
    "vehicles_train = train_set.drop('price', axis=1)\n",
    "y_train = train_set['price']\n",
    "\n",
    "vehicles_test = test_set.drop('price', axis=1)\n",
    "y_test = test_set['price']\n"
   ]
  },
  {
   "cell_type": "code",
   "execution_count": 59,
   "metadata": {},
   "outputs": [
    {
     "data": {
      "text/plain": [
       "((318009, 24), (318009,), (79503, 24), (79503,))"
      ]
     },
     "execution_count": 59,
     "metadata": {},
     "output_type": "execute_result"
    }
   ],
   "source": [
    "vehicles_train.shape, y_train.shape, vehicles_test.shape, y_test.shape\n"
   ]
  },
  {
   "cell_type": "markdown",
   "metadata": {},
   "source": [
    "## 3. Pipeline"
   ]
  },
  {
   "cell_type": "markdown",
   "metadata": {},
   "source": [
    "Useless columns\n",
    "- 'id', 'url', 'region_url', 'image_url', 'post_date' are entirely irrelavant to the cars' price\n",
    "\n",
    "\n",
    "Missing Values\n",
    "- odometer', 'lat', 'long': imputed with mean values\n",
    "\n",
    "\n",
    "Categorical Variables\n",
    "- Onehot\n",
    "\n",
    "\n",
    "Feature Enginering\n",
    "\n"
   ]
  },
  {
   "cell_type": "code",
   "execution_count": 66,
   "metadata": {},
   "outputs": [],
   "source": [
    "from sklearn.base import BaseEstimator, TransformerMixin\n",
    "from sklearn.impute import SimpleImputer\n",
    "\n",
    "class selectColumnTransformer(BaseEstimator, TransformerMixin):\n",
    "    \"\"\"\n",
    "    A transformer to select columns\n",
    "    \"\"\"\n",
    "    def __init__(self, columns):\n",
    "        self.columns = columns\n",
    "    \n",
    "    def transform(self, X):\n",
    "        return X[self.columns]\n",
    "    \n",
    "    def fit(self, X, y=None):\n",
    "        return self\n",
    "\n",
    "\n",
    "class dropAllZeroColumnTransformer(BaseEstimator, TransformerMixin):\n",
    "    \"\"\"\n",
    "    A transformer to drop all-zero columns\n",
    "    \"\"\"\n",
    "    def transform(self, X):\n",
    "        empty_columns = X.columns[X.isnull().all(axis=0)]\n",
    "        return X.drop(empty_columns, axis=1)\n",
    "        \n",
    "    def fit(self, X, y=None):\n",
    "        return self\n",
    "\n",
    "    \n",
    "class dropUselessColumnsTransformer(BaseEstimator, TransformerMixin):\n",
    "    \"\"\"\n",
    "    A transformer to drop useless columns\n",
    "    \"\"\"\n",
    "    def __init__(self, columns):\n",
    "        self.columns = columns\n",
    "\n",
    "    def transform(self, X):\n",
    "        return X.drop(self.columns, axis=1)\n",
    "        \n",
    "    def fit(self, X, y=None):\n",
    "        return self\n",
    "\n",
    "\n",
    "class categoryAddFeatureTransformer(BaseEstimator, TransformerMixin):\n",
    "    \"\"\"\n",
    "    generate more features from category variables\n",
    "    \"\"\"\n",
    "    def transform(self, X):\n",
    "        return X.fillna('unknown')\n",
    "\n",
    "    def fit(self, X, y=None):\n",
    "        return self\n",
    "    "
   ]
  },
  {
   "cell_type": "code",
   "execution_count": 67,
   "metadata": {},
   "outputs": [],
   "source": [
    "from sklearn.pipeline import Pipeline, make_pipeline\n",
    "from sklearn.compose import ColumnTransformer\n",
    "from sklearn.preprocessing import OneHotEncoder, RobustScaler, StandardScaler\n",
    "\n",
    "outlier_attribs = ['odometer']\n",
    "num_attribs = ['lat', 'long', 'year']\n",
    "cat_attribs = [\n",
    "    'manufacturer', 'condition', 'cylinders', \n",
    "    'fuel', 'title_status', 'transmission', \n",
    "    'drive', 'type', 'paint_color'  \n",
    "]\n",
    "useless_columns = [\n",
    "    # irrelevant\n",
    "    'id', 'url', 'region_url', 'image_url', 'posting_date', 'description',\n",
    "    # too many missing values\n",
    "    'VIN', 'size',\n",
    "    # repeative or not much useful\n",
    "    'region', 'state', 'model'\n",
    "] \n",
    "\n",
    "\n",
    "outlier_pipeline = Pipeline([\n",
    "    ('imputed', SimpleImputer(strategy='median')),\n",
    "    ('outlier', RobustScaler())\n",
    "])\n",
    "num_pipeline = Pipeline([\n",
    "    ('imputed', SimpleImputer(strategy='median')),\n",
    "    ('std_scaler', StandardScaler())\n",
    "])\n",
    "cat_pipeline = Pipeline([  \n",
    "    ('add_feature', categoryAddFeatureTransformer()),\n",
    "    ('one_hot', OneHotEncoder())\n",
    "])\n",
    "# full pipeline\n",
    "full_pipeline = make_pipeline(\n",
    "#     dropAllZeroColumnTransformer(),\n",
    "    dropUselessColumnsTransformer(useless_columns),\n",
    "    ColumnTransformer([\n",
    "        ('outlier', outlier_pipeline, outlier_attribs),\n",
    "        ('num', num_pipeline, num_attribs),\n",
    "        ('cat', cat_pipeline, cat_attribs)\n",
    "    ])\n",
    ")\n"
   ]
  },
  {
   "cell_type": "code",
   "execution_count": 68,
   "metadata": {},
   "outputs": [
    {
     "data": {
      "text/plain": [
       "((318009, 111), (79503, 111))"
      ]
     },
     "execution_count": 68,
     "metadata": {},
     "output_type": "execute_result"
    }
   ],
   "source": [
    "X_train = full_pipeline.fit_transform(vehicles_train)\n",
    "\n",
    "X_test = full_pipeline.transform(vehicles_test)\n",
    "\n",
    "X_train.shape, X_test.shape\n"
   ]
  },
  {
   "cell_type": "code",
   "execution_count": 69,
   "metadata": {},
   "outputs": [
    {
     "data": {
      "text/plain": [
       "LinearRegression()"
      ]
     },
     "execution_count": 69,
     "metadata": {},
     "output_type": "execute_result"
    }
   ],
   "source": [
    "from sklearn.linear_model import LinearRegression\n",
    "\n",
    "lin_reg = LinearRegression()\n",
    "lin_reg.fit(X_train, y_train)\n"
   ]
  },
  {
   "cell_type": "code",
   "execution_count": 75,
   "metadata": {},
   "outputs": [
    {
     "name": "stdout",
     "output_type": "stream",
     "text": [
      "Training MSE: 85336433.89000027\n",
      "Training RMSE: 9237.77212806206\n",
      "Training MAE: 6355.654058421237\n",
      "Training R2 score: 0.45603847702085976\n"
     ]
    }
   ],
   "source": [
    "from sklearn.metrics import mean_squared_error, mean_absolute_error\n",
    "\n",
    "y_train_pred = lin_reg.predict(X_train)\n",
    "\n",
    "print('Training MSE:', mean_squared_error(y_train, y_train_pred))\n",
    "print('Training RMSE:', mean_squared_error(y_train, y_train_pred, squared=False))\n",
    "print('Training MAE:', mean_absolute_error(y_train, y_train_pred))\n",
    "print('Training R2 score:', lin_reg.score(X_train, y_train))\n"
   ]
  },
  {
   "cell_type": "code",
   "execution_count": 77,
   "metadata": {},
   "outputs": [
    {
     "name": "stdout",
     "output_type": "stream",
     "text": [
      "Test MSE: 86106794.84656583\n",
      "Test RMSE: 9279.374701269791\n",
      "Test MAE: 6371.54748712891\n",
      "Test R2 score: 0.45157500552120156\n"
     ]
    }
   ],
   "source": [
    "y_test_pred = lin_reg.predict(X_test)\n",
    "\n",
    "print('Test MSE:', mean_squared_error(y_test, y_test_pred))\n",
    "print('Test RMSE:', mean_squared_error(y_test, y_test_pred, squared=False))\n",
    "print('Test MAE:', mean_absolute_error(y_test, y_test_pred))\n",
    "print('Test R2 score:', lin_reg.score(X_test, y_test))\n"
   ]
  },
  {
   "cell_type": "code",
   "execution_count": null,
   "metadata": {},
   "outputs": [],
   "source": []
  }
 ],
 "metadata": {
  "kernelspec": {
   "display_name": "Python 3",
   "language": "python",
   "name": "python3"
  },
  "language_info": {
   "codemirror_mode": {
    "name": "ipython",
    "version": 3
   },
   "file_extension": ".py",
   "mimetype": "text/x-python",
   "name": "python",
   "nbconvert_exporter": "python",
   "pygments_lexer": "ipython3",
   "version": "3.8.3"
  }
 },
 "nbformat": 4,
 "nbformat_minor": 4
}

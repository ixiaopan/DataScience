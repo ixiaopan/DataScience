{
 "cells": [
  {
   "cell_type": "code",
   "execution_count": 1,
   "metadata": {},
   "outputs": [],
   "source": [
    "import numpy as np\n",
    "import pandas as pd\n",
    "import seaborn as sns\n",
    "import matplotlib.pyplot as plt\n",
    "\n",
    "sns.set_palette('Set2')\n"
   ]
  },
  {
   "cell_type": "markdown",
   "metadata": {},
   "source": [
    "# 1. Overview"
   ]
  },
  {
   "cell_type": "markdown",
   "metadata": {},
   "source": [
    "## What is  outliers?\n",
    "\n",
    "They are extreme high or low values.\n",
    "\n",
    "\n",
    "## Where do they come from?\n",
    "\n",
    "well, there are many reasons:\n",
    "\n",
    "- the data itself is an extreme value\n",
    "\n",
    "- introduced by human or mechanical error\n",
    "\n",
    "- imputed by replacing missing values\n",
    "\n",
    "\n",
    "\n",
    "## How do we detect them?\n",
    "\n",
    "- visualisation\n",
    " - box plot\n",
    " - histgram\n",
    " - scatterplot\n",
    "\n",
    "- IQR\n",
    "\n",
    "- Z-score\n",
    "\n",
    "- Kmeans\n",
    "\n",
    "\n",
    "## How do we deal with them?\n",
    "\n",
    "- Trimming\n",
    "\n",
    "- Chopp off\n",
    "\n",
    "- Discretization\n",
    "\n",
    "\n"
   ]
  },
  {
   "cell_type": "markdown",
   "metadata": {},
   "source": [
    "# 2. Load Data"
   ]
  },
  {
   "cell_type": "markdown",
   "metadata": {},
   "source": [
    "### Data 1"
   ]
  },
  {
   "cell_type": "code",
   "execution_count": 2,
   "metadata": {},
   "outputs": [],
   "source": [
    "# !kaggle datasets download -d wordsforthewise/lending-club -p data\n"
   ]
  },
  {
   "cell_type": "code",
   "execution_count": 3,
   "metadata": {},
   "outputs": [
    {
     "data": {
      "text/html": [
       "<div>\n",
       "<style scoped>\n",
       "    .dataframe tbody tr th:only-of-type {\n",
       "        vertical-align: middle;\n",
       "    }\n",
       "\n",
       "    .dataframe tbody tr th {\n",
       "        vertical-align: top;\n",
       "    }\n",
       "\n",
       "    .dataframe thead th {\n",
       "        text-align: right;\n",
       "    }\n",
       "</style>\n",
       "<table border=\"1\" class=\"dataframe\">\n",
       "  <thead>\n",
       "    <tr style=\"text-align: right;\">\n",
       "      <th></th>\n",
       "      <th>annual_inc</th>\n",
       "    </tr>\n",
       "  </thead>\n",
       "  <tbody>\n",
       "    <tr>\n",
       "      <th>count</th>\n",
       "      <td>3.000000e+04</td>\n",
       "    </tr>\n",
       "    <tr>\n",
       "      <th>mean</th>\n",
       "      <td>7.888726e+04</td>\n",
       "    </tr>\n",
       "    <tr>\n",
       "      <th>std</th>\n",
       "      <td>8.537007e+04</td>\n",
       "    </tr>\n",
       "    <tr>\n",
       "      <th>min</th>\n",
       "      <td>0.000000e+00</td>\n",
       "    </tr>\n",
       "    <tr>\n",
       "      <th>25%</th>\n",
       "      <td>4.800000e+04</td>\n",
       "    </tr>\n",
       "    <tr>\n",
       "      <th>50%</th>\n",
       "      <td>6.682500e+04</td>\n",
       "    </tr>\n",
       "    <tr>\n",
       "      <th>75%</th>\n",
       "      <td>9.500000e+04</td>\n",
       "    </tr>\n",
       "    <tr>\n",
       "      <th>max</th>\n",
       "      <td>8.700000e+06</td>\n",
       "    </tr>\n",
       "  </tbody>\n",
       "</table>\n",
       "</div>"
      ],
      "text/plain": [
       "         annual_inc\n",
       "count  3.000000e+04\n",
       "mean   7.888726e+04\n",
       "std    8.537007e+04\n",
       "min    0.000000e+00\n",
       "25%    4.800000e+04\n",
       "50%    6.682500e+04\n",
       "75%    9.500000e+04\n",
       "max    8.700000e+06"
      ]
     },
     "execution_count": 3,
     "metadata": {},
     "output_type": "execute_result"
    }
   ],
   "source": [
    "data = pd.read_csv('./data/accepted_2007_to_2018Q4.csv', usecols=['annual_inc'], nrows=30000)\n",
    "\n",
    "data.describe()\n"
   ]
  },
  {
   "cell_type": "markdown",
   "metadata": {},
   "source": [
    "### Data 2"
   ]
  },
  {
   "cell_type": "code",
   "execution_count": 4,
   "metadata": {},
   "outputs": [],
   "source": [
    "# !kaggle datasets download -d austinreese/craigslist-carstrucks-data -p data"
   ]
  },
  {
   "cell_type": "code",
   "execution_count": 5,
   "metadata": {},
   "outputs": [],
   "source": [
    "\n",
    "df_vehicles = pd.read_csv('./data/vehicles.csv')\n",
    "\n",
    "df_vehicles = df_vehicles.drop(['Unnamed: 0'], axis=1)\n"
   ]
  },
  {
   "cell_type": "code",
   "execution_count": 6,
   "metadata": {},
   "outputs": [
    {
     "data": {
      "text/html": [
       "<div>\n",
       "<style scoped>\n",
       "    .dataframe tbody tr th:only-of-type {\n",
       "        vertical-align: middle;\n",
       "    }\n",
       "\n",
       "    .dataframe tbody tr th {\n",
       "        vertical-align: top;\n",
       "    }\n",
       "\n",
       "    .dataframe thead th {\n",
       "        text-align: right;\n",
       "    }\n",
       "</style>\n",
       "<table border=\"1\" class=\"dataframe\">\n",
       "  <thead>\n",
       "    <tr style=\"text-align: right;\">\n",
       "      <th></th>\n",
       "      <th>id</th>\n",
       "      <th>price</th>\n",
       "      <th>year</th>\n",
       "      <th>odometer</th>\n",
       "      <th>lat</th>\n",
       "      <th>long</th>\n",
       "    </tr>\n",
       "  </thead>\n",
       "  <tbody>\n",
       "    <tr>\n",
       "      <th>count</th>\n",
       "      <td>4.582130e+05</td>\n",
       "      <td>4.582130e+05</td>\n",
       "      <td>457163.000000</td>\n",
       "      <td>4.029100e+05</td>\n",
       "      <td>450765.000000</td>\n",
       "      <td>450765.000000</td>\n",
       "    </tr>\n",
       "    <tr>\n",
       "      <th>mean</th>\n",
       "      <td>7.235233e+09</td>\n",
       "      <td>4.042093e+04</td>\n",
       "      <td>2010.746067</td>\n",
       "      <td>1.016698e+05</td>\n",
       "      <td>38.531925</td>\n",
       "      <td>-94.375824</td>\n",
       "    </tr>\n",
       "    <tr>\n",
       "      <th>std</th>\n",
       "      <td>4.594362e+06</td>\n",
       "      <td>8.194599e+06</td>\n",
       "      <td>8.868136</td>\n",
       "      <td>3.228623e+06</td>\n",
       "      <td>5.857378</td>\n",
       "      <td>18.076225</td>\n",
       "    </tr>\n",
       "    <tr>\n",
       "      <th>min</th>\n",
       "      <td>7.208550e+09</td>\n",
       "      <td>0.000000e+00</td>\n",
       "      <td>1900.000000</td>\n",
       "      <td>0.000000e+00</td>\n",
       "      <td>-82.607549</td>\n",
       "      <td>-164.091797</td>\n",
       "    </tr>\n",
       "    <tr>\n",
       "      <th>25%</th>\n",
       "      <td>7.231953e+09</td>\n",
       "      <td>4.900000e+03</td>\n",
       "      <td>2008.000000</td>\n",
       "      <td>4.087700e+04</td>\n",
       "      <td>34.600000</td>\n",
       "      <td>-110.890427</td>\n",
       "    </tr>\n",
       "    <tr>\n",
       "      <th>50%</th>\n",
       "      <td>7.236409e+09</td>\n",
       "      <td>1.099500e+04</td>\n",
       "      <td>2013.000000</td>\n",
       "      <td>8.764100e+04</td>\n",
       "      <td>39.244500</td>\n",
       "      <td>-88.314889</td>\n",
       "    </tr>\n",
       "    <tr>\n",
       "      <th>75%</th>\n",
       "      <td>7.239321e+09</td>\n",
       "      <td>2.149500e+04</td>\n",
       "      <td>2016.000000</td>\n",
       "      <td>1.340000e+05</td>\n",
       "      <td>42.484503</td>\n",
       "      <td>-81.015022</td>\n",
       "    </tr>\n",
       "    <tr>\n",
       "      <th>max</th>\n",
       "      <td>7.241019e+09</td>\n",
       "      <td>3.615215e+09</td>\n",
       "      <td>2021.000000</td>\n",
       "      <td>2.043756e+09</td>\n",
       "      <td>82.049255</td>\n",
       "      <td>150.898969</td>\n",
       "    </tr>\n",
       "  </tbody>\n",
       "</table>\n",
       "</div>"
      ],
      "text/plain": [
       "                 id         price           year      odometer            lat  \\\n",
       "count  4.582130e+05  4.582130e+05  457163.000000  4.029100e+05  450765.000000   \n",
       "mean   7.235233e+09  4.042093e+04    2010.746067  1.016698e+05      38.531925   \n",
       "std    4.594362e+06  8.194599e+06       8.868136  3.228623e+06       5.857378   \n",
       "min    7.208550e+09  0.000000e+00    1900.000000  0.000000e+00     -82.607549   \n",
       "25%    7.231953e+09  4.900000e+03    2008.000000  4.087700e+04      34.600000   \n",
       "50%    7.236409e+09  1.099500e+04    2013.000000  8.764100e+04      39.244500   \n",
       "75%    7.239321e+09  2.149500e+04    2016.000000  1.340000e+05      42.484503   \n",
       "max    7.241019e+09  3.615215e+09    2021.000000  2.043756e+09      82.049255   \n",
       "\n",
       "                long  \n",
       "count  450765.000000  \n",
       "mean      -94.375824  \n",
       "std        18.076225  \n",
       "min      -164.091797  \n",
       "25%      -110.890427  \n",
       "50%       -88.314889  \n",
       "75%       -81.015022  \n",
       "max       150.898969  "
      ]
     },
     "execution_count": 6,
     "metadata": {},
     "output_type": "execute_result"
    }
   ],
   "source": [
    "df_vehicles.describe()\n"
   ]
  },
  {
   "cell_type": "code",
   "execution_count": 7,
   "metadata": {},
   "outputs": [],
   "source": [
    "df_price = df_vehicles[['price']]\n",
    "\n",
    "df_odometer = df_vehicles[['odometer']]\n"
   ]
  },
  {
   "cell_type": "markdown",
   "metadata": {},
   "source": [
    "### Data 3"
   ]
  },
  {
   "cell_type": "code",
   "execution_count": 10,
   "metadata": {},
   "outputs": [],
   "source": [
    "# !kaggle datasets download -d abcsds/pokemon -p data\n"
   ]
  },
  {
   "cell_type": "markdown",
   "metadata": {},
   "source": [
    "# 3. Outlier Detection"
   ]
  },
  {
   "cell_type": "markdown",
   "metadata": {},
   "source": [
    "## Visualisation\n",
    "\n",
    "- box plot\n",
    "\n",
    "- scatter plot\n",
    "\n",
    "- histgram\n"
   ]
  },
  {
   "cell_type": "code",
   "execution_count": 11,
   "metadata": {},
   "outputs": [
    {
     "data": {
      "image/png": "[encoded data removed]",
      "text/plain": [
       "<Figure size 720x288 with 2 Axes>"
      ]
     },
     "metadata": {
      "needs_background": "light"
     },
     "output_type": "display_data"
    }
   ],
   "source": [
    "fig, ax = plt.subplots(1, 2, figsize=(10, 4))\n",
    "\n",
    "sns.boxplot(data=df_price, ax=ax[0])\n",
    "ax[1].scatter(np.arange(len(df_price)), df_price)\n",
    "\n",
    "plt.show()\n"
   ]
  },
  {
   "cell_type": "code",
   "execution_count": 12,
   "metadata": {},
   "outputs": [
    {
     "data": {
      "image/png": "[encoded data removed]",
      "text/plain": [
       "<Figure size 720x288 with 2 Axes>"
      ]
     },
     "metadata": {
      "needs_background": "light"
     },
     "output_type": "display_data"
    }
   ],
   "source": [
    "fig, ax = plt.subplots(1, 2, figsize=(10, 4))\n",
    "\n",
    "sns.boxplot(data=df_odometer, ax=ax[0])\n",
    "ax[1].scatter(np.arange(len(df_odometer)), df_odometer)\n",
    "\n",
    "plt.show()\n"
   ]
  },
  {
   "cell_type": "code",
   "execution_count": 8,
   "metadata": {},
   "outputs": [
    {
     "data": {
      "image/png": "[encoded data removed]",
      "text/plain": [
       "<Figure size 720x288 with 2 Axes>"
      ]
     },
     "metadata": {
      "needs_background": "light"
     },
     "output_type": "display_data"
    }
   ],
   "source": [
    "fig, ax = plt.subplots(1, 2, figsize=(10, 4))\n",
    "\n",
    "sns.boxplot(data=df_price, ax=ax[0])\n",
    "sns.boxplot(data=df_odometer, ax=ax[1])\n",
    "\n",
    "plt.show()\n"
   ]
  },
  {
   "cell_type": "code",
   "execution_count": 13,
   "metadata": {},
   "outputs": [],
   "source": [
    "# fig, ax = plt.subplots(1, 2, figsize=(10, 4))\n",
    "# sns.histplot(data=data, x='annual_inc', bins=500, ax=ax[0])\n",
    "# sns.histplot(data=data, x='annual_inc', bins=500, ax=ax[1])\n",
    "# ax[1].set_xlim(0, 500000)\n"
   ]
  },
  {
   "cell_type": "markdown",
   "metadata": {},
   "source": [
    "## Extreme Value Analysis\n",
    "\n",
    "```\n",
    "IQR detection = 75% - 25%\n",
    "upper boundary = 75% + 1.5 * IQR\n",
    "lower boundary = 25% - 1.5*IQR\n",
    "```"
   ]
  },
  {
   "cell_type": "code",
   "execution_count": 14,
   "metadata": {},
   "outputs": [],
   "source": [
    "def cutIQR(df, q2=0.25, q3=0.75, r=1.5):\n",
    "    q3 = df.quantile(q3)\n",
    "    q2 = df.quantile(q2)\n",
    "\n",
    "    IQR = q3 - q2\n",
    "    \n",
    "    upper = q3 + r*IQR\n",
    "    lower = q2 - r*IQR\n",
    "    \n",
    "    return upper, lower\n"
   ]
  },
  {
   "cell_type": "code",
   "execution_count": 15,
   "metadata": {},
   "outputs": [
    {
     "data": {
      "text/html": [
       "<div>\n",
       "<style scoped>\n",
       "    .dataframe tbody tr th:only-of-type {\n",
       "        vertical-align: middle;\n",
       "    }\n",
       "\n",
       "    .dataframe tbody tr th {\n",
       "        vertical-align: top;\n",
       "    }\n",
       "\n",
       "    .dataframe thead th {\n",
       "        text-align: right;\n",
       "    }\n",
       "</style>\n",
       "<table border=\"1\" class=\"dataframe\">\n",
       "  <thead>\n",
       "    <tr style=\"text-align: right;\">\n",
       "      <th></th>\n",
       "      <th>Percent</th>\n",
       "    </tr>\n",
       "  </thead>\n",
       "  <tbody>\n",
       "    <tr>\n",
       "      <th>upper</th>\n",
       "      <td>0.027948</td>\n",
       "    </tr>\n",
       "    <tr>\n",
       "      <th>upper extreme</th>\n",
       "      <td>0.004105</td>\n",
       "    </tr>\n",
       "  </tbody>\n",
       "</table>\n",
       "</div>"
      ],
      "text/plain": [
       "                Percent\n",
       "upper          0.027948\n",
       "upper extreme  0.004105"
      ]
     },
     "execution_count": 15,
     "metadata": {},
     "output_type": "execute_result"
    }
   ],
   "source": [
    "upper_price, lower_price = cutIQR(df_price)\n",
    "upper_percent = (df_price > upper_price).sum() / len(df_price)\n",
    "\n",
    "upper_extreme_price, lower_extreme_price = cutIQR(df_price, r=3)\n",
    "upper_extreme_percent = (df_price > upper_extreme_price).sum() / len(df_price)\n",
    "\n",
    "pd.DataFrame([upper_percent[0], upper_extreme_percent[0]], \n",
    "             columns=['Percent'], index=['upper', 'upper extreme'])\n"
   ]
  },
  {
   "cell_type": "code",
   "execution_count": 16,
   "metadata": {},
   "outputs": [
    {
     "data": {
      "text/html": [
       "<div>\n",
       "<style scoped>\n",
       "    .dataframe tbody tr th:only-of-type {\n",
       "        vertical-align: middle;\n",
       "    }\n",
       "\n",
       "    .dataframe tbody tr th {\n",
       "        vertical-align: top;\n",
       "    }\n",
       "\n",
       "    .dataframe thead th {\n",
       "        text-align: right;\n",
       "    }\n",
       "</style>\n",
       "<table border=\"1\" class=\"dataframe\">\n",
       "  <thead>\n",
       "    <tr style=\"text-align: right;\">\n",
       "      <th></th>\n",
       "      <th>Percent</th>\n",
       "    </tr>\n",
       "  </thead>\n",
       "  <tbody>\n",
       "    <tr>\n",
       "      <th>upper</th>\n",
       "      <td>0.008210</td>\n",
       "    </tr>\n",
       "    <tr>\n",
       "      <th>upper extreme</th>\n",
       "      <td>0.002401</td>\n",
       "    </tr>\n",
       "  </tbody>\n",
       "</table>\n",
       "</div>"
      ],
      "text/plain": [
       "                Percent\n",
       "upper          0.008210\n",
       "upper extreme  0.002401"
      ]
     },
     "execution_count": 16,
     "metadata": {},
     "output_type": "execute_result"
    }
   ],
   "source": [
    "upper_odometer, lower_odometer = cutIQR(df_odometer)\n",
    "upper_odometer_percent = (df_odometer > upper_odometer).sum() / len(df_odometer)\n",
    "\n",
    "upper_extreme_odometer, lower_extreme_odometer = cutIQR(df_odometer, r=3)\n",
    "upper_extreme_odometer_percent = (df_odometer > upper_extreme_odometer).sum() / len(df_odometer)\n",
    "\n",
    "pd.DataFrame([upper_odometer_percent[0], upper_extreme_odometer_percent[0]], \n",
    "             columns=['Percent'], index=['upper', 'upper extreme'])\n",
    "\n"
   ]
  },
  {
   "cell_type": "markdown",
   "metadata": {},
   "source": [
    "## Z-score\n",
    "\n",
    "It measures how many standard deviations a given observation is far from the mean.\n",
    "\n",
    "Data that far away from the center, say `3`, are considered as outerliers.\n"
   ]
  },
  {
   "cell_type": "code",
   "execution_count": 17,
   "metadata": {},
   "outputs": [
    {
     "data": {
      "text/plain": [
       "(array([  1622,  38375, 191736, 238861, 306217, 326182, 339197, 339213,\n",
       "        362163, 385434, 393667, 414603, 414605, 425188]),\n",
       " array([0, 0, 0, 0, 0, 0, 0, 0, 0, 0, 0, 0, 0, 0]))"
      ]
     },
     "execution_count": 17,
     "metadata": {},
     "output_type": "execute_result"
    }
   ],
   "source": [
    "from scipy import stats\n",
    "\n",
    "z_data = stats.zscore(df_price)\n",
    "\n",
    "np.where(z_data>3)\n"
   ]
  },
  {
   "cell_type": "code",
   "execution_count": 18,
   "metadata": {},
   "outputs": [
    {
     "data": {
      "image/png": "[encoded data removed]",
      "text/plain": [
       "<Figure size 432x288 with 1 Axes>"
      ]
     },
     "metadata": {
      "needs_background": "light"
     },
     "output_type": "display_data"
    }
   ],
   "source": [
    "threshold=3\n",
    "indices=np.zeros(len(df_price))\n",
    "indices[np.where(z_data > threshold)[0]] = 1\n",
    "\n",
    "plt.scatter(np.arange(len(df_price)), df_price, c=indices,cmap='RdBu')\n",
    "plt.show()\n"
   ]
  },
  {
   "cell_type": "code",
   "execution_count": 19,
   "metadata": {},
   "outputs": [
    {
     "data": {
      "image/png": "[encoded data removed]",
      "text/plain": [
       "<Figure size 432x288 with 1 Axes>"
      ]
     },
     "metadata": {
      "needs_background": "light"
     },
     "output_type": "display_data"
    }
   ],
   "source": [
    "cleaned_odometer = df_odometer.dropna()\n",
    "\n",
    "z_odometer = stats.zscore(cleaned_odometer)\n",
    "\n",
    "threshold=3\n",
    "indices=np.zeros(len(cleaned_odometer))\n",
    "indices[np.where(z_odometer > threshold)[0]] = 1\n",
    "\n",
    "plt.scatter(np.arange(len(cleaned_odometer)), cleaned_odometer, c=indices, cmap='RdBu')\n",
    "plt.show()\n"
   ]
  },
  {
   "cell_type": "markdown",
   "metadata": {},
   "source": [
    "## Clustering\n",
    "\n",
    "Group similar data into groups.\n"
   ]
  },
  {
   "cell_type": "code",
   "execution_count": 177,
   "metadata": {},
   "outputs": [
    {
     "data": {
      "image/png": "[encoded data removed]",
      "text/plain": [
       "<Figure size 432x288 with 1 Axes>"
      ]
     },
     "metadata": {
      "needs_background": "light"
     },
     "output_type": "display_data"
    }
   ],
   "source": [
    "from sklearn.cluster import KMeans\n",
    "\n",
    "kmeans = KMeans(n_clusters=2, random_state=0).fit(df_price)\n",
    "\n",
    "plt.scatter(np.arange(len(df_price)), df_price, c=kmeans.labels_)\n",
    "plt.show()\n"
   ]
  },
  {
   "cell_type": "markdown",
   "metadata": {},
   "source": [
    "# 4. Processing Outliers"
   ]
  },
  {
   "cell_type": "markdown",
   "metadata": {},
   "source": [
    "## Trimming"
   ]
  },
  {
   "cell_type": "code",
   "execution_count": 17,
   "metadata": {},
   "outputs": [
    {
     "data": {
      "text/plain": [
       "odometer    2.043756e+09\n",
       "dtype: float64"
      ]
     },
     "execution_count": 17,
     "metadata": {},
     "output_type": "execute_result"
    }
   ],
   "source": [
    "df_odometer.max()\n"
   ]
  },
  {
   "cell_type": "code",
   "execution_count": 18,
   "metadata": {},
   "outputs": [
    {
     "data": {
      "text/plain": [
       "odometer    123459789.0\n",
       "dtype: float64"
      ]
     },
     "execution_count": 18,
     "metadata": {},
     "output_type": "execute_result"
    }
   ],
   "source": [
    "removed_odometer = df_odometer[df_odometer!=df_odometer.max()]\n",
    "\n",
    "removed_odometer.max()\n"
   ]
  },
  {
   "cell_type": "code",
   "execution_count": 19,
   "metadata": {},
   "outputs": [],
   "source": [
    "removed_odometer=removed_odometer[removed_odometer!=removed_odometer.max()]\n"
   ]
  },
  {
   "cell_type": "code",
   "execution_count": 20,
   "metadata": {},
   "outputs": [
    {
     "name": "stderr",
     "output_type": "stream",
     "text": [
      "/Users/wuxiaopan/opt/anaconda3/lib/python3.8/site-packages/numpy/lib/histograms.py:839: RuntimeWarning: invalid value encountered in greater_equal\n",
      "  keep = (tmp_a >= first_edge)\n",
      "/Users/wuxiaopan/opt/anaconda3/lib/python3.8/site-packages/numpy/lib/histograms.py:840: RuntimeWarning: invalid value encountered in less_equal\n",
      "  keep &= (tmp_a <= last_edge)\n"
     ]
    },
    {
     "data": {
      "image/png": "[encoded data removed]",
      "text/plain": [
       "<Figure size 1008x288 with 3 Axes>"
      ]
     },
     "metadata": {
      "needs_background": "light"
     },
     "output_type": "display_data"
    }
   ],
   "source": [
    "fig,ax= plt.subplots(1, 3, figsize=(14, 4))\n",
    "ax[0].scatter(np.arange(len(removed_odometer)), removed_odometer)\n",
    "ax[1].hist(removed_odometer,bins=300)\n",
    "ax[2].hist(removed_odometer,bins=300)\n",
    "ax[2].set_xlim(0, 600000)\n",
    "plt.show()"
   ]
  },
  {
   "cell_type": "markdown",
   "metadata": {},
   "source": [
    "Removing two extreme outliers of the variable `odometer`, the distribution now looks less skewed.\n"
   ]
  },
  {
   "cell_type": "markdown",
   "metadata": {},
   "source": [
    "## Chopping Off"
   ]
  },
  {
   "cell_type": "code",
   "execution_count": 24,
   "metadata": {},
   "outputs": [
    {
     "name": "stderr",
     "output_type": "stream",
     "text": [
      "/Users/wuxiaopan/opt/anaconda3/lib/python3.8/site-packages/pandas/core/indexing.py:671: SettingWithCopyWarning: \n",
      "A value is trying to be set on a copy of a slice from a DataFrame\n",
      "\n",
      "See the caveats in the documentation: https://pandas.pydata.org/pandas-docs/stable/user_guide/indexing.html#returning-a-view-versus-a-copy\n",
      "  self._setitem_with_indexer(indexer, value)\n"
     ]
    },
    {
     "data": {
      "text/plain": [
       "46387.5"
      ]
     },
     "execution_count": 24,
     "metadata": {},
     "output_type": "execute_result"
    }
   ],
   "source": [
    "df_price_copy = df_vehicles['price']\n",
    "\n",
    "# (0, upper_price]\n",
    "df_price_copy.loc[df_price_copy>30000] = upper_price.values[0]\n",
    "df_price_copy = df_price_copy[df_price_copy>0]\n",
    "df_price_copy.max()\n"
   ]
  },
  {
   "cell_type": "code",
   "execution_count": 25,
   "metadata": {},
   "outputs": [
    {
     "data": {
      "image/png": "[encoded data removed]",
      "text/plain": [
       "<Figure size 1008x288 with 2 Axes>"
      ]
     },
     "metadata": {
      "needs_background": "light"
     },
     "output_type": "display_data"
    }
   ],
   "source": [
    "fig,ax= plt.subplots(1, 2, figsize=(14, 4))\n",
    "ax[0].hist(df_price_copy,bins=10)\n",
    "ax[1].hist(df_price_copy,bins=10)\n",
    "plt.show()\n"
   ]
  },
  {
   "cell_type": "markdown",
   "metadata": {},
   "source": [
    "## Discretization"
   ]
  },
  {
   "cell_type": "markdown",
   "metadata": {},
   "source": [
    "### Equal Frequency binning"
   ]
  },
  {
   "cell_type": "code",
   "execution_count": 35,
   "metadata": {},
   "outputs": [],
   "source": [
    "df_price = df_vehicles[['price']]\n"
   ]
  },
  {
   "cell_type": "code",
   "execution_count": 37,
   "metadata": {},
   "outputs": [
    {
     "name": "stdout",
     "output_type": "stream",
     "text": [
      "[    0.    651.   3800.   5950.   7999.  10995.  14590.  18600.  24991.\n",
      " 46387.5]\n"
     ]
    },
    {
     "data": {
      "text/plain": [
       "bins\n",
       "(-0.001, 651.0]       45823\n",
       "(651.0, 3800.0]       46637\n",
       "(3800.0, 5950.0]      45079\n",
       "(5950.0, 7999.0]      46646\n",
       "(7999.0, 10995.0]     46562\n",
       "(10995.0, 14590.0]    44200\n",
       "(14590.0, 18600.0]    45833\n",
       "(18600.0, 24991.0]    45818\n",
       "(24991.0, 46387.5]    91615\n",
       "Name: price, dtype: int64"
      ]
     },
     "execution_count": 37,
     "metadata": {},
     "output_type": "execute_result"
    }
   ],
   "source": [
    "item_binned, intervals = pd.qcut(df_price['price'], 10, labels=None, retbins=True, precision=3, duplicates='drop')\n",
    "\n",
    "print(intervals)\n",
    "\n",
    "binned_price = pd.concat([item_binned, df_vehicles['price']], axis=1)\n",
    "\n",
    "binned_price.columns = ['bins', 'price']\n",
    "\n",
    "binned_price.groupby('bins')['price'].count()"
   ]
  },
  {
   "cell_type": "markdown",
   "metadata": {},
   "source": [
    "\n",
    "### Equal width binning\n",
    "$$\n",
    "width = (max-min)/N\n",
    "$$\n"
   ]
  },
  {
   "cell_type": "code",
   "execution_count": 52,
   "metadata": {},
   "outputs": [],
   "source": [
    "df_price = df_vehicles['price']\n"
   ]
  },
  {
   "cell_type": "code",
   "execution_count": 53,
   "metadata": {},
   "outputs": [
    {
     "name": "stdout",
     "output_type": "stream",
     "text": [
      "0 46387 9277\n"
     ]
    },
    {
     "data": {
      "text/plain": [
       "([0, 9277, 18554, 27831, 37108, 46385],\n",
       " ['Bin1', 'Bin2', 'Bin3', 'Bin4', 'Bin5'])"
      ]
     },
     "execution_count": 53,
     "metadata": {},
     "output_type": "execute_result"
    }
   ],
   "source": [
    "max_price, min_price = int(df_price.max()), int(df_price.min())\n",
    "N = 5\n",
    "width = int((max_price - min_price) / N)\n",
    "print(min_price, max_price, width)\n",
    "\n",
    "binss = []\n",
    "for i in range(min_price, max_price, width):\n",
    "    binss.append(i)\n",
    "labels = [ 'Bin'+str(i) for i in range(1, len(binss))]\n",
    "\n",
    "binss, labels\n"
   ]
  },
  {
   "cell_type": "code",
   "execution_count": 54,
   "metadata": {},
   "outputs": [
    {
     "data": {
      "text/plain": [
       "46387.5"
      ]
     },
     "execution_count": 54,
     "metadata": {},
     "output_type": "execute_result"
    }
   ],
   "source": [
    "df_price.max()"
   ]
  },
  {
   "cell_type": "code",
   "execution_count": 55,
   "metadata": {},
   "outputs": [
    {
     "name": "stderr",
     "output_type": "stream",
     "text": [
      "/Users/wuxiaopan/opt/anaconda3/lib/python3.8/site-packages/seaborn/_decorators.py:36: FutureWarning: Pass the following variable as a keyword arg: x. From version 0.12, the only valid positional argument will be `data`, and passing other arguments without an explicit keyword will result in an error or misinterpretation.\n",
      "  warnings.warn(\n"
     ]
    },
    {
     "data": {
      "image/png": "[encoded data removed]",
      "text/plain": [
       "<Figure size 432x288 with 1 Axes>"
      ]
     },
     "metadata": {
      "needs_background": "light"
     },
     "output_type": "display_data"
    }
   ],
   "source": [
    "df_price_p = df_vehicles.loc[:, ['price']]\n",
    "\n",
    "df_price_p.loc[:,'bins']=pd.cut(df_price_p['price'], bins=binss, labels=labels, include_lowest=True)\n",
    "\n",
    "# b=pd.cut(df_price['price'], bins=bins, include_lowest=True)\n",
    "# df_price.loc[:,'intervals']=b\n",
    "\n",
    "sns.countplot(df_price_p.bins)\n",
    "plt.show()\n"
   ]
  },
  {
   "cell_type": "code",
   "execution_count": null,
   "metadata": {},
   "outputs": [],
   "source": []
  }
 ],
 "metadata": {
  "kernelspec": {
   "display_name": "Python 3",
   "language": "python",
   "name": "python3"
  },
  "language_info": {
   "codemirror_mode": {
    "name": "ipython",
    "version": 3
   },
   "file_extension": ".py",
   "mimetype": "text/x-python",
   "name": "python",
   "nbconvert_exporter": "python",
   "pygments_lexer": "ipython3",
   "version": "3.8.3"
  }
 },
 "nbformat": 4,
 "nbformat_minor": 4
}

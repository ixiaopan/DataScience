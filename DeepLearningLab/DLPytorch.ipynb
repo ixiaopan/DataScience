{
 "cells": [
  {
   "cell_type": "code",
   "execution_count": null,
   "metadata": {},
   "outputs": [],
   "source": [
    "# https://atcold.github.io/pytorch-Deep-Learning/\n",
    "# https://d2l.ai/\n",
    "# http://www.wildml.com/2015/09/recurrent-neural-networks-tutorial-part-1-introduction-to-rnns/\n"
   ]
  },
  {
   "cell_type": "code",
   "execution_count": 90,
   "metadata": {},
   "outputs": [],
   "source": [
    "import torch\n",
    "import numpy as np\n",
    "import pandas as pd\n",
    "from matplotlib import pyplot as plt\n",
    "import json\n"
   ]
  },
  {
   "cell_type": "markdown",
   "metadata": {},
   "source": [
    "# 1. Intro to Pytorch"
   ]
  },
  {
   "cell_type": "markdown",
   "metadata": {},
   "source": [
    "## Tabeluar data"
   ]
  },
  {
   "cell_type": "code",
   "execution_count": null,
   "metadata": {},
   "outputs": [],
   "source": [
    "!wget https://archive.ics.uci.edu/ml/machine-learning-databases/wine-quality/winequality-white.csv\n",
    "    "
   ]
  },
  {
   "cell_type": "code",
   "execution_count": 2,
   "metadata": {},
   "outputs": [],
   "source": [
    "df_wine = pd.read_csv('./data/winequality-white.csv', sep=';')\n"
   ]
  },
  {
   "cell_type": "code",
   "execution_count": 3,
   "metadata": {},
   "outputs": [
    {
     "data": {
      "text/html": [
       "<div>\n",
       "<style scoped>\n",
       "    .dataframe tbody tr th:only-of-type {\n",
       "        vertical-align: middle;\n",
       "    }\n",
       "\n",
       "    .dataframe tbody tr th {\n",
       "        vertical-align: top;\n",
       "    }\n",
       "\n",
       "    .dataframe thead th {\n",
       "        text-align: right;\n",
       "    }\n",
       "</style>\n",
       "<table border=\"1\" class=\"dataframe\">\n",
       "  <thead>\n",
       "    <tr style=\"text-align: right;\">\n",
       "      <th></th>\n",
       "      <th>fixed acidity</th>\n",
       "      <th>volatile acidity</th>\n",
       "      <th>citric acid</th>\n",
       "      <th>residual sugar</th>\n",
       "      <th>chlorides</th>\n",
       "      <th>free sulfur dioxide</th>\n",
       "      <th>total sulfur dioxide</th>\n",
       "      <th>density</th>\n",
       "      <th>pH</th>\n",
       "      <th>sulphates</th>\n",
       "      <th>alcohol</th>\n",
       "      <th>quality</th>\n",
       "    </tr>\n",
       "  </thead>\n",
       "  <tbody>\n",
       "    <tr>\n",
       "      <th>0</th>\n",
       "      <td>7.0</td>\n",
       "      <td>0.27</td>\n",
       "      <td>0.36</td>\n",
       "      <td>20.7</td>\n",
       "      <td>0.045</td>\n",
       "      <td>45.0</td>\n",
       "      <td>170.0</td>\n",
       "      <td>1.0010</td>\n",
       "      <td>3.00</td>\n",
       "      <td>0.45</td>\n",
       "      <td>8.8</td>\n",
       "      <td>6</td>\n",
       "    </tr>\n",
       "    <tr>\n",
       "      <th>1</th>\n",
       "      <td>6.3</td>\n",
       "      <td>0.30</td>\n",
       "      <td>0.34</td>\n",
       "      <td>1.6</td>\n",
       "      <td>0.049</td>\n",
       "      <td>14.0</td>\n",
       "      <td>132.0</td>\n",
       "      <td>0.9940</td>\n",
       "      <td>3.30</td>\n",
       "      <td>0.49</td>\n",
       "      <td>9.5</td>\n",
       "      <td>6</td>\n",
       "    </tr>\n",
       "    <tr>\n",
       "      <th>2</th>\n",
       "      <td>8.1</td>\n",
       "      <td>0.28</td>\n",
       "      <td>0.40</td>\n",
       "      <td>6.9</td>\n",
       "      <td>0.050</td>\n",
       "      <td>30.0</td>\n",
       "      <td>97.0</td>\n",
       "      <td>0.9951</td>\n",
       "      <td>3.26</td>\n",
       "      <td>0.44</td>\n",
       "      <td>10.1</td>\n",
       "      <td>6</td>\n",
       "    </tr>\n",
       "    <tr>\n",
       "      <th>3</th>\n",
       "      <td>7.2</td>\n",
       "      <td>0.23</td>\n",
       "      <td>0.32</td>\n",
       "      <td>8.5</td>\n",
       "      <td>0.058</td>\n",
       "      <td>47.0</td>\n",
       "      <td>186.0</td>\n",
       "      <td>0.9956</td>\n",
       "      <td>3.19</td>\n",
       "      <td>0.40</td>\n",
       "      <td>9.9</td>\n",
       "      <td>6</td>\n",
       "    </tr>\n",
       "    <tr>\n",
       "      <th>4</th>\n",
       "      <td>7.2</td>\n",
       "      <td>0.23</td>\n",
       "      <td>0.32</td>\n",
       "      <td>8.5</td>\n",
       "      <td>0.058</td>\n",
       "      <td>47.0</td>\n",
       "      <td>186.0</td>\n",
       "      <td>0.9956</td>\n",
       "      <td>3.19</td>\n",
       "      <td>0.40</td>\n",
       "      <td>9.9</td>\n",
       "      <td>6</td>\n",
       "    </tr>\n",
       "  </tbody>\n",
       "</table>\n",
       "</div>"
      ],
      "text/plain": [
       "   fixed acidity  volatile acidity  citric acid  residual sugar  chlorides  \\\n",
       "0            7.0              0.27         0.36            20.7      0.045   \n",
       "1            6.3              0.30         0.34             1.6      0.049   \n",
       "2            8.1              0.28         0.40             6.9      0.050   \n",
       "3            7.2              0.23         0.32             8.5      0.058   \n",
       "4            7.2              0.23         0.32             8.5      0.058   \n",
       "\n",
       "   free sulfur dioxide  total sulfur dioxide  density    pH  sulphates  \\\n",
       "0                 45.0                 170.0   1.0010  3.00       0.45   \n",
       "1                 14.0                 132.0   0.9940  3.30       0.49   \n",
       "2                 30.0                  97.0   0.9951  3.26       0.44   \n",
       "3                 47.0                 186.0   0.9956  3.19       0.40   \n",
       "4                 47.0                 186.0   0.9956  3.19       0.40   \n",
       "\n",
       "   alcohol  quality  \n",
       "0      8.8        6  \n",
       "1      9.5        6  \n",
       "2     10.1        6  \n",
       "3      9.9        6  \n",
       "4      9.9        6  "
      ]
     },
     "execution_count": 3,
     "metadata": {},
     "output_type": "execute_result"
    }
   ],
   "source": [
    "df_wine.head()\n"
   ]
  },
  {
   "cell_type": "code",
   "execution_count": 4,
   "metadata": {},
   "outputs": [
    {
     "data": {
      "text/plain": [
       "Index(['fixed acidity', 'volatile acidity', 'citric acid', 'residual sugar',\n",
       "       'chlorides', 'free sulfur dioxide', 'total sulfur dioxide', 'density',\n",
       "       'pH', 'sulphates', 'alcohol', 'quality'],\n",
       "      dtype='object')"
      ]
     },
     "execution_count": 4,
     "metadata": {},
     "output_type": "execute_result"
    }
   ],
   "source": [
    "df_wine.columns"
   ]
  },
  {
   "cell_type": "code",
   "execution_count": 5,
   "metadata": {},
   "outputs": [
    {
     "data": {
      "text/plain": [
       "(4898, 12)"
      ]
     },
     "execution_count": 5,
     "metadata": {},
     "output_type": "execute_result"
    }
   ],
   "source": [
    "df_wine.shape"
   ]
  },
  {
   "cell_type": "code",
   "execution_count": 6,
   "metadata": {},
   "outputs": [],
   "source": [
    "wine = torch.from_numpy(df_wine.values)\n"
   ]
  },
  {
   "cell_type": "code",
   "execution_count": 7,
   "metadata": {},
   "outputs": [
    {
     "data": {
      "text/plain": [
       "(torch.Size([4898, 12]), 'torch.DoubleTensor')"
      ]
     },
     "execution_count": 7,
     "metadata": {},
     "output_type": "execute_result"
    }
   ],
   "source": [
    "wine.size(), wine.type()\n"
   ]
  },
  {
   "cell_type": "code",
   "execution_count": 8,
   "metadata": {},
   "outputs": [
    {
     "data": {
      "text/plain": [
       "(torch.Size([4898, 11]),\n",
       " torch.Size([4898]),\n",
       " tensor([6., 6., 6., 6., 6.], dtype=torch.float64))"
      ]
     },
     "execution_count": 8,
     "metadata": {},
     "output_type": "execute_result"
    }
   ],
   "source": [
    "data = wine[:, :-1]\n",
    "target = wine[:, -1]\n",
    "\n",
    "data.size(), target.size(), target[:5]\n"
   ]
  },
  {
   "cell_type": "code",
   "execution_count": 9,
   "metadata": {},
   "outputs": [
    {
     "data": {
      "text/plain": [
       "tensor([6., 6., 6.,  ..., 6., 7., 6.], dtype=torch.float64)"
      ]
     },
     "execution_count": 9,
     "metadata": {},
     "output_type": "execute_result"
    }
   ],
   "source": [
    "target\n"
   ]
  },
  {
   "cell_type": "code",
   "execution_count": 10,
   "metadata": {},
   "outputs": [
    {
     "data": {
      "text/plain": [
       "tensor([[0., 0., 0.,  ..., 0., 0., 0.],\n",
       "        [0., 0., 0.,  ..., 0., 0., 0.],\n",
       "        [0., 0., 0.,  ..., 0., 0., 0.],\n",
       "        ...,\n",
       "        [0., 0., 0.,  ..., 0., 0., 0.],\n",
       "        [0., 0., 0.,  ..., 1., 0., 0.],\n",
       "        [0., 0., 0.,  ..., 0., 0., 0.]])"
      ]
     },
     "execution_count": 10,
     "metadata": {},
     "output_type": "execute_result"
    }
   ],
   "source": [
    "target_onehot = torch.zeros(target.shape[0], 10)\n",
    "\n",
    "target_onehot.scatter_(1, target.unsqueeze(1).long(), 1.0)\n"
   ]
  },
  {
   "cell_type": "code",
   "execution_count": 11,
   "metadata": {},
   "outputs": [
    {
     "data": {
      "text/plain": [
       "tensor([0., 0., 0., 0., 0., 0., 1., 0., 0., 0.])"
      ]
     },
     "execution_count": 11,
     "metadata": {},
     "output_type": "execute_result"
    }
   ],
   "source": [
    "target_onehot[0]"
   ]
  },
  {
   "cell_type": "code",
   "execution_count": 12,
   "metadata": {},
   "outputs": [
    {
     "data": {
      "text/plain": [
       "tensor([6.8548e+00, 2.7824e-01, 3.3419e-01, 6.3914e+00, 4.5772e-02, 3.5308e+01,\n",
       "        1.3836e+02, 9.9403e-01, 3.1883e+00, 4.8985e-01, 1.0514e+01],\n",
       "       dtype=torch.float64)"
      ]
     },
     "execution_count": 12,
     "metadata": {},
     "output_type": "execute_result"
    }
   ],
   "source": [
    "torch.mean(data, dim=0)\n"
   ]
  },
  {
   "cell_type": "code",
   "execution_count": 13,
   "metadata": {},
   "outputs": [
    {
     "data": {
      "text/plain": [
       "tensor([7.1211e-01, 1.0160e-02, 1.4646e-02, 2.5726e+01, 4.7733e-04, 2.8924e+02,\n",
       "        1.8061e+03, 8.9455e-06, 2.2801e-02, 1.3025e-02, 1.5144e+00],\n",
       "       dtype=torch.float64)"
      ]
     },
     "execution_count": 13,
     "metadata": {},
     "output_type": "execute_result"
    }
   ],
   "source": [
    "torch.var(data, dim=0)"
   ]
  },
  {
   "cell_type": "code",
   "execution_count": 14,
   "metadata": {},
   "outputs": [],
   "source": [
    "bad_wine = target.le(3)\n",
    "mid_wine = target.gt(3) & target.le(7)\n",
    "good_wine = target.gt(7)\n"
   ]
  },
  {
   "cell_type": "code",
   "execution_count": 15,
   "metadata": {},
   "outputs": [
    {
     "name": "stdout",
     "output_type": "stream",
     "text": [
      "fixed acidity 7.6 6.858375904640272 6.678333333333333\n",
      "volatile acidity 0.33325000000000005 0.27801724137931033 0.2779722222222222\n",
      "citric acid 0.336 0.334414644529587 0.32816666666666666\n",
      "residual sugar 6.3925 6.420647083865475 5.628333333333334\n",
      "chlorides 0.0543 0.04603341847594722 0.03801111111111112\n",
      "free sulfur dioxide 53.325 35.180821626223924 36.62777777777778\n",
      "total sulfur dioxide 170.6 138.7014687100894 125.88333333333334\n",
      "density 0.9948840000000001 0.9940931928480202 0.9922143888888889\n",
      "pH 3.1875 3.1870093656875267 3.2211666666666665\n",
      "sulphates 0.4744999999999999 0.4900723712217964 0.48566666666666675\n",
      "alcohol 10.345 10.471430395913154 11.651111111111113\n"
     ]
    }
   ],
   "source": [
    "bad_mean = data[bad_wine].mean(dim=0)\n",
    "mid_mean = data[mid_wine].mean(dim=0)\n",
    "good_mean = data[good_wine].mean(dim=0)\n",
    "\n",
    "col_names = df_wine.columns[df_wine.columns!='quality']\n",
    "for name, bad_v, mid_v, good_v in zip(col_names, bad_mean, mid_mean, good_mean):\n",
    "    print(name, bad_v.item(), mid_v.item(), good_v.item())\n"
   ]
  },
  {
   "cell_type": "code",
   "execution_count": 16,
   "metadata": {},
   "outputs": [
    {
     "data": {
      "text/plain": [
       "(tensor(2727), tensor(3258))"
      ]
     },
     "execution_count": 16,
     "metadata": {},
     "output_type": "execute_result"
    }
   ],
   "source": [
    "# There are 500 more good wines than your threshold predicted, so total sulfur dioxide \n",
    "predicted_index = (data[:, 6] < 141.83)\n",
    "actual_index = target > 5\n",
    "\n",
    "predicted_index.sum(), actual_index.sum()\n"
   ]
  },
  {
   "cell_type": "code",
   "execution_count": 17,
   "metadata": {},
   "outputs": [],
   "source": [
    "n_matches = (predicted_index & actual_index).sum().item()\n"
   ]
  },
  {
   "cell_type": "code",
   "execution_count": 18,
   "metadata": {},
   "outputs": [
    {
     "data": {
      "text/plain": [
       "(2018, 0.74000733406674, 0.6193984039287906)"
      ]
     },
     "execution_count": 18,
     "metadata": {},
     "output_type": "execute_result"
    }
   ],
   "source": [
    "n_matches, n_matches / predicted_index.sum().item(), n_matches / actual_index.sum().item()\n"
   ]
  },
  {
   "cell_type": "code",
   "execution_count": null,
   "metadata": {},
   "outputs": [],
   "source": []
  },
  {
   "cell_type": "markdown",
   "metadata": {},
   "source": [
    "## Text data"
   ]
  },
  {
   "cell_type": "code",
   "execution_count": null,
   "metadata": {},
   "outputs": [],
   "source": [
    "!wget http://www.gutenberg.org/files/1342/1342-0.txt -P data\n",
    "    "
   ]
  },
  {
   "cell_type": "code",
   "execution_count": 19,
   "metadata": {},
   "outputs": [],
   "source": [
    "\n",
    "with open('./data/1342-0.txt', encoding='utf8') as f:\n",
    "    text = f.read()\n",
    "\n",
    "corpus = list(filter(lambda x: len(x) > 0, text.split('\\n')))\n",
    "\n"
   ]
  },
  {
   "cell_type": "code",
   "execution_count": 20,
   "metadata": {},
   "outputs": [],
   "source": [
    "def clean_text(text):\n",
    "    punctuation = '.,;:\"!?”“_-'\n",
    "\n",
    "    words = text.lower().strip().replace('\\n', ' ').split()\n",
    "    \n",
    "    return [ w.strip(punctuation) for w in words ]\n"
   ]
  },
  {
   "cell_type": "markdown",
   "metadata": {},
   "source": [
    "### Character-level one-hot"
   ]
  },
  {
   "cell_type": "code",
   "execution_count": 21,
   "metadata": {},
   "outputs": [
    {
     "data": {
      "text/plain": [
       "('impossiblemrbennetimpossiblewheniamnotacquaintedwithhim', 55)"
      ]
     },
     "execution_count": 21,
     "metadata": {},
     "output_type": "execute_result"
    }
   ],
   "source": [
    "line = corpus[200].strip()\n",
    "\n",
    "line = '“Impossible, Mr. Bennet, impossible, when I am not acquainted with him'\n",
    "\n",
    "cleaned_line = ''.join(clean_text(line))\n",
    "\n",
    "cleaned_line, len(cleaned_line)"
   ]
  },
  {
   "cell_type": "code",
   "execution_count": 22,
   "metadata": {},
   "outputs": [
    {
     "data": {
      "text/plain": [
       "torch.Size([55, 128])"
      ]
     },
     "execution_count": 22,
     "metadata": {},
     "output_type": "execute_result"
    }
   ],
   "source": [
    "letter_tensor = torch.zeros(len(cleaned_line), 128)\n",
    "\n",
    "letter_tensor.shape\n"
   ]
  },
  {
   "cell_type": "code",
   "execution_count": 23,
   "metadata": {},
   "outputs": [
    {
     "data": {
      "text/plain": [
       "tensor([[0., 0., 0.,  ..., 0., 0., 0.],\n",
       "        [0., 0., 0.,  ..., 0., 0., 0.],\n",
       "        [0., 0., 0.,  ..., 0., 0., 0.],\n",
       "        ...,\n",
       "        [0., 0., 0.,  ..., 0., 0., 0.],\n",
       "        [0., 0., 0.,  ..., 0., 0., 0.],\n",
       "        [0., 0., 0.,  ..., 0., 0., 0.]])"
      ]
     },
     "execution_count": 23,
     "metadata": {},
     "output_type": "execute_result"
    }
   ],
   "source": [
    "for i, letter in enumerate(cleaned_line):\n",
    "    idx = ord(letter) if ord(letter) < 128 else 0\n",
    "    letter_tensor[i][idx] = 1\n",
    "\n",
    "letter_tensor\n"
   ]
  },
  {
   "cell_type": "markdown",
   "metadata": {},
   "source": [
    "### Word-level one-hot"
   ]
  },
  {
   "cell_type": "code",
   "execution_count": 24,
   "metadata": {},
   "outputs": [
    {
     "data": {
      "text/plain": [
       "(7265, 3924)"
      ]
     },
     "execution_count": 24,
     "metadata": {},
     "output_type": "execute_result"
    }
   ],
   "source": [
    "words = clean_text(text)\n",
    "\n",
    "vocabulary = set(words)\n",
    "\n",
    "word2idx = {w: idx for idx, w in enumerate(vocabulary)}\n",
    "\n",
    "len(vocabulary), word2idx['impossible']\n"
   ]
  },
  {
   "cell_type": "code",
   "execution_count": 25,
   "metadata": {},
   "outputs": [
    {
     "name": "stdout",
     "output_type": "stream",
     "text": [
      "0 3924 impossible\n",
      "1 624 mr\n",
      "2 2439 bennet\n",
      "3 3924 impossible\n",
      "4 1802 when\n",
      "5 1142 i\n",
      "6 6122 am\n",
      "7 4968 not\n",
      "8 2580 acquainted\n",
      "9 4226 with\n",
      "10 923 him\n"
     ]
    },
    {
     "data": {
      "text/plain": [
       "torch.Size([11, 7265])"
      ]
     },
     "execution_count": 25,
     "metadata": {},
     "output_type": "execute_result"
    }
   ],
   "source": [
    "words_in_line = clean_text(line)\n",
    "\n",
    "word_vector = torch.zeros(len(words_in_line), len(vocabulary))\n",
    "\n",
    "for idx, w in enumerate(words_in_line):\n",
    "    j = word2idx[w]\n",
    "    word_vector[idx][j] = 1\n",
    "    print(idx, j, w)\n",
    "\n",
    "word_vector.shape\n"
   ]
  },
  {
   "cell_type": "markdown",
   "metadata": {},
   "source": [
    "# 2. Linear Regression Pytorch"
   ]
  },
  {
   "cell_type": "code",
   "execution_count": 26,
   "metadata": {},
   "outputs": [],
   "source": [
    "\n",
    "\n",
    "y = [0.5,  14.0, 15.0, 28.0, 11.0,  8.0,  3.0, -4.0,  6.0, 13.0, 21.0]\n",
    "x = [35.7, 55.9, 58.2, 81.9, 56.3, 48.9, 33.9, 21.8, 48.4, 60.4, 68.4]\n",
    "\n",
    "x= torch.tensor(x)\n",
    "y = torch.tensor(y)\n"
   ]
  },
  {
   "cell_type": "code",
   "execution_count": 27,
   "metadata": {},
   "outputs": [],
   "source": [
    "def model(w, b, x):\n",
    "    return w * x + b\n",
    "\n",
    "def loss_fn(y_true, y_pred):\n",
    "    ''' means squared error'''\n",
    "    return ((y_true - y_pred)**2).mean()\n"
   ]
  },
  {
   "cell_type": "code",
   "execution_count": 28,
   "metadata": {},
   "outputs": [
    {
     "data": {
      "text/plain": [
       "tensor(1763.8848)"
      ]
     },
     "execution_count": 28,
     "metadata": {},
     "output_type": "execute_result"
    }
   ],
   "source": [
    "w = torch.ones(1)\n",
    "b = torch.zeros(1)\n",
    "\n",
    "y_pred = model(w, b, x)\n",
    "\n",
    "loss_fn(y, y_pred)\n",
    "\n"
   ]
  },
  {
   "cell_type": "code",
   "execution_count": 29,
   "metadata": {},
   "outputs": [],
   "source": [
    "def loss_dw(y_true, y_pred):\n",
    "    return y_pred - y_true\n",
    "\n",
    "def model_dw(x):\n",
    "    return x\n",
    "\n",
    "def model_db():\n",
    "    return 1\n",
    "\n",
    "def grad_w(x, y_true,  y_pred):\n",
    "    return ((y_pred - y_true) * x).mean()\n",
    "\n",
    "def grad_b(y_true,  y_pred):\n",
    "    return (y_pred - y_true).mean()\n",
    "\n",
    "def grad_param(x, y_true, y_pred):\n",
    "    dw = grad_w(x, y_true,  y_pred)\n",
    "    db = grad_b(y_true,  y_pred)\n",
    "\n",
    "    return torch.stack([dw, db])\n",
    "\n"
   ]
  },
  {
   "cell_type": "code",
   "execution_count": 30,
   "metadata": {},
   "outputs": [
    {
     "name": "stdout",
     "output_type": "stream",
     "text": [
      "epoch:  0 loss:  80.36434173583984\n",
      "[w, b]: [1.3880701 0.0532   ]\n",
      "epoch:  1000 loss:  7.846929550170898\n",
      "[w, b]: [ 4.044966 -9.816922]\n",
      "epoch:  2000 loss:  3.8267829418182373\n",
      "[w, b]: [  4.802209 -14.103535]\n",
      "epoch:  3000 loss:  3.091984748840332\n",
      "[w, b]: [  5.12595  -15.936173]\n",
      "epoch:  4000 loss:  2.9576845169067383\n",
      "[w, b]: [  5.264355 -16.719664]\n"
     ]
    }
   ],
   "source": [
    "lr = 0.01\n",
    "epoches = 5000\n",
    "\n",
    "def training(x, y, params, epoches, lr):\n",
    "    for epoch in range(epoches):\n",
    "        w, b = params\n",
    "\n",
    "        y_pred = model(w, b, x)\n",
    "        loss = loss_fn(y, y_pred)\n",
    "        grad = grad_param(x, y, y_pred)\n",
    "\n",
    "        params = params - lr * grad\n",
    "        \n",
    "        if epoch % 1000 == 0:\n",
    "            print('epoch: ', epoch, 'loss: ', loss.item())\n",
    "            print('[w, b]:', params.numpy())\n",
    "    return params\n",
    "\n",
    "params = training(x*0.1, y, torch.tensor([1., 0.]), epoches, lr)\n"
   ]
  },
  {
   "cell_type": "code",
   "execution_count": 31,
   "metadata": {},
   "outputs": [
    {
     "data": {
      "text/plain": [
       "tensor([  5.3235, -17.0544])"
      ]
     },
     "execution_count": 31,
     "metadata": {},
     "output_type": "execute_result"
    }
   ],
   "source": [
    "params\n"
   ]
  },
  {
   "cell_type": "code",
   "execution_count": 32,
   "metadata": {},
   "outputs": [
    {
     "data": {
      "text/plain": [
       "tensor([ 1.9504, 12.7039, 13.9283, 26.5450, 12.9168,  8.9775,  0.9922, -5.4492,\n",
       "         8.7113, 15.0995, 19.3583])"
      ]
     },
     "execution_count": 32,
     "metadata": {},
     "output_type": "execute_result"
    }
   ],
   "source": [
    "y_pred = model(*params, x*0.1)\n",
    "\n",
    "y_pred\n"
   ]
  },
  {
   "cell_type": "code",
   "execution_count": 33,
   "metadata": {},
   "outputs": [
    {
     "data": {
      "text/plain": [
       "<matplotlib.collections.PathCollection at 0x7fdb2d2e1220>"
      ]
     },
     "execution_count": 33,
     "metadata": {},
     "output_type": "execute_result"
    },
    {
     "data": {
      "image/png": "[encoded data removed]",
      "text/plain": [
       "<Figure size 432x288 with 1 Axes>"
      ]
     },
     "metadata": {
      "needs_background": "light"
     },
     "output_type": "display_data"
    }
   ],
   "source": [
    "plt.plot(x.numpy(), y_pred.numpy())\n",
    "plt.scatter(x.numpy(), y.numpy())\n"
   ]
  },
  {
   "cell_type": "code",
   "execution_count": null,
   "metadata": {},
   "outputs": [],
   "source": []
  },
  {
   "cell_type": "markdown",
   "metadata": {},
   "source": [
    "# 3. MNIST Classifier Pytorch"
   ]
  },
  {
   "cell_type": "code",
   "execution_count": 34,
   "metadata": {},
   "outputs": [
    {
     "data": {
      "text/html": [
       "<div>\n",
       "<style scoped>\n",
       "    .dataframe tbody tr th:only-of-type {\n",
       "        vertical-align: middle;\n",
       "    }\n",
       "\n",
       "    .dataframe tbody tr th {\n",
       "        vertical-align: top;\n",
       "    }\n",
       "\n",
       "    .dataframe thead th {\n",
       "        text-align: right;\n",
       "    }\n",
       "</style>\n",
       "<table border=\"1\" class=\"dataframe\">\n",
       "  <thead>\n",
       "    <tr style=\"text-align: right;\">\n",
       "      <th></th>\n",
       "      <th>label</th>\n",
       "      <th>pixel0</th>\n",
       "      <th>pixel1</th>\n",
       "      <th>pixel2</th>\n",
       "      <th>pixel3</th>\n",
       "      <th>pixel4</th>\n",
       "      <th>pixel5</th>\n",
       "      <th>pixel6</th>\n",
       "      <th>pixel7</th>\n",
       "      <th>pixel8</th>\n",
       "      <th>...</th>\n",
       "      <th>pixel774</th>\n",
       "      <th>pixel775</th>\n",
       "      <th>pixel776</th>\n",
       "      <th>pixel777</th>\n",
       "      <th>pixel778</th>\n",
       "      <th>pixel779</th>\n",
       "      <th>pixel780</th>\n",
       "      <th>pixel781</th>\n",
       "      <th>pixel782</th>\n",
       "      <th>pixel783</th>\n",
       "    </tr>\n",
       "  </thead>\n",
       "  <tbody>\n",
       "    <tr>\n",
       "      <th>0</th>\n",
       "      <td>1</td>\n",
       "      <td>0</td>\n",
       "      <td>0</td>\n",
       "      <td>0</td>\n",
       "      <td>0</td>\n",
       "      <td>0</td>\n",
       "      <td>0</td>\n",
       "      <td>0</td>\n",
       "      <td>0</td>\n",
       "      <td>0</td>\n",
       "      <td>...</td>\n",
       "      <td>0</td>\n",
       "      <td>0</td>\n",
       "      <td>0</td>\n",
       "      <td>0</td>\n",
       "      <td>0</td>\n",
       "      <td>0</td>\n",
       "      <td>0</td>\n",
       "      <td>0</td>\n",
       "      <td>0</td>\n",
       "      <td>0</td>\n",
       "    </tr>\n",
       "    <tr>\n",
       "      <th>1</th>\n",
       "      <td>0</td>\n",
       "      <td>0</td>\n",
       "      <td>0</td>\n",
       "      <td>0</td>\n",
       "      <td>0</td>\n",
       "      <td>0</td>\n",
       "      <td>0</td>\n",
       "      <td>0</td>\n",
       "      <td>0</td>\n",
       "      <td>0</td>\n",
       "      <td>...</td>\n",
       "      <td>0</td>\n",
       "      <td>0</td>\n",
       "      <td>0</td>\n",
       "      <td>0</td>\n",
       "      <td>0</td>\n",
       "      <td>0</td>\n",
       "      <td>0</td>\n",
       "      <td>0</td>\n",
       "      <td>0</td>\n",
       "      <td>0</td>\n",
       "    </tr>\n",
       "    <tr>\n",
       "      <th>2</th>\n",
       "      <td>1</td>\n",
       "      <td>0</td>\n",
       "      <td>0</td>\n",
       "      <td>0</td>\n",
       "      <td>0</td>\n",
       "      <td>0</td>\n",
       "      <td>0</td>\n",
       "      <td>0</td>\n",
       "      <td>0</td>\n",
       "      <td>0</td>\n",
       "      <td>...</td>\n",
       "      <td>0</td>\n",
       "      <td>0</td>\n",
       "      <td>0</td>\n",
       "      <td>0</td>\n",
       "      <td>0</td>\n",
       "      <td>0</td>\n",
       "      <td>0</td>\n",
       "      <td>0</td>\n",
       "      <td>0</td>\n",
       "      <td>0</td>\n",
       "    </tr>\n",
       "    <tr>\n",
       "      <th>3</th>\n",
       "      <td>4</td>\n",
       "      <td>0</td>\n",
       "      <td>0</td>\n",
       "      <td>0</td>\n",
       "      <td>0</td>\n",
       "      <td>0</td>\n",
       "      <td>0</td>\n",
       "      <td>0</td>\n",
       "      <td>0</td>\n",
       "      <td>0</td>\n",
       "      <td>...</td>\n",
       "      <td>0</td>\n",
       "      <td>0</td>\n",
       "      <td>0</td>\n",
       "      <td>0</td>\n",
       "      <td>0</td>\n",
       "      <td>0</td>\n",
       "      <td>0</td>\n",
       "      <td>0</td>\n",
       "      <td>0</td>\n",
       "      <td>0</td>\n",
       "    </tr>\n",
       "    <tr>\n",
       "      <th>4</th>\n",
       "      <td>0</td>\n",
       "      <td>0</td>\n",
       "      <td>0</td>\n",
       "      <td>0</td>\n",
       "      <td>0</td>\n",
       "      <td>0</td>\n",
       "      <td>0</td>\n",
       "      <td>0</td>\n",
       "      <td>0</td>\n",
       "      <td>0</td>\n",
       "      <td>...</td>\n",
       "      <td>0</td>\n",
       "      <td>0</td>\n",
       "      <td>0</td>\n",
       "      <td>0</td>\n",
       "      <td>0</td>\n",
       "      <td>0</td>\n",
       "      <td>0</td>\n",
       "      <td>0</td>\n",
       "      <td>0</td>\n",
       "      <td>0</td>\n",
       "    </tr>\n",
       "  </tbody>\n",
       "</table>\n",
       "<p>5 rows × 785 columns</p>\n",
       "</div>"
      ],
      "text/plain": [
       "   label  pixel0  pixel1  pixel2  pixel3  pixel4  pixel5  pixel6  pixel7  \\\n",
       "0      1       0       0       0       0       0       0       0       0   \n",
       "1      0       0       0       0       0       0       0       0       0   \n",
       "2      1       0       0       0       0       0       0       0       0   \n",
       "3      4       0       0       0       0       0       0       0       0   \n",
       "4      0       0       0       0       0       0       0       0       0   \n",
       "\n",
       "   pixel8  ...  pixel774  pixel775  pixel776  pixel777  pixel778  pixel779  \\\n",
       "0       0  ...         0         0         0         0         0         0   \n",
       "1       0  ...         0         0         0         0         0         0   \n",
       "2       0  ...         0         0         0         0         0         0   \n",
       "3       0  ...         0         0         0         0         0         0   \n",
       "4       0  ...         0         0         0         0         0         0   \n",
       "\n",
       "   pixel780  pixel781  pixel782  pixel783  \n",
       "0         0         0         0         0  \n",
       "1         0         0         0         0  \n",
       "2         0         0         0         0  \n",
       "3         0         0         0         0  \n",
       "4         0         0         0         0  \n",
       "\n",
       "[5 rows x 785 columns]"
      ]
     },
     "execution_count": 34,
     "metadata": {},
     "output_type": "execute_result"
    }
   ],
   "source": [
    "df_images = pd.read_csv('./data/train.csv')\n",
    "\n",
    "df_images.head()\n"
   ]
  },
  {
   "cell_type": "code",
   "execution_count": 35,
   "metadata": {},
   "outputs": [
    {
     "data": {
      "text/plain": [
       "(1000, 785)"
      ]
     },
     "execution_count": 35,
     "metadata": {},
     "output_type": "execute_result"
    }
   ],
   "source": [
    "df_images.shape\n"
   ]
  },
  {
   "cell_type": "code",
   "execution_count": 36,
   "metadata": {},
   "outputs": [
    {
     "data": {
      "text/plain": [
       "<matplotlib.image.AxesImage at 0x7fdb2d462520>"
      ]
     },
     "execution_count": 36,
     "metadata": {},
     "output_type": "execute_result"
    },
    {
     "data": {
      "image/png": "[encoded data removed]",
      "text/plain": [
       "<Figure size 432x288 with 1 Axes>"
      ]
     },
     "metadata": {
      "needs_background": "light"
     },
     "output_type": "display_data"
    }
   ],
   "source": [
    "plt.imshow(df_images.iloc[0, 1:].values.reshape(28, 28), cmap=plt.get_cmap('gray'))\n"
   ]
  },
  {
   "cell_type": "markdown",
   "metadata": {},
   "source": [
    "## Load Dataset"
   ]
  },
  {
   "cell_type": "code",
   "execution_count": 37,
   "metadata": {},
   "outputs": [],
   "source": [
    "def load_data(filename):\n",
    "    df_images = pd.read_csv(filename)\n",
    "\n",
    "    X = df_images.drop('label', axis=1)\n",
    "    y = df_images['label']\n",
    "\n",
    "    X = X.values.reshape(len(X), 1, 28, 28)\n",
    "    y = y.values\n",
    "    \n",
    "    X = torch.tensor(X).float()\n",
    "    y = torch.tensor(y)\n",
    "\n",
    "    return X, y\n"
   ]
  },
  {
   "cell_type": "markdown",
   "metadata": {},
   "source": [
    "## Training"
   ]
  },
  {
   "cell_type": "code",
   "execution_count": 38,
   "metadata": {},
   "outputs": [],
   "source": [
    "import torch\n",
    "from torch import nn, optim\n",
    "import torch.nn.functional as F\n",
    "\n",
    "class MNISTClassifier(nn.Module):\n",
    "    def __init__(self):\n",
    "        super().__init__()\n",
    "        \n",
    "        self.fc1 = nn.Linear(784, 392)\n",
    "        self.fc2 = nn.Linear(392, 196)\n",
    "        self.fc3 = nn.Linear(196, 98)\n",
    "        self.fc4 = nn.Linear(98, 10)\n",
    "        \n",
    "        self.dropout = nn.Dropout(p=.2)\n",
    "        \n",
    "    def forward(self, inputs):\n",
    "        x = inputs.view(inputs.shape[0], -1)\n",
    "        \n",
    "        x = F.relu(self.fc1(x))\n",
    "        x = F.relu(self.fc2(x))\n",
    "        x = F.relu(self.fc3(x))\n",
    "\n",
    "        x = F.log_softmax(self.fc4(x), dim=1)\n",
    "        \n",
    "        return x        \n"
   ]
  },
  {
   "cell_type": "code",
   "execution_count": 39,
   "metadata": {},
   "outputs": [
    {
     "data": {
      "text/plain": [
       "MNISTClassifier(\n",
       "  (fc1): Linear(in_features=784, out_features=392, bias=True)\n",
       "  (fc2): Linear(in_features=392, out_features=196, bias=True)\n",
       "  (fc3): Linear(in_features=196, out_features=98, bias=True)\n",
       "  (fc4): Linear(in_features=98, out_features=10, bias=True)\n",
       "  (dropout): Dropout(p=0.2, inplace=False)\n",
       ")"
      ]
     },
     "execution_count": 39,
     "metadata": {},
     "output_type": "execute_result"
    }
   ],
   "source": [
    "model = MNISTClassifier()\n",
    "loss_fn = nn.NLLLoss()\n",
    "optimizer = optim.Adam(model.parameters(), lr = 0.001)\n",
    "\n",
    "model\n"
   ]
  },
  {
   "cell_type": "code",
   "execution_count": 40,
   "metadata": {},
   "outputs": [],
   "source": [
    "def training(X, y, model, epoches, loss_fn, optimizer):\n",
    "    for epoch in range(epoches):\n",
    "        y_pred = model(X)\n",
    "        loss_train = loss_fn(y_pred, y)\n",
    "        \n",
    "        optimizer.zero_grad()\n",
    "        loss_train.backward()\n",
    "        optimizer.step()\n",
    "        \n",
    "        if epoch % 10 == 0:\n",
    "            print('Epoch [%d/%d]: Loss: %.4f' % (epoch+1, epoches, loss_train.item()))\n"
   ]
  },
  {
   "cell_type": "code",
   "execution_count": 41,
   "metadata": {},
   "outputs": [
    {
     "name": "stdout",
     "output_type": "stream",
     "text": [
      "Epoch [1/50]: Loss: 4.7718\n",
      "Epoch [11/50]: Loss: 0.7783\n",
      "Epoch [21/50]: Loss: 0.2212\n",
      "Epoch [31/50]: Loss: 0.0518\n",
      "Epoch [41/50]: Loss: 0.0126\n"
     ]
    }
   ],
   "source": [
    "X_train, y_train = load_data('./data/train.csv')\n",
    "\n",
    "training(\n",
    "    X_train, y_train, \n",
    "    model=model, \n",
    "    epoches=50, \n",
    "    loss_fn=loss_fn, \n",
    "    optimizer=optimizer\n",
    ")"
   ]
  },
  {
   "cell_type": "markdown",
   "metadata": {},
   "source": [
    "## Prediction"
   ]
  },
  {
   "cell_type": "code",
   "execution_count": 42,
   "metadata": {},
   "outputs": [],
   "source": [
    "X_test, y_test = load_data('./data/test.csv')\n"
   ]
  },
  {
   "cell_type": "code",
   "execution_count": 43,
   "metadata": {},
   "outputs": [
    {
     "data": {
      "text/plain": [
       "0.885"
      ]
     },
     "execution_count": 43,
     "metadata": {},
     "output_type": "execute_result"
    }
   ],
   "source": [
    "y_test_pred = model(X_test)\n",
    "\n",
    "_, y_test_pred_idx = torch.max(y_test_pred, dim=1)\n",
    "\n",
    "len([ 1 for y_pred, y_true in zip(y_test_pred_idx, y_test) if y_pred == y_true ]) / len(y_test)\n"
   ]
  },
  {
   "cell_type": "markdown",
   "metadata": {},
   "source": [
    "# 4. CBOW Pytorch\n",
    "\n"
   ]
  },
  {
   "cell_type": "code",
   "execution_count": 44,
   "metadata": {},
   "outputs": [],
   "source": [
    "import torch\n",
    "import torch.nn as nn\n"
   ]
  },
  {
   "cell_type": "code",
   "execution_count": 45,
   "metadata": {},
   "outputs": [],
   "source": [
    "text = \"\"\"How that personage haunted my dreams, I need scarcely tell you. On\n",
    "stormy nights, when the wind shook the four corners of the house and\n",
    "the surf roared along the cove and up the cliffs, I would see him in a\n",
    "thousand forms, and with a thousand diabolical expressions. Now the leg\n",
    "would be cut off at the knee, now at the hip, now he was a monstrous\n",
    "kind of a creature who had never had but the one leg, and that in the\n",
    "middle of his body. To see him leap and run and pursue me over hedge and\n",
    "ditch was the worst of nightmares. And altogether I paid pretty dear for\n",
    "my monthly fourpenny piece, in the shape of these abominable fancies\"\"\"\n",
    "\n",
    "tokens = text.replace(',','').replace('.','').lower().split()\n"
   ]
  },
  {
   "cell_type": "code",
   "execution_count": 46,
   "metadata": {},
   "outputs": [],
   "source": [
    "\n",
    "def build_word_id_mapping(corpus):\n",
    "    vocabulary = set(corpus)\n",
    "    voc_size = len(vocabulary)\n",
    "    \n",
    "    word_dict = {}\n",
    "    inverse_word_dict = {}\n",
    "\n",
    "    for i, word in enumerate(vocabulary):\n",
    "        word_dict[word] = i\n",
    "        inverse_word_dict[i] = word\n",
    "\n",
    "    return voc_size, word_dict, inverse_word_dict\n",
    "\n",
    "\n",
    "def get_context_idx(context, word_dict):\n",
    "    '''\n",
    "    context: ['a', 'b', 'c']\n",
    "    '''\n",
    "    idx = [ word_dict[w] for w in context ]\n",
    "\n",
    "    return torch.tensor(idx, dtype=torch.long)\n"
   ]
  },
  {
   "cell_type": "code",
   "execution_count": 47,
   "metadata": {},
   "outputs": [],
   "source": [
    "def build_context_target(text, win_size = 2):\n",
    "    data = []\n",
    "\n",
    "    for i in range(win_size, len(text) - win_size):\n",
    "        context = [\n",
    "            text[i-2], text[i-1],\n",
    "            text[i+1], text[i+2],\n",
    "        ]\n",
    "        \n",
    "        target=text[i]\n",
    "    \n",
    "        data.append((context, target))\n",
    "\n",
    "    return data\n"
   ]
  },
  {
   "cell_type": "code",
   "execution_count": 48,
   "metadata": {},
   "outputs": [],
   "source": [
    "class CBow(nn.Module):\n",
    "    def __init__(self, v_size, embedding_size, hidden_size):\n",
    "        super().__init__()\n",
    "        self.embedding = nn.Embedding(v_size, embedding_size)\n",
    "        self.fc1 = nn.Linear(embedding_size, hidden_size)\n",
    "        self.relu = nn.ReLU()\n",
    "        self.fc2 = nn.Linear(hidden_size, v_size)\n",
    "        self.softmax = nn.LogSoftmax(dim=1)\n",
    "        \n",
    "    def forward(self, inputs):\n",
    "        embedding = sum(self.embedding(inputs)).view(1, -1) # (1, E)\n",
    "        out = self.fc1(embedding)\n",
    "        out = self.relu(out)\n",
    "        out = self.fc2(out)\n",
    "        out = self.softmax(out)\n",
    "        return out\n"
   ]
  },
  {
   "cell_type": "code",
   "execution_count": 49,
   "metadata": {},
   "outputs": [],
   "source": [
    "\n",
    "def training(model, data, v_size, word_dict):\n",
    "    optimizer = optim.SGD(model.parameters(), lr=0.01)\n",
    "    loss_fn = nn.NLLLoss()\n",
    "    epoches = 100\n",
    "\n",
    "    for epoch in range(epoches):\n",
    "        epoch_loss = 0\n",
    "        for context, target in data:\n",
    "            context_ids = get_context_idx(context, word_dict)\n",
    "\n",
    "            log_probs = model(context_ids)\n",
    "            loss = loss_fn(log_probs, torch.tensor([word_dict[target]], dtype=torch.long))\n",
    "\n",
    "            model.zero_grad()\n",
    "            loss.backward()\n",
    "            optimizer.step()\n",
    "\n",
    "            epoch_loss += loss.item()\n",
    "\n",
    "        if epoch == 0 or (epoch + 1) % 10 == 0:\n",
    "            print('Epoch %d/%d, Train Loss: %4.f' % (epoch + 1, epoches, epoch_loss))\n"
   ]
  },
  {
   "cell_type": "code",
   "execution_count": 50,
   "metadata": {},
   "outputs": [
    {
     "name": "stdout",
     "output_type": "stream",
     "text": [
      "Epoch 1/100, Train Loss:  532\n",
      "Epoch 10/100, Train Loss:  176\n",
      "Epoch 20/100, Train Loss:   26\n",
      "Epoch 30/100, Train Loss:    9\n",
      "Epoch 40/100, Train Loss:    5\n",
      "Epoch 50/100, Train Loss:    3\n",
      "Epoch 60/100, Train Loss:    3\n",
      "Epoch 70/100, Train Loss:    2\n",
      "Epoch 80/100, Train Loss:    2\n",
      "Epoch 90/100, Train Loss:    1\n",
      "Epoch 100/100, Train Loss:    1\n"
     ]
    }
   ],
   "source": [
    "v_size, word_dict, inverse_word_dict = build_word_id_mapping(tokens)\n",
    "\n",
    "data = build_context_target(tokens)\n",
    "\n",
    "model = CBow(v_size, 20, 64)\n",
    "\n",
    "training(model, data, v_size, word_dict)\n"
   ]
  },
  {
   "cell_type": "code",
   "execution_count": 51,
   "metadata": {},
   "outputs": [
    {
     "data": {
      "text/plain": [
       "tensor([[-0.4131,  1.7616, -0.6311,  1.3714,  0.8231, -0.3679, -0.3469,  0.4156,\n",
       "         -1.1271,  1.6484, -0.0486, -1.6873,  0.4396, -0.7184, -0.9546,  0.0995,\n",
       "         -0.7428, -0.2030,  1.2041, -0.7599]], grad_fn=<EmbeddingBackward>)"
      ]
     },
     "execution_count": 51,
     "metadata": {},
     "output_type": "execute_result"
    }
   ],
   "source": [
    "model.embedding( torch.tensor( [ word_dict['leap'] ], dtype=torch.long ) )\n"
   ]
  },
  {
   "cell_type": "code",
   "execution_count": 52,
   "metadata": {},
   "outputs": [],
   "source": [
    "def find_similarity(\n",
    "    embedding,\n",
    "    word_dict, inverse_word_dict, v_size, \n",
    "    word, top_n\n",
    "):\n",
    "    v_w1 = embedding( torch.tensor( [ word_dict[word] ], dtype=torch.long ) ).detach().numpy()\n",
    "\n",
    "    word_sim = {}\n",
    "    for i in range(v_size):\n",
    "        v_w2 = embedding(torch.tensor(i)).detach().numpy()\n",
    "        theta = np.dot(v_w1, v_w2) / (np.linalg.norm(v_w1) * np.linalg.norm(v_w2))\n",
    "        word = inverse_word_dict[i]\n",
    "        word_sim[word] = theta\n",
    "\n",
    "    words_sorted = sorted(word_sim.items(), key=lambda kv: kv[1], reverse=True)\n",
    "\n",
    "    for word, sim in words_sorted[:top_n]:\n",
    "        print(word, sim)\n"
   ]
  },
  {
   "cell_type": "code",
   "execution_count": 53,
   "metadata": {},
   "outputs": [
    {
     "name": "stdout",
     "output_type": "stream",
     "text": [
      "pretty [0.99999994]\n",
      "altogether [0.68747884]\n",
      "my [0.62062633]\n",
      "how [0.45483753]\n",
      "that [0.40294233]\n"
     ]
    }
   ],
   "source": [
    "find_similarity(\n",
    "    model.embedding, word_dict, inverse_word_dict, v_size,\n",
    "    'pretty', 5\n",
    ")"
   ]
  },
  {
   "cell_type": "code",
   "execution_count": 54,
   "metadata": {},
   "outputs": [
    {
     "data": {
      "text/plain": [
       "dict_keys(['run', 'at', 'house', 'abominable', 'but', 'corners', 'stormy', 'over', 'and', 'thousand', 'paid', 'of', 'ditch', 'pretty', 'pursue', 'fancies', 'cliffs', 'to', 'four', 'now', 'the', 'cut', 'roared', 'me', 'wind', 'need', 'creature', 'these', 'a', 'surf', 'my', 'shape', 'how', 'monthly', 'shook', 'when', 'dreams', 'that', 'cove', 'tell', 'had', 'haunted', 'kind', 'worst', 'see', 'off', 'hedge', 'monstrous', 'middle', 'scarcely', 'piece', 'i', 'his', 'on', 'who', 'for', 'be', 'up', 'him', 'hip', 'personage', 'expressions', 'in', 'leap', 'leg', 'you', 'he', 'was', 'diabolical', 'nightmares', 'nights', 'forms', 'one', 'along', 'never', 'with', 'would', 'altogether', 'fourpenny', 'dear', 'knee', 'body'])"
      ]
     },
     "execution_count": 54,
     "metadata": {},
     "output_type": "execute_result"
    }
   ],
   "source": [
    "word_dict.keys()"
   ]
  },
  {
   "cell_type": "code",
   "execution_count": null,
   "metadata": {},
   "outputs": [],
   "source": []
  },
  {
   "cell_type": "markdown",
   "metadata": {},
   "source": [
    "## 5. RNN"
   ]
  },
  {
   "cell_type": "code",
   "execution_count": null,
   "metadata": {},
   "outputs": [],
   "source": [
    "!wget https://archive.ics.uci.edu/ml/machine-learning-databases/00331/sentiment%20labelled%20sentences.zip -P data\n",
    "    \n",
    "!unzip './data/sentiment labelled sentences.zip' -d data\n"
   ]
  },
  {
   "cell_type": "code",
   "execution_count": 243,
   "metadata": {},
   "outputs": [],
   "source": [
    "with open(\"./data/sentiment.txt\") as f:\n",
    "    reviews = f.read()\n",
    "\n",
    "data = pd.DataFrame([ \n",
    "    review.split('\\t') for review in reviews.split('\\n') ],\n",
    "    columns=['review', 'label']\n",
    ")\n"
   ]
  },
  {
   "cell_type": "code",
   "execution_count": 244,
   "metadata": {},
   "outputs": [
    {
     "data": {
      "text/html": [
       "<div>\n",
       "<style scoped>\n",
       "    .dataframe tbody tr th:only-of-type {\n",
       "        vertical-align: middle;\n",
       "    }\n",
       "\n",
       "    .dataframe tbody tr th {\n",
       "        vertical-align: top;\n",
       "    }\n",
       "\n",
       "    .dataframe thead th {\n",
       "        text-align: right;\n",
       "    }\n",
       "</style>\n",
       "<table border=\"1\" class=\"dataframe\">\n",
       "  <thead>\n",
       "    <tr style=\"text-align: right;\">\n",
       "      <th></th>\n",
       "      <th>review</th>\n",
       "      <th>label</th>\n",
       "    </tr>\n",
       "  </thead>\n",
       "  <tbody>\n",
       "    <tr>\n",
       "      <th>0</th>\n",
       "      <td>A very, very, very slow-moving, aimless movie ...</td>\n",
       "      <td>0</td>\n",
       "    </tr>\n",
       "    <tr>\n",
       "      <th>1</th>\n",
       "      <td>Not sure who was more lost - the flat characte...</td>\n",
       "      <td>0</td>\n",
       "    </tr>\n",
       "    <tr>\n",
       "      <th>2</th>\n",
       "      <td>Attempting artiness with black &amp; white and cle...</td>\n",
       "      <td>0</td>\n",
       "    </tr>\n",
       "    <tr>\n",
       "      <th>3</th>\n",
       "      <td>Very little music or anything to speak of.</td>\n",
       "      <td>0</td>\n",
       "    </tr>\n",
       "    <tr>\n",
       "      <th>4</th>\n",
       "      <td>The best scene in the movie was when Gerardo i...</td>\n",
       "      <td>1</td>\n",
       "    </tr>\n",
       "  </tbody>\n",
       "</table>\n",
       "</div>"
      ],
      "text/plain": [
       "                                              review label\n",
       "0  A very, very, very slow-moving, aimless movie ...     0\n",
       "1  Not sure who was more lost - the flat characte...     0\n",
       "2  Attempting artiness with black & white and cle...     0\n",
       "3       Very little music or anything to speak of.       0\n",
       "4  The best scene in the movie was when Gerardo i...     1"
      ]
     },
     "execution_count": 244,
     "metadata": {},
     "output_type": "execute_result"
    }
   ],
   "source": [
    "data.head()\n"
   ]
  },
  {
   "cell_type": "code",
   "execution_count": 245,
   "metadata": {},
   "outputs": [
    {
     "data": {
      "text/plain": [
       "(3000, 2)"
      ]
     },
     "execution_count": 245,
     "metadata": {},
     "output_type": "execute_result"
    }
   ],
   "source": [
    "data.shape"
   ]
  },
  {
   "cell_type": "code",
   "execution_count": 253,
   "metadata": {},
   "outputs": [],
   "source": [
    "import string, re\n",
    "from nltk.tokenize import word_tokenize\n",
    "from nltk.corpus import stopwords\n",
    "\n",
    "stop_words_en = stopwords.words('english')\n",
    "\n",
    "def load_data():\n",
    "    with open(\"./data/sentiment.txt\") as f:\n",
    "        reviews = f.read()\n",
    "\n",
    "    data = pd.DataFrame([ \n",
    "      review.split('\\t') for review in reviews.split('\\n') ],\n",
    "      columns=['review', 'label']\n",
    "    )\n",
    "\n",
    "    return data\n",
    "\n",
    "def clen_sentence(text):\n",
    "    '''\n",
    "    extract useful tokens from a sentence\n",
    "    '''\n",
    "    text = text.lower()\n",
    "\n",
    "    text = text.translate(str.maketrans('', '', string.punctuation))\n",
    "    \n",
    "    tokens = word_tokenize(text)\n",
    "    \n",
    "    # remove stopping words\n",
    "    tokens = [ w for w in tokens if w not in stop_words_en ]\n",
    "    tokens = [ w for w in tokens if len(w) > 1 ]\n",
    "    \n",
    "    # return tokens\n",
    "    return ' '.join(tokens)\n",
    "\n",
    "def build_vocabulary(corpus):\n",
    "    '''\n",
    "    tokens: a list of tokens of the corpus\n",
    "\n",
    "    build_vocabulary(['work', 'eat', 'school', 'read', 'cat', 'eat'])\n",
    "    '''\n",
    "    \n",
    "    tokens = [ w for line in corpus for w in line ]\n",
    "    vocab = set(tokens)\n",
    "\n",
    "    word_id = {}\n",
    "    inverse_word_id = {}\n",
    "    for i, word in enumerate(vocab):\n",
    "        word_id[word] = i+1\n",
    "        inverse_word_id[i+1] = word\n",
    "\n",
    "    pad_char = '*'\n",
    "    word_id[pad_char] = 0\n",
    "    inverse_word_id[0] = pad_char\n",
    "    vocab.add(pad_char)\n",
    "\n",
    "    return vocab, word_id, inverse_word_id\n",
    "\n",
    "def pad_text(text, seq_len, pad_str):\n",
    "    '''\n",
    "    RNN takes a fixed length of sequence\n",
    "    '''\n",
    "\n",
    "    review = None\n",
    "    text_size = len(text)\n",
    "\n",
    "    if text_size >= seq_len:\n",
    "        review = text[:seq_len]\n",
    "    else:\n",
    "        review = [pad_str] * (seq_len - text_size) + text\n",
    "    \n",
    "    return review\n",
    "\n"
   ]
  },
  {
   "cell_type": "code",
   "execution_count": 272,
   "metadata": {},
   "outputs": [],
   "source": [
    "def clean_df(data):\n",
    "    data['cleaned_review'] = [ clen_sentence(review) for review in data['review'].values ]\n",
    "\n",
    "    data['word_len'] = [ len(x.split()) for x in data['cleaned_review'] ]\n",
    "    data = data[data['word_len'] > 1]\n",
    "    \n",
    "    print('max len: ', data['word_len'].max())\n",
    "    print('min len: ', data['word_len'].min())\n",
    "    print('mean len: ', data['word_len'].mean())\n",
    "\n",
    "    corpus = [ x.split() for x in data['cleaned_review'] ]\n",
    "    label = data['label'].values.astype(int)\n",
    "    \n",
    "    return corpus, label\n",
    "\n",
    "def text_preprocess(seq_len=40):\n",
    "    df = load_data()\n",
    "    corpus, label = clean_df(df)\n",
    "    vocab, word_id, inverse_word_id = build_vocabulary(corpus)\n",
    "\n",
    "    padding_corpus = [ pad_text(text, seq_len, inverse_word_id[0]) for text in corpus ]\n",
    "    encoded_corpus = np.array([ [ word_id[t] for t in sent ] for sent in padding_corpus ])\n",
    "\n",
    "    # save\n",
    "    np.savetxt(\n",
    "        \"data/cleaned_review.csv\", \n",
    "        np.concatenate((encoded_corpus, label[:, np.newaxis]), axis=1), \n",
    "        fmt='%d',\n",
    "        delimiter=\",\"\n",
    "    )\n",
    "    \n",
    "\n",
    "    with open('data/word_id.json', 'w') as f:\n",
    "        json.dump(word_id, f)\n"
   ]
  },
  {
   "cell_type": "code",
   "execution_count": 273,
   "metadata": {},
   "outputs": [],
   "source": [
    "import torch\n",
    "from torch.utils.data import TensorDataset, DataLoader\n",
    "from torch import nn\n",
    "from torch import optim\n"
   ]
  },
  {
   "cell_type": "code",
   "execution_count": 274,
   "metadata": {},
   "outputs": [],
   "source": [
    "\n",
    "def build_data_loader(X, y, batch_size):\n",
    "    '''\n",
    "    TensorDataset is a subclass of Dataset, \n",
    "    as long as the tensor is passed in, it is indexed by the first dimension.\n",
    "    '''\n",
    "    total_len = len(X)\n",
    "    train_cutoff = int(0.7 * total_len)\n",
    "    valid_cutoff = int(0.8 * total_len)\n",
    "\n",
    "    rand_idx = torch.randperm(total_len)\n",
    "    train_index = rand_idx[:train_cutoff]\n",
    "    valid_index = rand_idx[train_cutoff:valid_cutoff]\n",
    "    test_index = rand_idx[valid_cutoff:]\n",
    "\n",
    "    \n",
    "    X_train, y_train = torch.Tensor(X[train_index]).long(), torch.Tensor(y[train_index]).float()\n",
    "    X_valid, y_valid = torch.Tensor(X[valid_index]).long(), torch.Tensor(y[valid_index]).float()\n",
    "    X_test, y_test = torch.Tensor(X[test_index]).long(), torch.Tensor(y[test_index]).float()\n",
    "    \n",
    "    train_data = TensorDataset(X_train, y_train)\n",
    "    valid_data = TensorDataset(X_valid, y_valid)\n",
    "    test_data = TensorDataset(X_test, y_test)\n",
    "\n",
    "    train_loader = DataLoader(train_data, batch_size, shuffle=True)\n",
    "    valid_loader = DataLoader(valid_data, batch_size, shuffle=True)\n",
    "    test_loader = DataLoader(test_data, batch_size, shuffle=True)\n",
    "    \n",
    "    return train_loader, valid_loader, test_loader\n"
   ]
  },
  {
   "cell_type": "code",
   "execution_count": 275,
   "metadata": {},
   "outputs": [],
   "source": [
    "\n",
    "class SentimentLSTM(nn.Module):\n",
    "    def __init__(self, vocab_size, embed_dim, hidden_dim, n_layers, output_dim):\n",
    "        super().__init__()\n",
    "        \n",
    "        self.vocab_size = vocab_size  \n",
    "        self.hidden_dim = hidden_dim\n",
    "        self.n_layers = n_layers \n",
    "\n",
    "        self.embedding = nn.Embedding(vocab_size, embed_dim)\n",
    "        self.lstm = nn.LSTM(\n",
    "            embed_dim, hidden_dim, \n",
    "            n_layers, batch_first=True, \n",
    "        )\n",
    "        self.fc = nn.Linear(hidden_dim, output_dim)\n",
    "\n",
    "    def forward(self, inputs):\n",
    "        # Embedding: (batch_size, seq_n, D)\n",
    "        embed_words = self.embedding(inputs)\n",
    "\n",
    "        # out: (batch_size, seq_n, H)\n",
    "        out, h = self.lstm(embed_words)\n",
    "        out = out.contiguous().view(-1, hidden_dim)\n",
    "  \n",
    "        # fc_out: (batch_size*seq_n, 1)\n",
    "        fc_out = self.fc(out)\n",
    "        fc_out = torch.sigmoid(fc_out)\n",
    "        # fc_out: (batch_size, seq_n)\n",
    "        fc_out = fc_out.view(embed_words.shape[0], -1) \n",
    "\n",
    "        # fc_out: (batch_size, 1)\n",
    "        sigmoid_last = fc_out[:, -2:-1].squeeze(dim=1)\n",
    "\n",
    "\n",
    "        return sigmoid_last, h\n"
   ]
  },
  {
   "cell_type": "code",
   "execution_count": 276,
   "metadata": {},
   "outputs": [],
   "source": [
    "def training():\n",
    "    prev_valid_loss = 99999\n",
    "\n",
    "    for epoch in range(epoches):\n",
    "        model.train()\n",
    "        for inputs, t_label in train_loader:\n",
    "            out, h = model(inputs)\n",
    "\n",
    "            # .squeeze() => dimensions of 1 removed\n",
    "            loss = loss_fn(out, t_label)\n",
    "\n",
    "            model.zero_grad()\n",
    "            loss.backward()\n",
    "            optimizer.step()\n",
    "\n",
    "             \n",
    "        model.eval()\n",
    "        valid_loss = []\n",
    "        for inputs, v_label in valid_loader:\n",
    "            v_out, v_h = model(inputs)\n",
    "            v_loss = loss_fn(v_out, v_label)\n",
    "            valid_loss.append(v_loss.item())\n",
    "\n",
    "        mean_valid_loss = np.mean(valid_loss)\n",
    "        print('Epoch %d, train loss: %.4f, valid loss: %.4f' % (epoch, loss.item(), mean_valid_loss))\n",
    "        \n",
    "        # early stopping\n",
    "#         if mean_valid_loss > prev_valid_loss:\n",
    "#             break\n",
    "#         else:\n",
    "#             prev_valid_loss = mean_valid_loss\n"
   ]
  },
  {
   "cell_type": "code",
   "execution_count": 280,
   "metadata": {},
   "outputs": [
    {
     "name": "stdout",
     "output_type": "stream",
     "text": [
      "max len:  41\n",
      "min len:  2\n",
      "mean len:  6.35348997926745\n",
      "vocab size,  5251\n",
      "(2894, 40) (2894,)\n",
      "SentimentLSTM(\n",
      "  (embedding): Embedding(5251, 30)\n",
      "  (lstm): LSTM(30, 100, batch_first=True)\n",
      "  (fc): Linear(in_features=100, out_features=1, bias=True)\n",
      ")\n",
      "embedding.weight torch.Size([5251, 30])\n",
      "lstm.weight_ih_l0 torch.Size([400, 30])\n",
      "lstm.weight_hh_l0 torch.Size([400, 100])\n",
      "lstm.bias_ih_l0 torch.Size([400])\n",
      "lstm.bias_hh_l0 torch.Size([400])\n",
      "fc.weight torch.Size([1, 100])\n",
      "fc.bias torch.Size([1])\n",
      "Epoch 0, train loss: 1.2273, valid loss: 0.6587\n",
      "Epoch 1, train loss: 1.1266, valid loss: 0.6344\n",
      "Epoch 2, train loss: 0.4216, valid loss: 0.6510\n"
     ]
    }
   ],
   "source": [
    "# step 1\n",
    "text_preprocess()\n",
    "\n",
    "cleaned_df = pd.read_csv('data/cleaned_review.csv', header=None)\n",
    "with open('data/word_id.json') as f:\n",
    "    word_id = json.load(f)\n",
    "\n",
    "\n",
    "encoded_corpus = cleaned_df.iloc[:, :-1].values\n",
    "label = cleaned_df.iloc[:, -1].values\n",
    "\n",
    "print('vocab size, ', len(word_id))\n",
    "print(encoded_corpus.shape, label.shape)\n",
    "\n",
    "# step 2\n",
    "parameters = {\n",
    "  'vocab_size': len(word_id),\n",
    "  'embed_dim': 30,\n",
    "  'hidden_dim': 100,\n",
    "  'n_layers': 1,\n",
    "  'output_dim': 1\n",
    "}\n",
    "\n",
    "model = SentimentLSTM(**parameters)\n",
    "print(model)\n",
    "for n, p in model.named_parameters():\n",
    "    print(n, p.shape)\n",
    "\n",
    "# step 3\n",
    "train_loader, valid_loader, test_loader = build_data_loader(encoded_corpus, label, batch_size=1)\n",
    "\n",
    "# step 4\n",
    "epoches = 3\n",
    "loss_fn = nn.BCELoss()\n",
    "optimizer = optim.Adam(model.parameters(), lr = 0.001)\n",
    "\n",
    "training()\n"
   ]
  },
  {
   "cell_type": "code",
   "execution_count": 281,
   "metadata": {},
   "outputs": [],
   "source": [
    "torch.save(model.state_dict(), 'model.pkl')\n"
   ]
  },
  {
   "cell_type": "code",
   "execution_count": 282,
   "metadata": {},
   "outputs": [
    {
     "name": "stdout",
     "output_type": "stream",
     "text": [
      "Test Loss: 0.6452\n",
      "Test Accuracy: 0.67\n"
     ]
    }
   ],
   "source": [
    "def test():\n",
    "    model = SentimentLSTM(**parameters)\n",
    "    model.load_state_dict(torch.load('model.pkl'))\n",
    "    \n",
    "    model.eval()\n",
    "    test_loss = []\n",
    "    toal_correct=0\n",
    "    for inputs, v_label in test_loader:\n",
    "        v_out, v_h = model(inputs)        \n",
    "        v_loss = loss_fn(v_out, v_label)\n",
    "        \n",
    "        test_loss.append(v_loss.item())        \n",
    "\n",
    "        pred_label = torch.round(v_out)\n",
    "        batch_correct = pred_label.eq(v_label.view_as(pred_label)).sum()\n",
    "        toal_correct += batch_correct\n",
    "        \n",
    "    print(\"Test Loss: {:.4f}\".format(np.mean(test_loss)))\n",
    "    print(\"Test Accuracy: {:.2f}\".format(toal_correct/len(test_loader.dataset)))\n",
    "\n",
    "test()\n"
   ]
  },
  {
   "cell_type": "markdown",
   "metadata": {},
   "source": [
    "# 6. Layer"
   ]
  },
  {
   "cell_type": "code",
   "execution_count": null,
   "metadata": {},
   "outputs": [],
   "source": [
    "\"\"\"\n",
    "all layers have parameter 'params', method 'forward()` \n",
    "\"\"\"\n",
    "\n",
    "class Sigmoid:\n",
    "    def __init__(self):\n",
    "        self.params, self.grads = [], []\n",
    "        self.y = None\n",
    "\n",
    "    def forward(self, x):\n",
    "        self.y = 1 / (1 + np.exp(-x))\n",
    "        return self.y\n",
    "    \n",
    "    def backward(self, dout):\n",
    "        '''\n",
    "        dy/dx = y(1-y)\n",
    "        '''\n",
    "        dx = dout * (1- self.y) * self.y\n",
    "\n",
    "        return dx\n",
    "\n",
    "\n",
    "class Affine: \n",
    "    def __init__(self, W, b):\n",
    "        self.params = [W, b]\n",
    "        \n",
    "        self.grads = [\n",
    "            np.zeros_like(W),\n",
    "            np.zeros_like(b)\n",
    "        ]\n",
    "\n",
    "        self.x = None\n",
    "        \n",
    "    def forward(self, x):\n",
    "        \"\"\"\n",
    "             x @ W + b\n",
    "        (N, D) * (D, H) + (1, H)= (N, H)\n",
    "        \"\"\"\n",
    "\n",
    "        W, b = self.params\n",
    "        \n",
    "        y = np.dot(x, W) + b\n",
    "        \n",
    "        self.x = x\n",
    "\n",
    "        return y\n",
    "    \n",
    "    def backward(self, dout):\n",
    "        W, b = self.params\n",
    "\n",
    "        dx = dout @ W.T\n",
    "        dW = self.x.T @ dout\n",
    "        db = np.sum(dout, axis=0)\n",
    "        \n",
    "        self.grsds\n",
    "        \n",
    "        return dx\n",
    "        \n",
    "\n",
    "class TwoLayerNet:\n",
    "    def __init__(self, input_size, hidden_size, output_size):\n",
    "        I, H, O = input_size, hidden_size, output_size\n",
    "        \n",
    "        self.W1 = np.random.randn(I, H)\n",
    "        self.b1 = np.random.randn(1, H)\n",
    "        self.W2 = np.random.randn(H, O)\n",
    "        self.b2 = np.random.randn(1, O)\n",
    "        \n",
    "        self.layers = [\n",
    "            Affine(self.W1, self. b1),\n",
    "            Sigmoid(),\n",
    "            Affine(self.W2, self. b2)\n",
    "        ]\n",
    "        \n",
    "        self.params, self.grads = []\n",
    "        for layer in self.layers:\n",
    "            self.params += layer.params\n",
    "            self.grads += layer.grads\n",
    "            \n",
    "    def forward(self, x):\n",
    "        for layer in self.layers:\n",
    "            x = layer.forward(x)\n",
    "        return x\n",
    "             \n",
    "    def backward(self, dout=1):\n",
    "        for layer in reversed(self.layers):\n",
    "            dout = layer.backward(dout)\n",
    "        return dout\n",
    "    \n",
    "def training():\n",
    "    epoches = 30\n",
    "    batch_size = 10\n",
    "    hidden_size = 10\n",
    "    \n",
    "    model = TwoLayerNet(2, hidden_size, 3)\n",
    "\n",
    "    data_counts = len(X)\n",
    "    batches = data_counts / batch_size\n",
    "\n",
    "    for epoch in range(epoches):\n",
    "        epoche_loss = 0\n",
    "        \n",
    "        for i in range(batches):\n",
    "            batch_x = x[i * batch_size, (i+1) * batch_size]\n",
    "            batch_y = y[i * batch_size, (i+1) * batch_size]\n",
    "\n",
    "            y_pred = model.forward(batch_x)\n",
    "\n",
    "            loss = loss_fn(y_pred, batch_y)\n",
    "            model.backward()\n",
    "            optimizer.update(model.params, model.grads)\n",
    "            \n",
    "            epoche_loss += loss\n",
    "\n",
    "def RNN_training():\n",
    "    corpus_size = len(corpus)\n",
    "    vocab_size = len(set(corpus))\n",
    "\n",
    "    xs = corpus[:-1]\n",
    "    ts = corpus[1:]\n",
    "    \n",
    "    batch_N = 10\n",
    "    time_size = 5\n",
    "    \n",
    "    data_size = len(xs)\n",
    "    # the number of times we move \n",
    "    max_iters = data_size // (batch_N * time_size)\n",
    "\n",
    "\n",
    "    time_idx = 0\n",
    "    total_loss = 0\n",
    "\n",
    "    wordvec_dim = 100\n",
    "    hidden_dim = 100\n",
    "\n",
    "    lr = 0.1\n",
    "    max_epoch = 100\n",
    "\n",
    "    '''\n",
    "    Embedding: (V, D)\n",
    "    W_x: (D, H)\n",
    "    W_h: (H, H)\n",
    "    '''\n",
    "    model = SimpleRnnlm(vocab_size, wordvec_dim, hidden_dim)\n",
    "    optimizer = SGD(lr)\n",
    "\n",
    "\n",
    "    '''\n",
    "    jump: the number of words in each batch\n",
    "    so, the 2nd batch, we should move 1*jump, \n",
    "        the 3rd batch, move 2*jump\n",
    "    '''\n",
    "    jump = data_size // batch_N \n",
    "    offsets = [i * jump for i in range(batch_N)]\n",
    "    \n",
    "\n",
    "    for epoch in range(max_epoch):\n",
    "        for iter in range(max_iters):\n",
    "            '''\n",
    "            (N, T, D)\n",
    "            '''\n",
    "            batch_x = np.empty((batch_N, time_size), dtype='i')\n",
    "            batch_t = np.empty((batch_N, time_size), dtype='i')\n",
    "            for t in range(time_size):\n",
    "                for i, offset in enumerate(offsets):\n",
    "                    batch_x[i, t] = xs[(offset + time_idx) % data_size]\n",
    "                    batch_t[i, t] = ts[(offset + time_idx) % data_size]\n",
    "                time_idx += 1\n",
    "\n",
    "            loss = model.forward(batch_x, batch_t)\n"
   ]
  }
 ],
 "metadata": {
  "kernelspec": {
   "display_name": "Python 3",
   "language": "python",
   "name": "python3"
  },
  "language_info": {
   "codemirror_mode": {
    "name": "ipython",
    "version": 3
   },
   "file_extension": ".py",
   "mimetype": "text/x-python",
   "name": "python",
   "nbconvert_exporter": "python",
   "pygments_lexer": "ipython3",
   "version": "3.8.3"
  }
 },
 "nbformat": 4,
 "nbformat_minor": 4
}

{
  "nbformat": 4,
  "nbformat_minor": 0,
  "metadata": {
    "kernelspec": {
      "display_name": "Python 3",
      "language": "python",
      "name": "python3"
    },
    "language_info": {
      "codemirror_mode": {
        "name": "ipython",
        "version": 3
      },
      "file_extension": ".py",
      "mimetype": "text/x-python",
      "name": "python",
      "nbconvert_exporter": "python",
      "pygments_lexer": "ipython3",
      "version": "3.8.3"
    },
    "toc": {
      "base_numbering": 1,
      "nav_menu": {},
      "number_sections": true,
      "sideBar": true,
      "skip_h1_title": false,
      "title_cell": "Table of Contents",
      "title_sidebar": "Contents",
      "toc_cell": false,
      "toc_position": {},
      "toc_section_display": true,
      "toc_window_display": false
    },
    "colab": {
      "name": "LeNet.ipynb",
      "provenance": [],
      "collapsed_sections": []
    },
    "accelerator": "GPU"
  },
  "cells": [
    {
      "cell_type": "code",
      "metadata": {
        "id": "Er_bmJVjywWD"
      },
      "source": [
        "import torch\n",
        "import torch.nn as nn\n",
        "import torch.nn.functional as F\n",
        "from torch.utils.data import DataLoader\n",
        "import torch.optim as optim\n",
        "import time\n",
        "\n",
        "import torchvision\n",
        "import torchvision.datasets as datasets\n",
        "from torchvision import transforms\n",
        "\n",
        "import matplotlib.pyplot as plt"
      ],
      "execution_count": null,
      "outputs": []
    },
    {
      "cell_type": "code",
      "metadata": {
        "id": "tn6aKWiHywWF"
      },
      "source": [
        "!pip install torchsummary --quiet\n",
        "# from torchsummaryX import summary as summaryX\n",
        "from torchsummary import summary"
      ],
      "execution_count": null,
      "outputs": []
    },
    {
      "cell_type": "markdown",
      "metadata": {
        "id": "DYRn-uTjywWG"
      },
      "source": [
        "## Model"
      ]
    },
    {
      "cell_type": "code",
      "metadata": {
        "id": "_73pukahywWL"
      },
      "source": [
        "class LeNet(nn.Module):\n",
        "    def __init__(self, num_class):\n",
        "        super(LeNet, self).__init__()\n",
        "   \n",
        "        # in_channel, output_channel, kernel_size, stride, padding\n",
        "        self.conv1 = nn.Conv2d(1,6,5)\n",
        "        self.conv2 = nn.Conv2d(6,16,5)\n",
        "        \n",
        "        # self.conv3 = nn.Conv2d(16, 120, 5)\n",
        "        self.fc1 = nn.Linear(16 * 5 * 5, 120) \n",
        "        \n",
        "        self.fc2 = nn.Linear(120, 84) \n",
        "        self.fc3 = nn.Linear(84, num_class) \n",
        "\n",
        "    def forward(self, x):\n",
        "        x = F.relu(self.conv1(x))\n",
        "        x = F.max_pool2d(x, 2)\n",
        "        \n",
        "        x = F.relu(self.conv2(x))\n",
        "        x = F.max_pool2d(x, 2)\n",
        "\n",
        "        x = torch.flatten(x, 1)\n",
        "        x = F.relu(self.fc1(x))\n",
        "        x = F.relu(self.fc2(x))\n",
        "        logits = self.fc3(x)\n",
        "\n",
        "        probs = F.softmax(logits, dim=1)\n",
        "\n",
        "        return logits, probs\n",
        "        \n"
      ],
      "execution_count": null,
      "outputs": []
    },
    {
      "cell_type": "code",
      "metadata": {
        "id": "eU48BwxI31Hd"
      },
      "source": [
        "# GPU available\n",
        "is_cuda = torch.cuda.is_available()\n",
        "device = torch.device('cuda' if is_cuda else 'cpu')\n",
        "\n",
        "# hyperparameter\n",
        "lr = 0.001\n",
        "batch_size = 32\n",
        "random_seed = 42\n",
        "epoches = 10\n",
        "log_every_epoch = 1\n",
        "\n",
        "# model parameter \n",
        "num_class = 10\n"
      ],
      "execution_count": null,
      "outputs": []
    },
    {
      "cell_type": "code",
      "metadata": {
        "colab": {
          "base_uri": "https://localhost:8080/"
        },
        "id": "6QYHOeuVywWO",
        "outputId": "6b1a7c67-2d47-4ed8-c20e-ad302e278d1f"
      },
      "source": [
        "model = LeNet(num_class).to(device)\n",
        "\n",
        "print(model)\n"
      ],
      "execution_count": null,
      "outputs": [
        {
          "output_type": "stream",
          "name": "stdout",
          "text": [
            "LeNet(\n",
            "  (conv1): Conv2d(1, 6, kernel_size=(5, 5), stride=(1, 1))\n",
            "  (conv2): Conv2d(6, 16, kernel_size=(5, 5), stride=(1, 1))\n",
            "  (fc1): Linear(in_features=400, out_features=120, bias=True)\n",
            "  (fc2): Linear(in_features=120, out_features=84, bias=True)\n",
            "  (fc3): Linear(in_features=84, out_features=10, bias=True)\n",
            ")\n"
          ]
        }
      ]
    },
    {
      "cell_type": "code",
      "metadata": {
        "colab": {
          "base_uri": "https://localhost:8080/"
        },
        "id": "c-9QuqL3ywWP",
        "outputId": "32d6b9ca-8412-4a54-e173-876f50320680"
      },
      "source": [
        "summary(model, (1, 32, 32))\n"
      ],
      "execution_count": null,
      "outputs": [
        {
          "output_type": "stream",
          "name": "stdout",
          "text": [
            "----------------------------------------------------------------\n",
            "        Layer (type)               Output Shape         Param #\n",
            "================================================================\n",
            "            Conv2d-1            [-1, 6, 28, 28]             156\n",
            "            Conv2d-2           [-1, 16, 10, 10]           2,416\n",
            "            Linear-3                  [-1, 120]          48,120\n",
            "            Linear-4                   [-1, 84]          10,164\n",
            "            Linear-5                   [-1, 10]             850\n",
            "================================================================\n",
            "Total params: 61,706\n",
            "Trainable params: 61,706\n",
            "Non-trainable params: 0\n",
            "----------------------------------------------------------------\n",
            "Input size (MB): 0.00\n",
            "Forward/backward pass size (MB): 0.05\n",
            "Params size (MB): 0.24\n",
            "Estimated Total Size (MB): 0.29\n",
            "----------------------------------------------------------------\n"
          ]
        }
      ]
    },
    {
      "cell_type": "markdown",
      "metadata": {
        "id": "Oc_ksrtwywWR"
      },
      "source": [
        "## Dataset"
      ]
    },
    {
      "cell_type": "code",
      "metadata": {
        "id": "0VrF7MmpywWS"
      },
      "source": [
        "img_transforms = transforms.Compose([\n",
        "    transforms.Resize((32, 32)),\n",
        "    transforms.ToTensor()\n",
        "])\n"
      ],
      "execution_count": null,
      "outputs": []
    },
    {
      "cell_type": "code",
      "metadata": {
        "id": "liKhVh6qywWT"
      },
      "source": [
        "# root => the location to save the data\n",
        "train_set = datasets.MNIST(root='./data', train=True, download=True, transform=img_transforms)\n"
      ],
      "execution_count": null,
      "outputs": []
    },
    {
      "cell_type": "code",
      "metadata": {
        "id": "klE1QYU9ywWT"
      },
      "source": [
        "test_set = datasets.MNIST(root='./data', train=False, download=True, transform=img_transforms)\n"
      ],
      "execution_count": null,
      "outputs": []
    },
    {
      "cell_type": "code",
      "metadata": {
        "colab": {
          "base_uri": "https://localhost:8080/"
        },
        "id": "Y9yhZjEnywWU",
        "outputId": "429eed6a-54e3-411b-85e0-960c7f940997"
      },
      "source": [
        "len(train_set), len(test_set)\n"
      ],
      "execution_count": null,
      "outputs": [
        {
          "output_type": "execute_result",
          "data": {
            "text/plain": [
              "(60000, 10000)"
            ]
          },
          "metadata": {},
          "execution_count": 25
        }
      ]
    },
    {
      "cell_type": "code",
      "metadata": {
        "colab": {
          "base_uri": "https://localhost:8080/",
          "height": 207
        },
        "id": "yEwdIz_IywWU",
        "outputId": "165bedf3-1f34-4d5f-a350-c8253a814a2e"
      },
      "source": [
        "col = 5\n",
        "row = 2\n",
        "\n",
        "fig = plt.figure()\n",
        "for index in range(1, row * col + 1):\n",
        "    plt.subplot(row, col, index)\n",
        "    plt.axis('off')\n",
        "    plt.imshow(train_set.data[index])"
      ],
      "execution_count": null,
      "outputs": [
        {
          "output_type": "display_data",
          "data": {
            "image/png": "[encoded data removed]",
            "text/plain": [
              "<Figure size 432x288 with 10 Axes>"
            ]
          },
          "metadata": {
            "needs_background": "light"
          }
        }
      ]
    },
    {
      "cell_type": "code",
      "metadata": {
        "id": "Cv5rasHWywWV"
      },
      "source": [
        "train_loader = DataLoader(dataset=train_set, batch_size=batch_size, shuffle=True)\n",
        "\n",
        "test_loader = DataLoader(dataset=test_set, batch_size=batch_size, shuffle=True)\n"
      ],
      "execution_count": null,
      "outputs": []
    },
    {
      "cell_type": "markdown",
      "metadata": {
        "id": "o4CNqEm9ywWV"
      },
      "source": [
        "## Train"
      ]
    },
    {
      "cell_type": "code",
      "metadata": {
        "id": "bGhZX2SaywWW"
      },
      "source": [
        "torch.manual_seed(random_seed)\n",
        "\n",
        "model = LeNet(num_class).to(device)\n",
        "optimiser = optim.Adam(model.parameters(), lr = lr)\n",
        "loss_fn = nn.CrossEntropyLoss()\n"
      ],
      "execution_count": null,
      "outputs": []
    },
    {
      "cell_type": "code",
      "metadata": {
        "id": "DYZLHD-VywWX"
      },
      "source": [
        "def train():\n",
        "    print('=== training ===')\n",
        "    start_time = time.time()\n",
        "\n",
        "    train_loss_epoch = []\n",
        "    valid_loss_epoch = []\n",
        "    for epoch in range(epoches):\n",
        "        model.train()\n",
        "\n",
        "        train_loss = 0\n",
        "        train_num_correct = 0\n",
        "        for X, y in train_loader:\n",
        "            X = X.to(device)\n",
        "            y = y.to(device)\n",
        "          \n",
        "            y_pred, probs = model(X)\n",
        "            loss = loss_fn(y_pred, y)\n",
        "\n",
        "            optimiser.zero_grad()\n",
        "            loss.backward()\n",
        "            optimiser.step()\n",
        "\n",
        "            with torch.no_grad():\n",
        "              train_loss += loss.item() * len(X)\n",
        "              _, preds = probs.max(1)\n",
        "              train_num_correct += (preds == y).sum()\n",
        "\n",
        "        epoch_train_loss = train_loss / len(train_loader.dataset)\n",
        "        epoch_train_acc = train_num_correct / len(train_loader.dataset)\n",
        "        train_loss_epoch.append( epoch_train_loss )\n",
        "    \n",
        "    \n",
        "        # validation\n",
        "        if epoch == 0 or (epoch + 1) % log_every_epoch == 0:\n",
        "            model.eval()\n",
        "        \n",
        "            with torch.no_grad():\n",
        "              valid_loss = 0\n",
        "              valid_num_correct = 0\n",
        "              for X_t, y_t in test_loader:\n",
        "                  X_t = X_t.to(device)\n",
        "                  y_t = y_t.to(device)\n",
        "                  y_t_pred, probs_t = model(X_t)\n",
        "                  loss_t = loss_fn(y_t_pred, y_t)\n",
        "\n",
        "                  valid_loss += loss_t.item() * len(X_t)    \n",
        "                  _, preds_t = probs_t.max(1)\n",
        "                  valid_num_correct += (preds_t == y_t).sum()\n",
        "\n",
        "            epoch_valid_loss = valid_loss / len(test_loader.dataset)\n",
        "            epoch_valid_acc = valid_num_correct / len(test_loader.dataset)\n",
        "            valid_loss_epoch.append( epoch_valid_loss )\n",
        "\n",
        "            print('epoch %d/%d, Train loss: %.4f, Train acc %.4f, Valid loss: %.4f, Valid acc %.4f' % \n",
        "                  ( epoch + 1, epoches, epoch_train_loss, epoch_train_acc, epoch_valid_loss, epoch_valid_acc)\n",
        "            )\n",
        "\n",
        "    print('Training time: {}'.format(time.strftime(\"%H:%M:%S\", time.gmtime(time.time() - start_time))))"
      ],
      "execution_count": null,
      "outputs": []
    },
    {
      "cell_type": "code",
      "metadata": {
        "colab": {
          "base_uri": "https://localhost:8080/"
        },
        "id": "ic1o0mL2ywWY",
        "outputId": "78c327f8-a60a-4878-dec2-6835be1ff595"
      },
      "source": [
        "\n",
        "train()\n"
      ],
      "execution_count": null,
      "outputs": [
        {
          "output_type": "stream",
          "name": "stdout",
          "text": [
            "=== training ===\n",
            "epoch 1/10, Train loss: 0.2105, Train acc 0.9352, Valid loss: 0.0792, Valid acc 0.9754\n",
            "epoch 2/10, Train loss: 0.0658, Train acc 0.9798, Valid loss: 0.0513, Valid acc 0.9840\n",
            "epoch 3/10, Train loss: 0.0454, Train acc 0.9863, Valid loss: 0.0402, Valid acc 0.9865\n",
            "epoch 4/10, Train loss: 0.0375, Train acc 0.9885, Valid loss: 0.0480, Valid acc 0.9844\n",
            "epoch 5/10, Train loss: 0.0301, Train acc 0.9909, Valid loss: 0.0370, Valid acc 0.9872\n",
            "epoch 6/10, Train loss: 0.0255, Train acc 0.9917, Valid loss: 0.0310, Valid acc 0.9893\n",
            "epoch 7/10, Train loss: 0.0210, Train acc 0.9934, Valid loss: 0.0398, Valid acc 0.9871\n",
            "epoch 8/10, Train loss: 0.0181, Train acc 0.9940, Valid loss: 0.0396, Valid acc 0.9898\n",
            "epoch 9/10, Train loss: 0.0156, Train acc 0.9952, Valid loss: 0.0429, Valid acc 0.9882\n",
            "epoch 10/10, Train loss: 0.0147, Train acc 0.9954, Valid loss: 0.0392, Valid acc 0.9901\n",
            "Training time: 00:03:11\n"
          ]
        }
      ]
    }
  ]
}
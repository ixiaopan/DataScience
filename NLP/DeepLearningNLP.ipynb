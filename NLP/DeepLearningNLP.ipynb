{
 "cells": [
  {
   "cell_type": "code",
   "execution_count": 8,
   "metadata": {},
   "outputs": [],
   "source": [
    "import numpy as np\n"
   ]
  },
  {
   "cell_type": "markdown",
   "metadata": {},
   "source": [
    "# Mapping word to id\n"
   ]
  },
  {
   "cell_type": "code",
   "execution_count": 10,
   "metadata": {},
   "outputs": [],
   "source": [
    "def preprocess(text):\n",
    "    text = text.lower().replace('.', ' .')\n",
    "    words = text.split(' ')    \n",
    "\n",
    "    words_sorted = sorted(list(set(words)))\n",
    "    word_indices = dict((c, i) for i, c in enumerate(words_sorted))\n",
    "    indices_word = dict((i, c) for i, c in enumerate(words_sorted))\n",
    "    corpus = np.array([ word_indices[w] for w in words ])\n",
    "\n",
    "    return corpus, word_indices, indices_word\n"
   ]
  },
  {
   "cell_type": "code",
   "execution_count": 13,
   "metadata": {},
   "outputs": [],
   "source": [
    "sent_ids, word_ids, ids_word = preprocess('you say goodbye and i say hello.')\n"
   ]
  },
  {
   "cell_type": "markdown",
   "metadata": {},
   "source": [
    "# Co-occurence matrix"
   ]
  },
  {
   "cell_type": "code",
   "execution_count": 14,
   "metadata": {},
   "outputs": [],
   "source": [
    "def create_co_matrix(sent_ids, vocabulary_size, window_size=1):\n",
    "    co_matrix = np.zeros((vocabulary_size, vocabulary_size))\n",
    "    M = len(sent_ids)\n",
    "\n",
    "    for idx, word_id in enumerate(sent_ids):\n",
    "        for i in range(1, window_size+1):\n",
    "            left_idx = idx - i\n",
    "            right_idx = idx + i\n",
    "\n",
    "            if left_idx >= 0:\n",
    "                left_word_id = sent_ids[left_idx]\n",
    "                co_matrix[word_id, left_word_id] += 1\n",
    "\n",
    "            if right_idx <= M - 1:\n",
    "                right_word_id = sent_ids[right_idx]\n",
    "                co_matrix[word_id, right_word_id] += 1\n",
    "                \n",
    "    return co_matrix\n"
   ]
  },
  {
   "cell_type": "code",
   "execution_count": 17,
   "metadata": {},
   "outputs": [],
   "source": [
    "C = create_co_matrix(sent_ids, len(set(sent_ids)))\n"
   ]
  },
  {
   "cell_type": "markdown",
   "metadata": {},
   "source": [
    "# Similarity"
   ]
  },
  {
   "cell_type": "code",
   "execution_count": 16,
   "metadata": {},
   "outputs": [],
   "source": [
    "def cos_similarity(x, y):\n",
    "    eps = 1e-8\n",
    "    nx = x / np.sqrt(np.sum(x**2) +eps)\n",
    "    ny = y / np.sqrt(np.sum(y**2) +eps)\n",
    "    \n",
    "    return nx@ny\n"
   ]
  },
  {
   "cell_type": "code",
   "execution_count": 51,
   "metadata": {},
   "outputs": [
    {
     "data": {
      "text/plain": [
       "0.7071067758832467"
      ]
     },
     "execution_count": 51,
     "metadata": {},
     "output_type": "execute_result"
    }
   ],
   "source": [
    "\n",
    "w1_v = C[word_ids['you']]\n",
    "w2_v = C[word_ids['i']]\n",
    "\n",
    "cos_similarity(w1_v, w2_v)\n"
   ]
  },
  {
   "cell_type": "code",
   "execution_count": 55,
   "metadata": {},
   "outputs": [],
   "source": [
    "def most_similar(word, word_ids, ids_word, co_matrix, N=5):\n",
    "    if word not in word_ids.keys():\n",
    "        print(f'{word} doesn\\'t exit!')\n",
    "        return\n",
    "    \n",
    "    word_v = co_matrix[word_ids[word]]\n",
    "    similarity = np.array([cos_similarity(word_v, co_matrix[w_id]) for (w_id, w) in ids_word.items()])\n",
    "\n",
    "    sorted_index = (-1 * similarity).argsort()\n",
    "    names = [ids_word[i] for i in sorted_index[:N]]\n",
    "    prob = [(n, s) for n, s in zip(names, similarity[sorted_index])] \n",
    "    return prob\n",
    "    "
   ]
  },
  {
   "cell_type": "code",
   "execution_count": 57,
   "metadata": {},
   "outputs": [
    {
     "data": {
      "text/plain": [
       "[('you', 0.9999999900000001),\n",
       " ('goodbye', 0.7071067758832467),\n",
       " ('hello', 0.7071067758832467),\n",
       " ('i', 0.7071067758832467),\n",
       " ('.', 0.0)]"
      ]
     },
     "execution_count": 57,
     "metadata": {},
     "output_type": "execute_result"
    }
   ],
   "source": [
    "most_similar('you', word_ids, ids_word, C)"
   ]
  },
  {
   "cell_type": "markdown",
   "metadata": {},
   "source": [
    "# PMI"
   ]
  },
  {
   "cell_type": "code",
   "execution_count": 62,
   "metadata": {},
   "outputs": [],
   "source": [
    "def PMI(C, eps=1e-8):\n",
    "    pmi = np.zeros_like(C)\n",
    "\n",
    "    total_freqs = np.sum(C) # total occurances of words\n",
    "    word_freq = np.sum(C, axis=1)\n",
    "    \n",
    "    word_len, context_len = C.shape\n",
    "    for i in range(word_len):\n",
    "        for j in range(context_len):\n",
    "            pmi_x = np.log2(C[i, j]*total_freqs /(word_freq[i]*word_freq[j]) + eps)\n",
    "            pmi[i, j] = max(0, pmi_x)\n",
    "\n",
    "    return pmi\n"
   ]
  },
  {
   "cell_type": "code",
   "execution_count": 68,
   "metadata": {},
   "outputs": [],
   "source": [
    "ppmi = PMI(C)\n"
   ]
  },
  {
   "cell_type": "code",
   "execution_count": 69,
   "metadata": {},
   "outputs": [
    {
     "data": {
      "text/plain": [
       "array([[0., 0., 0., 1., 0., 0., 0.],\n",
       "       [0., 0., 1., 0., 1., 0., 0.],\n",
       "       [0., 1., 0., 0., 0., 1., 0.],\n",
       "       [1., 0., 0., 0., 0., 1., 0.],\n",
       "       [0., 1., 0., 0., 0., 1., 0.],\n",
       "       [0., 0., 1., 1., 1., 0., 1.],\n",
       "       [0., 0., 0., 0., 0., 1., 0.]])"
      ]
     },
     "execution_count": 69,
     "metadata": {},
     "output_type": "execute_result"
    }
   ],
   "source": [
    "C\n"
   ]
  },
  {
   "cell_type": "code",
   "execution_count": 70,
   "metadata": {},
   "outputs": [
    {
     "data": {
      "text/plain": [
       "array([[0.        , 0.        , 0.        , 2.80735492, 0.        ,\n",
       "        0.        , 0.        ],\n",
       "       [0.        , 0.        , 1.80735493, 0.        , 1.80735493,\n",
       "        0.        , 0.        ],\n",
       "       [0.        , 1.80735493, 0.        , 0.        , 0.        ,\n",
       "        0.80735493, 0.        ],\n",
       "       [2.80735492, 0.        , 0.        , 0.        , 0.        ,\n",
       "        0.80735493, 0.        ],\n",
       "       [0.        , 1.80735493, 0.        , 0.        , 0.        ,\n",
       "        0.80735493, 0.        ],\n",
       "       [0.        , 0.        , 0.80735493, 0.80735493, 0.80735493,\n",
       "        0.        , 1.80735493],\n",
       "       [0.        , 0.        , 0.        , 0.        , 0.        ,\n",
       "        1.80735493, 0.        ]])"
      ]
     },
     "execution_count": 70,
     "metadata": {},
     "output_type": "execute_result"
    }
   ],
   "source": [
    "ppmi"
   ]
  },
  {
   "cell_type": "markdown",
   "metadata": {},
   "source": [
    "# Dimensionality Reduction"
   ]
  },
  {
   "cell_type": "code",
   "execution_count": 92,
   "metadata": {},
   "outputs": [],
   "source": [
    "U, S, Vt = np.linalg.svd(ppmi)\n",
    "\n",
    "U_trunc = -1 * U[:, :2]\n"
   ]
  },
  {
   "cell_type": "code",
   "execution_count": 91,
   "metadata": {},
   "outputs": [
    {
     "data": {
      "text/plain": [
       "<matplotlib.collections.PathCollection at 0x7faab3e8c2e0>"
      ]
     },
     "execution_count": 91,
     "metadata": {},
     "output_type": "execute_result"
    },
    {
     "data": {
      "image/png": "[encoded data removed]",
      "text/plain": [
       "<Figure size 432x288 with 1 Axes>"
      ]
     },
     "metadata": {
      "needs_background": "light"
     },
     "output_type": "display_data"
    }
   ],
   "source": [
    "import matplotlib.pyplot as plt\n",
    "\n",
    "for word, word_id in word_ids.items():\n",
    "    plt.annotate(word, (U_trunc[word_id, 0], U_trunc[word_id, 1]))\n",
    "\n",
    "plt.scatter(U_trunc[:,0], U_trunc[:, 1], alpha=0.5)\n"
   ]
  },
  {
   "cell_type": "markdown",
   "metadata": {},
   "source": [
    "# Layer"
   ]
  },
  {
   "cell_type": "code",
   "execution_count": 142,
   "metadata": {},
   "outputs": [],
   "source": [
    "def relu(x):\n",
    "    return max(0, x)\n",
    "\n",
    "\n",
    "def sigmoid(x):\n",
    "    return 1 / (1 + np.exp(-x))\n",
    "\n",
    "\n",
    "def softmax(x):\n",
    "    if x.dim == 1: # for a single point\n",
    "        x = x - np.max(x)\n",
    "        return np.exp(x) / np.sum(np.exp(x))\n",
    "\n",
    "    if x.dim == 2: # for mini-batch\n",
    "        x = x - np.max(x, axis=1, keepdims=True)\n",
    "        x = np.exp(x)\n",
    "        return x / np.sum(x, axis=1, keepdims=True)\n",
    "\n",
    "    \n",
    "def cross_entropy(y, t): # batch_N * |V|\n",
    "\n",
    "    if y.ndim == 1: # for a single point\n",
    "        t = t.reshape(1, t.size)  # 1 * |V|\n",
    "        y = y.reshape(1, y.size)\n",
    "        \n",
    "    if t.size == y.size: # if t is one-hot, convert to 'id'\n",
    "        t = t.argmax(axis=1)\n",
    "\n",
    "    batch_size = len(y)\n",
    "    \n",
    "    return -np.sum(np.log(y[np.arange(batch_size), t] + 1e-7)) / batch_size\n",
    "\n",
    "\n",
    "class Softmax:\n",
    "    def __init__(self):\n",
    "        self.params = []\n",
    "        self.grads = []\n",
    "        self.y = None\n",
    "\n",
    "    def forward(self, z):\n",
    "        self.y = softmax(z)\n",
    "        return self.y\n",
    "\n",
    "    def backward(self, dout):\n",
    "        pass\n",
    "#         return self.y + self.y * dout\n",
    "\n",
    "class Sigmoid:\n",
    "    def __init__(self):\n",
    "        self.params = []\n",
    "        self.grads = []\n",
    "        self.y = None\n",
    "\n",
    "    def forward(self, z):\n",
    "        y = sigmoid(z)\n",
    "        self.y = y\n",
    "        return y\n",
    "\n",
    "    def backward(self, dout):\n",
    "        return self.y * (1 - self.y) * dout\n",
    "\n",
    "\n",
    "class SigmoidWithLoss:\n",
    "    '''\n",
    "    binary classification\n",
    "    '''\n",
    "    def __init__(self):\n",
    "        self.params = []\n",
    "        self.grads = []\n",
    "        self.y = None\n",
    "        self.t = None\n",
    "\n",
    "    def forward(self, z, t): \n",
    "        self.y = sigmoid(z) # # batch_size * 1\n",
    "        self.t = t # batch_size * 1 or batch_size * 2(ont-hot)\n",
    "        loss= cross_entropy(np.c_[1-self.y, self.y], t)\n",
    "        return loss\n",
    "\n",
    "    def backward(self, dout=1):\n",
    "        batch_size = len(self.t)\n",
    "        return (self.y - self.t) * dout / batch_size\n",
    "\n",
    "\n",
    "class SoftmaxWithLoss:\n",
    "    def __init__(self):\n",
    "        self.params = []\n",
    "        self.grads = []\n",
    "        self.y = None\n",
    "        self.t = None\n",
    "\n",
    "    def forward(self, z, t): \n",
    "        self.y = softmax(z) # shape: batch_N * |V|\n",
    "        self.t = t # batch_size * 1 or batch_size * |V|(ont-hot)\n",
    "\n",
    "        if self.t.size == self.y.size: # batch_size * 1\n",
    "            self.t = self.t.argmax(axis=1)\n",
    "\n",
    "        loss= cross_entropy(self.y, self.t)\n",
    "        return loss\n",
    "\n",
    "    def backward(self, dout=1):\n",
    "        '''\n",
    "        (y - t)/batch_size\n",
    "        '''\n",
    "        batch_size = len(self.t)\n",
    "        dx = self.y.copy()\n",
    "        dx[np.arange(batch_size), self.t]-=1\n",
    "\n",
    "        return dx * dout / batch_size # batch_size * |V|\n",
    "\n",
    "\n",
    "class MatrixMul:\n",
    "    def __init__(self, W):\n",
    "        self.params = [W]\n",
    "        self.grads = [np.zeros_like(W)]\n",
    "        self.x = None\n",
    "    \n",
    "    def forward(self, x):\n",
    "        W, = self.params\n",
    "        out = x @ W\n",
    "        self.x = x\n",
    "        return out\n",
    "\n",
    "    def backward(self, out):\n",
    "        W, = self.params\n",
    "        dx = out @ W.T\n",
    "        dW = self.x.T @ out\n",
    "        self.grads[0][...] = dw\n",
    "        return dx\n",
    "\n",
    "\n",
    "    \n",
    "\n",
    "\n",
    "class Affine:\n",
    "    '''\n",
    "    density layer, fully connected layer\n",
    "    '''\n",
    "    def __init__(self, W, b):\n",
    "        self.params = [W, b]\n",
    "        self.grads = [np.zero_like(W), np.zero_like(b)]\n",
    "        self.x = None\n",
    "\n",
    "    def forward(self, x):\n",
    "        W, b = self.params\n",
    "        z = x @ W + b\n",
    "        self.x = x \n",
    "        return z\n",
    "\n",
    "    def backward(self, out):\n",
    "        W, b = self.params\n",
    "      \n",
    "        dx = out @ W.T\n",
    "        dW = self.x.T @ out\n",
    "        db = np.sum(out, axis=0)\n",
    "\n",
    "        self.grads[0][...] = dW\n",
    "        self.grads[1][...] = db\n",
    "        \n",
    "        return dx\n",
    "\n",
    "class TwoLayerNet:\n",
    "    def __init__(self, input_size, hidden_size, out_size):\n",
    "\n",
    "        I, H, O = input_size, hidden_size, out_size\n",
    "        \n",
    "        W1 = np.random.rand(I, H)\n",
    "        b1 = np.random.rand(H)\n",
    "        W2 = np.random.rand(H, O)\n",
    "        b2 = np.random.rand(O)\n",
    "    \n",
    "        self.layers = [ Affine(W1, b1), Sigmoid(), Affine(W2, b2)]\n",
    "\n",
    "        self.params = []\n",
    "        for layer in self.layers:\n",
    "            self.params += layer.params\n",
    "\n",
    "    def predict(self, x):\n",
    "        for layer in self.layers:\n",
    "            x = layer.forward(x)\n",
    "        \n",
    "        return x\n",
    "    "
   ]
  },
  {
   "cell_type": "markdown",
   "metadata": {},
   "source": [
    "# Simple CBOW"
   ]
  },
  {
   "cell_type": "code",
   "execution_count": 100,
   "metadata": {},
   "outputs": [
    {
     "data": {
      "text/plain": [
       "array([1.06144962, 0.9572717 , 0.82174549, 0.86764326, 0.71409764,\n",
       "       0.88015585, 0.8821359 ])"
      ]
     },
     "execution_count": 100,
     "metadata": {},
     "output_type": "execute_result"
    }
   ],
   "source": [
    "def inference(contexts):\n",
    "    '''\n",
    "    windsize= 1\n",
    "    '''\n",
    "    c1, c2 = contexts\n",
    "   \n",
    "    D = len(c1)\n",
    "    H = 3\n",
    "\n",
    "    W_in = np.random.rand(D, H)\n",
    "    W_out = np.random.rand(H, D)\n",
    "    \n",
    "    in_layer = MatrixMul(W_in)\n",
    "    out_layer = MatrixMul(W_out)\n",
    "    \n",
    "    h1=in_layer.forward(c1)\n",
    "    h2=in_layer.forward(c2)\n",
    "    h = (h1 + h2) / len(contexts)\n",
    "    s = out_layer.forward(h)\n",
    "   \n",
    "    return s\n",
    "    \n",
    "inference([[1, 0, 0,0,0,0,0,], [0,0,0,1,0,0,0,]])\n"
   ]
  },
  {
   "cell_type": "markdown",
   "metadata": {},
   "source": [
    "## construct contexts and target"
   ]
  },
  {
   "cell_type": "code",
   "execution_count": 109,
   "metadata": {},
   "outputs": [],
   "source": [
    "def create_context_targets(corpus, window_size = 1):\n",
    "    N = len(corpus)\n",
    "    target = corpus[window_size:N-window_size]\n",
    " \n",
    "    contexts = []\n",
    "    for idx, w_id in enumerate(corpus[window_size:N-window_size]):\n",
    "        context_w = []\n",
    "\n",
    "        for i in range(1, window_size+1):\n",
    "            left_idx = idx+window_size-i\n",
    "            right_idx = idx+window_size+i\n",
    "\n",
    "            left_id = corpus[left_idx]\n",
    "            right_id = corpus[right_idx]\n",
    "            \n",
    "            context_w+=[left_id, right_id]\n",
    "\n",
    "        contexts.append(context_w)\n",
    "\n",
    "    return contexts, target\n"
   ]
  },
  {
   "cell_type": "code",
   "execution_count": 112,
   "metadata": {},
   "outputs": [
    {
     "data": {
      "text/plain": [
       "([[0, 2], [1, 3], [2, 4], [3, 1], [4, 5], [1, 6]], [1, 2, 3, 4, 1, 5])"
      ]
     },
     "execution_count": 112,
     "metadata": {},
     "output_type": "execute_result"
    }
   ],
   "source": [
    "contexts, target = create_context_targets([0, 1, 2, 3, 4, 1, 5, 6])\n",
    "\n",
    "contexts, target\n"
   ]
  },
  {
   "cell_type": "markdown",
   "metadata": {},
   "source": [
    "## convert one-hot"
   ]
  },
  {
   "cell_type": "code",
   "execution_count": 128,
   "metadata": {},
   "outputs": [],
   "source": [
    "def convert_onehot(corpus, voc_size):\n",
    "    '''\n",
    "    convert the list of ids of a sentence to one-hot representation\n",
    "    [0, 1, 2, 1, 0] => [[1,0,0], [0, 1, 0], [0, 0, 1], [0, 1, 0], [1,0,0]]\n",
    "    '''\n",
    "\n",
    "    N = corpus.shape[0] # the numer of words in a sentence or sentences\n",
    "\n",
    "    if corpus.ndim == 1: # the numer of words in a sentence\n",
    "        one_hot = np.zeros((N, voc_size))\n",
    "        for idx, ids in enumerate(corpus):\n",
    "            one_hot[idx, ids] = 1\n",
    "    \n",
    "    if corpus.ndim == 2: # the numer of sentences\n",
    "        C = corpus.shape[1] # the numer of words in a sentence\n",
    "        one_hot = np.zeros((N, C, voc_size))\n",
    "\n",
    "        for idx, sent_ids in enumerate(corpus):\n",
    "            for (w_idx, w_id) in enumerate(sent_ids):\n",
    "                one_hot[idx, w_idx, w_id] = 1\n",
    "\n",
    "    return  one_hot\n",
    "    \n",
    "    "
   ]
  },
  {
   "cell_type": "code",
   "execution_count": 132,
   "metadata": {},
   "outputs": [
    {
     "data": {
      "text/plain": [
       "((6, 7),\n",
       " array([[0., 1., 0., 0., 0., 0., 0.],\n",
       "        [0., 0., 1., 0., 0., 0., 0.],\n",
       "        [0., 0., 0., 1., 0., 0., 0.],\n",
       "        [0., 0., 0., 0., 1., 0., 0.],\n",
       "        [0., 1., 0., 0., 0., 0., 0.],\n",
       "        [0., 0., 0., 0., 0., 1., 0.]]))"
      ]
     },
     "execution_count": 132,
     "metadata": {},
     "output_type": "execute_result"
    }
   ],
   "source": [
    "\n",
    "target_onehot = convert_onehot(np.array(target), len(word_ids))\n",
    "\n",
    "target_onehot.shape, target_onehot\n"
   ]
  },
  {
   "cell_type": "code",
   "execution_count": 133,
   "metadata": {},
   "outputs": [
    {
     "data": {
      "text/plain": [
       "(array([[1., 0., 0., 0., 0., 0., 0.],\n",
       "        [0., 0., 1., 0., 0., 0., 0.]]),\n",
       " (6, 2, 7))"
      ]
     },
     "execution_count": 133,
     "metadata": {},
     "output_type": "execute_result"
    }
   ],
   "source": [
    "\n",
    "contexts_onehot=convert_onehot(np.array(contexts), len(word_ids))\n",
    "\n",
    "contexts_onehot[0], contexts_onehot.shape\n"
   ]
  },
  {
   "cell_type": "markdown",
   "metadata": {},
   "source": [
    "## learning"
   ]
  },
  {
   "cell_type": "code",
   "execution_count": 143,
   "metadata": {},
   "outputs": [],
   "source": [
    "class SimpleCBOW:\n",
    "    def __init__(self, voca_size, hidden_size):\n",
    "        W_in = np.random.randn(voca_size, hidden_size)\n",
    "        W_out = np.random.randn(hidden_size, voca_size)\n",
    "        \n",
    "        self.in_layer0=MatrixMul(W_in)\n",
    "        self.in_layer1=MatrixMul(W_in)\n",
    "        self.out_layer=MatrixMul(W_out)\n",
    "        self.loss_layer=SoftmaxWithLoss()\n",
    "\n",
    "    def forward(self, contexts, target):\n",
    "        h0 = self.in_layer0.forward(contexts[:, 0])\n",
    "        h1 = self.in_layer1.forward(contexts[:, 1])\n",
    "        h = (h0+h1)*0.5 # batch_N * D\n",
    "        score=self.out_layer.forward(h) # batch_N * |V|\n",
    "        loss=self.loss_layer.forward(score, target)\n",
    "        return loss\n",
    "    \n",
    "    def backward(self, dout=1):\n",
    "        do=self.loss_layer.backward(dout)\n",
    "        do = self.out_layer.backward(do)\n",
    "        do*=0.5\n",
    "        self.in_layer0.backward(do)\n",
    "        self.in_layer1.backward(do)\n"
   ]
  },
  {
   "cell_type": "code",
   "execution_count": null,
   "metadata": {},
   "outputs": [],
   "source": [
    "hidden_size = 3\n",
    "window_size = 1\n",
    "batch_size = 3\n",
    "max_epochs = 100\n",
    "\n",
    "sent_ids, word_ids, ids_word = preprocess('you say goodbye and i say hello.')\n",
    "contexts, target = create_context_targets(sent_ids, window_size)\n",
    "voc_size = len(word_ids)\n",
    "contexts_onehot=convert_onehot(np.array(contexts), voc_size)\n",
    "\n",
    "model=SimpleCBOW(voc_size, hidden_size)\n",
    "for epoch in max_epochs:\n",
    "    loss=0\n",
    "    for i in batch_iters:\n",
    "        inputs, target = batch_data\n",
    "        loss+=model.forward(inputs, target)\n",
    "        model.backward()\n",
    "        optimizer.update()\n",
    "    print(f'epoch {epoch}: loss {loss}')\n"
   ]
  },
  {
   "cell_type": "markdown",
   "metadata": {},
   "source": [
    "# Embedding\n"
   ]
  },
  {
   "cell_type": "code",
   "execution_count": 148,
   "metadata": {},
   "outputs": [],
   "source": [
    "class Embedding:\n",
    "    def __init__(self, W):\n",
    "        self.params = [W]\n",
    "        self.grads = [np.zeros_like(W)]\n",
    "        self.idx = None\n",
    "\n",
    "    def forward(self, idx):\n",
    "        '''\n",
    "        forward([0, 2, 0, 4])\n",
    "        '''\n",
    "        W, = self.params\n",
    "        out = W[idx]\n",
    "        self.idx = idx\n",
    "        return out\n",
    "\n",
    "    def backward(self, dout):\n",
    "        dW, = self.grads\n",
    "     \n",
    "        for i, word_id in enumerate(self.idx):\n",
    "            dW[word_id] += dout[i]\n"
   ]
  },
  {
   "cell_type": "code",
   "execution_count": null,
   "metadata": {},
   "outputs": [],
   "source": []
  },
  {
   "cell_type": "code",
   "execution_count": null,
   "metadata": {},
   "outputs": [],
   "source": []
  },
  {
   "cell_type": "code",
   "execution_count": null,
   "metadata": {},
   "outputs": [],
   "source": []
  },
  {
   "cell_type": "markdown",
   "metadata": {},
   "source": [
    "# NegativeSample"
   ]
  },
  {
   "cell_type": "code",
   "execution_count": null,
   "metadata": {},
   "outputs": [],
   "source": []
  },
  {
   "cell_type": "code",
   "execution_count": null,
   "metadata": {},
   "outputs": [],
   "source": []
  },
  {
   "cell_type": "code",
   "execution_count": null,
   "metadata": {},
   "outputs": [],
   "source": []
  },
  {
   "cell_type": "markdown",
   "metadata": {},
   "source": [
    "# RNN"
   ]
  },
  {
   "cell_type": "markdown",
   "metadata": {},
   "source": [
    "\n",
    "$$\n",
    "h_t = tanh(h_{t-1} W_h + x_t W_x + b)\n",
    "$$\n",
    "\n",
    "\n",
    "- batch_size: batch_N\n",
    "\n",
    "- input dimension: D\n",
    "\n",
    "- hidden_state dimension: H\n",
    "\n",
    "\n",
    "$$\n",
    "shape(h_t) = (batch\\_N, H) * (H,H) + (batch\\_N, D)*(D, H) + (1, H) = (batch\\_N, H)\n",
    "$$\n"
   ]
  },
  {
   "cell_type": "code",
   "execution_count": 144,
   "metadata": {},
   "outputs": [],
   "source": [
    "class RNN:\n",
    "    def __init__(self, W_h, W_x, b):\n",
    "        self.params = [W_h, W_x, b]\n",
    "        self.grads = [np.zeros_like(W_h), np.zeros_like(W_x), np.zeros_like(b)]\n",
    "        self.cache = None\n",
    "        \n",
    "    def forward(self, x, h_prev):\n",
    "        '''\n",
    "        x: (batch_N, D)\n",
    "        h_prev: (batch_N, H)\n",
    "        @return\n",
    "            h_next: (batch_N, H)\n",
    "        '''\n",
    "        W_h, W_x, b = self.params\n",
    "        h_next = h_prev @ W_h + x@W_x + b\n",
    "        h_next = np.tanh(h_next)\n",
    "\n",
    "        self.cache=(x, h_prev, h_next)\n",
    "\n",
    "        return h_next\n",
    "\n",
    "    def backward(self, dout):\n",
    "        x, h_prev, h_next = self.cache\n",
    "        W_h, W_x, b = self.params\n",
    "\n",
    "        do = dout*(1-h_next**2)\n",
    "        db = np.sum(do, axis=0)\n",
    "        dx = do @ W_x.T\n",
    "        dh_prev=do @ W_h.T\n",
    "        dwx = x.T@do\n",
    "        dwh=h_prev.T@do\n",
    "        \n",
    "        self.grad[0][...]=dwh\n",
    "        self.grad[1][...]=dwx\n",
    "        self.grad[2][...]=b\n",
    "\n",
    "        return dx, dh_prev\n",
    "        \n",
    "        "
   ]
  },
  {
   "cell_type": "code",
   "execution_count": 147,
   "metadata": {},
   "outputs": [],
   "source": [
    "class TimeRNN:\n",
    "    def __init__(self, W_h, W_x, b, stateful=False):\n",
    "        self.params = [W_h, W_x, b]\n",
    "        self.grads = [np.zeros_like(W_h), np.zeros_like(W_x), np.zeros_like(b)]\n",
    "        \n",
    "        self.layers = []\n",
    "        self.stateful=stateful\n",
    "        self.h = None\n",
    "        self.dh = None\n",
    "\n",
    "    def set_state(self, prev_state):\n",
    "        self.h = prev_state\n",
    "    \n",
    "    def reset_state(self):\n",
    "        self.h = None\n",
    "        \n",
    "\n",
    "    def forward(self, xs):\n",
    "        '''\n",
    "        xs: (batch_N, seq_t, D)\n",
    "\n",
    "        @return\n",
    "            hs_next: (batch_N, seq_t, H)\n",
    "        '''\n",
    "\n",
    "        W_h, W_x, b = self.params\n",
    "        batch_N, seq_t, D = xs.shape\n",
    "\n",
    "        hs = np.empty((batch_N, seq_t, H))\n",
    "\n",
    "        if self.h is None or not self.stateful:\n",
    "            self.h=np.zeros((batch_N, H))\n",
    "        \n",
    "        for i in range(seq_t):\n",
    "            layer_i = RNN(*self.params)\n",
    "            self.h = layer_i.forward(xs[:, i, :], self.h)\n",
    "            hs[:, i, :] = self.h\n",
    "            self.layers.append(layer_i)\n",
    "\n",
    "        return hs\n",
    "\n",
    "    def backward(self, dhs):\n",
    "        batch_N, seq_t, H = dhs.shape\n",
    "        W_h, W_x, b = self.params\n",
    "        D, H = W_x.shape\n",
    "\n",
    "        dh = 0\n",
    "        grads = [0, 0, 0]\n",
    "        dxs = np.empty(( batch_N, seq_t, D))\n",
    "        for t in reversed(range(seq_t)):\n",
    "            layer = self.layers[t]\n",
    "            dx, dh = layer.backward(dhs[:, t, :]+dh) # (batch_N, H)\n",
    "            dxs[:, t, :] = dx\n",
    "\n",
    "            # all rnn layers share the same W_h, W_x, b\n",
    "            for i, grad in enumerate(layer.grads):\n",
    "                grads[i] += grad\n",
    "\n",
    "        for i, grad in enumerate(grads):\n",
    "            self.grads[i][...] = grad\n",
    "\n",
    "        self.dh = dh\n",
    "\n",
    "        return dxs\n"
   ]
  },
  {
   "cell_type": "code",
   "execution_count": 149,
   "metadata": {},
   "outputs": [],
   "source": [
    "class TimeEmbedding:\n",
    "    def __init__(self, W):\n",
    "        self.params = [W]\n",
    "        self.grads = [np.zeros_like(W)]\n",
    "\n",
    "        self.layers = []\n",
    "        \n",
    "    def forward(self, xs):\n",
    "        '''\n",
    "        xs: (batch_N, seq_t, 1)\n",
    "        [ [[1], \n",
    "           [0], \n",
    "           [2]\n",
    "          ],\n",
    "          [[0],\n",
    "           [4],\n",
    "           [2]\n",
    "          ]\n",
    "        ]\n",
    "        @return\n",
    "            word_vector: (batch_N, seq_t, D)\n",
    "        '''\n",
    "        batch_N, seq_t, _ = xs\n",
    "\n",
    "        W, = self.params\n",
    "        _, D = W.shape\n",
    "        word_s = np.empty((batch_N, seq_t, D))\n",
    "        for i in range(seq_t):\n",
    "            layer_i = Embedding(*self.params)\n",
    "            self.word = layer_i.forward(xs[:, i, :])\n",
    "            word_s[:, i, :] = self.word\n",
    "            self.layers.append(layer_i)\n",
    "       \n",
    "        return word_s\n",
    "        \n",
    "    def backward(self, dout):\n",
    "        batch_N, seq_t, D = dout\n",
    "        grad = 0\n",
    "       \n",
    "        for t in reversed(range(seq_t)): # there's no need to reverse the sequence\n",
    "            layer = self.layers[t]\n",
    "            layer.backward(dout[:, t, :])\n",
    "            grad += layer.grads[0]\n",
    "        \n",
    "        self.grads[0][...] = grad\n"
   ]
  },
  {
   "cell_type": "code",
   "execution_count": null,
   "metadata": {},
   "outputs": [],
   "source": []
  }
 ],
 "metadata": {
  "kernelspec": {
   "display_name": "Python 3",
   "language": "python",
   "name": "python3"
  },
  "language_info": {
   "codemirror_mode": {
    "name": "ipython",
    "version": 3
   },
   "file_extension": ".py",
   "mimetype": "text/x-python",
   "name": "python",
   "nbconvert_exporter": "python",
   "pygments_lexer": "ipython3",
   "version": "3.8.3"
  }
 },
 "nbformat": 4,
 "nbformat_minor": 4
}

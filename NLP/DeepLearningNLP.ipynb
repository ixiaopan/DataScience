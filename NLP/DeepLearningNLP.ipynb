{
 "cells": [
  {
   "cell_type": "code",
   "execution_count": 8,
   "metadata": {},
   "outputs": [],
   "source": [
    "import numpy as np\n"
   ]
  },
  {
   "cell_type": "markdown",
   "metadata": {},
   "source": [
    "# Word2Id"
   ]
  },
  {
   "cell_type": "code",
   "execution_count": 10,
   "metadata": {},
   "outputs": [],
   "source": [
    "def preprocess(text):\n",
    "    text = text.lower().replace('.', ' .')\n",
    "    words = text.split(' ')    \n",
    "\n",
    "    words_sorted = sorted(list(set(words)))\n",
    "    word_indices = dict((c, i) for i, c in enumerate(words_sorted))\n",
    "    indices_word = dict((i, c) for i, c in enumerate(words_sorted))\n",
    "    corpus = np.array([ word_indices[w] for w in words ])\n",
    "\n",
    "    return corpus, word_indices, indices_word\n"
   ]
  },
  {
   "cell_type": "code",
   "execution_count": 13,
   "metadata": {},
   "outputs": [],
   "source": [
    "sent_ids, word_ids, ids_word = preprocess('you say goodbye and i say hello.')\n"
   ]
  },
  {
   "cell_type": "markdown",
   "metadata": {},
   "source": [
    "# co-occurence matrix"
   ]
  },
  {
   "cell_type": "code",
   "execution_count": 14,
   "metadata": {},
   "outputs": [],
   "source": [
    "def create_co_matrix(sent_ids, vocabulary_size, window_size=1):\n",
    "    co_matrix = np.zeros((vocabulary_size, vocabulary_size))\n",
    "    M = len(sent_ids)\n",
    "\n",
    "    for idx, word_id in enumerate(sent_ids):\n",
    "        for i in range(1, window_size+1):\n",
    "            left_idx = idx - i\n",
    "            right_idx = idx + i\n",
    "\n",
    "            if left_idx >= 0:\n",
    "                left_word_id = sent_ids[left_idx]\n",
    "                co_matrix[word_id, left_word_id] += 1\n",
    "\n",
    "            if right_idx <= M - 1:\n",
    "                right_word_id = sent_ids[right_idx]\n",
    "                co_matrix[word_id, right_word_id] += 1\n",
    "                \n",
    "    return co_matrix\n"
   ]
  },
  {
   "cell_type": "code",
   "execution_count": 17,
   "metadata": {},
   "outputs": [],
   "source": [
    "C = create_co_matrix(sent_ids, len(set(sent_ids)))\n"
   ]
  },
  {
   "cell_type": "markdown",
   "metadata": {},
   "source": [
    "# similarity"
   ]
  },
  {
   "cell_type": "code",
   "execution_count": 16,
   "metadata": {},
   "outputs": [],
   "source": [
    "def cos_similarity(x, y):\n",
    "    eps = 1e-8\n",
    "    nx = x / np.sqrt(np.sum(x**2) +eps)\n",
    "    ny = y / np.sqrt(np.sum(y**2) +eps)\n",
    "    \n",
    "    return nx@ny\n"
   ]
  },
  {
   "cell_type": "code",
   "execution_count": 51,
   "metadata": {},
   "outputs": [
    {
     "data": {
      "text/plain": [
       "0.7071067758832467"
      ]
     },
     "execution_count": 51,
     "metadata": {},
     "output_type": "execute_result"
    }
   ],
   "source": [
    "\n",
    "w1_v = C[word_ids['you']]\n",
    "w2_v = C[word_ids['i']]\n",
    "\n",
    "cos_similarity(w1_v, w2_v)\n"
   ]
  },
  {
   "cell_type": "code",
   "execution_count": 55,
   "metadata": {},
   "outputs": [],
   "source": [
    "def most_similar(word, word_ids, ids_word, co_matrix, N=5):\n",
    "    if word not in word_ids.keys():\n",
    "        print(f'{word} doesn\\'t exit!')\n",
    "        return\n",
    "    \n",
    "    word_v = co_matrix[word_ids[word]]\n",
    "    similarity = np.array([cos_similarity(word_v, co_matrix[w_id]) for (w_id, w) in ids_word.items()])\n",
    "\n",
    "    sorted_index = (-1 * similarity).argsort()\n",
    "    names = [ids_word[i] for i in sorted_index[:N]]\n",
    "    prob = [(n, s) for n, s in zip(names, similarity[sorted_index])] \n",
    "    return prob\n",
    "    "
   ]
  },
  {
   "cell_type": "code",
   "execution_count": 57,
   "metadata": {},
   "outputs": [
    {
     "data": {
      "text/plain": [
       "[('you', 0.9999999900000001),\n",
       " ('goodbye', 0.7071067758832467),\n",
       " ('hello', 0.7071067758832467),\n",
       " ('i', 0.7071067758832467),\n",
       " ('.', 0.0)]"
      ]
     },
     "execution_count": 57,
     "metadata": {},
     "output_type": "execute_result"
    }
   ],
   "source": [
    "most_similar('you', word_ids, ids_word, C)"
   ]
  },
  {
   "cell_type": "markdown",
   "metadata": {},
   "source": [
    "# PMI"
   ]
  },
  {
   "cell_type": "code",
   "execution_count": 62,
   "metadata": {},
   "outputs": [],
   "source": [
    "def PMI(C, eps=1e-8):\n",
    "    pmi = np.zeros_like(C)\n",
    "\n",
    "    total_freqs = np.sum(C) # total occurances of words\n",
    "    word_freq = np.sum(C, axis=1)\n",
    "    \n",
    "    word_len, context_len = C.shape\n",
    "    for i in range(word_len):\n",
    "        for j in range(context_len):\n",
    "            pmi_x = np.log2(C[i, j]*total_freqs /(word_freq[i]*word_freq[j]) + eps)\n",
    "            pmi[i, j] = max(0, pmi_x)\n",
    "\n",
    "    return pmi\n"
   ]
  },
  {
   "cell_type": "code",
   "execution_count": 68,
   "metadata": {},
   "outputs": [],
   "source": [
    "ppmi = PMI(C)\n"
   ]
  },
  {
   "cell_type": "code",
   "execution_count": 69,
   "metadata": {},
   "outputs": [
    {
     "data": {
      "text/plain": [
       "array([[0., 0., 0., 1., 0., 0., 0.],\n",
       "       [0., 0., 1., 0., 1., 0., 0.],\n",
       "       [0., 1., 0., 0., 0., 1., 0.],\n",
       "       [1., 0., 0., 0., 0., 1., 0.],\n",
       "       [0., 1., 0., 0., 0., 1., 0.],\n",
       "       [0., 0., 1., 1., 1., 0., 1.],\n",
       "       [0., 0., 0., 0., 0., 1., 0.]])"
      ]
     },
     "execution_count": 69,
     "metadata": {},
     "output_type": "execute_result"
    }
   ],
   "source": [
    "C\n"
   ]
  },
  {
   "cell_type": "code",
   "execution_count": 70,
   "metadata": {},
   "outputs": [
    {
     "data": {
      "text/plain": [
       "array([[0.        , 0.        , 0.        , 2.80735492, 0.        ,\n",
       "        0.        , 0.        ],\n",
       "       [0.        , 0.        , 1.80735493, 0.        , 1.80735493,\n",
       "        0.        , 0.        ],\n",
       "       [0.        , 1.80735493, 0.        , 0.        , 0.        ,\n",
       "        0.80735493, 0.        ],\n",
       "       [2.80735492, 0.        , 0.        , 0.        , 0.        ,\n",
       "        0.80735493, 0.        ],\n",
       "       [0.        , 1.80735493, 0.        , 0.        , 0.        ,\n",
       "        0.80735493, 0.        ],\n",
       "       [0.        , 0.        , 0.80735493, 0.80735493, 0.80735493,\n",
       "        0.        , 1.80735493],\n",
       "       [0.        , 0.        , 0.        , 0.        , 0.        ,\n",
       "        1.80735493, 0.        ]])"
      ]
     },
     "execution_count": 70,
     "metadata": {},
     "output_type": "execute_result"
    }
   ],
   "source": [
    "ppmi"
   ]
  },
  {
   "cell_type": "markdown",
   "metadata": {},
   "source": [
    "# Dimensionality Reduction"
   ]
  },
  {
   "cell_type": "code",
   "execution_count": 92,
   "metadata": {},
   "outputs": [],
   "source": [
    "U, S, Vt = np.linalg.svd(ppmi)\n",
    "\n",
    "U_trunc = -1 * U[:, :2]\n"
   ]
  },
  {
   "cell_type": "code",
   "execution_count": 91,
   "metadata": {},
   "outputs": [
    {
     "data": {
      "text/plain": [
       "<matplotlib.collections.PathCollection at 0x7faab3e8c2e0>"
      ]
     },
     "execution_count": 91,
     "metadata": {},
     "output_type": "execute_result"
    },
    {
     "data": {
      "image/png": "[encoded data removed]",
      "text/plain": [
       "<Figure size 432x288 with 1 Axes>"
      ]
     },
     "metadata": {
      "needs_background": "light"
     },
     "output_type": "display_data"
    }
   ],
   "source": [
    "import matplotlib.pyplot as plt\n",
    "\n",
    "for word, word_id in word_ids.items():\n",
    "    plt.annotate(word, (U_trunc[word_id, 0], U_trunc[word_id, 1]))\n",
    "\n",
    "plt.scatter(U_trunc[:,0], U_trunc[:, 1], alpha=0.5)\n"
   ]
  },
  {
   "cell_type": "code",
   "execution_count": null,
   "metadata": {},
   "outputs": [],
   "source": []
  }
 ],
 "metadata": {
  "kernelspec": {
   "display_name": "Python 3",
   "language": "python",
   "name": "python3"
  },
  "language_info": {
   "codemirror_mode": {
    "name": "ipython",
    "version": 3
   },
   "file_extension": ".py",
   "mimetype": "text/x-python",
   "name": "python",
   "nbconvert_exporter": "python",
   "pygments_lexer": "ipython3",
   "version": "3.8.3"
  }
 },
 "nbformat": 4,
 "nbformat_minor": 4
}

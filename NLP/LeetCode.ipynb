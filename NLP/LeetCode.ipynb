{
 "cells": [
  {
   "cell_type": "markdown",
   "metadata": {},
   "source": [
    "https://runestone.academy/runestone/books/published/pythonds/index.html\n",
    "\n",
    "https://leetcode.com/explore/learn/\n"
   ]
  },
  {
   "cell_type": "markdown",
   "metadata": {},
   "source": [
    "## Array"
   ]
  },
  {
   "cell_type": "code",
   "execution_count": 3,
   "metadata": {},
   "outputs": [
    {
     "data": {
      "text/plain": [
       "2"
      ]
     },
     "execution_count": 3,
     "metadata": {},
     "output_type": "execute_result"
    }
   ],
   "source": [
    "\"\"\"\n",
    "find the maximum number of consecutive 1 in an array\n",
    "\"\"\"\n",
    "\n",
    "def max_consecutive_one(arr):\n",
    "    c, max_c = 0,0\n",
    "\n",
    "    for e in arr:\n",
    "        if e == 1:\n",
    "            c += 1\n",
    "            max_c = c if c > max_c else max_c\n",
    "        else:\n",
    "            c = 0\n",
    "\n",
    "    return max_c\n",
    "\n",
    "\n",
    "max_consecutive_one([1,0, 1, 1, 0, 1])\n"
   ]
  },
  {
   "cell_type": "code",
   "execution_count": 22,
   "metadata": {},
   "outputs": [
    {
     "data": {
      "text/plain": [
       "2"
      ]
     },
     "execution_count": 22,
     "metadata": {},
     "output_type": "execute_result"
    }
   ],
   "source": [
    "\"\"\"\n",
    "find numbers with even numbers of digits\n",
    "\"\"\"\n",
    "\n",
    "def find_even_numbers(num):\n",
    "    num_len = list(map(lambda x: (len(str(x)) + 1) % 2, num))\n",
    "\n",
    "    return sum(num_len)\n",
    "\n",
    "find_even_numbers([12,345,2,6,7896])\n"
   ]
  },
  {
   "cell_type": "code",
   "execution_count": 55,
   "metadata": {},
   "outputs": [],
   "source": [
    "\"\"\"\n",
    "TODO: sort an array\n",
    "\"\"\"\n",
    "\n",
    "def sortedSquares(nums):\n",
    "    pass\n",
    "    \n",
    "    "
   ]
  },
  {
   "cell_type": "code",
   "execution_count": 56,
   "metadata": {},
   "outputs": [
    {
     "name": "stdout",
     "output_type": "stream",
     "text": [
      "[1, 0, 0, 2, 3, 0, 0, 4]\n"
     ]
    }
   ],
   "source": [
    "\n",
    "class Solution:\n",
    "    def duplicateZeros(self, arr):\n",
    "        \"\"\"\n",
    "        Do not return anything, modify arr in-place instead.\n",
    "        \"\"\"\n",
    "        zero_index = [i for i, x in enumerate(arr) if x == 0]\n",
    "        \n",
    "        for i in range(len(zero_index)):\n",
    "            cur_zero_idx = zero_index[i]\n",
    "            \n",
    "            cur_zero_idx += i\n",
    "\n",
    "            if cur_zero_idx < len(arr) - 1:\n",
    "                for j in range(len(arr) - 1, cur_zero_idx, -1):\n",
    "                    arr[j] = arr[j-1]\n",
    "                arr[cur_zero_idx] = 0\n",
    "\n",
    "\n",
    "a = [1,0,2,3,0,4,5,0]\n",
    "\n",
    "Solution().duplicateZeros(a)\n",
    "\n",
    "print(a)\n"
   ]
  },
  {
   "cell_type": "code",
   "execution_count": 95,
   "metadata": {},
   "outputs": [
    {
     "name": "stdout",
     "output_type": "stream",
     "text": [
      "1 [0, 2, 4, 0, 4, 4, 4, 0, 4]\n",
      "2 [0, 2, 0, 0, 4, 4, 4, 4, 4]\n",
      "[0, 2, 0, 0, 4, 4, 4, 4, 4]\n"
     ]
    },
    {
     "data": {
      "text/plain": [
       "4"
      ]
     },
     "execution_count": 95,
     "metadata": {},
     "output_type": "execute_result"
    }
   ],
   "source": [
    "\"\"\"\n",
    "Remove all occurrences of val in nums in-place.\n",
    "retuen K, which is the number of remaining elements\n",
    "\n",
    "\"\"\"\n",
    "def removeElement(nums, val):\n",
    "    val_index = [ i for i, e in enumerate(nums) if e == val ]\n",
    "\n",
    "    j = len(nums)\n",
    "    range_index = range(len(nums) - len(val_index), len(nums))\n",
    "    \n",
    "    for idx, i in enumerate(val_index):\n",
    "        if i in range_index: \n",
    "            continue\n",
    "\n",
    "        j = j - 1\n",
    "        while j in val_index:\n",
    "            j = j - 1\n",
    "\n",
    "        nums[j], nums[i] = nums[i], nums[j]\n",
    "        print(i, nums)\n",
    "\n",
    "    print(nums)\n",
    "    return len(nums) - len(val_index)\n",
    "\n",
    "removeElement([0,4,4,0,4,4,4,0,2], 4)\n",
    "\n"
   ]
  },
  {
   "cell_type": "code",
   "execution_count": null,
   "metadata": {},
   "outputs": [],
   "source": []
  },
  {
   "cell_type": "code",
   "execution_count": null,
   "metadata": {},
   "outputs": [],
   "source": []
  },
  {
   "cell_type": "code",
   "execution_count": null,
   "metadata": {},
   "outputs": [],
   "source": []
  },
  {
   "cell_type": "code",
   "execution_count": null,
   "metadata": {},
   "outputs": [],
   "source": []
  },
  {
   "cell_type": "markdown",
   "metadata": {},
   "source": [
    "## Easy"
   ]
  },
  {
   "cell_type": "code",
   "execution_count": 122,
   "metadata": {},
   "outputs": [
    {
     "name": "stdout",
     "output_type": "stream",
     "text": [
      "[[0, 1], [1, 0]]\n",
      "[[1, 2], [2, 1]]\n",
      "[[1, 2], [2, 1]]\n",
      "[[1, 0]]\n"
     ]
    }
   ],
   "source": [
    "\"\"\"\n",
    "Two sum\n",
    "\"\"\"\n",
    "\n",
    "class Solution:\n",
    "    def twoSum(self, nums, target):\n",
    "        if len(nums) == 0:\n",
    "            return []\n",
    "\n",
    "        y = [ target - e for e in nums ]\n",
    "\n",
    "        index = [ [i, nums.index(e)] for i, e in enumerate(y) if e in nums and i != nums.index(e) ]\n",
    "        print(index)\n",
    "        return index[0]\n",
    "     \n",
    "\n",
    "test_cases = [\n",
    "    ([1,9,13,20,47], 10, [0, 1]),\n",
    "    ([], 10, []),\n",
    "    ([1, 4, 10, -3], 14, [1, 2]),\n",
    "    ([3, 2, 4], 6, [1, 2]),\n",
    "    ([3, 3], 6, [1, 0])\n",
    "]\n",
    "\n",
    "for a, b, c in test_cases:\n",
    "    assert Solution().twoSum(a, b) == c\n"
   ]
  },
  {
   "cell_type": "code",
   "execution_count": null,
   "metadata": {},
   "outputs": [],
   "source": []
  },
  {
   "cell_type": "code",
   "execution_count": null,
   "metadata": {},
   "outputs": [],
   "source": []
  }
 ],
 "metadata": {
  "kernelspec": {
   "display_name": "Python 3",
   "language": "python",
   "name": "python3"
  },
  "language_info": {
   "codemirror_mode": {
    "name": "ipython",
    "version": 3
   },
   "file_extension": ".py",
   "mimetype": "text/x-python",
   "name": "python",
   "nbconvert_exporter": "python",
   "pygments_lexer": "ipython3",
   "version": "3.8.3"
  }
 },
 "nbformat": 4,
 "nbformat_minor": 4
}

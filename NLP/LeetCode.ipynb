{
 "cells": [
  {
   "cell_type": "markdown",
   "metadata": {},
   "source": [
    "https://runestone.academy/runestone/books/published/pythonds/index.html\n",
    "\n",
    "https://leetcode.com/explore/learn/\n"
   ]
  },
  {
   "cell_type": "markdown",
   "metadata": {},
   "source": [
    "## Find the maximum number of consecutive 1\n"
   ]
  },
  {
   "cell_type": "code",
   "execution_count": 3,
   "metadata": {},
   "outputs": [
    {
     "data": {
      "text/plain": [
       "2"
      ]
     },
     "execution_count": 3,
     "metadata": {},
     "output_type": "execute_result"
    }
   ],
   "source": [
    "\"\"\"\n",
    "find the maximum number of consecutive 1 in an array\n",
    "\"\"\"\n",
    "\n",
    "def max_consecutive_one(arr):\n",
    "    c, max_c = 0,0\n",
    "\n",
    "    for e in arr:\n",
    "        if e == 1:\n",
    "            c += 1\n",
    "            max_c = c if c > max_c else max_c\n",
    "        else:\n",
    "            c = 0\n",
    "\n",
    "    return max_c\n",
    "\n",
    "\n",
    "max_consecutive_one([1,0, 1, 1, 0, 1])\n"
   ]
  },
  {
   "cell_type": "markdown",
   "metadata": {},
   "source": [
    "## Find numbers with even numbers of digits\n"
   ]
  },
  {
   "cell_type": "code",
   "execution_count": 22,
   "metadata": {},
   "outputs": [
    {
     "data": {
      "text/plain": [
       "2"
      ]
     },
     "execution_count": 22,
     "metadata": {},
     "output_type": "execute_result"
    }
   ],
   "source": [
    "\"\"\"\n",
    "find numbers with even numbers of digits\n",
    "\"\"\"\n",
    "\n",
    "def find_even_numbers(num):\n",
    "    num_len = list(map(lambda x: (len(str(x)) + 1) % 2, num))\n",
    "\n",
    "    return sum(num_len)\n",
    "\n",
    "find_even_numbers([12,345,2,6,7896])\n"
   ]
  },
  {
   "cell_type": "markdown",
   "metadata": {},
   "source": [
    "## Duplicate zeros"
   ]
  },
  {
   "cell_type": "code",
   "execution_count": 56,
   "metadata": {},
   "outputs": [
    {
     "name": "stdout",
     "output_type": "stream",
     "text": [
      "[1, 0, 0, 2, 3, 0, 0, 4]\n"
     ]
    }
   ],
   "source": [
    "\n",
    "class Solution:\n",
    "    def duplicateZeros(self, arr):\n",
    "        \"\"\"\n",
    "        Do not return anything, modify arr in-place instead.\n",
    "        \"\"\"\n",
    "        zero_index = [i for i, x in enumerate(arr) if x == 0]\n",
    "        \n",
    "        for i in range(len(zero_index)):\n",
    "            cur_zero_idx = zero_index[i]\n",
    "            \n",
    "            cur_zero_idx += i\n",
    "\n",
    "            if cur_zero_idx < len(arr) - 1:\n",
    "                for j in range(len(arr) - 1, cur_zero_idx, -1):\n",
    "                    arr[j] = arr[j-1]\n",
    "                arr[cur_zero_idx] = 0\n",
    "\n",
    "\n",
    "a = [1,0,2,3,0,4,5,0]\n",
    "\n",
    "Solution().duplicateZeros(a)\n",
    "\n",
    "print(a)\n"
   ]
  },
  {
   "cell_type": "markdown",
   "metadata": {},
   "source": [
    "## Remove all occurrences of val in nums in-place"
   ]
  },
  {
   "cell_type": "code",
   "execution_count": 95,
   "metadata": {},
   "outputs": [
    {
     "name": "stdout",
     "output_type": "stream",
     "text": [
      "1 [0, 2, 4, 0, 4, 4, 4, 0, 4]\n",
      "2 [0, 2, 0, 0, 4, 4, 4, 4, 4]\n",
      "[0, 2, 0, 0, 4, 4, 4, 4, 4]\n"
     ]
    },
    {
     "data": {
      "text/plain": [
       "4"
      ]
     },
     "execution_count": 95,
     "metadata": {},
     "output_type": "execute_result"
    }
   ],
   "source": [
    "\"\"\"\n",
    "Remove all occurrences of val in nums in-place.\n",
    "retuen K, which is the number of remaining elements\n",
    "\n",
    "\"\"\"\n",
    "def removeElement(nums, val):\n",
    "    val_index = [ i for i, e in enumerate(nums) if e == val ]\n",
    "\n",
    "    j = len(nums)\n",
    "    range_index = range(len(nums) - len(val_index), len(nums))\n",
    "    \n",
    "    for idx, i in enumerate(val_index):\n",
    "        if i in range_index: \n",
    "            continue\n",
    "\n",
    "        j = j - 1\n",
    "        while j in val_index:\n",
    "            j = j - 1\n",
    "\n",
    "        nums[j], nums[i] = nums[i], nums[j]\n",
    "        print(i, nums)\n",
    "\n",
    "    print(nums)\n",
    "    return len(nums) - len(val_index)\n",
    "\n",
    "removeElement([0,4,4,0,4,4,4,0,2], 4)\n",
    "\n"
   ]
  },
  {
   "cell_type": "code",
   "execution_count": null,
   "metadata": {},
   "outputs": [],
   "source": []
  },
  {
   "cell_type": "code",
   "execution_count": null,
   "metadata": {},
   "outputs": [],
   "source": []
  },
  {
   "cell_type": "code",
   "execution_count": null,
   "metadata": {},
   "outputs": [],
   "source": []
  },
  {
   "cell_type": "code",
   "execution_count": null,
   "metadata": {},
   "outputs": [],
   "source": []
  },
  {
   "cell_type": "markdown",
   "metadata": {},
   "source": [
    "## Two sum"
   ]
  },
  {
   "cell_type": "code",
   "execution_count": 122,
   "metadata": {},
   "outputs": [
    {
     "name": "stdout",
     "output_type": "stream",
     "text": [
      "[[0, 1], [1, 0]]\n",
      "[[1, 2], [2, 1]]\n",
      "[[1, 2], [2, 1]]\n",
      "[[1, 0]]\n"
     ]
    }
   ],
   "source": [
    "class Solution:\n",
    "    def twoSum(self, nums, target):\n",
    "        if len(nums) == 0:\n",
    "            return []\n",
    "\n",
    "        y = [ target - e for e in nums ]\n",
    "\n",
    "        index = [ [i, nums.index(e)] for i, e in enumerate(y) if e in nums and i != nums.index(e) ]\n",
    "        print(index)\n",
    "        return index[0]\n",
    "     \n",
    "\n",
    "test_cases = [\n",
    "    ([1,9,13,20,47], 10, [0, 1]),\n",
    "    ([], 10, []),\n",
    "    ([1, 4, 10, -3], 14, [1, 2]),\n",
    "    ([3, 2, 4], 6, [1, 2]),\n",
    "    ([3, 3], 6, [1, 0])\n",
    "]\n",
    "\n",
    "for a, b, c in test_cases:\n",
    "    assert Solution().twoSum(a, b) == c\n"
   ]
  },
  {
   "cell_type": "markdown",
   "metadata": {},
   "source": [
    "## Palindrome integer\n",
    "\n",
    "Given an integer x, return true if x is palindrome integer.\n",
    "\n",
    "An integer is a palindrome when it reads the same backward as forward. For example, 121 is palindrome while 123 is not.\n"
   ]
  },
  {
   "cell_type": "code",
   "execution_count": 67,
   "metadata": {},
   "outputs": [],
   "source": [
    "class Solution:\n",
    "    def isPalindrome(self, x: int) -> bool:\n",
    "        if x < 0:\n",
    "            return False\n",
    "\n",
    "        if x < 10:\n",
    "            return True\n",
    "\n",
    "        reversed_x = []\n",
    "        r_x = x\n",
    "        while r_x != 0:\n",
    "            m = r_x % 10\n",
    "            r_x = r_x // 10\n",
    "            reversed_x.append(str(m))\n",
    "\n",
    "        reversed_x = int(''.join(reversed_x))        \n",
    "\n",
    "        return reversed_x == x\n",
    "    "
   ]
  },
  {
   "cell_type": "code",
   "execution_count": 68,
   "metadata": {},
   "outputs": [
    {
     "data": {
      "text/plain": [
       "True"
      ]
     },
     "execution_count": 68,
     "metadata": {},
     "output_type": "execute_result"
    }
   ],
   "source": [
    "Solution().isPalindrome(0)"
   ]
  },
  {
   "cell_type": "markdown",
   "metadata": {},
   "source": [
    "## Roman to Integer\n",
    "\n",
    "\n",
    "For example, 2 is written as II in Roman numeral, just two one's added together. 12 is written as XII, which is simply X + II. The number 27 is written as XXVII, which is XX + V + II.\n",
    "\n",
    "Roman numerals are usually written largest to smallest from left to right. However, the numeral for four is not IIII. Instead, the number four is written as IV. Because the one is before the five we subtract it making four. The same principle applies to the number nine, which is written as IX. There are six instances where subtraction is used:\n",
    "\n",
    "- IV=>4, IX=>9\n",
    "\n",
    "- XL=>40, XC=>90\n",
    "\n",
    "- CD=>400, CM=>900\n"
   ]
  },
  {
   "cell_type": "code",
   "execution_count": 89,
   "metadata": {},
   "outputs": [],
   "source": [
    "class Solution:\n",
    "    def romanToInt(self, s: str) -> int:\n",
    "        romain_map = {\n",
    "            'I': 1,\n",
    "            'V': 5,\n",
    "            'X': 10,\n",
    "            'L': 50,\n",
    "            'C': 100,\n",
    "            'D': 500,\n",
    "            'M': 1000,\n",
    "            'IV': 4,\n",
    "            'IX': 9,\n",
    "            'XL': 40,\n",
    "            'XC': 90,\n",
    "            'CD': 400,\n",
    "            'CM': 900\n",
    "        }\n",
    "\n",
    "        i = len(s) - 1\n",
    "        ret = []\n",
    "        while i > 0:\n",
    "            two_digits = s[i-1:i+1]\n",
    "            cur_digit = s[i]\n",
    "\n",
    "            if two_digits in romain_map: #\n",
    "                ret.append(romain_map[two_digits])\n",
    "                i = i - 2\n",
    "            else:\n",
    "                ret.append(romain_map[cur_digit])\n",
    "                i = i - 1\n",
    "\n",
    "        if i == 0:\n",
    "            ret.append(romain_map[s[i]])\n",
    "        \n",
    "        return sum(ret)"
   ]
  },
  {
   "cell_type": "code",
   "execution_count": 91,
   "metadata": {},
   "outputs": [
    {
     "data": {
      "text/plain": [
       "4"
      ]
     },
     "execution_count": 91,
     "metadata": {},
     "output_type": "execute_result"
    }
   ],
   "source": [
    "s = \"IV\"\n",
    "\n",
    "Solution().romanToInt(s)\n"
   ]
  },
  {
   "cell_type": "markdown",
   "metadata": {},
   "source": [
    "## Prime"
   ]
  },
  {
   "cell_type": "code",
   "execution_count": 97,
   "metadata": {},
   "outputs": [],
   "source": []
  },
  {
   "cell_type": "code",
   "execution_count": 156,
   "metadata": {},
   "outputs": [],
   "source": [
    "class Solution:\n",
    "    def isPrime(self, n):\n",
    "        flag = True\n",
    "        mid = math.floor(math.sqrt(n))\n",
    "\n",
    "        for i in range(2, mid + 1):\n",
    "            if n % i == 0:\n",
    "                flag = False\n",
    "\n",
    "        return flag\n",
    "\n",
    "    def isOdd(self, n):\n",
    "        return e == 2 or e % 2 != 0\n",
    "\n",
    "    def countPrimes(self, n: int) -> int:\n",
    "        count = 0\n",
    "\n",
    "        for e in range(2, n):\n",
    "            if self.isOdd(e) and self.isPrime(e):\n",
    "                count += 1\n",
    "    \n",
    "        return count\n"
   ]
  },
  {
   "cell_type": "code",
   "execution_count": 157,
   "metadata": {},
   "outputs": [
    {
     "data": {
      "text/plain": [
       "41537"
      ]
     },
     "execution_count": 157,
     "metadata": {},
     "output_type": "execute_result"
    }
   ],
   "source": [
    "Solution().countPrimes(499979)"
   ]
  },
  {
   "cell_type": "code",
   "execution_count": null,
   "metadata": {},
   "outputs": [],
   "source": []
  },
  {
   "cell_type": "code",
   "execution_count": null,
   "metadata": {},
   "outputs": [],
   "source": []
  }
 ],
 "metadata": {
  "kernelspec": {
   "display_name": "Python 3",
   "language": "python",
   "name": "python3"
  },
  "language_info": {
   "codemirror_mode": {
    "name": "ipython",
    "version": 3
   },
   "file_extension": ".py",
   "mimetype": "text/x-python",
   "name": "python",
   "nbconvert_exporter": "python",
   "pygments_lexer": "ipython3",
   "version": "3.8.3"
  }
 },
 "nbformat": 4,
 "nbformat_minor": 4
}

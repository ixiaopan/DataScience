{
 "cells": [
  {
   "cell_type": "code",
   "execution_count": 26,
   "metadata": {},
   "outputs": [],
   "source": [
    "import numpy as np\n",
    "import matplotlib.pylab as plt\n"
   ]
  },
  {
   "cell_type": "markdown",
   "metadata": {},
   "source": [
    "# Perceptron"
   ]
  },
  {
   "cell_type": "code",
   "execution_count": 12,
   "metadata": {},
   "outputs": [],
   "source": [
    "def AND(x):\n",
    "    w = np.array([.5, .5])\n",
    "    b = -.7\n",
    "    \n",
    "    z = w @ x + b\n",
    "\n",
    "    if z >= 0:\n",
    "        return 1\n",
    "    else:\n",
    "        return 0\n",
    "    "
   ]
  },
  {
   "cell_type": "code",
   "execution_count": 13,
   "metadata": {},
   "outputs": [
    {
     "name": "stdout",
     "output_type": "stream",
     "text": [
      "0\n",
      "0\n",
      "0\n",
      "1\n"
     ]
    }
   ],
   "source": [
    "for x in np.array([ [0, 0], [1, 0], [0, 1], [1, 1]]):\n",
    "    print(AND(x))"
   ]
  },
  {
   "cell_type": "code",
   "execution_count": 14,
   "metadata": {},
   "outputs": [],
   "source": [
    "def NAND(x):\n",
    "    w = np.array([-.5, -.5])\n",
    "    b = .7\n",
    "    \n",
    "    z = w @ x + b\n",
    "\n",
    "    if z >= 0:\n",
    "        return 1\n",
    "    else:\n",
    "        return 0\n",
    "    "
   ]
  },
  {
   "cell_type": "code",
   "execution_count": 16,
   "metadata": {},
   "outputs": [
    {
     "name": "stdout",
     "output_type": "stream",
     "text": [
      "1\n",
      "1\n",
      "1\n",
      "0\n"
     ]
    }
   ],
   "source": [
    "for x in np.array([ [0, 0], [1, 0], [0, 1], [1, 1]]):\n",
    "    print(NAND(x))"
   ]
  },
  {
   "cell_type": "code",
   "execution_count": 21,
   "metadata": {},
   "outputs": [],
   "source": [
    "def OR(x):\n",
    "    w = np.array([.5, .5])\n",
    "    b = -.2\n",
    "    \n",
    "    z = w @ x + b\n",
    "\n",
    "    if z >= 0:\n",
    "        return 1\n",
    "    else:\n",
    "        return 0"
   ]
  },
  {
   "cell_type": "code",
   "execution_count": 22,
   "metadata": {},
   "outputs": [
    {
     "name": "stdout",
     "output_type": "stream",
     "text": [
      "0\n",
      "1\n",
      "1\n",
      "1\n"
     ]
    }
   ],
   "source": [
    "for x in np.array([ [0, 0], [1, 0], [0, 1], [1, 1]]):\n",
    "    print(OR(x))"
   ]
  },
  {
   "cell_type": "code",
   "execution_count": 23,
   "metadata": {},
   "outputs": [],
   "source": [
    "def XOR(x):\n",
    "    \"\"\"\n",
    "    a simple 2-layer perceptron\n",
    "    XOR = NAND & OR\n",
    "    \"\"\"\n",
    "    a = NAND(x)\n",
    "    b = OR(x)\n",
    "    return AND([a , b])\n",
    "    "
   ]
  },
  {
   "cell_type": "code",
   "execution_count": 24,
   "metadata": {},
   "outputs": [
    {
     "name": "stdout",
     "output_type": "stream",
     "text": [
      "0\n",
      "1\n",
      "1\n",
      "0\n"
     ]
    }
   ],
   "source": [
    "for x in np.array([ [0, 0], [1, 0], [0, 1], [1, 1]]):\n",
    "    print(XOR(x))\n"
   ]
  },
  {
   "cell_type": "markdown",
   "metadata": {},
   "source": [
    "# Activation function"
   ]
  },
  {
   "cell_type": "code",
   "execution_count": 40,
   "metadata": {},
   "outputs": [],
   "source": [
    "def step_function(x):\n",
    "    return (-1)**(x<0)\n"
   ]
  },
  {
   "cell_type": "code",
   "execution_count": 41,
   "metadata": {},
   "outputs": [
    {
     "data": {
      "text/plain": [
       "[<matplotlib.lines.Line2D at 0x7fd166de2250>]"
      ]
     },
     "execution_count": 41,
     "metadata": {},
     "output_type": "execute_result"
    },
    {
     "data": {
      "image/png": "[encoded data removed]",
      "text/plain": [
       "<Figure size 432x288 with 1 Axes>"
      ]
     },
     "metadata": {
      "needs_background": "light"
     },
     "output_type": "display_data"
    }
   ],
   "source": [
    "x = np.arange(-3, 3, 0.1)\n",
    "y = step_function(x)\n",
    "\n",
    "plt.plot(x, y)"
   ]
  },
  {
   "cell_type": "code",
   "execution_count": 43,
   "metadata": {},
   "outputs": [],
   "source": [
    "def sigmoid(x):\n",
    "    return 1 / (1 + np.exp(-x))\n"
   ]
  },
  {
   "cell_type": "code",
   "execution_count": 45,
   "metadata": {},
   "outputs": [
    {
     "data": {
      "text/plain": [
       "[<matplotlib.lines.Line2D at 0x7fd166fab370>]"
      ]
     },
     "execution_count": 45,
     "metadata": {},
     "output_type": "execute_result"
    },
    {
     "data": {
      "image/png": "[encoded data removed]",
      "text/plain": [
       "<Figure size 432x288 with 1 Axes>"
      ]
     },
     "metadata": {
      "needs_background": "light"
     },
     "output_type": "display_data"
    }
   ],
   "source": [
    "x = np.arange(-6, 6, 0.1)\n",
    "y = sigmoid(x)\n",
    "\n",
    "plt.plot(x, y)"
   ]
  },
  {
   "cell_type": "code",
   "execution_count": 53,
   "metadata": {},
   "outputs": [],
   "source": [
    "def relu(x):\n",
    "    return np.maximum(0, x)\n"
   ]
  },
  {
   "cell_type": "code",
   "execution_count": 54,
   "metadata": {},
   "outputs": [
    {
     "data": {
      "text/plain": [
       "[<matplotlib.lines.Line2D at 0x7fd1670d7280>]"
      ]
     },
     "execution_count": 54,
     "metadata": {},
     "output_type": "execute_result"
    },
    {
     "data": {
      "image/png": "[encoded data removed]",
      "text/plain": [
       "<Figure size 432x288 with 1 Axes>"
      ]
     },
     "metadata": {
      "needs_background": "light"
     },
     "output_type": "display_data"
    }
   ],
   "source": [
    "x = np.arange(-6, 6, 0.1)\n",
    "y = relu(x)\n",
    "\n",
    "plt.plot(x, y)"
   ]
  },
  {
   "cell_type": "code",
   "execution_count": 59,
   "metadata": {},
   "outputs": [],
   "source": [
    "def identify_function(x):\n",
    "    return x"
   ]
  },
  {
   "cell_type": "markdown",
   "metadata": {},
   "source": [
    "# A Simple MLP"
   ]
  },
  {
   "cell_type": "code",
   "execution_count": 57,
   "metadata": {},
   "outputs": [
    {
     "name": "stdout",
     "output_type": "stream",
     "text": [
      "[0.3 0.7 1.1] [0.57444252 0.66818777 0.75026011]\n"
     ]
    }
   ],
   "source": [
    "# the first layer\n",
    "X = np.array([1.0, 0.5])\n",
    "W1 = np.array([[0.1, 0.3, 0.5], [0.2, 0.4, 0.6]])\n",
    "B1 = np.array([0.1, 0.2, 0.3])\n",
    "\n",
    "a1 = X@W1 +B1\n",
    "z1 = sigmoid(a1)\n",
    "\n",
    "print(a1, z1)\n"
   ]
  },
  {
   "cell_type": "code",
   "execution_count": 58,
   "metadata": {},
   "outputs": [
    {
     "name": "stdout",
     "output_type": "stream",
     "text": [
      "[0.51615984 1.21402696] [0.62624937 0.7710107 ]\n"
     ]
    }
   ],
   "source": [
    "# the second layer\n",
    "W2 = np.array([[0.1, 0.4], [0.2, 0.5], [0.3, 0.6]])\n",
    "B2 = np.array([0.1, 0.2])\n",
    "\n",
    "a2 = z1@W2 +B2\n",
    "z2 = sigmoid(a2)\n",
    "print(a2, z2)\n"
   ]
  },
  {
   "cell_type": "code",
   "execution_count": 60,
   "metadata": {},
   "outputs": [
    {
     "name": "stdout",
     "output_type": "stream",
     "text": [
      "[0.31682708 0.69627909] [0.31682708 0.69627909]\n"
     ]
    }
   ],
   "source": [
    "# the third hidden layer\n",
    "W3 = np.array([[0.1, 0.3], [0.2, 0.4]])\n",
    "B3 = np.array([0.1, 0.2])\n",
    "\n",
    "a3 = np.dot(z2, W3) + B3\n",
    "z3 = identify_function(a3)\n",
    "\n",
    "print(a3, z3)\n"
   ]
  },
  {
   "cell_type": "code",
   "execution_count": 62,
   "metadata": {},
   "outputs": [
    {
     "data": {
      "text/plain": [
       "array([0.31682708, 0.69627909])"
      ]
     },
     "execution_count": 62,
     "metadata": {},
     "output_type": "execute_result"
    }
   ],
   "source": [
    "def init_network():\n",
    "    network = {}\n",
    "    \n",
    "    network['w1'] = np.array([[0.1, 0.3, 0.5], [0.2, 0.4, 0.6]])\n",
    "    network['w2'] = np.array([[0.1, 0.4], [0.2, 0.5], [0.3, 0.6]])\n",
    "    network['w3'] = np.array([[0.1, 0.3], [0.2, 0.4]])\n",
    "    \n",
    "    network['b1'] = np.array([0.1, 0.2, 0.3])\n",
    "    network['b2'] = np.array([0.1, 0.2])\n",
    "    network['b3'] = np.array([0.1, 0.2])\n",
    "\n",
    "    return network\n",
    "\n",
    "def forward(network, x):\n",
    "    w1, w2, w3 = network['w1'], network['w2'], network['w3']\n",
    "    b1, b2, b3 = network['b1'], network['b2'], network['b3']\n",
    "    \n",
    "    a1 = x @ w1 + b1\n",
    "    z1 = sigmoid(a1)\n",
    "    \n",
    "    a2 = z1 @ w2 + b2\n",
    "    z2 = sigmoid(a2)\n",
    "    \n",
    "    a3 = z2 @ w3 + b3\n",
    "    z3 = identify_function(a3)\n",
    "    \n",
    "    return z3\n",
    "\n",
    "net = init_network()\n",
    "x = np.array([1, 0.5])\n",
    "forward(net,x)\n"
   ]
  },
  {
   "cell_type": "markdown",
   "metadata": {},
   "source": [
    "# Softmax"
   ]
  },
  {
   "cell_type": "code",
   "execution_count": 74,
   "metadata": {},
   "outputs": [],
   "source": [
    "def softmax(a):\n",
    "    exp_a = np.exp(a)\n",
    "    return exp_a / np.sum(exp_a)\n"
   ]
  },
  {
   "cell_type": "code",
   "execution_count": 75,
   "metadata": {},
   "outputs": [
    {
     "name": "stdout",
     "output_type": "stream",
     "text": [
      "[nan nan]\n"
     ]
    },
    {
     "name": "stderr",
     "output_type": "stream",
     "text": [
      "<ipython-input-74-abb76d7ba679>:2: RuntimeWarning: overflow encountered in exp\n",
      "  exp_a = np.exp(a)\n",
      "<ipython-input-74-abb76d7ba679>:3: RuntimeWarning: invalid value encountered in true_divide\n",
      "  return exp_a / np.sum(exp_a)\n"
     ]
    },
    {
     "data": {
      "text/plain": [
       "array([9.99999998e-01, 2.06115362e-09])"
      ]
     },
     "execution_count": 75,
     "metadata": {},
     "output_type": "execute_result"
    }
   ],
   "source": [
    "x = [1020, 1000]\n",
    "\n",
    "# overflow\n",
    "print(softmax(x))\n",
    "\n",
    "# log-sum-exp trick\n",
    "max_val = np.max(x)\n",
    "softmax(x - max_val)\n"
   ]
  },
  {
   "cell_type": "code",
   "execution_count": 76,
   "metadata": {},
   "outputs": [],
   "source": [
    "def softmax(a):\n",
    "    max_val = np.max(a)\n",
    "    exp_a = np.exp(a - max_val)\n",
    "    return exp_a / np.sum(exp_a)\n"
   ]
  },
  {
   "cell_type": "markdown",
   "metadata": {},
   "source": [
    "# Loss Function"
   ]
  },
  {
   "cell_type": "code",
   "execution_count": 80,
   "metadata": {},
   "outputs": [],
   "source": [
    "def mean_squared_error(t, p):\n",
    "    return .5 * np.sum((t - p)**2)\n"
   ]
  },
  {
   "cell_type": "code",
   "execution_count": 82,
   "metadata": {},
   "outputs": [
    {
     "data": {
      "text/plain": [
       "0.09750000000000003"
      ]
     },
     "execution_count": 82,
     "metadata": {},
     "output_type": "execute_result"
    }
   ],
   "source": [
    "t = np.array([0, 0, 1, 0, 0, 0, 0, 0, 0, 0]) # the correct class is 2\n",
    "y = np.array([0.1, 0.05, 0.6, 0.0, 0.05, 0.1, 0.0, 0.1, 0.0, 0.0])\n",
    "\n",
    "mean_squared_error(t, y)\n"
   ]
  },
  {
   "cell_type": "code",
   "execution_count": 78,
   "metadata": {},
   "outputs": [],
   "source": [
    "def cross_entropy_error(t, p):\n",
    "    return -np.sum(t*np.log(p))\n"
   ]
  },
  {
   "cell_type": "code",
   "execution_count": 83,
   "metadata": {},
   "outputs": [
    {
     "name": "stderr",
     "output_type": "stream",
     "text": [
      "<ipython-input-78-c7ce149f03ec>:2: RuntimeWarning: divide by zero encountered in log\n",
      "  return -np.sum(t*np.log(p))\n",
      "<ipython-input-78-c7ce149f03ec>:2: RuntimeWarning: invalid value encountered in multiply\n",
      "  return -np.sum(t*np.log(p))\n"
     ]
    },
    {
     "data": {
      "text/plain": [
       "nan"
      ]
     },
     "execution_count": 83,
     "metadata": {},
     "output_type": "execute_result"
    }
   ],
   "source": [
    "\n",
    "cross_entropy_error(t, y)\n"
   ]
  },
  {
   "cell_type": "code",
   "execution_count": 84,
   "metadata": {},
   "outputs": [],
   "source": [
    "def cross_entropy_error(t, p):\n",
    "    delta = 1e-7\n",
    "    return -np.sum(t*np.log(p + delta)) # shift\n"
   ]
  },
  {
   "cell_type": "code",
   "execution_count": 85,
   "metadata": {},
   "outputs": [
    {
     "data": {
      "text/plain": [
       "0.510825457099338"
      ]
     },
     "execution_count": 85,
     "metadata": {},
     "output_type": "execute_result"
    }
   ],
   "source": [
    "cross_entropy_error(t, y)\n"
   ]
  },
  {
   "cell_type": "code",
   "execution_count": 149,
   "metadata": {},
   "outputs": [],
   "source": [
    "def cross_entropy_error(t, p):\n",
    "    if p.ndim == 1: # for a single point\n",
    "        p = p.reshape(1, p.size)\n",
    "        t = t.reshape(1, t.size)\n",
    "        \n",
    "    delta = 1e-7\n",
    "    batch_size = p.shape[0]\n",
    "\n",
    "    return -np.sum(t * np.log(p + delta)) / batch_size\n"
   ]
  },
  {
   "cell_type": "code",
   "execution_count": 150,
   "metadata": {},
   "outputs": [
    {
     "data": {
      "text/plain": [
       "0.510825457099338"
      ]
     },
     "execution_count": 150,
     "metadata": {},
     "output_type": "execute_result"
    }
   ],
   "source": [
    "t1 = np.array([0, 0, 1, 0, 0, 0, 0, 0, 0, 0]) # the correct class is 2\n",
    "y1 = np.array([0.1, 0.05, 0.6, 0.0, 0.05, 0.1, 0.0, 0.1, 0.0, 0.0])\n",
    "\n",
    "cross_entropy_error(t1, y1)\n"
   ]
  },
  {
   "cell_type": "code",
   "execution_count": 148,
   "metadata": {},
   "outputs": [],
   "source": [
    "def cross_entropy_error_2(t, p):    \n",
    "    if p.ndim == 1: # for a single point\n",
    "        p = p.reshape(1, p.size)\n",
    "        t = t.reshape(1, t.size)\n",
    "        \n",
    "    delta = 1e-7\n",
    "    batch_size = p.shape[0] # the counts of the observations\n",
    "\n",
    "    # no need to care about 0, but the one hot encoding needs.\n",
    "    return -np.sum(np.log(p[np.arange(batch_size), t] + delta)) / batch_size\n"
   ]
  },
  {
   "cell_type": "code",
   "execution_count": 109,
   "metadata": {},
   "outputs": [
    {
     "data": {
      "text/plain": [
       "0.510825457099338"
      ]
     },
     "execution_count": 109,
     "metadata": {},
     "output_type": "execute_result"
    }
   ],
   "source": [
    "t1 = np.array([2]) # the correct class is 2\n",
    "y1 = np.array([0.1, 0.05, 0.6, 0.0, 0.05, 0.1, 0.0, 0.1, 0.0, 0.0])\n",
    "\n",
    "cross_entropy_error_2(t1, y1)\n"
   ]
  },
  {
   "cell_type": "markdown",
   "metadata": {},
   "source": [
    "# Numerical Differential"
   ]
  },
  {
   "cell_type": "code",
   "execution_count": 4,
   "metadata": {},
   "outputs": [
    {
     "data": {
      "text/plain": [
       "8.00009999998963"
      ]
     },
     "execution_count": 4,
     "metadata": {},
     "output_type": "execute_result"
    }
   ],
   "source": [
    "def squared(x):\n",
    "    return x**2\n",
    "\n",
    "\n",
    "def numerical_diff(f, x):\n",
    "    h = 1e-4\n",
    "\n",
    "    return (f(x + h) - f(x)) / h\n",
    "\n",
    "numerical_diff(squared, 4)\n"
   ]
  },
  {
   "cell_type": "code",
   "execution_count": 115,
   "metadata": {},
   "outputs": [
    {
     "data": {
      "text/plain": [
       "0.0"
      ]
     },
     "execution_count": 115,
     "metadata": {},
     "output_type": "execute_result"
    }
   ],
   "source": [
    "# rounding error\n",
    "np.float32(1e-50)\n",
    "\n",
    "# so the value of h cannot be smaller than what we expect, otherwise it introduce rounding error\n",
    "\n"
   ]
  },
  {
   "cell_type": "code",
   "execution_count": 5,
   "metadata": {},
   "outputs": [
    {
     "data": {
      "text/plain": [
       "7.999999999999119"
      ]
     },
     "execution_count": 5,
     "metadata": {},
     "output_type": "execute_result"
    }
   ],
   "source": [
    "# a better way to calculate derivatives\n",
    "def centered_numerical_diff(f, x):\n",
    "    h = 1e-4\n",
    "\n",
    "    return (f(x + h) - f(x - h)) / (2 * h)\n",
    "\n",
    "centered_numerical_diff(squared, 4)\n"
   ]
  },
  {
   "cell_type": "markdown",
   "metadata": {},
   "source": [
    "# Partial Derivative"
   ]
  },
  {
   "cell_type": "code",
   "execution_count": 139,
   "metadata": {},
   "outputs": [],
   "source": [
    "def numerical_gradient_1d(f, x):\n",
    "    \"\"\"\n",
    "    x = [x_1, x_2, ...]\n",
    "    \"\"\"\n",
    "    h = 1e-7\n",
    "    grad = np.zeros_like(x)\n",
    "\n",
    "    for i in range(len(x)):\n",
    "        old = x[i]\n",
    "\n",
    "        x[i] = old + h\n",
    "        a = f(x)\n",
    "\n",
    "        x[i] = old - h\n",
    "        b = f(x)\n",
    "\n",
    "        # revert\n",
    "        x[i] = old\n",
    "\n",
    "        grad_i = (a - b)/(2 * h)\n",
    "        grad[i] = grad_i\n",
    "\n",
    "    return grad\n",
    "        "
   ]
  },
  {
   "cell_type": "code",
   "execution_count": 140,
   "metadata": {},
   "outputs": [
    {
     "data": {
      "text/plain": [
       "array([5.99999998, 8.        ])"
      ]
     },
     "execution_count": 140,
     "metadata": {},
     "output_type": "execute_result"
    }
   ],
   "source": [
    "def f(x):\n",
    "    a, b = x[0], x[1]\n",
    "    return a**2 + b**2\n",
    "\n",
    "numerical_gradient_1d(f, np.array([3., 4.]))\n"
   ]
  },
  {
   "cell_type": "code",
   "execution_count": 144,
   "metadata": {},
   "outputs": [],
   "source": [
    "def gradient_descent(f, init_x, lr=0.01, iters=1000):\n",
    "    x = init_x\n",
    "    \n",
    "    for i in range(iters):\n",
    "        grad = numerical_gradient_1d(f, x)\n",
    "        x = x - lr * grad\n",
    "\n",
    "    return x\n",
    "    "
   ]
  },
  {
   "cell_type": "code",
   "execution_count": 145,
   "metadata": {},
   "outputs": [
    {
     "data": {
      "text/plain": [
       "array([3.38310785e-09, 5.06607521e-09])"
      ]
     },
     "execution_count": 145,
     "metadata": {},
     "output_type": "execute_result"
    }
   ],
   "source": [
    "gradient_descent(f, [2, 3])\n"
   ]
  },
  {
   "cell_type": "code",
   "execution_count": 162,
   "metadata": {},
   "outputs": [],
   "source": [
    "\n",
    "def numerical_gradient_2d(f, theta):\n",
    "    if theta.ndim == 1:\n",
    "        return numerical_gradient_1d(f, theta)\n",
    "    else:\n",
    "        grad = np.zeros_like(theta)\n",
    "        \n",
    "        for idx, x in enumerate(theta):\n",
    "            grad[idx] = numerical_gradient_1d(f, x)\n",
    "\n",
    "        return grad\n",
    "    "
   ]
  },
  {
   "cell_type": "markdown",
   "metadata": {},
   "source": [
    "# Gradient Check"
   ]
  },
  {
   "cell_type": "markdown",
   "metadata": {},
   "source": [
    "# 1-layer net"
   ]
  },
  {
   "cell_type": "code",
   "execution_count": 176,
   "metadata": {},
   "outputs": [],
   "source": [
    "class simpleNet:\n",
    "    def __init__(self):\n",
    "        self.W = np.random.randn(2, 3)\n",
    "\n",
    "    def predict(self, x):\n",
    "        return x @ self.W\n",
    "    \n",
    "    def loss(self, x, t):\n",
    "        y_hat = self.predict(x)\n",
    "        p = softmax(y_hat)\n",
    "        loss = cross_entropy_error(t, p)\n",
    "        return loss\n"
   ]
  },
  {
   "cell_type": "code",
   "execution_count": 177,
   "metadata": {},
   "outputs": [
    {
     "name": "stdout",
     "output_type": "stream",
     "text": [
      "W: [[ 0.4418406   0.07067106 -1.11683482]\n",
      " [-0.43125532  0.11893813 -1.86484342]]\n",
      "predicted:  [-0.12302542  0.14944695 -2.34845997]\n"
     ]
    },
    {
     "data": {
      "text/plain": [
       "array([[ 0.24780762,  0.32542274, -0.57323036],\n",
       "       [ 0.37171143,  0.48813412, -0.85984554]])"
      ]
     },
     "execution_count": 177,
     "metadata": {},
     "output_type": "execute_result"
    }
   ],
   "source": [
    "net = simpleNet()\n",
    "print('W:', net.W)\n",
    "\n",
    "x = np.array([0.6, 0.9])\n",
    "t = np.array([0, 0, 1])\n",
    "print('predicted: ', net.predict(x))\n",
    "\n",
    "def floss(W):\n",
    "    \"\"\"\n",
    "    define the loss function that we need to optimize\n",
    "    \"\"\"\n",
    "    return net.loss(x, t)\n",
    "\n",
    "# calculate the gradient at the point 'x'\n",
    "numerical_gradient_2d(floss, net.W)\n"
   ]
  },
  {
   "cell_type": "markdown",
   "metadata": {},
   "source": [
    "# 2-layer network framework"
   ]
  },
  {
   "cell_type": "code",
   "execution_count": 225,
   "metadata": {},
   "outputs": [],
   "source": [
    "\n",
    "from collections import OrderedDict\n",
    "\n",
    "\n",
    "class twoLayerNet:\n",
    "    def __init__(self, input_size, hidden_size, output_size):\n",
    "        self.params = {}\n",
    "        self.params['W1'] = np.random.rand(input_size, hidden_size)\n",
    "        self.params['b1'] = np.zeros(hidden_size)\n",
    "        \n",
    "        self.params['W2'] = np.random.rand(hidden_size, output_size)\n",
    "        self.params['b2'] = np.zeros(output_size)\n",
    "    \n",
    "    \n",
    "        self.layers = OrderedDict()\n",
    "        self.layers['Affine1'] = Affine(self.params['W1'], self.params['b1'])\n",
    "        self.layers['ReLU1'] = ReLU()\n",
    "        self.layers['Affine2'] = Affine(self.params['W2'], self.params['b2'])\n",
    "    \n",
    "        self.lastLayer = SoftmaxWithLoss()\n",
    "    \n",
    "    \n",
    "    \n",
    "    def predict(self, x):\n",
    "        # auto forward\n",
    "        for layer in self.layers.values():\n",
    "            x = layer.forward(x)\n",
    "\n",
    "        return x\n",
    "    \n",
    "        # mannualy\n",
    "        a1 = x @ self.params['W1'] + self.params['b1']\n",
    "        z1 = softmax(a1)\n",
    "        \n",
    "        a2 = z1 @ self.params['W2'] + self.params['b2']\n",
    "        y = softmax(a2)\n",
    "\n",
    "        return y\n",
    "    \n",
    "\n",
    "    def loss(self, x, t):\n",
    "        p = self.predict(x)\n",
    "        \n",
    "        return self.lastLayer.forward(p, t)\n",
    "        \n",
    "        return cross_entropy_error(t, p)\n",
    "\n",
    "    \n",
    "    def accuracy(self, x, t):\n",
    "        p = self.predict(x)\n",
    "\n",
    "        y_max_index = np.argmax(p, axis=1)\n",
    "        t_index = np.argmax(t, axis=1)\n",
    "        \n",
    "        return np.sum(y_max_index==t_index)/len(x)\n",
    "\n",
    "\n",
    "    # gradient at some point 'x'\n",
    "    def numerical_gradient(self, x, t):\n",
    "        loss_w = lambda W: self.loss(x, t)\n",
    "\n",
    "        grad = {}\n",
    "        grad['W1'] = numerical_gradient_2d(loss_w, self.params['W1'])\n",
    "        grad['W2'] = numerical_gradient_2d(loss_w, self.params['W2'])\n",
    "        grad['b1'] = numerical_gradient_1d(loss_w, self.params['b1'])\n",
    "        grad['b2'] = numerical_gradient_1d(loss_w, self.params['b2'])\n",
    "\n",
    "        return grad\n",
    "\n",
    "    \n",
    "    def backward_grad(self, x, t):\n",
    "        # forward\n",
    "        self.loss(x, t)\n",
    "        \n",
    "        # backward\n",
    "        dout = self.lastLayer.backward(1)\n",
    "        for layer in self.layers.values()[::-1]:\n",
    "            dout = layer.backward(dout)\n",
    "\n",
    "        grad = {}\n",
    "        grad['W1'] = self.layers['Affine1'].dw\n",
    "        grad['W2'] = self.layers['Affine2'].dw\n",
    "        grad['b1'] = self.layers['Affine1'].db\n",
    "        grad['b2'] = self.layers['Affine2'].db\n",
    "\n",
    "        return grad\n",
    "        "
   ]
  },
  {
   "cell_type": "markdown",
   "metadata": {},
   "source": [
    "# Multiplication and Addition Layer"
   ]
  },
  {
   "cell_type": "code",
   "execution_count": 228,
   "metadata": {},
   "outputs": [],
   "source": [
    "class MulLayer:\n",
    "    def __init__(self):\n",
    "        self.x  = None\n",
    "        self.y = None\n",
    "        \n",
    "    def forward(self, x, y):\n",
    "        self.x = x\n",
    "        self.y = y\n",
    "        \n",
    "        out = x * y\n",
    "        return out\n",
    "\n",
    "    def backward(self, dout):\n",
    "        dx = dout * self.y\n",
    "        dy = dout * self.x\n",
    "        return dx, dy\n"
   ]
  },
  {
   "cell_type": "code",
   "execution_count": 229,
   "metadata": {},
   "outputs": [
    {
     "name": "stdout",
     "output_type": "stream",
     "text": [
      "220.00000000000003\n"
     ]
    }
   ],
   "source": [
    "apple=100\n",
    "apple_num=2\n",
    "tax=1.1\n",
    "\n",
    "mul_apple_layer = MulLayer()\n",
    "mul_tax_layer = MulLayer()\n",
    "\n",
    "apple_price = mul_apple_layer.forward(apple, apple_num)\n",
    "price = mul_tax_layer.forward(apple_price, tax)\n",
    "\n",
    "print(price)\n"
   ]
  },
  {
   "cell_type": "code",
   "execution_count": 230,
   "metadata": {},
   "outputs": [
    {
     "data": {
      "text/plain": [
       "(200, 2.2, 110.00000000000001)"
      ]
     },
     "execution_count": 230,
     "metadata": {},
     "output_type": "execute_result"
    }
   ],
   "source": [
    "dprice = 1\n",
    "\n",
    "dapple_price, dtax = mul_tax_layer.backward(dprice)\n",
    "dapple, dapple_num = mul_apple_layer.backward(dapple_price)\n",
    "\n",
    "dtax, dapple, dapple_num"
   ]
  },
  {
   "cell_type": "code",
   "execution_count": 231,
   "metadata": {},
   "outputs": [],
   "source": [
    "class AddLayer:\n",
    "    def __init__(self):\n",
    "        pass\n",
    "        \n",
    "    def forward(self, x, y):        \n",
    "        out = x + y\n",
    "        return out\n",
    "\n",
    "    def backward(self, dout):\n",
    "        dx = dout * 1\n",
    "        dy = dout * 1\n",
    "        return dx, dy\n"
   ]
  },
  {
   "cell_type": "code",
   "execution_count": 232,
   "metadata": {},
   "outputs": [
    {
     "name": "stdout",
     "output_type": "stream",
     "text": [
      "715.0000000000001\n"
     ]
    }
   ],
   "source": [
    "apple = 100\n",
    "apple_num = 2\n",
    "orange = 150\n",
    "orange_num = 3\n",
    "tax = 1.1\n",
    "\n",
    "mul_apple_layer = MulLayer()\n",
    "mul_orange_layer = MulLayer()\n",
    "mul_tax_layer = MulLayer()\n",
    "add_layer = AddLayer()\n",
    "\n",
    "apple_price = mul_apple_layer.forward(apple, apple_num)\n",
    "orange_price = mul_orange_layer.forward(orange, orange_num)\n",
    "total_price = add_layer.forward(apple_price, orange_price)\n",
    "price = mul_tax_layer.forward(total_price, tax)\n",
    "\n",
    "print(price)\n"
   ]
  },
  {
   "cell_type": "code",
   "execution_count": 233,
   "metadata": {},
   "outputs": [
    {
     "data": {
      "text/plain": [
       "(110.00000000000001, 2.2, 3.3000000000000003, 165.0, 650)"
      ]
     },
     "execution_count": 233,
     "metadata": {},
     "output_type": "execute_result"
    }
   ],
   "source": [
    "dprice = 1\n",
    "\n",
    "dtotal_price, dtax = mul_tax_layer.backward(dprice)\n",
    "dapple_price, dorange_price = add_layer.backward(dtotal_price)\n",
    "dorange, dorange_num = mul_orange_layer.backward(dorange_price)\n",
    "dapple, dapple_num = mul_apple_layer.backward(dapple_price)\n",
    "\n",
    "dapple_num, dapple, dorange, dorange_num, dtax"
   ]
  },
  {
   "cell_type": "markdown",
   "metadata": {},
   "source": [
    "# Acivation Layer"
   ]
  },
  {
   "cell_type": "markdown",
   "metadata": {},
   "source": [
    "## ReLU"
   ]
  },
  {
   "cell_type": "code",
   "execution_count": 234,
   "metadata": {},
   "outputs": [],
   "source": [
    "class ReLU:\n",
    "    def __init__(self):\n",
    "        self.mask = None\n",
    "    \n",
    "    def forward(self, x):\n",
    "        self.mask = (x <= 0) # OFF 的地方都是 0\n",
    "        \n",
    "        out = x.copy()\n",
    "        out[self.mask] = 0\n",
    "\n",
    "        return out\n",
    "\n",
    "    def backward(self, dout):\n",
    "        dout[self.mask] = 0\n",
    "        return dout\n"
   ]
  },
  {
   "cell_type": "markdown",
   "metadata": {},
   "source": [
    "## Sigmoid"
   ]
  },
  {
   "cell_type": "code",
   "execution_count": 240,
   "metadata": {},
   "outputs": [],
   "source": [
    "class Sigmoid:\n",
    "    def __init__(self):\n",
    "        self.out=None\n",
    "\n",
    "    def forward(self, x):\n",
    "        out = 1 / (1 + np.exp(-x))\n",
    "        self.out = out\n",
    "        return out\n",
    "\n",
    "    def backward(self, dout):\n",
    "        return dout * self.out ( 1 - self.out )\n"
   ]
  },
  {
   "cell_type": "markdown",
   "metadata": {},
   "source": [
    "# Affine Layer"
   ]
  },
  {
   "cell_type": "code",
   "execution_count": 237,
   "metadata": {},
   "outputs": [],
   "source": [
    "class Affine:\n",
    "    def __init__(self, W, b):\n",
    "        self.W=W\n",
    "        self.b=b\n",
    "        self.x=None\n",
    "        self.dw=None\n",
    "        self.db=None\n",
    "\n",
    "    def forward(self, x):\n",
    "        out = x @ self.W + self.b\n",
    "        self.x = x\n",
    "        return out\n",
    "\n",
    "    def backward(self, dout):\n",
    "        self.db = np.sum(dout, axis=0)\n",
    "        self.dw = self.x.T @ dout\n"
   ]
  },
  {
   "cell_type": "markdown",
   "metadata": {},
   "source": [
    "# SoftmaxWithLoss Layer"
   ]
  },
  {
   "cell_type": "code",
   "execution_count": 238,
   "metadata": {},
   "outputs": [],
   "source": [
    "class SoftmaxWithLoss:\n",
    "    def __int__(self):    \n",
    "        self.loss = None\n",
    "        self.y = None\n",
    "        self.t = None\n",
    "    \n",
    "    def forward(self, x, t):\n",
    "        self.t = self.t\n",
    "        self.y = softmax(x)\n",
    "        self.loss = cross_entropy_error(self.t, self.y)\n",
    "        \n",
    "    def backward(self, dout=1):\n",
    "        return (self.y - self.t) / self.t.shape[0]\n",
    "    "
   ]
  },
  {
   "cell_type": "markdown",
   "metadata": {},
   "source": [
    "# Training MNIST"
   ]
  },
  {
   "cell_type": "code",
   "execution_count": null,
   "metadata": {},
   "outputs": [],
   "source": [
    "(x_train, t_train), (x_test, t_test) = load_mnist(normalize=True, one_hot_label=True)\n"
   ]
  },
  {
   "cell_type": "code",
   "execution_count": null,
   "metadata": {},
   "outputs": [],
   "source": [
    "lr = 0.01\n",
    "iters = 1000\n",
    "batch_size = 100 # mini batch, randomly choose N points instead of all the data\n",
    "\n",
    "train_loss_list = []\n",
    "train_acc_list = []\n",
    "test_acc_list = []\n",
    "\n",
    "iter_per_epoch = len(x_train) / batch_size # the number of iteration per epoch\n",
    "\n",
    "network = twoLayerNet(input_size=784, hidden_size=50, output_size=10)\n",
    "for i in range(iters):\n",
    "    # randomly choose minibatch with replacement, so not all the data will be drawed.\n",
    "    # because the whole data size is so large!!\n",
    "    batch_mask = np.random.choice(len(x_train), batch_size) \n",
    "    x_batch = x_train[batch_mask]\n",
    "    y_batch = t_train[batch_mask]\n",
    "    \n",
    "    grad = network.numerical_gradient(x_batch, y_batch)\n",
    "    for key in ['W1', 'W2', 'b1', 'b2']:\n",
    "        network.params[key] -= lr * grad[key]\n",
    "    \n",
    "    train_loss_list.append(network.loss(x_batch, y_batch))\n",
    "\n",
    "#     if (i%iter_per_epoch)==0:\n",
    "#         train_acc = network.accuracy(x_train, t_train)\n",
    "#         test_acc = network.accuracy(x_test, t_test)\n",
    "#         train_acc_list.append(train_acc)\n",
    "#         test_acc_list.append(test_acc)\n"
   ]
  },
  {
   "cell_type": "markdown",
   "metadata": {},
   "source": [
    "# Opitimizer"
   ]
  },
  {
   "cell_type": "code",
   "execution_count": 360,
   "metadata": {},
   "outputs": [],
   "source": [
    "class SGD:\n",
    "    def __init__(self, lr):\n",
    "        self.lr = lr\n",
    "    \n",
    "    def update(self, params, grads):\n",
    "        for key in params.keys():\n",
    "            params[key] -= self.lr * grads[key]\n",
    "\n",
    "class Momentum:\n",
    "    def __init__(self, lr=0.01, momentum=0.9):\n",
    "        self.lr = lr\n",
    "        self.momentum = momentum\n",
    "        self.v = None\n",
    "    \n",
    "    def update(self, params, grads):\n",
    "        if self.v is None:\n",
    "            self.v = {}\n",
    "            for key, val in params.items():\n",
    "                self.v[key] = np.zeros_like(val)\n",
    "\n",
    "        for key in params.keys():\n",
    "            self.v[key] = self.momentum * self.v[key] - self.lr * grads[key]\n",
    "            params[key] += self.v[key]\n",
    "\n",
    "class AdaGrad:\n",
    "    def __init__(self, lr=0.01):\n",
    "        self.h = None\n",
    "        self.lr = lr\n",
    "     \n",
    "    def update(self, params, grads):\n",
    "        if self.h is None:\n",
    "            self.h = {}\n",
    "            for key, val in params.items():\n",
    "                self.h[key] = np.zeros_like(val)\n",
    "\n",
    "        for key in params.keys():\n",
    "            self.h[key] += grads[key] * grads[key]\n",
    "            params[key] -= self.lr * grads[key] / (np.sqrt(self.h[key]) + 1e-7)\n"
   ]
  },
  {
   "cell_type": "code",
   "execution_count": 367,
   "metadata": {},
   "outputs": [
    {
     "data": {
      "image/png": "[encoded data removed]",
      "text/plain": [
       "<Figure size 432x288 with 1 Axes>"
      ]
     },
     "metadata": {
      "needs_background": "light"
     },
     "output_type": "display_data"
    }
   ],
   "source": [
    "def loss_function(x):\n",
    "    return x[0]**2*0.08 + x[1]**2\n",
    "\n",
    "def record_grad_history(theta, optimiser, num_iters=1000):\n",
    "    theta_0 = []\n",
    "    theta_1 = []\n",
    "    loss_history = []\n",
    "\n",
    "    for i in range(num_iters):\n",
    "        loss_history.append(loss_function(theta))\n",
    "        theta_0.append(theta[0])\n",
    "        theta_1.append(theta[1])\n",
    "        \n",
    "        grad = numerical_gradient_1d(loss_function, theta)\n",
    "#         theta -= lr * grad\n",
    "        grad_obj = {'x': grad[0], 'y': grad[1] }\n",
    "        param_obj = {'x': theta[0], 'y': theta[1] }\n",
    "        optimiser.update(param_obj, grad_obj)\n",
    "        theta = np.array(list(param_obj.values()))\n",
    "\n",
    "    return theta, loss_history, theta_0, theta_1\n",
    "\n",
    "\n",
    "T0, T1 = np.meshgrid(np.linspace(-10, 10, 100), np.linspace(-10, 10, 100))\n",
    "\n",
    "# different loss for different thetas\n",
    "loss_list = np.array([loss_function([t0, t1]) for t0, t1 in zip(np.ravel(T0), np.ravel(T1))])\n",
    "# reshape loss_list\n",
    "loss_list = loss_list.reshape(100, 100)\n",
    "\n",
    "# plot surface\n",
    "fig = plt.figure()\n",
    "ax = fig.add_subplot(projection='3d')\n",
    "ax.plot_surface(T0, T1, loss_list, rstride=5, cstride=5,alpha=0.6)\n",
    "# ax.plot(theta_0, theta_1, loss_history, marker='*', c='r', alpha=0.4)\n",
    "ax.set_xlabel('theta 1') \n",
    "ax.set_ylabel('theta 2') \n",
    "ax.set_title('Cost function') \n",
    "ax.view_init(30, -20)\n"
   ]
  },
  {
   "cell_type": "code",
   "execution_count": 368,
   "metadata": {},
   "outputs": [
    {
     "data": {
      "text/plain": [
       "Text(0.5, 1.0, 'AdaGrad')"
      ]
     },
     "execution_count": 368,
     "metadata": {},
     "output_type": "execute_result"
    },
    {
     "data": {
      "image/png": "[encoded data removed]",
      "text/plain": [
       "<Figure size 1296x288 with 3 Axes>"
      ]
     },
     "metadata": {
      "needs_background": "light"
     },
     "output_type": "display_data"
    }
   ],
   "source": [
    "fig = plt.figure(figsize=(18, 4))\n",
    "\n",
    "# 1. Angles needed for quiver plot \n",
    "theta, loss_history, theta_0, theta_1 = record_grad_history(np.array([-7.0, 2.0]), optimiser = SGD(0.8))\n",
    "anglesx = np.array(theta_0)[1:] - np.array(theta_0)[:-1] \n",
    "anglesy = np.array(theta_1)[1:] - np.array(theta_1)[:-1]\n",
    "# plot contour and path\n",
    "ax = fig.add_subplot(141)\n",
    "ax.contour(T0, T1, loss_list, 40, cmap='jet')\n",
    "ax.quiver(theta_0[:-1], theta_1[:-1], anglesx, anglesy, \n",
    "          scale_units = 'xy', angles = 'xy', scale = 1, color = 'r', alpha = .9)\n",
    "ax.set_xlabel('theta 1') \n",
    "ax.set_ylabel('theta 2') \n",
    "ax.set_title('SGD')\n",
    "\n",
    "\n",
    "# 2. plot contour and path\n",
    "theta, loss_history, theta_0, theta_1 = record_grad_history(np.array([-7.0, 2.0]), optimiser = Momentum())\n",
    "anglesx = np.array(theta_0)[1:] - np.array(theta_0)[:-1] \n",
    "anglesy = np.array(theta_1)[1:] - np.array(theta_1)[:-1]\n",
    "# plot contour and path\n",
    "ax = fig.add_subplot(142)\n",
    "ax.contour(T0, T1, loss_list, 40, cmap='jet')\n",
    "ax.quiver(theta_0[:-1], theta_1[:-1], anglesx, anglesy, \n",
    "          scale_units = 'xy', angles = 'xy', scale = 1, color = 'r', alpha = .9)\n",
    "ax.set_xlabel('theta 1') \n",
    "ax.set_ylabel('theta 2')\n",
    "ax.set_title('Momentum')\n",
    "\n",
    "\n",
    "# 2. plot contour and path\n",
    "theta, loss_history, theta_0, theta_1 = record_grad_history(np.array([-7.0, 2.0]), optimiser = AdaGrad(.4))\n",
    "anglesx = np.array(theta_0)[1:] - np.array(theta_0)[:-1] \n",
    "anglesy = np.array(theta_1)[1:] - np.array(theta_1)[:-1]\n",
    "# plot contour and path\n",
    "ax = fig.add_subplot(143)\n",
    "ax.contour(T0, T1, loss_list, 40, cmap='jet')\n",
    "ax.quiver(theta_0[:-1], theta_1[:-1], anglesx, anglesy, \n",
    "          scale_units = 'xy', angles = 'xy', scale = 1, color = 'r', alpha = .9)\n",
    "ax.set_xlabel('theta 1') \n",
    "ax.set_ylabel('theta 2')\n",
    "ax.set_title('AdaGrad')\n"
   ]
  },
  {
   "cell_type": "markdown",
   "metadata": {},
   "source": [
    "# Convolution Layer"
   ]
  },
  {
   "cell_type": "code",
   "execution_count": null,
   "metadata": {},
   "outputs": [],
   "source": [
    "class Convolution:\n",
    "    def __init__(self, W, b, stride=1, pad=0):\n",
    "        self.W = W\n",
    "        self.b = b\n",
    "        self.stride = stride\n",
    "        self.pad = pad\n",
    "        \n",
    "    def forward(self, x):\n",
    "        FN, C, FH, FW = self.W.shape\n",
    "        N, C, H, W = x.shape\n",
    "        \n",
    "        out_h = int(1 + (H + 2 * self.pad - FH) / self.stride )\n",
    "        out_w = int(1 + (W + 2 * self.pad - FW) / self.stride )\n",
    "        \n",
    "        col = im2col(x, FH, FW, self.stride, self.pad)\n",
    "        col_w = self.W.reshape(FN, -1).T\n",
    "        out = col @ col_w + self.b\n",
    "        \n",
    "        out = out.reshape(N, out_h, out_w, -1).transpose(0, 3, 1, 2)\n",
    "\n",
    "        return out\n"
   ]
  },
  {
   "cell_type": "code",
   "execution_count": null,
   "metadata": {
    "scrolled": true
   },
   "outputs": [],
   "source": []
  },
  {
   "cell_type": "code",
   "execution_count": null,
   "metadata": {},
   "outputs": [],
   "source": []
  }
 ],
 "metadata": {
  "kernelspec": {
   "display_name": "Python 3",
   "language": "python",
   "name": "python3"
  },
  "language_info": {
   "codemirror_mode": {
    "name": "ipython",
    "version": 3
   },
   "file_extension": ".py",
   "mimetype": "text/x-python",
   "name": "python",
   "nbconvert_exporter": "python",
   "pygments_lexer": "ipython3",
   "version": "3.8.3"
  }
 },
 "nbformat": 4,
 "nbformat_minor": 4
}
